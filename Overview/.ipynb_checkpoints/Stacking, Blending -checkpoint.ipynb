{
 "cells": [
  {
   "cell_type": "code",
   "execution_count": 1,
   "metadata": {
    "ExecuteTime": {
     "end_time": "2020-08-03T17:10:47.685534Z",
     "start_time": "2020-08-03T17:10:46.157727Z"
    },
    "_cell_guid": "b1076dfc-b9ad-4769-8c92-a6c4dae69d19",
    "_uuid": "8f2839f25d086af736a60e9eeb907d3b93b6e0e5"
   },
   "outputs": [],
   "source": [
    "# Essentials\n",
    "import numpy as np\n",
    "import pandas as pd\n",
    "import datetime\n",
    "import random\n",
    "\n",
    "# Plots\n",
    "import seaborn as sns\n",
    "import matplotlib.pyplot as plt\n",
    "\n",
    "# Models\n",
    "from sklearn.ensemble import RandomForestRegressor, GradientBoostingRegressor, AdaBoostRegressor, BaggingRegressor\n",
    "from sklearn.kernel_ridge import KernelRidge\n",
    "from sklearn.linear_model import Ridge, RidgeCV\n",
    "from sklearn.linear_model import ElasticNet, ElasticNetCV\n",
    "from sklearn.svm import SVR\n",
    "from mlxtend.regressor import StackingCVRegressor\n",
    "import lightgbm as lgb\n",
    "from lightgbm import LGBMRegressor\n",
    "from xgboost import XGBRegressor\n",
    "\n",
    "# Misc\n",
    "from sklearn.model_selection import GridSearchCV\n",
    "from sklearn.model_selection import KFold, cross_val_score\n",
    "from sklearn.metrics import mean_squared_error\n",
    "from sklearn.preprocessing import OneHotEncoder\n",
    "from sklearn.preprocessing import LabelEncoder\n",
    "from sklearn.pipeline import make_pipeline\n",
    "from sklearn.preprocessing import scale\n",
    "from sklearn.preprocessing import StandardScaler\n",
    "from sklearn.preprocessing import RobustScaler\n",
    "from sklearn.decomposition import PCA"
   ]
  },
  {
   "cell_type": "code",
   "execution_count": 2,
   "metadata": {
    "ExecuteTime": {
     "end_time": "2020-08-03T17:10:47.747822Z",
     "start_time": "2020-08-03T17:10:47.688915Z"
    }
   },
   "outputs": [],
   "source": [
    "from sklearn.datasets import load_diabetes\n",
    "import pandas as pd\n",
    "diabetes = load_diabetes()\n",
    "# print(diabetes.DESCR)\n",
    "X = pd.DataFrame(diabetes.data, columns=diabetes.feature_names)\n",
    "y = pd.DataFrame(diabetes.target,columns=[\"Target\"])\n",
    "df = pd.concat([X, y], axis=1)\n",
    "df.tail()\n",
    "y = diabetes.target"
   ]
  },
  {
   "cell_type": "code",
   "execution_count": 3,
   "metadata": {
    "ExecuteTime": {
     "end_time": "2020-08-03T17:10:47.763843Z",
     "start_time": "2020-08-03T17:10:47.749674Z"
    }
   },
   "outputs": [],
   "source": [
    "from sklearn.model_selection import train_test_split\n",
    "X_train, X_test, y_train, y_test = train_test_split(X, y, test_size=0.30, random_state=42)"
   ]
  },
  {
   "cell_type": "markdown",
   "metadata": {},
   "source": [
    "# Overview\n",
    "- **Cross Validation:** 데이터의 수를 보고 몇 fold 를 할지 결정하자.\n",
    "- **Models:** 최대한 많은 model 을 보고 다양하고, fit 이 좋은 regression 들을 선택하자. (ridge, svr, gradient boosting, random forest, xgboost, lightgbm regressors)\n",
    "- **Stacking:** StackingCVResgressor 를 meta regression 으로 xgboost 를 이용해서 위 model 들을 결합하자.\n",
    "- **Blending:** 각 모델들은 train data 에 어느정도 overfit 되어있을것이다. 그러므로 to make final predictions 을 위해서 위 모델들의 prediction 들을 어느정도 blending 해서 사용하자."
   ]
  },
  {
   "cell_type": "markdown",
   "metadata": {},
   "source": [
    "# cross validation / error metrics 설정"
   ]
  },
  {
   "cell_type": "markdown",
   "metadata": {},
   "source": [
    "- 우리는 대회에서 제시해준 loss 를 최소화 하기 위해 모델을 훈련시켜야 하므로, 그에따른 loss 설정이 필수이다.\n",
    "- Submissions are evaluated on Root-Mean-Squared-Error (RMSE) between the logarithm of the predicted value 라고 되어있는 상황이라고 하자. 그러면, RMSE 이 값을 나타내는 함수를 정의해야하고, 그리고 CV 또한 coring 이 RMSE 가 되게 조절해주어야한다!"
   ]
  },
  {
   "cell_type": "code",
   "execution_count": 4,
   "metadata": {
    "ExecuteTime": {
     "end_time": "2020-08-03T17:10:47.778807Z",
     "start_time": "2020-08-03T17:10:47.764845Z"
    }
   },
   "outputs": [],
   "source": [
    "# Setup cross validation folds\n",
    "kf = KFold(n_splits=5, random_state=42, shuffle=True)"
   ]
  },
  {
   "cell_type": "code",
   "execution_count": 5,
   "metadata": {
    "ExecuteTime": {
     "end_time": "2020-08-03T17:10:47.795028Z",
     "start_time": "2020-08-03T17:10:47.779809Z"
    }
   },
   "outputs": [],
   "source": [
    "# Define error metrics\n",
    "def rmsle(y, y_pred):\n",
    "    return np.sqrt(mean_squared_error(y, y_pred))\n",
    "\n",
    "def cv_rmse(model, X = X_train, y = y_train):\n",
    "    rmse = np.sqrt(-cross_val_score(model, X, y, scoring=\"neg_mean_squared_error\", cv=kf))\n",
    "    return (rmse)"
   ]
  },
  {
   "cell_type": "markdown",
   "metadata": {},
   "source": [
    "# 모델 구축"
   ]
  },
  {
   "cell_type": "markdown",
   "metadata": {},
   "source": [
    "- 모델을 만들 때에 pipeline 을 같이 만들어야 cv dataset 에 대한 data leakage 를 막을 수 있다.\n",
    "- TREE 기반 model 은 data 의 scale 에 큰 영향을 받지 않으므로 굳이 scaling 을 추가하지 않았다."
   ]
  },
  {
   "cell_type": "code",
   "execution_count": 14,
   "metadata": {
    "ExecuteTime": {
     "end_time": "2020-08-03T17:14:35.660583Z",
     "start_time": "2020-08-03T17:14:35.644625Z"
    }
   },
   "outputs": [],
   "source": [
    "# Light Gradient Boosting Regressor\n",
    "lightgbm = LGBMRegressor(objective='regression', \n",
    "                       num_leaves=6,\n",
    "                       learning_rate=0.01, \n",
    "                       n_estimators=7000,\n",
    "                       max_bin=200, \n",
    "                       bagging_fraction=0.8,\n",
    "                       bagging_freq=4, \n",
    "                       bagging_seed=8,\n",
    "                       feature_fraction=0.2,\n",
    "                       feature_fraction_seed=8,\n",
    "                       min_sum_hessian_in_leaf = 11,\n",
    "                       verbose=-1,\n",
    "                       random_state=42)\n",
    "\n",
    "# XGBoost Regressor\n",
    "xgboost = XGBRegressor(learning_rate=0.01,\n",
    "                       n_estimators=6000,\n",
    "                       max_depth=4,\n",
    "                       min_child_weight=0,\n",
    "                       gamma=0.6,\n",
    "                       subsample=0.7,\n",
    "                       colsample_bytree=0.7,\n",
    "                       objective='reg:squarederror',\n",
    "                       nthread=-1,\n",
    "                       scale_pos_weight=1,\n",
    "                       seed=27,\n",
    "                       reg_alpha=0.00006,\n",
    "                       random_state=42)\n",
    "\n",
    "# Ridge Regressor\n",
    "ridge_alphas = [1e-15, 1e-10, 1e-8, 9e-4, 7e-4, 5e-4, 3e-4, 1e-4, 1e-3, 5e-2, 1e-2, 0.1, 0.3, 1, 3, 5, 10, 15, 18, 20, 30, 50, 75, 100]\n",
    "ridge = make_pipeline(RobustScaler(), RidgeCV(alphas=ridge_alphas, cv=kf)) \n",
    "\n",
    "# Support Vector Regressor\n",
    "svr = make_pipeline(RobustScaler(), SVR(C= 20, epsilon= 0.008, gamma=0.0003))\n",
    "\n",
    "# Gradient Boosting Regressor\n",
    "gbr = GradientBoostingRegressor(n_estimators=6000,\n",
    "                                learning_rate=0.01,\n",
    "                                max_depth=4,\n",
    "                                max_features='sqrt',\n",
    "                                min_samples_leaf=15,\n",
    "                                min_samples_split=10,\n",
    "                                loss='huber', # huber loss 로 정의해서 loss 에 대해 어느정도 robust 함을 추구하자.\n",
    "                                random_state=42)  \n",
    "\n",
    "# Random Forest Regressor\n",
    "rf = RandomForestRegressor(n_estimators=1200,\n",
    "                          max_depth=15,\n",
    "                          min_samples_split=5,\n",
    "                          min_samples_leaf=5,\n",
    "                          max_features=None,\n",
    "                          oob_score=True,\n",
    "                          random_state=42)\n",
    "\n",
    "# Stack up all the models above, optimized using xgboost\n",
    "stack_gen = StackingCVRegressor(regressors=(xgboost, lightgbm, svr, ridge, gbr, rf),\n",
    "                                meta_regressor=xgboost)"
   ]
  },
  {
   "cell_type": "markdown",
   "metadata": {},
   "source": [
    "# CV 값으로 각 모델성능 비교"
   ]
  },
  {
   "cell_type": "code",
   "execution_count": 7,
   "metadata": {
    "ExecuteTime": {
     "end_time": "2020-08-03T17:10:51.653310Z",
     "start_time": "2020-08-03T17:10:47.812721Z"
    }
   },
   "outputs": [
    {
     "name": "stdout",
     "output_type": "stream",
     "text": [
      "lightgbm: 67.5467 (6.0147)\n"
     ]
    }
   ],
   "source": [
    "scores = {}\n",
    "\n",
    "score = cv_rmse(lightgbm)\n",
    "print(\"lightgbm: {:.4f} ({:.4f})\".format(score.mean(), score.std()))\n",
    "scores['lgb'] = (score.mean(), score.std())"
   ]
  },
  {
   "cell_type": "code",
   "execution_count": 8,
   "metadata": {
    "ExecuteTime": {
     "end_time": "2020-08-03T17:10:57.632323Z",
     "start_time": "2020-08-03T17:10:51.656817Z"
    }
   },
   "outputs": [
    {
     "name": "stdout",
     "output_type": "stream",
     "text": [
      "xgboost: 63.8219 (3.6681)\n"
     ]
    }
   ],
   "source": [
    "score = cv_rmse(xgboost)\n",
    "print(\"xgboost: {:.4f} ({:.4f})\".format(score.mean(), score.std()))\n",
    "scores['xgb'] = (score.mean(), score.std())"
   ]
  },
  {
   "cell_type": "code",
   "execution_count": 9,
   "metadata": {
    "ExecuteTime": {
     "end_time": "2020-08-03T17:10:57.695763Z",
     "start_time": "2020-08-03T17:10:57.634318Z"
    }
   },
   "outputs": [
    {
     "name": "stdout",
     "output_type": "stream",
     "text": [
      "SVR: 77.8769 (4.4689)\n"
     ]
    }
   ],
   "source": [
    "score = cv_rmse(svr)\n",
    "print(\"SVR: {:.4f} ({:.4f})\".format(score.mean(), score.std()))\n",
    "scores['svr'] = (score.mean(), score.std())"
   ]
  },
  {
   "cell_type": "code",
   "execution_count": 10,
   "metadata": {
    "ExecuteTime": {
     "end_time": "2020-08-03T17:10:58.437842Z",
     "start_time": "2020-08-03T17:10:57.697759Z"
    }
   },
   "outputs": [
    {
     "name": "stdout",
     "output_type": "stream",
     "text": [
      "ridge: 56.8762 (2.7908)\n"
     ]
    }
   ],
   "source": [
    "score = cv_rmse(ridge)\n",
    "print(\"ridge: {:.4f} ({:.4f})\".format(score.mean(), score.std()))\n",
    "scores['ridge'] = (score.mean(), score.std())"
   ]
  },
  {
   "cell_type": "code",
   "execution_count": 11,
   "metadata": {
    "ExecuteTime": {
     "end_time": "2020-08-03T17:11:07.730704Z",
     "start_time": "2020-08-03T17:10:58.439816Z"
    }
   },
   "outputs": [
    {
     "name": "stdout",
     "output_type": "stream",
     "text": [
      "rf: 59.5388 (3.9419)\n"
     ]
    }
   ],
   "source": [
    "score = cv_rmse(rf)\n",
    "print(\"rf: {:.4f} ({:.4f})\".format(score.mean(), score.std()))\n",
    "scores['rf'] = (score.mean(), score.std())"
   ]
  },
  {
   "cell_type": "code",
   "execution_count": 12,
   "metadata": {
    "ExecuteTime": {
     "end_time": "2020-08-03T17:11:48.577353Z",
     "start_time": "2020-08-03T17:11:07.732554Z"
    }
   },
   "outputs": [
    {
     "name": "stdout",
     "output_type": "stream",
     "text": [
      "gbr: 65.2448 (5.6291)\n"
     ]
    }
   ],
   "source": [
    "score = cv_rmse(gbr)\n",
    "print(\"gbr: {:.4f} ({:.4f})\".format(score.mean(), score.std()))\n",
    "scores['gbr'] = (score.mean(), score.std())"
   ]
  },
  {
   "cell_type": "code",
   "execution_count": 17,
   "metadata": {
    "ExecuteTime": {
     "end_time": "2020-08-03T17:25:51.158015Z",
     "start_time": "2020-08-03T17:19:54.674148Z"
    }
   },
   "outputs": [
    {
     "name": "stdout",
     "output_type": "stream",
     "text": [
      "stack: 65.6445 (3.7170)\n"
     ]
    }
   ],
   "source": [
    "score = cv_rmse(stack_gen,X=np.array(X_train))\n",
    "print(\"stack: {:.4f} ({:.4f})\".format(score.mean(), score.std()))\n",
    "scores['stack'] = (score.mean(), score.std())"
   ]
  },
  {
   "cell_type": "markdown",
   "metadata": {},
   "source": [
    "# 위에서 추려진 모델만 피팅"
   ]
  },
  {
   "cell_type": "code",
   "execution_count": 18,
   "metadata": {
    "ExecuteTime": {
     "end_time": "2020-08-03T17:28:27.919072Z",
     "start_time": "2020-08-03T17:27:16.790327Z"
    }
   },
   "outputs": [
    {
     "name": "stdout",
     "output_type": "stream",
     "text": [
      "stack_gen\n"
     ]
    }
   ],
   "source": [
    "print('stack_gen')\n",
    "stack_gen_model = stack_gen.fit(np.array(X_train), np.array(y_train))"
   ]
  },
  {
   "cell_type": "code",
   "execution_count": 19,
   "metadata": {
    "ExecuteTime": {
     "end_time": "2020-08-03T17:28:28.962311Z",
     "start_time": "2020-08-03T17:28:27.921071Z"
    }
   },
   "outputs": [
    {
     "name": "stdout",
     "output_type": "stream",
     "text": [
      "lightgbm\n"
     ]
    }
   ],
   "source": [
    "print('lightgbm')\n",
    "lgb_model_full_data = lightgbm.fit(X_train, y_train)"
   ]
  },
  {
   "cell_type": "code",
   "execution_count": 20,
   "metadata": {
    "ExecuteTime": {
     "end_time": "2020-08-03T17:28:30.668817Z",
     "start_time": "2020-08-03T17:28:28.964307Z"
    }
   },
   "outputs": [
    {
     "name": "stdout",
     "output_type": "stream",
     "text": [
      "xgboost\n"
     ]
    }
   ],
   "source": [
    "print('xgboost')\n",
    "xgb_model_full_data = xgboost.fit(X_train, y_train)"
   ]
  },
  {
   "cell_type": "code",
   "execution_count": 21,
   "metadata": {
    "ExecuteTime": {
     "end_time": "2020-08-03T17:28:30.683777Z",
     "start_time": "2020-08-03T17:28:30.669814Z"
    }
   },
   "outputs": [
    {
     "name": "stdout",
     "output_type": "stream",
     "text": [
      "Svr\n"
     ]
    }
   ],
   "source": [
    "print('Svr')\n",
    "svr_model_full_data = svr.fit(X_train, y_train)"
   ]
  },
  {
   "cell_type": "code",
   "execution_count": 22,
   "metadata": {
    "ExecuteTime": {
     "end_time": "2020-08-03T17:28:30.841355Z",
     "start_time": "2020-08-03T17:28:30.685375Z"
    }
   },
   "outputs": [
    {
     "name": "stdout",
     "output_type": "stream",
     "text": [
      "Ridge\n"
     ]
    }
   ],
   "source": [
    "print('Ridge')\n",
    "ridge_model_full_data = ridge.fit(X_train, y_train)"
   ]
  },
  {
   "cell_type": "code",
   "execution_count": 23,
   "metadata": {
    "ExecuteTime": {
     "end_time": "2020-08-03T17:28:32.845246Z",
     "start_time": "2020-08-03T17:28:30.843351Z"
    }
   },
   "outputs": [
    {
     "name": "stdout",
     "output_type": "stream",
     "text": [
      "RandomForest\n"
     ]
    }
   ],
   "source": [
    "print('RandomForest')\n",
    "rf_model_full_data = rf.fit(X_train, y_train)"
   ]
  },
  {
   "cell_type": "code",
   "execution_count": 24,
   "metadata": {
    "ExecuteTime": {
     "end_time": "2020-08-03T17:28:41.399450Z",
     "start_time": "2020-08-03T17:28:32.846247Z"
    }
   },
   "outputs": [
    {
     "name": "stdout",
     "output_type": "stream",
     "text": [
      "GradientBoosting\n"
     ]
    }
   ],
   "source": [
    "print('GradientBoosting')\n",
    "gbr_model_full_data = gbr.fit(X_train, y_train)"
   ]
  },
  {
   "cell_type": "markdown",
   "metadata": {},
   "source": [
    "# 모델 블랜딩"
   ]
  },
  {
   "cell_type": "code",
   "execution_count": 40,
   "metadata": {
    "ExecuteTime": {
     "end_time": "2020-08-03T17:36:24.487491Z",
     "start_time": "2020-08-03T17:36:24.477548Z"
    }
   },
   "outputs": [],
   "source": [
    "# Blend models in order to make the final predictions more robust to overfitting\n",
    "def blended_predictions(X):\n",
    "    return ((0.15 * ridge_model_full_data.predict(X)) + \\\n",
    "            (0.15 * svr_model_full_data.predict(X)) + \\\n",
    "            (0.15 * gbr_model_full_data.predict(X)) + \\\n",
    "            (0.15 * xgb_model_full_data.predict(X)) + \\\n",
    "            (0.15 * lgb_model_full_data.predict(X)) + \\\n",
    "            (0.15 * rf_model_full_data.predict(X)) + \\\n",
    "            (0.10 * stack_gen_model.predict(np.array(X))))"
   ]
  },
  {
   "cell_type": "code",
   "execution_count": 42,
   "metadata": {
    "ExecuteTime": {
     "end_time": "2020-08-03T17:37:49.455175Z",
     "start_time": "2020-08-03T17:37:49.062197Z"
    }
   },
   "outputs": [
    {
     "name": "stdout",
     "output_type": "stream",
     "text": [
      "RMSLE score on train data:\n",
      "31.64023606478791\n"
     ]
    }
   ],
   "source": [
    "# Get final precitions from the blended model \n",
    "# 사실 blended model 은 평가하기가 쉽지 않다. (cv 하기도 함들고...) 그래서.. 그냥 train 에 적합하면 당연히 data leakage 가 일어났으므로 평가는 좋을수밖에! dataleakage\n",
    "blended_score = rmsle(y_train, blended_predictions(X_train))\n",
    "scores['blended'] = (blended_score, 0)\n",
    "print('RMSLE score on train data:')\n",
    "print(blended_score)"
   ]
  },
  {
   "cell_type": "markdown",
   "metadata": {},
   "source": [
    " Identify the best performing model"
   ]
  },
  {
   "cell_type": "code",
   "execution_count": 43,
   "metadata": {
    "ExecuteTime": {
     "end_time": "2020-08-03T17:38:09.337949Z",
     "start_time": "2020-08-03T17:38:09.081740Z"
    },
    "scrolled": false
   },
   "outputs": [
    {
     "data": {
      "image/png": "[encoded data removed]",
      "text/plain": [
       "<Figure size 1728x864 with 1 Axes>"
      ]
     },
     "metadata": {},
     "output_type": "display_data"
    }
   ],
   "source": [
    "# Plot the predictions for each model\n",
    "sns.set_style(\"white\")\n",
    "fig = plt.figure(figsize=(24, 12))\n",
    "ax = sns.pointplot(x=list(scores.keys()), y=[score for score, _ in scores.values()], markers=['o'], linestyles=['-'])\n",
    "\n",
    "for i, score in enumerate(scores.values()):\n",
    "    ax.text(i, score[0], '{:.2f}'.format(score[0]), horizontalalignment='left', size='large', color='black', weight='semibold')\n",
    "\n",
    "plt.ylabel('Score (RMSE)', size=20, labelpad=12.5)\n",
    "plt.xlabel('Model', size=20, labelpad=12.5)\n",
    "plt.tick_params(axis='x', labelsize=13.5)\n",
    "plt.tick_params(axis='y', labelsize=12.5)\n",
    "plt.title('Scores of Models', size=20)\n",
    "\n",
    "plt.show()"
   ]
  },
  {
   "cell_type": "markdown",
   "metadata": {},
   "source": [
    "# 최종평가"
   ]
  },
  {
   "cell_type": "markdown",
   "metadata": {},
   "source": [
    "- 사실 이 test 는 주최측에서 검사하는 부분이다.\n",
    "- train/ test 를 X에 대해서 나눌수도 있지만... X 데이터가 귀한 상황에서는 굳이 그러지 않는거같다."
   ]
  },
  {
   "cell_type": "code",
   "execution_count": 28,
   "metadata": {
    "ExecuteTime": {
     "end_time": "2020-08-03T17:32:21.189138Z",
     "start_time": "2020-08-03T17:32:21.178078Z"
    }
   },
   "outputs": [
    {
     "data": {
      "text/plain": [
       "53.027123396335405"
      ]
     },
     "execution_count": 28,
     "metadata": {},
     "output_type": "execute_result"
    }
   ],
   "source": [
    "rmsle(y_test, ridge_model_full_data.predict(X_test))"
   ]
  },
  {
   "cell_type": "code",
   "execution_count": 29,
   "metadata": {
    "ExecuteTime": {
     "end_time": "2020-08-03T17:32:42.597302Z",
     "start_time": "2020-08-03T17:32:42.586716Z"
    }
   },
   "outputs": [
    {
     "data": {
      "text/plain": [
       "71.7727394189917"
      ]
     },
     "execution_count": 29,
     "metadata": {},
     "output_type": "execute_result"
    }
   ],
   "source": [
    "rmsle(y_test, svr_model_full_data.predict(X_test))"
   ]
  },
  {
   "cell_type": "code",
   "execution_count": 30,
   "metadata": {
    "ExecuteTime": {
     "end_time": "2020-08-03T17:33:09.047840Z",
     "start_time": "2020-08-03T17:33:09.008849Z"
    }
   },
   "outputs": [
    {
     "data": {
      "text/plain": [
       "57.096060071719016"
      ]
     },
     "execution_count": 30,
     "metadata": {},
     "output_type": "execute_result"
    }
   ],
   "source": [
    "rmsle(y_test, gbr_model_full_data.predict(X_test))"
   ]
  },
  {
   "cell_type": "code",
   "execution_count": 32,
   "metadata": {
    "ExecuteTime": {
     "end_time": "2020-08-03T17:33:38.069344Z",
     "start_time": "2020-08-03T17:33:38.046405Z"
    }
   },
   "outputs": [
    {
     "data": {
      "text/plain": [
       "56.799681621023026"
      ]
     },
     "execution_count": 32,
     "metadata": {},
     "output_type": "execute_result"
    }
   ],
   "source": [
    "rmsle(y_test, xgb_model_full_data.predict(X_test))"
   ]
  },
  {
   "cell_type": "code",
   "execution_count": 33,
   "metadata": {
    "ExecuteTime": {
     "end_time": "2020-08-03T17:33:58.660307Z",
     "start_time": "2020-08-03T17:33:58.622412Z"
    }
   },
   "outputs": [
    {
     "data": {
      "text/plain": [
       "58.8404532319427"
      ]
     },
     "execution_count": 33,
     "metadata": {},
     "output_type": "execute_result"
    }
   ],
   "source": [
    "rmsle(y_test, lgb_model_full_data.predict(X_test))"
   ]
  },
  {
   "cell_type": "code",
   "execution_count": 34,
   "metadata": {
    "ExecuteTime": {
     "end_time": "2020-08-03T17:34:24.374998Z",
     "start_time": "2020-08-03T17:34:24.293504Z"
    }
   },
   "outputs": [
    {
     "data": {
      "text/plain": [
       "52.45393751054446"
      ]
     },
     "execution_count": 34,
     "metadata": {},
     "output_type": "execute_result"
    }
   ],
   "source": [
    "rmsle(y_test, rf_model_full_data.predict(X_test))"
   ]
  },
  {
   "cell_type": "code",
   "execution_count": 36,
   "metadata": {
    "ExecuteTime": {
     "end_time": "2020-08-03T17:35:14.742356Z",
     "start_time": "2020-08-03T17:35:14.565803Z"
    }
   },
   "outputs": [
    {
     "data": {
      "text/plain": [
       "61.62445547789957"
      ]
     },
     "execution_count": 36,
     "metadata": {},
     "output_type": "execute_result"
    }
   ],
   "source": [
    "rmsle(y_test, stack_gen_model.predict(np.array(X_test)))"
   ]
  },
  {
   "cell_type": "code",
   "execution_count": 41,
   "metadata": {
    "ExecuteTime": {
     "end_time": "2020-08-03T17:36:29.730319Z",
     "start_time": "2020-08-03T17:36:29.434114Z"
    }
   },
   "outputs": [
    {
     "data": {
      "text/plain": [
       "53.01856778842676"
      ]
     },
     "execution_count": 41,
     "metadata": {},
     "output_type": "execute_result"
    }
   ],
   "source": [
    "rmsle(y_test, blended_predictions(X_test))"
   ]
  },
  {
   "cell_type": "markdown",
   "metadata": {},
   "source": [
    "# 예측 제출"
   ]
  },
  {
   "cell_type": "code",
   "execution_count": 44,
   "metadata": {
    "ExecuteTime": {
     "end_time": "2020-08-03T17:41:20.447882Z",
     "start_time": "2020-08-03T17:41:20.132624Z"
    }
   },
   "outputs": [
    {
     "data": {
      "text/plain": [
       "array([8.70476736e+064, 2.27207454e+079, 8.97285042e+064, 1.16801963e+114,\n",
       "       2.08880318e+055, 4.25968311e+045, 9.25474507e+100, 9.82793625e+080,\n",
       "       3.00622729e+052, 1.79564472e+067, 2.72944273e+046, 2.29651617e+068,\n",
       "       4.40748821e+043, 1.04975561e+094, 9.50786959e+044, 1.91664428e+048,\n",
       "       5.72345614e+098, 8.28532267e+111, 7.59760995e+084, 4.69681699e+088,\n",
       "       1.03408136e+078, 3.43563246e+042, 2.27104764e+032, 1.56177305e+083,\n",
       "       1.45806978e+061, 7.02358045e+075, 2.20689052e+083, 3.69724688e+079,\n",
       "       1.90181380e+036, 3.46091102e+053, 4.16368653e+067, 1.06344540e+051,\n",
       "       2.81895401e+061, 2.89860716e+082, 1.77438813e+062, 3.55285274e+083,\n",
       "       1.12805714e+044, 1.34084059e+047, 7.94063631e+071, 1.25963816e+033,\n",
       "       6.23740623e+033, 2.00845785e+044, 2.84069405e+081, 1.02325627e+064,\n",
       "       5.08590408e+071, 2.36731981e+034, 8.51683550e+035, 9.13557964e+053,\n",
       "       1.31359405e+035, 2.59764928e+063, 8.93777196e+051, 3.16476645e+032,\n",
       "       7.68109529e+062, 4.12510849e+048, 1.34918868e+072, 7.24985154e+064,\n",
       "       1.07292278e+047, 3.51517155e+086, 1.36483099e+049, 5.60454339e+040,\n",
       "       6.97989170e+079, 1.14181924e+088, 1.73240271e+051, 6.30944597e+042,\n",
       "       3.46318652e+061, 1.37816531e+093, 8.06631037e+070, 4.19364758e+078,\n",
       "       1.91127028e+060, 1.57933958e+051, 1.00262405e+073, 1.23695338e+082,\n",
       "       5.71352385e+095, 5.51808563e+044, 2.98249006e+035, 5.47405824e+073,\n",
       "       3.54661222e+085, 4.39971129e+073, 1.45397659e+079, 4.06847334e+087,\n",
       "       3.17081806e+052, 1.46840429e+059, 1.19475711e+038, 7.95101115e+033,\n",
       "       1.33481521e+034, 1.58628079e+040, 5.73897351e+039, 2.66340391e+032,\n",
       "       9.22328469e+069, 1.34939867e+079, 2.50958074e+054, 1.69218541e+089,\n",
       "       4.91625339e+042, 3.76678767e+028, 1.94346010e+035, 8.13373382e+075,\n",
       "       7.00230643e+099, 2.41659416e+062, 1.00462433e+057, 3.39826736e+026,\n",
       "       5.67753228e+091, 8.44563573e+047, 4.05434714e+118, 2.49214117e+047,\n",
       "       1.71520801e+078, 2.82891285e+054, 1.75472195e+050, 2.88945335e+061,\n",
       "       1.57814135e+085, 6.85559684e+087, 2.00600351e+046, 4.62298670e+071,\n",
       "       1.00026251e+085, 9.66701334e+088, 1.17374215e+080, 5.59799991e+077,\n",
       "       6.28603404e+058, 7.50461989e+039, 1.77869100e+046, 1.85570774e+082,\n",
       "       2.86520000e+079, 6.64350386e+053, 2.78370340e+038, 1.17678311e+076,\n",
       "       2.00424436e+048, 2.65094498e+080, 8.16780629e+071, 1.13035440e+060,\n",
       "       2.11732809e+086, 1.94720029e+047, 5.44585550e+059, 1.25942887e+036,\n",
       "       6.36433071e+095])"
      ]
     },
     "execution_count": 44,
     "metadata": {},
     "output_type": "execute_result"
    }
   ],
   "source": [
    "# Append predictions from blended models\n",
    "np.floor(np.expm1(blended_predictions(X_test))) \n",
    "# 즉 scaling 을 되돌리는 작업이 꼭 필요하다는 이야기."
   ]
  },
  {
   "cell_type": "code",
   "execution_count": null,
   "metadata": {},
   "outputs": [],
   "source": []
  }
 ],
 "metadata": {
  "kernelspec": {
   "display_name": "Python 3",
   "language": "python",
   "name": "python3"
  },
  "language_info": {
   "codemirror_mode": {
    "name": "ipython",
    "version": 3
   },
   "file_extension": ".py",
   "mimetype": "text/x-python",
   "name": "python",
   "nbconvert_exporter": "python",
   "pygments_lexer": "ipython3",
   "version": "3.7.4"
  },
  "toc": {
   "base_numbering": 1,
   "nav_menu": {},
   "number_sections": true,
   "sideBar": true,
   "skip_h1_title": false,
   "title_cell": "Table of Contents",
   "title_sidebar": "Contents",
   "toc_cell": false,
   "toc_position": {
    "height": "calc(100% - 180px)",
    "left": "10px",
    "top": "150px",
    "width": "336.563px"
   },
   "toc_section_display": true,
   "toc_window_display": true
  }
 },
 "nbformat": 4,
 "nbformat_minor": 4
}
