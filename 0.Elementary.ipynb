{
 "cells": [
  {
   "cell_type": "code",
   "execution_count": 23,
   "metadata": {},
   "outputs": [],
   "source": [
    "from IPython.display import Image \n",
    "from IPython.core.display import HTML \n",
    "\n",
    "PATH = \"C:/Users/goran/Desktop/TA\" "
   ]
  },
  {
   "cell_type": "code",
   "execution_count": 21,
   "metadata": {},
   "outputs": [],
   "source": [
    "import pandas as pd\n",
    "import numpy as np\n",
    "import seaborn as sns\n",
    "import matplotlib.pyplot as plt\n",
    "data=sns.load_dataset('iris')"
   ]
  },
  {
   "cell_type": "markdown",
   "metadata": {},
   "source": [
    "# 분석을 위한 데이터처리"
   ]
  },
  {
   "cell_type": "markdown",
   "metadata": {},
   "source": [
    "## Train/Test set 분할하기"
   ]
  },
  {
   "cell_type": "code",
   "execution_count": 2,
   "metadata": {
    "scrolled": true
   },
   "outputs": [
    {
     "data": {
      "text/html": [
       "<div>\n",
       "<style scoped>\n",
       "    .dataframe tbody tr th:only-of-type {\n",
       "        vertical-align: middle;\n",
       "    }\n",
       "\n",
       "    .dataframe tbody tr th {\n",
       "        vertical-align: top;\n",
       "    }\n",
       "\n",
       "    .dataframe thead th {\n",
       "        text-align: right;\n",
       "    }\n",
       "</style>\n",
       "<table border=\"1\" class=\"dataframe\">\n",
       "  <thead>\n",
       "    <tr style=\"text-align: right;\">\n",
       "      <th></th>\n",
       "      <th>sepal_length</th>\n",
       "      <th>sepal_width</th>\n",
       "      <th>petal_length</th>\n",
       "      <th>petal_width</th>\n",
       "      <th>species</th>\n",
       "    </tr>\n",
       "  </thead>\n",
       "  <tbody>\n",
       "    <tr>\n",
       "      <th>0</th>\n",
       "      <td>5.1</td>\n",
       "      <td>3.5</td>\n",
       "      <td>1.4</td>\n",
       "      <td>0.2</td>\n",
       "      <td>setosa</td>\n",
       "    </tr>\n",
       "    <tr>\n",
       "      <th>1</th>\n",
       "      <td>4.9</td>\n",
       "      <td>3.0</td>\n",
       "      <td>1.4</td>\n",
       "      <td>0.2</td>\n",
       "      <td>setosa</td>\n",
       "    </tr>\n",
       "    <tr>\n",
       "      <th>2</th>\n",
       "      <td>4.7</td>\n",
       "      <td>3.2</td>\n",
       "      <td>1.3</td>\n",
       "      <td>0.2</td>\n",
       "      <td>setosa</td>\n",
       "    </tr>\n",
       "    <tr>\n",
       "      <th>3</th>\n",
       "      <td>4.6</td>\n",
       "      <td>3.1</td>\n",
       "      <td>1.5</td>\n",
       "      <td>0.2</td>\n",
       "      <td>setosa</td>\n",
       "    </tr>\n",
       "    <tr>\n",
       "      <th>4</th>\n",
       "      <td>5.0</td>\n",
       "      <td>3.6</td>\n",
       "      <td>1.4</td>\n",
       "      <td>0.2</td>\n",
       "      <td>setosa</td>\n",
       "    </tr>\n",
       "  </tbody>\n",
       "</table>\n",
       "</div>"
      ],
      "text/plain": [
       "   sepal_length  sepal_width  petal_length  petal_width species\n",
       "0           5.1          3.5           1.4          0.2  setosa\n",
       "1           4.9          3.0           1.4          0.2  setosa\n",
       "2           4.7          3.2           1.3          0.2  setosa\n",
       "3           4.6          3.1           1.5          0.2  setosa\n",
       "4           5.0          3.6           1.4          0.2  setosa"
      ]
     },
     "execution_count": 2,
     "metadata": {},
     "output_type": "execute_result"
    }
   ],
   "source": [
    "data.head()"
   ]
  },
  {
   "cell_type": "code",
   "execution_count": 3,
   "metadata": {},
   "outputs": [],
   "source": [
    "y =data['species'] # Y target 을 species 로 잡겠다.(classification)\n",
    "X =data.drop('species',axis=1) # x 변수는 species 를 제외한 나머지"
   ]
  },
  {
   "cell_type": "code",
   "execution_count": 4,
   "metadata": {},
   "outputs": [],
   "source": [
    "from sklearn.model_selection import train_test_split\n",
    "X_train, X_test, y_train, y_test = train_test_split(X, y,train_size=0.8, random_state=42)\n",
    "# X_train, X_test, y_train, y_test 의 순서가 중요하다. \n",
    "# train_size : train set 의 size 비율을 얼마나 잡을것인가. 대게 0.7~0.8 을 잡는다.\n",
    "# random_state : 다시 실행해도 결과를 같게하기 위해 random_state 를 설정한다."
   ]
  },
  {
   "cell_type": "markdown",
   "metadata": {},
   "source": [
    "# classification 성능평가"
   ]
  },
  {
   "cell_type": "markdown",
   "metadata": {},
   "source": [
    "## confusion_matrix(y_true, y_pred)"
   ]
  },
  {
   "cell_type": "markdown",
   "metadata": {},
   "source": [
    "confusion matrix : 정답 클래스는 행(row)으로 예측한 클래스는 열(column)로 나타낸다. <br>\n",
    "- 즉 diagonal 에 있는 수는 예측을 잘 한 경우이다\n",
    "- 사이킷런 패키지에서 제공하는 confusion_matrix 명령을 사용할 때는 클래스 순서가 0, 1, 2, ... 순서로 출력되기때문에 주의하자"
   ]
  },
  {
   "cell_type": "code",
   "execution_count": 5,
   "metadata": {},
   "outputs": [],
   "source": [
    "y_true = [1, 1, 2, 3, 3, 3, 3]\n",
    "y_pred = [1, 1, 2, 2, 2, 3, 3]"
   ]
  },
  {
   "cell_type": "code",
   "execution_count": 6,
   "metadata": {},
   "outputs": [
    {
     "data": {
      "text/plain": [
       "array([[2, 0, 0],\n",
       "       [0, 1, 0],\n",
       "       [0, 2, 2]], dtype=int64)"
      ]
     },
     "execution_count": 6,
     "metadata": {},
     "output_type": "execute_result"
    }
   ],
   "source": [
    "from sklearn.metrics import confusion_matrix\n",
    "confusion_matrix(y_true, y_pred)"
   ]
  },
  {
   "cell_type": "markdown",
   "metadata": {},
   "source": [
    "즉 참값이 3 일때에 이 모델은 예측을 못 하고 있음을 볼 수 있다."
   ]
  },
  {
   "cell_type": "markdown",
   "metadata": {},
   "source": [
    "## accuracy_score(y_true, y_pred)"
   ]
  },
  {
   "cell_type": "markdown",
   "metadata": {},
   "source": [
    "정확도(accuracy)는 전체 샘플 중 맞게 예측한 샘플 수의 비율을 뜻한다. 높을수록 좋은 모형이다. 일반적으로 학습에서 최적화 목적함수로 사용된다"
   ]
  },
  {
   "cell_type": "code",
   "execution_count": 7,
   "metadata": {},
   "outputs": [],
   "source": [
    "y_true = [1, 1, 2, 2, 2]\n",
    "y_pred = [1, 1, 2, 2, 3]"
   ]
  },
  {
   "cell_type": "code",
   "execution_count": 8,
   "metadata": {
    "scrolled": true
   },
   "outputs": [
    {
     "data": {
      "text/plain": [
       "0.8"
      ]
     },
     "execution_count": 8,
     "metadata": {},
     "output_type": "execute_result"
    }
   ],
   "source": [
    "from sklearn.metrics import accuracy_score\n",
    "accuracy_score(y_true,y_pred)"
   ]
  },
  {
   "cell_type": "markdown",
   "metadata": {},
   "source": [
    "## precision_score(y_true, y_pred)"
   ]
  },
  {
   "cell_type": "markdown",
   "metadata": {},
   "source": [
    "A class 라고 예측한 것들 중 실제로 A class 인 것의 비율\n",
    "\n",
    "그래서 TEST 의\" '정확도' score 라고 한다."
   ]
  },
  {
   "cell_type": "markdown",
   "metadata": {},
   "source": [
    "hyper parameter \n",
    "\n",
    "- macro: 단순평균\n",
    "- weighted: 각 클래스에 속하는 표본의 갯수로 가중평균"
   ]
  },
  {
   "cell_type": "code",
   "execution_count": 9,
   "metadata": {},
   "outputs": [],
   "source": [
    "y_true = [1, 1, 1, 2, 2, 2, 3, 3, 3, 3]\n",
    "\n",
    "y_pred = [1, 1, 1, 2, 2, 1, 2, 2, 2, 3]"
   ]
  },
  {
   "cell_type": "code",
   "execution_count": 10,
   "metadata": {},
   "outputs": [
    {
     "data": {
      "text/plain": [
       "array([0.75, 0.4 , 1.  ])"
      ]
     },
     "execution_count": 10,
     "metadata": {},
     "output_type": "execute_result"
    }
   ],
   "source": [
    "# averge =None 을 해야 multi label 에서 작동한다.\n",
    "# 원래 precision_score 는 이진분류 (양성,음성) 에서 만들어진 score 라 지금경우 label 이 3개인 경우 3개의 값을 나타낸가.\n",
    "from sklearn.metrics import precision_score\n",
    "precision_score(y_true,y_pred,average=None)"
   ]
  },
  {
   "cell_type": "code",
   "execution_count": 11,
   "metadata": {},
   "outputs": [
    {
     "data": {
      "text/plain": [
       "0.745"
      ]
     },
     "execution_count": 11,
     "metadata": {},
     "output_type": "execute_result"
    }
   ],
   "source": [
    "precision_score(y_true,y_pred,average='weighted')"
   ]
  },
  {
   "cell_type": "markdown",
   "metadata": {},
   "source": [
    "## recall_score(y_true, y_pred)"
   ]
  },
  {
   "cell_type": "markdown",
   "metadata": {},
   "source": [
    "실제 A 클래스에 속한 표본 중에 A 클래스에 속한다고 출력한 표본의 수의 비율을 뜻한다.\n",
    "\n",
    "그래서 test 의 '재현율' 이라고 한다. 실제 클래스의 값들을 모두 뽑아내는지에 대한 score 이다."
   ]
  },
  {
   "cell_type": "code",
   "execution_count": 12,
   "metadata": {
    "scrolled": true
   },
   "outputs": [
    {
     "data": {
      "text/plain": [
       "array([1.        , 0.66666667, 0.25      ])"
      ]
     },
     "execution_count": 12,
     "metadata": {},
     "output_type": "execute_result"
    }
   ],
   "source": [
    "from sklearn.metrics import recall_score\n",
    "recall_score(y_true,y_pred,average=None)"
   ]
  },
  {
   "cell_type": "code",
   "execution_count": 13,
   "metadata": {
    "scrolled": false
   },
   "outputs": [
    {
     "data": {
      "text/plain": [
       "0.6"
      ]
     },
     "execution_count": 13,
     "metadata": {},
     "output_type": "execute_result"
    }
   ],
   "source": [
    "recall_score(y_true,y_pred,average='weighted')"
   ]
  },
  {
   "cell_type": "markdown",
   "metadata": {},
   "source": [
    "## F1_score(y_true, y_pred)"
   ]
  },
  {
   "cell_type": "markdown",
   "metadata": {},
   "source": [
    "정밀도와 재현율의 가중조화평균(weight harmonic average)을 F점수(F-score)라고 한다.\n",
    "\n",
    "F1 score는 데이터 label이 불균형 구조일 때, 모델의 성능을 정확하게 평가할 수 있으며, 성능을 하나의 숫자로 표현할 수 있습니다"
   ]
  },
  {
   "cell_type": "markdown",
   "metadata": {},
   "source": [
    "베타가 1인 경우를 특별히 F1점수라고 한다. F1=2⋅precision⋅recall/(precision+recall)\n",
    "\n",
    "높을수록 좋음"
   ]
  },
  {
   "cell_type": "code",
   "execution_count": 14,
   "metadata": {},
   "outputs": [],
   "source": [
    "y_true = [1, 1, 1, 1, 1, 1, 1, 1, 1, 2, 2]\n",
    "\n",
    "y_pred = [1, 1, 1, 1, 1, 1, 1, 1, 1, 1, 1]"
   ]
  },
  {
   "cell_type": "code",
   "execution_count": 15,
   "metadata": {
    "scrolled": true
   },
   "outputs": [
    {
     "data": {
      "text/plain": [
       "0.7363636363636363"
      ]
     },
     "execution_count": 15,
     "metadata": {},
     "output_type": "execute_result"
    }
   ],
   "source": [
    "from sklearn.metrics import f1_score\n",
    "f1_score(y_true,y_pred, average='weighted')"
   ]
  },
  {
   "cell_type": "code",
   "execution_count": 16,
   "metadata": {},
   "outputs": [],
   "source": [
    "y_true = [1, 1, 1, 1, 1, 1, 1, 1, 1, 2, 2]\n",
    "\n",
    "y_pred = [1, 1, 1, 1, 1, 1, 1, 2, 2, 2, 2]"
   ]
  },
  {
   "cell_type": "code",
   "execution_count": 17,
   "metadata": {
    "scrolled": true
   },
   "outputs": [
    {
     "data": {
      "text/plain": [
       "0.8371212121212122"
      ]
     },
     "execution_count": 17,
     "metadata": {},
     "output_type": "execute_result"
    }
   ],
   "source": [
    "from sklearn.metrics import f1_score\n",
    "f1_score(y_true,y_pred,average='weighted')"
   ]
  },
  {
   "cell_type": "code",
   "execution_count": 18,
   "metadata": {},
   "outputs": [],
   "source": [
    "# 위와 같이 틀린 횟수는 똑같지만, 적은 데이터데 대해 작 예측할때 f1 score 가 높은것을 볼 수 있습니다."
   ]
  },
  {
   "cell_type": "markdown",
   "metadata": {},
   "source": [
    "## classification_report(y_true, y_pred)"
   ]
  },
  {
   "cell_type": "code",
   "execution_count": 19,
   "metadata": {},
   "outputs": [],
   "source": [
    "y_true = [1, 1, 1, 2, 2, 2, 3, 3, 3, 3]\n",
    "\n",
    "y_pred = [1, 1, 1, 2, 2, 1, 2, 2, 2, 3]"
   ]
  },
  {
   "cell_type": "code",
   "execution_count": 20,
   "metadata": {
    "scrolled": true
   },
   "outputs": [
    {
     "name": "stdout",
     "output_type": "stream",
     "text": [
      "              precision    recall  f1-score   support\n",
      "\n",
      "     class 1       0.75      1.00      0.86         3\n",
      "     class 2       0.40      0.67      0.50         3\n",
      "     class 3       1.00      0.25      0.40         4\n",
      "\n",
      "    accuracy                           0.60        10\n",
      "   macro avg       0.72      0.64      0.59        10\n",
      "weighted avg       0.74      0.60      0.57        10\n",
      "\n"
     ]
    }
   ],
   "source": [
    "import classification_report\n",
    "\n",
    "class_name = ['class 1', 'class 2', 'class 3']\n",
    "\n",
    "print( classification_report(y_true,y_pred, target_names= class_name ) )"
   ]
  },
  {
   "cell_type": "markdown",
   "metadata": {},
   "source": [
    "# Regression 성능평가"
   ]
  },
  {
   "cell_type": "markdown",
   "metadata": {},
   "source": [
    "# 모형 최적화(Hyperparameter)"
   ]
  },
  {
   "cell_type": "markdown",
   "metadata": {},
   "source": [
    "## GridSearchCV\n",
    "- Grid Search 는 Parameter search 시에 격자처럼 paramter 들의 모든 조합을 시험하고, 그 중에서 제일 좋은 성능을 보이는 paramter 를 고른다.\n",
    "- 하지만 paramter 가 2개보다 커지는 순간부터 그 조합의 수가 기하급수적으로 많아지기 때문에 비효율적이다.\n",
    "- 그러므로 2~3개의 parameter 를 가지는 경우에 적합하고 tree모델의 경우는 파라미터가 너무 많아 비추천한다.\n",
    "- 그리고 일반적으로 Randomize search 보다 많은 지점을 편향없이 보지 못하기 때문에(사용자가 직접 보고자 하는 값들을 적어주어야함) 별로 추천하지는 않는다. "
   ]
  },
  {
   "cell_type": "markdown",
   "metadata": {},
   "source": [
    "### 단일 parameter "
   ]
  },
  {
   "cell_type": "code",
   "execution_count": 22,
   "metadata": {},
   "outputs": [],
   "source": [
    "# 데이터 생성\n",
    "from sklearn.datasets import load_boston\n",
    "boston = load_boston()\n",
    "X = boston.data\n",
    "y = boston.target"
   ]
  },
  {
   "cell_type": "code",
   "execution_count": 23,
   "metadata": {
    "scrolled": false
   },
   "outputs": [
    {
     "name": "stdout",
     "output_type": "stream",
     "text": [
      "{'alpha': 151.45226130653265}\n",
      "-29.753677540045423\n"
     ]
    }
   ],
   "source": [
    "from sklearn.linear_model import Lasso, Ridge\n",
    "from sklearn.metrics import mean_squared_error\n",
    "from sklearn.model_selection import GridSearchCV\n",
    "\n",
    "ridge = Ridge()\n",
    "alphas = np.linspace(1, 500, 200) # 추정하려는 parameter 범위\n",
    "parameters = {'alpha': alphas } # 추정하려는 parameter(이때 이름은 모델의 parameter default 이름과 똑같이 넣어야 한다.)\n",
    "\n",
    "model = GridSearchCV(estimator = ridge, param_grid = parameters, scoring='neg_mean_squared_error',cv=5)\n",
    "# estimator : 모델\n",
    "# param_grid : 추정하고싶은 파라미터 이름(str)을 key 로. lists of parameter settings 을 value 로 하는 dictionary\n",
    "# scoring : evaluate the predictions on the test set\n",
    "#         : (default) model 이 가지고있는 default evaluation criterion 를 쓴다\n",
    "#         : model has score method providing a default evaluation criterion for the problem they are designed to solve \n",
    "#         : ‘accuracy’ = metrics.accuracy_score (classification)\n",
    "#         : ‘r2’ = metrics.r2_score (regression)\n",
    "#         : ‘neg_mean_squared_error’ : metrics.mean_squared_error (regression)\n",
    "#         : 자세한건 scoring parameter \n",
    "# cv : k-fold validation 에서 k\n",
    "#    : (default)3-fold cross validation\n",
    "model.fit(X,y)\n",
    "# fitting 을 해야 위에서 설정한 객체가 그대로 적용이 되면서 비로소 best 한 parameter 를 찾아준다.\n",
    "\n",
    "print(model.best_params_) # 우리가 추정한 best parameter\n",
    "print(model.best_score_) # 우리가 지정한 scoring 에 기반한 제일 좋은 score\n"
   ]
  },
  {
   "cell_type": "code",
   "execution_count": 24,
   "metadata": {},
   "outputs": [],
   "source": [
    "# CV result 분석"
   ]
  },
  {
   "cell_type": "code",
   "execution_count": 25,
   "metadata": {},
   "outputs": [
    {
     "data": {
      "text/plain": [
       "[<matplotlib.lines.Line2D at 0x19c8d31ddc8>]"
      ]
     },
     "execution_count": 25,
     "metadata": {},
     "output_type": "execute_result"
    },
    {
     "data": {
      "image/png": "[encoded data removed]",
      "text/plain": [
       "<Figure size 432x288 with 1 Axes>"
      ]
     },
     "metadata": {
      "needs_background": "light"
     },
     "output_type": "display_data"
    }
   ],
   "source": [
    "result = pd.DataFrame(model.cv_results_)[['param_alpha','mean_test_score']]\n",
    "plt.plot('param_alpha','mean_test_score',data=result,)"
   ]
  },
  {
   "cell_type": "code",
   "execution_count": 26,
   "metadata": {},
   "outputs": [
    {
     "name": "stdout",
     "output_type": "stream",
     "text": [
      "{'alpha': 151.45226130653265}\n",
      "-29.753677540045423\n"
     ]
    }
   ],
   "source": [
    "print(model.best_params_) # 우리가 추정한 best parameter\n",
    "print(model.best_score_) # 우리가 지정한 scoring 에 기반한 제일 좋은 score"
   ]
  },
  {
   "cell_type": "code",
   "execution_count": 27,
   "metadata": {},
   "outputs": [],
   "source": [
    "# (note)\n",
    "# 근데 왜 mse 가 음수인가요? \n",
    "# 사이킷런의 교차 검증 기능은 scoring 매개변수에 (낮을수록 좋은) 비용 함수가 아니라 (클수록 좋은) 효용 함수를 기대합니다. \n",
    "# 그래서 평균 제곱 오차(MSE)의 반댓값(즉, 음숫값)을 계산하는 neg_mean_squared_error 함수를 사용"
   ]
  },
  {
   "cell_type": "markdown",
   "metadata": {},
   "source": [
    "### 여러개 parameter "
   ]
  },
  {
   "cell_type": "code",
   "execution_count": 28,
   "metadata": {},
   "outputs": [],
   "source": [
    "#데이터 생성\n",
    "data=sns.load_dataset('iris')\n",
    "y =data['species'] # Y target 을 species 로 잡겠다.(classification) # 이 때에 1dim array 로 해주어야한다.\n",
    "X =data.drop('species',axis=1) # x 변수는 species 를 제외한 나머지\n",
    "X_train, X_test, y_train, y_test = train_test_split(X, y,train_size=0.8, random_state=42)"
   ]
  },
  {
   "cell_type": "code",
   "execution_count": 29,
   "metadata": {},
   "outputs": [
    {
     "name": "stdout",
     "output_type": "stream",
     "text": [
      "{'C': 1, 'gamma': 0.1}\n",
      "0.9800000000000001\n"
     ]
    }
   ],
   "source": [
    "from sklearn.svm import SVC\n",
    "from sklearn.model_selection import GridSearchCV\n",
    "\n",
    "scv = SVC()\n",
    "param_grid ={'C' : [0.001,0.01,0.1,1,10,100], 'gamma' : [0.001,0.01,0.1,1,10,100] }\n",
    "model = GridSearchCV(scv,param_grid,cv=5)\n",
    "# scoring 은 default 이므로 model 의 자체 scoring 을 이용해 최적화를 하게 된다. \n",
    "# 이제 model=GridSearchCV 는 GridSearch 를 통해 최적화된 parameter 를 이용한 scv model 이 합쳐진 것이 된다. \n",
    "model.fit(X,y)\n",
    "print(model.best_params_) # 우리가 추정한 best parameter\n",
    "print(model.best_score_) # 우리가 지정한 scoring 에 기반한 제일 좋은 score"
   ]
  },
  {
   "cell_type": "markdown",
   "metadata": {},
   "source": [
    "## Randomize search"
   ]
  },
  {
   "cell_type": "markdown",
   "metadata": {},
   "source": [
    "- Randomize search 는 Grid search 보다는 훨씬 낫다.\n",
    "- 사람이 범위를 지정해주면 그 범위 안에서 최적값을 random 으로 search 하면서 찾아낸다.\n",
    "- n_iter 을 지정한 만큼 Random search 를 진행하게 된다. \n",
    "- 하지만 여전히 paramter 가 너무 많아지면 randomize search 로도 과부하가 걸린다.\n",
    "- 이 때에는 Baysian Optimization 툴을 이용하는것이 좋다.(이는 추후에 소개하도록 하겠다.)"
   ]
  },
  {
   "cell_type": "code",
   "execution_count": 46,
   "metadata": {},
   "outputs": [
    {
     "name": "stdout",
     "output_type": "stream",
     "text": [
      "{'C': 1.1349957248947984, 'gamma': 5}\n",
      "0.9666666666666668\n"
     ]
    }
   ],
   "source": [
    "from sklearn.svm import SVC\n",
    "from sklearn.model_selection import RandomizedSearchCV\n",
    "from scipy.stats import uniform\n",
    "from scipy.stats import randint\n",
    "\n",
    "scv = SVC()\n",
    "param_grid ={'C' : uniform(0.001,100) , # uniform 은 paramter 가 실수값을 가져야 할 때에 유용하다.\n",
    "             'gamma' : randint(low=1, high=10)} # randint 는 parameter 가 정수값을 가져야 할 때에 유용하다.\n",
    "model = RandomizedSearchCV(scv,param_grid,cv=5,n_iter=100)\n",
    "model.fit(X,y)\n",
    "print(model.best_params_) # 우리가 추정한 best parameter\n",
    "print(model.best_score_) # 우리가 지정한 scoring 에 기반한 제일 좋은 score"
   ]
  },
  {
   "cell_type": "code",
   "execution_count": null,
   "metadata": {},
   "outputs": [],
   "source": []
  }
 ],
 "metadata": {
  "kernelspec": {
   "display_name": "Python 3",
   "language": "python",
   "name": "python3"
  },
  "language_info": {
   "codemirror_mode": {
    "name": "ipython",
    "version": 3
   },
   "file_extension": ".py",
   "mimetype": "text/x-python",
   "name": "python",
   "nbconvert_exporter": "python",
   "pygments_lexer": "ipython3",
   "version": "3.7.4"
  },
  "toc": {
   "base_numbering": 1,
   "nav_menu": {},
   "number_sections": true,
   "sideBar": true,
   "skip_h1_title": false,
   "title_cell": "Table of Contents",
   "title_sidebar": "Contents",
   "toc_cell": false,
   "toc_position": {
    "height": "calc(100% - 180px)",
    "left": "10px",
    "top": "150px",
    "width": "279.273px"
   },
   "toc_section_display": true,
   "toc_window_display": true
  },
  "varInspector": {
   "cols": {
    "lenName": 16,
    "lenType": 16,
    "lenVar": 40
   },
   "kernels_config": {
    "python": {
     "delete_cmd_postfix": "",
     "delete_cmd_prefix": "del ",
     "library": "var_list.py",
     "varRefreshCmd": "print(var_dic_list())"
    },
    "r": {
     "delete_cmd_postfix": ") ",
     "delete_cmd_prefix": "rm(",
     "library": "var_list.r",
     "varRefreshCmd": "cat(var_dic_list()) "
    }
   },
   "types_to_exclude": [
    "module",
    "function",
    "builtin_function_or_method",
    "instance",
    "_Feature"
   ],
   "window_display": false
  }
 },
 "nbformat": 4,
 "nbformat_minor": 2
}
