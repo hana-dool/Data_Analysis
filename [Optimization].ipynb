{
 "cells": [
  {
   "cell_type": "code",
   "execution_count": 4,
   "metadata": {
    "ExecuteTime": {
     "end_time": "2020-08-02T09:25:37.526835Z",
     "start_time": "2020-08-02T09:25:35.250127Z"
    }
   },
   "outputs": [],
   "source": [
    "import numpy as np\n",
    "import pandas as pd\n",
    "import seaborn as sns\n",
    "from sklearn.datasets import make_regression\n",
    "import matplotlib as mpl\n",
    "import matplotlib.pyplot as plt\n",
    "from sklearn import metrics # 모델평가시 이용"
   ]
  },
  {
   "cell_type": "code",
   "execution_count": 5,
   "metadata": {
    "ExecuteTime": {
     "end_time": "2020-08-02T09:25:37.605512Z",
     "start_time": "2020-08-02T09:25:37.527764Z"
    }
   },
   "outputs": [],
   "source": [
    "# dataset 형성하기\n",
    "X, y = make_regression(n_samples=2000, # sample 의 수는 2000개\n",
    "                       n_features=20, # x 변수는 20개\n",
    "                       n_informative=4, # 그중 y 변수와 관련되는 변수는 4개  \n",
    "                       noise = 3       # nosie \n",
    "                      ,effective_rank=15 #  x 변수중 서로 독립인 수 (5개는 서로 관련)\n",
    "                      ,tail_strength=0.3 # 관련된 변수의 관련성\n",
    "                      ,random_state=0) # random state 고정\n",
    "X = pd.DataFrame(X)\n",
    "X[[1,4,6,10,13]]=X[[1,4,6,10,13]]*-1"
   ]
  },
  {
   "cell_type": "code",
   "execution_count": 6,
   "metadata": {
    "ExecuteTime": {
     "end_time": "2020-08-02T09:25:37.637397Z",
     "start_time": "2020-08-02T09:25:37.607478Z"
    }
   },
   "outputs": [],
   "source": [
    "# dataset train/test set 으로 나누기\n",
    "from sklearn.model_selection import train_test_split\n",
    "X_train, X_test, y_train, y_test = train_test_split(X, y, test_size=0.20, random_state=0)"
   ]
  },
  {
   "cell_type": "markdown",
   "metadata": {},
   "source": [
    "# Random Forest (회귀)"
   ]
  },
  {
   "cell_type": "markdown",
   "metadata": {},
   "source": [
    "## 파라미터 범위 설정"
   ]
  },
  {
   "cell_type": "code",
   "execution_count": 7,
   "metadata": {},
   "outputs": [],
   "source": [
    "bayes_params = {\n",
    "    'min_samples_split' : (2,100),\n",
    "    'min_samples_leaf' : (1,100),\n",
    "    'max_depth': (1, 10),}"
   ]
  },
  {
   "cell_type": "code",
   "execution_count": 8,
   "metadata": {},
   "outputs": [],
   "source": [
    "from sklearn.ensemble import RandomForestRegressor\n",
    "rf_model=RandomForestRegressor()"
   ]
  },
  {
   "cell_type": "markdown",
   "metadata": {},
   "source": [
    "## 평가 함수 정의"
   ]
  },
  {
   "cell_type": "code",
   "execution_count": 9,
   "metadata": {},
   "outputs": [],
   "source": [
    "from sklearn.ensemble import RandomForestRegressor\n",
    "from sklearn.metrics import mean_squared_error\n",
    "from sklearn.model_selection import cross_val_score\n",
    "import numpy as np\n",
    "\n",
    "# 우선 우리가 tuning 하고 싶은 값들을 받고, 그에따라서 tuning 이 되게 조절해봅시다.\n",
    "# 우선 max_depth, min_samples_split, min_samples_leaf 를 이용한다고 해 봅시다.\n",
    "def ran_mse_eval(max_depth,\n",
    "                min_samples_split,\n",
    "                min_samples_leaf,):\n",
    "    # 여기에서는 우리가 조절해야할 파라미터들을 dic 형태로 정의합니다.\n",
    "    params = {\n",
    "        \"n_estimators\": 100 , # 굳이 parameter grid 로 찾고싶지는 않지만 ,default 값이 아니라 다른값을 주고싶을떄 이렇게 200으로 고정해서 하고싶다고 합시다!\n",
    "        'max_depth': int(round(max_depth)), # 이 때에 정수값이 들어가야하는 경우가 있는데요, 그 떄에는 int(round 로 처리를 해주어야 합니다.\n",
    "        'min_samples_split' : int(round(min_samples_split)),\n",
    "        'min_samples_leaf' : int(round(min_samples_leaf))}\n",
    "    print(\"params:\", params)  # 어떤 파라미터를 사용하였는지 print 하게 해서 학습과정을 지켜보도록 해요~\n",
    "    rf_model = RandomForestRegressor(**params) # 우리의 모델을 정의합니다.\n",
    "    \n",
    "    # 여기서 result 를 뽑아내기 위해서는 2가지 경우가 있습니다! \n",
    "    \n",
    "    # 1. y_val/ x_val 을 나누어서 평가하는 경우\n",
    "    #rf_model.fit(X_train, y_train) # 먼저 train 에 학습시킨 후\n",
    "    #valid_proba = rf_model.predict(X_val) # X_val 에 대해서 예측하고\n",
    "    #result = -1 * mean_squared_error(y_val, valid_proba) # 그에 따른 mse 스코어를 구합니다.\n",
    "    \n",
    "    # 하지만 위 같은 경우.. 뭔가 결과가 y_val/ x_val 에 과적합될 수도 있을거같아서 \n",
    "    # 2. 그냥 X_train/ y_train 의 cv 값을 하게되면 더 좋아보인다! \n",
    "    cv_value = cross_val_score(rf_model, X_train, y_train, cv=5, scoring='neg_mean_squared_error') # 이떄 scoring 은 주최측에서 정한 값을 넣어야 게엣죠오?\n",
    "    result = np.mean(cv_value) # cv_value 는 list 형태로 나오게 되니까!\n",
    "    return result # 이 result 값이 커지게 베이지안optimization 이 학습하게 됩니다.\n",
    "\n",
    "    print('mse:', result)  # 그 값을 도출 print 해서 잘 학습하고 있는지 (줄여지는 방향으로) 알 아 보아요~"
   ]
  },
  {
   "cell_type": "markdown",
   "metadata": {},
   "source": [
    "## Optimization"
   ]
  },
  {
   "cell_type": "markdown",
   "metadata": {},
   "source": [
    "BayesianOptimization 객체를 생성합니다. \n",
    "이때 생성 인자로 앞에서 만든 평가함수 lgb_roc_eval 함수와 튜닝할 하이퍼 파라미터의 범위값을 설정한 딕셔너리 변수인 bayes_params를 입력합니다."
   ]
  },
  {
   "cell_type": "code",
   "execution_count": 10,
   "metadata": {},
   "outputs": [],
   "source": [
    "from bayes_opt import BayesianOptimization\n",
    "# 객체를 형성한다\n",
    "BO_rf = BayesianOptimization(ran_mse_eval, bayes_params, random_state=0)"
   ]
  },
  {
   "cell_type": "markdown",
   "metadata": {},
   "source": [
    "이제 입력받은 평가함수에 튜닝할 하이퍼 파라미터의 값을 반복적으로 입력하여 최적 하이퍼 파라미터를 튜닝할 준비가 되었습니다. \n",
    "BayesianOptimization객체에서 maximize()메소드를 호출하면 이를 수행할 수 있습니다. "
   ]
  },
  {
   "cell_type": "code",
   "execution_count": 11,
   "metadata": {},
   "outputs": [
    {
     "name": "stdout",
     "output_type": "stream",
     "text": [
      "|   iter    |  target   | max_depth | min_sa... | min_sa... |\n",
      "-------------------------------------------------------------\n",
      "params: {'n_estimators': 100, 'max_depth': 6, 'min_samples_split': 61, 'min_samples_leaf': 72}\n",
      "| \u001b[0m 1       \u001b[0m | \u001b[0m-9.077   \u001b[0m | \u001b[0m 5.939   \u001b[0m | \u001b[0m 71.8    \u001b[0m | \u001b[0m 61.07   \u001b[0m |\n",
      "params: {'n_estimators': 100, 'max_depth': 6, 'min_samples_split': 65, 'min_samples_leaf': 43}\n",
      "| \u001b[95m 2       \u001b[0m | \u001b[95m-8.963   \u001b[0m | \u001b[95m 5.904   \u001b[0m | \u001b[95m 42.94   \u001b[0m | \u001b[95m 65.3    \u001b[0m |\n",
      "params: {'n_estimators': 100, 'max_depth': 5, 'min_samples_split': 96, 'min_samples_leaf': 89}\n",
      "| \u001b[0m 3       \u001b[0m | \u001b[0m-9.172   \u001b[0m | \u001b[0m 4.938   \u001b[0m | \u001b[0m 89.29   \u001b[0m | \u001b[0m 96.44   \u001b[0m |\n",
      "params: {'n_estimators': 100, 'max_depth': 4, 'min_samples_split': 54, 'min_samples_leaf': 79}\n",
      "| \u001b[0m 4       \u001b[0m | \u001b[0m-9.102   \u001b[0m | \u001b[0m 4.451   \u001b[0m | \u001b[0m 79.38   \u001b[0m | \u001b[0m 53.83   \u001b[0m |\n",
      "params: {'n_estimators': 100, 'max_depth': 6, 'min_samples_split': 9, 'min_samples_leaf': 93}\n",
      "| \u001b[0m 5       \u001b[0m | \u001b[0m-9.199   \u001b[0m | \u001b[0m 6.112   \u001b[0m | \u001b[0m 92.63   \u001b[0m | \u001b[0m 8.962   \u001b[0m |\n",
      "params: {'n_estimators': 100, 'max_depth': 8, 'min_samples_split': 61, 'min_samples_leaf': 10}\n",
      "| \u001b[95m 6       \u001b[0m | \u001b[95m-8.907   \u001b[0m | \u001b[95m 8.162   \u001b[0m | \u001b[95m 9.87    \u001b[0m | \u001b[95m 61.36   \u001b[0m |\n",
      "params: {'n_estimators': 100, 'max_depth': 1, 'min_samples_split': 100, 'min_samples_leaf': 1}\n",
      "| \u001b[0m 7       \u001b[0m | \u001b[0m-9.965   \u001b[0m | \u001b[0m 1.0     \u001b[0m | \u001b[0m 1.0     \u001b[0m | \u001b[0m 100.0   \u001b[0m |\n",
      "params: {'n_estimators': 100, 'max_depth': 10, 'min_samples_split': 36, 'min_samples_leaf': 23}\n",
      "| \u001b[95m 8       \u001b[0m | \u001b[95m-8.869   \u001b[0m | \u001b[95m 10.0    \u001b[0m | \u001b[95m 23.07   \u001b[0m | \u001b[95m 35.58   \u001b[0m |\n",
      "params: {'n_estimators': 100, 'max_depth': 1, 'min_samples_split': 2, 'min_samples_leaf': 1}\n",
      "| \u001b[0m 9       \u001b[0m | \u001b[0m-9.963   \u001b[0m | \u001b[0m 1.0     \u001b[0m | \u001b[0m 1.0     \u001b[0m | \u001b[0m 2.0     \u001b[0m |\n",
      "params: {'n_estimators': 100, 'max_depth': 10, 'min_samples_split': 32, 'min_samples_leaf': 52}\n",
      "| \u001b[0m 10      \u001b[0m | \u001b[0m-9.009   \u001b[0m | \u001b[0m 10.0    \u001b[0m | \u001b[0m 51.94   \u001b[0m | \u001b[0m 31.69   \u001b[0m |\n",
      "params: {'n_estimators': 100, 'max_depth': 9, 'min_samples_split': 61, 'min_samples_leaf': 9}\n",
      "| \u001b[95m 11      \u001b[0m | \u001b[95m-8.863   \u001b[0m | \u001b[95m 8.931   \u001b[0m | \u001b[95m 9.054   \u001b[0m | \u001b[95m 60.51   \u001b[0m |\n",
      "params: {'n_estimators': 100, 'max_depth': 10, 'min_samples_split': 43, 'min_samples_leaf': 1}\n",
      "| \u001b[95m 12      \u001b[0m | \u001b[95m-8.784   \u001b[0m | \u001b[95m 10.0    \u001b[0m | \u001b[95m 1.0     \u001b[0m | \u001b[95m 42.88   \u001b[0m |\n",
      "params: {'n_estimators': 100, 'max_depth': 10, 'min_samples_split': 100, 'min_samples_leaf': 55}\n",
      "| \u001b[0m 13      \u001b[0m | \u001b[0m-9.009   \u001b[0m | \u001b[0m 10.0    \u001b[0m | \u001b[0m 55.46   \u001b[0m | \u001b[0m 100.0   \u001b[0m |\n",
      "params: {'n_estimators': 100, 'max_depth': 3, 'min_samples_split': 2, 'min_samples_leaf': 56}\n",
      "| \u001b[0m 14      \u001b[0m | \u001b[0m-9.114   \u001b[0m | \u001b[0m 2.556   \u001b[0m | \u001b[0m 56.48   \u001b[0m | \u001b[0m 2.292   \u001b[0m |\n",
      "params: {'n_estimators': 100, 'max_depth': 10, 'min_samples_split': 50, 'min_samples_leaf': 22}\n",
      "| \u001b[0m 15      \u001b[0m | \u001b[0m-8.892   \u001b[0m | \u001b[0m 10.0    \u001b[0m | \u001b[0m 21.65   \u001b[0m | \u001b[0m 50.24   \u001b[0m |\n",
      "params: {'n_estimators': 100, 'max_depth': 10, 'min_samples_split': 67, 'min_samples_leaf': 100}\n",
      "| \u001b[0m 16      \u001b[0m | \u001b[0m-9.205   \u001b[0m | \u001b[0m 10.0    \u001b[0m | \u001b[0m 100.0   \u001b[0m | \u001b[0m 67.16   \u001b[0m |\n",
      "params: {'n_estimators': 100, 'max_depth': 1, 'min_samples_split': 52, 'min_samples_leaf': 1}\n",
      "| \u001b[0m 17      \u001b[0m | \u001b[0m-9.967   \u001b[0m | \u001b[0m 1.0     \u001b[0m | \u001b[0m 1.0     \u001b[0m | \u001b[0m 51.88   \u001b[0m |\n",
      "params: {'n_estimators': 100, 'max_depth': 10, 'min_samples_split': 38, 'min_samples_leaf': 6}\n",
      "| \u001b[0m 18      \u001b[0m | \u001b[0m-8.858   \u001b[0m | \u001b[0m 10.0    \u001b[0m | \u001b[0m 5.975   \u001b[0m | \u001b[0m 38.21   \u001b[0m |\n",
      "params: {'n_estimators': 100, 'max_depth': 10, 'min_samples_split': 43, 'min_samples_leaf': 15}\n",
      "| \u001b[0m 19      \u001b[0m | \u001b[0m-8.904   \u001b[0m | \u001b[0m 10.0    \u001b[0m | \u001b[0m 15.44   \u001b[0m | \u001b[0m 42.55   \u001b[0m |\n",
      "params: {'n_estimators': 100, 'max_depth': 3, 'min_samples_split': 43, 'min_samples_leaf': 27}\n",
      "| \u001b[0m 20      \u001b[0m | \u001b[0m-9.026   \u001b[0m | \u001b[0m 2.725   \u001b[0m | \u001b[0m 26.96   \u001b[0m | \u001b[0m 42.77   \u001b[0m |\n",
      "params: {'n_estimators': 100, 'max_depth': 3, 'min_samples_split': 30, 'min_samples_leaf': 15}\n",
      "| \u001b[0m 21      \u001b[0m | \u001b[0m-9.03    \u001b[0m | \u001b[0m 3.37    \u001b[0m | \u001b[0m 15.14   \u001b[0m | \u001b[0m 30.45   \u001b[0m |\n",
      "params: {'n_estimators': 100, 'max_depth': 10, 'min_samples_split': 61, 'min_samples_leaf': 29}\n",
      "| \u001b[0m 22      \u001b[0m | \u001b[0m-8.869   \u001b[0m | \u001b[0m 10.0    \u001b[0m | \u001b[0m 29.43   \u001b[0m | \u001b[0m 60.94   \u001b[0m |\n",
      "params: {'n_estimators': 100, 'max_depth': 10, 'min_samples_split': 52, 'min_samples_leaf': 38}\n",
      "| \u001b[0m 23      \u001b[0m | \u001b[0m-8.924   \u001b[0m | \u001b[0m 10.0    \u001b[0m | \u001b[0m 37.81   \u001b[0m | \u001b[0m 51.66   \u001b[0m |\n",
      "params: {'n_estimators': 100, 'max_depth': 10, 'min_samples_split': 29, 'min_samples_leaf': 35}\n",
      "| \u001b[0m 24      \u001b[0m | \u001b[0m-8.973   \u001b[0m | \u001b[0m 10.0    \u001b[0m | \u001b[0m 35.17   \u001b[0m | \u001b[0m 29.1    \u001b[0m |\n",
      "params: {'n_estimators': 100, 'max_depth': 10, 'min_samples_split': 75, 'min_samples_leaf': 31}\n",
      "| \u001b[0m 25      \u001b[0m | \u001b[0m-8.894   \u001b[0m | \u001b[0m 10.0    \u001b[0m | \u001b[0m 30.6    \u001b[0m | \u001b[0m 75.12   \u001b[0m |\n",
      "params: {'n_estimators': 100, 'max_depth': 10, 'min_samples_split': 83, 'min_samples_leaf': 44}\n",
      "| \u001b[0m 26      \u001b[0m | \u001b[0m-8.983   \u001b[0m | \u001b[0m 10.0    \u001b[0m | \u001b[0m 43.63   \u001b[0m | \u001b[0m 82.86   \u001b[0m |\n",
      "params: {'n_estimators': 100, 'max_depth': 1, 'min_samples_split': 69, 'min_samples_leaf': 27}\n",
      "| \u001b[0m 27      \u001b[0m | \u001b[0m-9.98    \u001b[0m | \u001b[0m 1.029   \u001b[0m | \u001b[0m 27.17   \u001b[0m | \u001b[0m 69.37   \u001b[0m |\n",
      "params: {'n_estimators': 100, 'max_depth': 8, 'min_samples_split': 52, 'min_samples_leaf': 30}\n",
      "| \u001b[0m 28      \u001b[0m | \u001b[0m-8.911   \u001b[0m | \u001b[0m 8.338   \u001b[0m | \u001b[0m 30.15   \u001b[0m | \u001b[0m 52.0    \u001b[0m |\n",
      "params: {'n_estimators': 100, 'max_depth': 10, 'min_samples_split': 85, 'min_samples_leaf': 32}\n",
      "| \u001b[0m 29      \u001b[0m | \u001b[0m-8.919   \u001b[0m | \u001b[0m 10.0    \u001b[0m | \u001b[0m 31.89   \u001b[0m | \u001b[0m 84.83   \u001b[0m |\n",
      "params: {'n_estimators': 100, 'max_depth': 10, 'min_samples_split': 39, 'min_samples_leaf': 41}\n",
      "| \u001b[0m 30      \u001b[0m | \u001b[0m-8.966   \u001b[0m | \u001b[0m 9.939   \u001b[0m | \u001b[0m 40.88   \u001b[0m | \u001b[0m 39.46   \u001b[0m |\n",
      "params: {'n_estimators': 100, 'max_depth': 10, 'min_samples_split': 55, 'min_samples_leaf': 51}\n",
      "| \u001b[0m 31      \u001b[0m | \u001b[0m-8.984   \u001b[0m | \u001b[0m 10.0    \u001b[0m | \u001b[0m 50.8    \u001b[0m | \u001b[0m 55.0    \u001b[0m |\n",
      "params: {'n_estimators': 100, 'max_depth': 9, 'min_samples_split': 30, 'min_samples_leaf': 1}\n",
      "| \u001b[0m 32      \u001b[0m | \u001b[0m-8.853   \u001b[0m | \u001b[0m 8.938   \u001b[0m | \u001b[0m 1.079   \u001b[0m | \u001b[0m 30.48   \u001b[0m |\n",
      "params: {'n_estimators': 100, 'max_depth': 10, 'min_samples_split': 71, 'min_samples_leaf': 55}\n",
      "| \u001b[0m 33      \u001b[0m | \u001b[0m-9.032   \u001b[0m | \u001b[0m 10.0    \u001b[0m | \u001b[0m 54.77   \u001b[0m | \u001b[0m 70.98   \u001b[0m |\n",
      "params: {'n_estimators': 100, 'max_depth': 1, 'min_samples_split': 44, 'min_samples_leaf': 50}\n",
      "| \u001b[0m 34      \u001b[0m | \u001b[0m-9.972   \u001b[0m | \u001b[0m 1.0     \u001b[0m | \u001b[0m 50.34   \u001b[0m | \u001b[0m 44.3    \u001b[0m |\n",
      "params: {'n_estimators': 100, 'max_depth': 1, 'min_samples_split': 34, 'min_samples_leaf': 2}\n",
      "| \u001b[0m 35      \u001b[0m | \u001b[0m-9.945   \u001b[0m | \u001b[0m 1.063   \u001b[0m | \u001b[0m 1.727   \u001b[0m | \u001b[0m 33.54   \u001b[0m |\n",
      "params: {'n_estimators': 100, 'max_depth': 9, 'min_samples_split': 60, 'min_samples_leaf': 37}\n",
      "| \u001b[0m 36      \u001b[0m | \u001b[0m-8.958   \u001b[0m | \u001b[0m 9.177   \u001b[0m | \u001b[0m 36.65   \u001b[0m | \u001b[0m 59.75   \u001b[0m |\n",
      "params: {'n_estimators': 100, 'max_depth': 10, 'min_samples_split': 39, 'min_samples_leaf': 31}\n",
      "| \u001b[0m 37      \u001b[0m | \u001b[0m-8.917   \u001b[0m | \u001b[0m 10.0    \u001b[0m | \u001b[0m 31.41   \u001b[0m | \u001b[0m 39.33   \u001b[0m |\n",
      "params: {'n_estimators': 100, 'max_depth': 10, 'min_samples_split': 24, 'min_samples_leaf': 5}\n",
      "| \u001b[0m 38      \u001b[0m | \u001b[0m-8.905   \u001b[0m | \u001b[0m 9.871   \u001b[0m | \u001b[0m 4.562   \u001b[0m | \u001b[0m 23.6    \u001b[0m |\n",
      "params: {'n_estimators': 100, 'max_depth': 2, 'min_samples_split': 29, 'min_samples_leaf': 28}\n",
      "| \u001b[0m 39      \u001b[0m | \u001b[0m-9.365   \u001b[0m | \u001b[0m 1.975   \u001b[0m | \u001b[0m 27.71   \u001b[0m | \u001b[0m 28.92   \u001b[0m |\n",
      "params: {'n_estimators': 100, 'max_depth': 10, 'min_samples_split': 55, 'min_samples_leaf': 15}\n",
      "| \u001b[0m 40      \u001b[0m | \u001b[0m-8.877   \u001b[0m | \u001b[0m 9.522   \u001b[0m | \u001b[0m 14.83   \u001b[0m | \u001b[0m 54.96   \u001b[0m |\n",
      "params: {'n_estimators': 100, 'max_depth': 10, 'min_samples_split': 95, 'min_samples_leaf': 40}\n",
      "| \u001b[0m 41      \u001b[0m | \u001b[0m-8.982   \u001b[0m | \u001b[0m 10.0    \u001b[0m | \u001b[0m 40.17   \u001b[0m | \u001b[0m 95.46   \u001b[0m |\n"
     ]
    },
    {
     "name": "stdout",
     "output_type": "stream",
     "text": [
      "params: {'n_estimators': 100, 'max_depth': 10, 'min_samples_split': 74, 'min_samples_leaf': 41}\n",
      "| \u001b[0m 42      \u001b[0m | \u001b[0m-8.959   \u001b[0m | \u001b[0m 9.924   \u001b[0m | \u001b[0m 40.68   \u001b[0m | \u001b[0m 73.62   \u001b[0m |\n",
      "params: {'n_estimators': 100, 'max_depth': 10, 'min_samples_split': 20, 'min_samples_leaf': 46}\n",
      "| \u001b[0m 43      \u001b[0m | \u001b[0m-9.023   \u001b[0m | \u001b[0m 10.0    \u001b[0m | \u001b[0m 46.11   \u001b[0m | \u001b[0m 20.01   \u001b[0m |\n",
      "params: {'n_estimators': 100, 'max_depth': 1, 'min_samples_split': 91, 'min_samples_leaf': 50}\n",
      "| \u001b[0m 44      \u001b[0m | \u001b[0m-9.967   \u001b[0m | \u001b[0m 1.0     \u001b[0m | \u001b[0m 50.1    \u001b[0m | \u001b[0m 91.09   \u001b[0m |\n",
      "params: {'n_estimators': 100, 'max_depth': 10, 'min_samples_split': 98, 'min_samples_leaf': 29}\n",
      "| \u001b[0m 45      \u001b[0m | \u001b[0m-8.916   \u001b[0m | \u001b[0m 9.976   \u001b[0m | \u001b[0m 28.72   \u001b[0m | \u001b[0m 98.46   \u001b[0m |\n",
      "params: {'n_estimators': 100, 'max_depth': 10, 'min_samples_split': 87, 'min_samples_leaf': 20}\n",
      "| \u001b[0m 46      \u001b[0m | \u001b[0m-8.887   \u001b[0m | \u001b[0m 9.546   \u001b[0m | \u001b[0m 20.11   \u001b[0m | \u001b[0m 86.72   \u001b[0m |\n",
      "params: {'n_estimators': 100, 'max_depth': 2, 'min_samples_split': 92, 'min_samples_leaf': 26}\n",
      "| \u001b[0m 47      \u001b[0m | \u001b[0m-9.37    \u001b[0m | \u001b[0m 1.537   \u001b[0m | \u001b[0m 25.59   \u001b[0m | \u001b[0m 92.25   \u001b[0m |\n",
      "params: {'n_estimators': 100, 'max_depth': 10, 'min_samples_split': 80, 'min_samples_leaf': 12}\n",
      "| \u001b[0m 48      \u001b[0m | \u001b[0m-8.863   \u001b[0m | \u001b[0m 10.0    \u001b[0m | \u001b[0m 12.25   \u001b[0m | \u001b[0m 80.12   \u001b[0m |\n",
      "params: {'n_estimators': 100, 'max_depth': 10, 'min_samples_split': 72, 'min_samples_leaf': 4}\n",
      "| \u001b[0m 49      \u001b[0m | \u001b[0m-8.865   \u001b[0m | \u001b[0m 10.0    \u001b[0m | \u001b[0m 4.157   \u001b[0m | \u001b[0m 72.02   \u001b[0m |\n",
      "params: {'n_estimators': 100, 'max_depth': 1, 'min_samples_split': 78, 'min_samples_leaf': 3}\n",
      "| \u001b[0m 50      \u001b[0m | \u001b[0m-9.955   \u001b[0m | \u001b[0m 1.415   \u001b[0m | \u001b[0m 2.689   \u001b[0m | \u001b[0m 78.39   \u001b[0m |\n",
      "params: {'n_estimators': 100, 'max_depth': 10, 'min_samples_split': 71, 'min_samples_leaf': 13}\n",
      "| \u001b[0m 51      \u001b[0m | \u001b[0m-8.842   \u001b[0m | \u001b[0m 10.0    \u001b[0m | \u001b[0m 13.24   \u001b[0m | \u001b[0m 71.32   \u001b[0m |\n",
      "params: {'n_estimators': 100, 'max_depth': 10, 'min_samples_split': 21, 'min_samples_leaf': 65}\n",
      "| \u001b[0m 52      \u001b[0m | \u001b[0m-9.061   \u001b[0m | \u001b[0m 10.0    \u001b[0m | \u001b[0m 65.33   \u001b[0m | \u001b[0m 20.59   \u001b[0m |\n",
      "params: {'n_estimators': 100, 'max_depth': 10, 'min_samples_split': 100, 'min_samples_leaf': 70}\n",
      "| \u001b[0m 53      \u001b[0m | \u001b[0m-9.071   \u001b[0m | \u001b[0m 10.0    \u001b[0m | \u001b[0m 70.34   \u001b[0m | \u001b[0m 100.0   \u001b[0m |\n",
      "params: {'n_estimators': 100, 'max_depth': 10, 'min_samples_split': 3, 'min_samples_leaf': 37}\n",
      "| \u001b[0m 54      \u001b[0m | \u001b[0m-8.964   \u001b[0m | \u001b[0m 10.0    \u001b[0m | \u001b[0m 37.19   \u001b[0m | \u001b[0m 2.529   \u001b[0m |\n",
      "params: {'n_estimators': 100, 'max_depth': 10, 'min_samples_split': 11, 'min_samples_leaf': 28}\n",
      "| \u001b[0m 55      \u001b[0m | \u001b[0m-8.897   \u001b[0m | \u001b[0m 10.0    \u001b[0m | \u001b[0m 27.95   \u001b[0m | \u001b[0m 10.93   \u001b[0m |\n",
      "params: {'n_estimators': 100, 'max_depth': 1, 'min_samples_split': 4, 'min_samples_leaf': 29}\n",
      "| \u001b[0m 56      \u001b[0m | \u001b[0m-9.986   \u001b[0m | \u001b[0m 1.0     \u001b[0m | \u001b[0m 28.86   \u001b[0m | \u001b[0m 3.662   \u001b[0m |\n",
      "params: {'n_estimators': 100, 'max_depth': 10, 'min_samples_split': 79, 'min_samples_leaf': 20}\n",
      "| \u001b[0m 57      \u001b[0m | \u001b[0m-8.893   \u001b[0m | \u001b[0m 9.532   \u001b[0m | \u001b[0m 19.72   \u001b[0m | \u001b[0m 79.2    \u001b[0m |\n",
      "params: {'n_estimators': 100, 'max_depth': 10, 'min_samples_split': 19, 'min_samples_leaf': 19}\n",
      "| \u001b[0m 58      \u001b[0m | \u001b[0m-8.906   \u001b[0m | \u001b[0m 10.0    \u001b[0m | \u001b[0m 18.95   \u001b[0m | \u001b[0m 18.8    \u001b[0m |\n",
      "params: {'n_estimators': 100, 'max_depth': 10, 'min_samples_split': 32, 'min_samples_leaf': 81}\n",
      "| \u001b[0m 59      \u001b[0m | \u001b[0m-9.124   \u001b[0m | \u001b[0m 10.0    \u001b[0m | \u001b[0m 80.69   \u001b[0m | \u001b[0m 32.4    \u001b[0m |\n",
      "params: {'n_estimators': 100, 'max_depth': 10, 'min_samples_split': 17, 'min_samples_leaf': 35}\n",
      "| \u001b[0m 60      \u001b[0m | \u001b[0m-8.94    \u001b[0m | \u001b[0m 10.0    \u001b[0m | \u001b[0m 34.88   \u001b[0m | \u001b[0m 16.75   \u001b[0m |\n",
      "params: {'n_estimators': 100, 'max_depth': 1, 'min_samples_split': 39, 'min_samples_leaf': 100}\n",
      "| \u001b[0m 61      \u001b[0m | \u001b[0m-9.969   \u001b[0m | \u001b[0m 1.0     \u001b[0m | \u001b[0m 100.0   \u001b[0m | \u001b[0m 39.4    \u001b[0m |\n",
      "params: {'n_estimators': 100, 'max_depth': 10, 'min_samples_split': 78, 'min_samples_leaf': 79}\n",
      "| \u001b[0m 62      \u001b[0m | \u001b[0m-9.107   \u001b[0m | \u001b[0m 10.0    \u001b[0m | \u001b[0m 79.21   \u001b[0m | \u001b[0m 78.13   \u001b[0m |\n",
      "params: {'n_estimators': 100, 'max_depth': 10, 'min_samples_split': 2, 'min_samples_leaf': 74}\n",
      "| \u001b[0m 63      \u001b[0m | \u001b[0m-9.086   \u001b[0m | \u001b[0m 10.0    \u001b[0m | \u001b[0m 73.93   \u001b[0m | \u001b[0m 2.0     \u001b[0m |\n",
      "params: {'n_estimators': 100, 'max_depth': 2, 'min_samples_split': 84, 'min_samples_leaf': 99}\n",
      "| \u001b[0m 64      \u001b[0m | \u001b[0m-9.378   \u001b[0m | \u001b[0m 1.968   \u001b[0m | \u001b[0m 99.42   \u001b[0m | \u001b[0m 83.68   \u001b[0m |\n",
      "params: {'n_estimators': 100, 'max_depth': 1, 'min_samples_split': 16, 'min_samples_leaf': 77}\n",
      "| \u001b[0m 65      \u001b[0m | \u001b[0m-9.972   \u001b[0m | \u001b[0m 1.0     \u001b[0m | \u001b[0m 76.65   \u001b[0m | \u001b[0m 16.39   \u001b[0m |\n",
      "params: {'n_estimators': 100, 'max_depth': 10, 'min_samples_split': 6, 'min_samples_leaf': 48}\n",
      "| \u001b[0m 66      \u001b[0m | \u001b[0m-9.036   \u001b[0m | \u001b[0m 10.0    \u001b[0m | \u001b[0m 47.78   \u001b[0m | \u001b[0m 6.372   \u001b[0m |\n",
      "params: {'n_estimators': 100, 'max_depth': 9, 'min_samples_split': 43, 'min_samples_leaf': 71}\n",
      "| \u001b[0m 67      \u001b[0m | \u001b[0m-9.079   \u001b[0m | \u001b[0m 8.843   \u001b[0m | \u001b[0m 70.77   \u001b[0m | \u001b[0m 43.23   \u001b[0m |\n",
      "params: {'n_estimators': 100, 'max_depth': 10, 'min_samples_split': 2, 'min_samples_leaf': 100}\n",
      "| \u001b[0m 68      \u001b[0m | \u001b[0m-9.206   \u001b[0m | \u001b[0m 10.0    \u001b[0m | \u001b[0m 100.0   \u001b[0m | \u001b[0m 2.0     \u001b[0m |\n",
      "params: {'n_estimators': 100, 'max_depth': 1, 'min_samples_split': 88, 'min_samples_leaf': 75}\n",
      "| \u001b[0m 69      \u001b[0m | \u001b[0m-9.973   \u001b[0m | \u001b[0m 1.0     \u001b[0m | \u001b[0m 74.99   \u001b[0m | \u001b[0m 88.41   \u001b[0m |\n",
      "params: {'n_estimators': 100, 'max_depth': 10, 'min_samples_split': 66, 'min_samples_leaf': 84}\n",
      "| \u001b[0m 70      \u001b[0m | \u001b[0m-9.14    \u001b[0m | \u001b[0m 10.0    \u001b[0m | \u001b[0m 84.4    \u001b[0m | \u001b[0m 65.96   \u001b[0m |\n",
      "params: {'n_estimators': 100, 'max_depth': 10, 'min_samples_split': 29, 'min_samples_leaf': 13}\n",
      "| \u001b[0m 71      \u001b[0m | \u001b[0m-8.929   \u001b[0m | \u001b[0m 10.0    \u001b[0m | \u001b[0m 13.48   \u001b[0m | \u001b[0m 28.85   \u001b[0m |\n",
      "params: {'n_estimators': 100, 'max_depth': 7, 'min_samples_split': 99, 'min_samples_leaf': 100}\n",
      "| \u001b[0m 72      \u001b[0m | \u001b[0m-9.213   \u001b[0m | \u001b[0m 7.009   \u001b[0m | \u001b[0m 99.96   \u001b[0m | \u001b[0m 99.13   \u001b[0m |\n",
      "params: {'n_estimators': 100, 'max_depth': 1, 'min_samples_split': 63, 'min_samples_leaf': 58}\n",
      "| \u001b[0m 73      \u001b[0m | \u001b[0m-9.972   \u001b[0m | \u001b[0m 1.329   \u001b[0m | \u001b[0m 58.15   \u001b[0m | \u001b[0m 63.08   \u001b[0m |\n",
      "params: {'n_estimators': 100, 'max_depth': 1, 'min_samples_split': 20, 'min_samples_leaf': 55}\n",
      "| \u001b[0m 74      \u001b[0m | \u001b[0m-9.973   \u001b[0m | \u001b[0m 1.0     \u001b[0m | \u001b[0m 54.78   \u001b[0m | \u001b[0m 19.9    \u001b[0m |\n",
      "params: {'n_estimators': 100, 'max_depth': 10, 'min_samples_split': 33, 'min_samples_leaf': 64}\n",
      "| \u001b[0m 75      \u001b[0m | \u001b[0m-9.07    \u001b[0m | \u001b[0m 9.899   \u001b[0m | \u001b[0m 63.97   \u001b[0m | \u001b[0m 32.67   \u001b[0m |\n",
      "params: {'n_estimators': 100, 'max_depth': 10, 'min_samples_split': 100, 'min_samples_leaf': 18}\n",
      "| \u001b[0m 76      \u001b[0m | \u001b[0m-8.884   \u001b[0m | \u001b[0m 10.0    \u001b[0m | \u001b[0m 17.92   \u001b[0m | \u001b[0m 100.0   \u001b[0m |\n",
      "params: {'n_estimators': 100, 'max_depth': 10, 'min_samples_split': 17, 'min_samples_leaf': 100}\n",
      "| \u001b[0m 77      \u001b[0m | \u001b[0m-9.211   \u001b[0m | \u001b[0m 9.616   \u001b[0m | \u001b[0m 99.84   \u001b[0m | \u001b[0m 17.06   \u001b[0m |\n",
      "params: {'n_estimators': 100, 'max_depth': 10, 'min_samples_split': 63, 'min_samples_leaf': 47}\n",
      "| \u001b[0m 78      \u001b[0m | \u001b[0m-9.005   \u001b[0m | \u001b[0m 10.0    \u001b[0m | \u001b[0m 46.98   \u001b[0m | \u001b[0m 63.09   \u001b[0m |\n",
      "params: {'n_estimators': 100, 'max_depth': 10, 'min_samples_split': 3, 'min_samples_leaf': 62}\n",
      "| \u001b[0m 79      \u001b[0m | \u001b[0m-9.027   \u001b[0m | \u001b[0m 9.67    \u001b[0m | \u001b[0m 61.8    \u001b[0m | \u001b[0m 3.379   \u001b[0m |\n",
      "params: {'n_estimators': 100, 'max_depth': 10, 'min_samples_split': 72, 'min_samples_leaf': 70}\n",
      "| \u001b[0m 80      \u001b[0m | \u001b[0m-9.04    \u001b[0m | \u001b[0m 10.0    \u001b[0m | \u001b[0m 69.65   \u001b[0m | \u001b[0m 71.88   \u001b[0m |\n",
      "params: {'n_estimators': 100, 'max_depth': 10, 'min_samples_split': 48, 'min_samples_leaf': 8}\n",
      "| \u001b[0m 81      \u001b[0m | \u001b[0m-8.868   \u001b[0m | \u001b[0m 10.0    \u001b[0m | \u001b[0m 7.759   \u001b[0m | \u001b[0m 48.04   \u001b[0m |\n",
      "params: {'n_estimators': 100, 'max_depth': 1, 'min_samples_split': 67, 'min_samples_leaf': 79}\n",
      "| \u001b[0m 82      \u001b[0m | \u001b[0m-9.983   \u001b[0m | \u001b[0m 1.096   \u001b[0m | \u001b[0m 79.37   \u001b[0m | \u001b[0m 66.75   \u001b[0m |\n",
      "params: {'n_estimators': 100, 'max_depth': 10, 'min_samples_split': 53, 'min_samples_leaf': 70}\n"
     ]
    },
    {
     "name": "stdout",
     "output_type": "stream",
     "text": [
      "| \u001b[0m 83      \u001b[0m | \u001b[0m-9.071   \u001b[0m | \u001b[0m 9.563   \u001b[0m | \u001b[0m 70.14   \u001b[0m | \u001b[0m 53.28   \u001b[0m |\n",
      "params: {'n_estimators': 100, 'max_depth': 10, 'min_samples_split': 64, 'min_samples_leaf': 1}\n",
      "| \u001b[0m 84      \u001b[0m | \u001b[0m-8.849   \u001b[0m | \u001b[0m 10.0    \u001b[0m | \u001b[0m 1.0     \u001b[0m | \u001b[0m 64.31   \u001b[0m |\n",
      "params: {'n_estimators': 100, 'max_depth': 10, 'min_samples_split': 46, 'min_samples_leaf': 81}\n",
      "| \u001b[0m 85      \u001b[0m | \u001b[0m-9.124   \u001b[0m | \u001b[0m 9.926   \u001b[0m | \u001b[0m 81.11   \u001b[0m | \u001b[0m 45.87   \u001b[0m |\n",
      "params: {'n_estimators': 100, 'max_depth': 10, 'min_samples_split': 21, 'min_samples_leaf': 27}\n",
      "| \u001b[0m 86      \u001b[0m | \u001b[0m-8.923   \u001b[0m | \u001b[0m 10.0    \u001b[0m | \u001b[0m 26.59   \u001b[0m | \u001b[0m 20.79   \u001b[0m |\n",
      "params: {'n_estimators': 100, 'max_depth': 10, 'min_samples_split': 81, 'min_samples_leaf': 60}\n",
      "| \u001b[0m 87      \u001b[0m | \u001b[0m-9.047   \u001b[0m | \u001b[0m 10.0    \u001b[0m | \u001b[0m 59.91   \u001b[0m | \u001b[0m 80.96   \u001b[0m |\n",
      "params: {'n_estimators': 100, 'max_depth': 10, 'min_samples_split': 91, 'min_samples_leaf': 13}\n",
      "| \u001b[0m 88      \u001b[0m | \u001b[0m-8.866   \u001b[0m | \u001b[0m 10.0    \u001b[0m | \u001b[0m 12.9    \u001b[0m | \u001b[0m 91.5    \u001b[0m |\n",
      "params: {'n_estimators': 100, 'max_depth': 10, 'min_samples_split': 63, 'min_samples_leaf': 19}\n",
      "| \u001b[0m 89      \u001b[0m | \u001b[0m-8.816   \u001b[0m | \u001b[0m 9.816   \u001b[0m | \u001b[0m 18.83   \u001b[0m | \u001b[0m 63.16   \u001b[0m |\n",
      "params: {'n_estimators': 100, 'max_depth': 10, 'min_samples_split': 83, 'min_samples_leaf': 91}\n",
      "| \u001b[0m 90      \u001b[0m | \u001b[0m-9.182   \u001b[0m | \u001b[0m 10.0    \u001b[0m | \u001b[0m 90.54   \u001b[0m | \u001b[0m 82.88   \u001b[0m |\n",
      "params: {'n_estimators': 100, 'max_depth': 10, 'min_samples_split': 66, 'min_samples_leaf': 8}\n",
      "| \u001b[0m 91      \u001b[0m | \u001b[0m-8.855   \u001b[0m | \u001b[0m 10.0    \u001b[0m | \u001b[0m 7.523   \u001b[0m | \u001b[0m 66.5    \u001b[0m |\n",
      "params: {'n_estimators': 100, 'max_depth': 1, 'min_samples_split': 2, 'min_samples_leaf': 100}\n",
      "| \u001b[0m 92      \u001b[0m | \u001b[0m-9.978   \u001b[0m | \u001b[0m 1.091   \u001b[0m | \u001b[0m 99.9    \u001b[0m | \u001b[0m 2.404   \u001b[0m |\n",
      "params: {'n_estimators': 100, 'max_depth': 10, 'min_samples_split': 2, 'min_samples_leaf': 86}\n",
      "| \u001b[0m 93      \u001b[0m | \u001b[0m-9.144   \u001b[0m | \u001b[0m 10.0    \u001b[0m | \u001b[0m 86.36   \u001b[0m | \u001b[0m 2.0     \u001b[0m |\n",
      "params: {'n_estimators': 100, 'max_depth': 10, 'min_samples_split': 100, 'min_samples_leaf': 82}\n",
      "| \u001b[0m 94      \u001b[0m | \u001b[0m-9.126   \u001b[0m | \u001b[0m 10.0    \u001b[0m | \u001b[0m 82.42   \u001b[0m | \u001b[0m 100.0   \u001b[0m |\n",
      "params: {'n_estimators': 100, 'max_depth': 10, 'min_samples_split': 59, 'min_samples_leaf': 77}\n",
      "| \u001b[0m 95      \u001b[0m | \u001b[0m-9.115   \u001b[0m | \u001b[0m 10.0    \u001b[0m | \u001b[0m 76.94   \u001b[0m | \u001b[0m 58.81   \u001b[0m |\n",
      "params: {'n_estimators': 100, 'max_depth': 1, 'min_samples_split': 42, 'min_samples_leaf': 77}\n",
      "| \u001b[0m 96      \u001b[0m | \u001b[0m-9.969   \u001b[0m | \u001b[0m 1.073   \u001b[0m | \u001b[0m 76.87   \u001b[0m | \u001b[0m 41.54   \u001b[0m |\n",
      "params: {'n_estimators': 100, 'max_depth': 9, 'min_samples_split': 55, 'min_samples_leaf': 92}\n",
      "| \u001b[0m 97      \u001b[0m | \u001b[0m-9.188   \u001b[0m | \u001b[0m 9.487   \u001b[0m | \u001b[0m 92.18   \u001b[0m | \u001b[0m 55.44   \u001b[0m |\n",
      "params: {'n_estimators': 100, 'max_depth': 10, 'min_samples_split': 7, 'min_samples_leaf': 15}\n",
      "| \u001b[0m 98      \u001b[0m | \u001b[0m-8.93    \u001b[0m | \u001b[0m 9.918   \u001b[0m | \u001b[0m 15.28   \u001b[0m | \u001b[0m 7.33    \u001b[0m |\n",
      "params: {'n_estimators': 100, 'max_depth': 10, 'min_samples_split': 14, 'min_samples_leaf': 10}\n",
      "| \u001b[0m 99      \u001b[0m | \u001b[0m-8.881   \u001b[0m | \u001b[0m 10.0    \u001b[0m | \u001b[0m 9.678   \u001b[0m | \u001b[0m 14.49   \u001b[0m |\n",
      "params: {'n_estimators': 100, 'max_depth': 1, 'min_samples_split': 17, 'min_samples_leaf': 14}\n",
      "| \u001b[0m 100     \u001b[0m | \u001b[0m-9.971   \u001b[0m | \u001b[0m 1.0     \u001b[0m | \u001b[0m 13.83   \u001b[0m | \u001b[0m 17.48   \u001b[0m |\n",
      "params: {'n_estimators': 100, 'max_depth': 10, 'min_samples_split': 29, 'min_samples_leaf': 44}\n",
      "| \u001b[0m 101     \u001b[0m | \u001b[0m-9.004   \u001b[0m | \u001b[0m 10.0    \u001b[0m | \u001b[0m 43.53   \u001b[0m | \u001b[0m 29.38   \u001b[0m |\n",
      "params: {'n_estimators': 100, 'max_depth': 10, 'min_samples_split': 15, 'min_samples_leaf': 1}\n",
      "| \u001b[0m 102     \u001b[0m | \u001b[0m-8.932   \u001b[0m | \u001b[0m 10.0    \u001b[0m | \u001b[0m 1.0     \u001b[0m | \u001b[0m 15.5    \u001b[0m |\n",
      "params: {'n_estimators': 100, 'max_depth': 10, 'min_samples_split': 45, 'min_samples_leaf': 61}\n",
      "| \u001b[0m 103     \u001b[0m | \u001b[0m-9.033   \u001b[0m | \u001b[0m 9.927   \u001b[0m | \u001b[0m 60.55   \u001b[0m | \u001b[0m 44.69   \u001b[0m |\n",
      "params: {'n_estimators': 100, 'max_depth': 10, 'min_samples_split': 21, 'min_samples_leaf': 89}\n",
      "| \u001b[0m 104     \u001b[0m | \u001b[0m-9.167   \u001b[0m | \u001b[0m 10.0    \u001b[0m | \u001b[0m 88.7    \u001b[0m | \u001b[0m 21.32   \u001b[0m |\n",
      "params: {'n_estimators': 100, 'max_depth': 10, 'min_samples_split': 58, 'min_samples_leaf': 23}\n",
      "| \u001b[0m 105     \u001b[0m | \u001b[0m-8.891   \u001b[0m | \u001b[0m 9.801   \u001b[0m | \u001b[0m 23.4    \u001b[0m | \u001b[0m 57.96   \u001b[0m |\n",
      "=============================================================\n"
     ]
    }
   ],
   "source": [
    "BO_rf.maximize(init_points=5, n_iter=100) \n",
    "# 우리의 object function 을 maximize! 하려 한다. 그래서 위에서 return 을 negative mse 를 쓴 것이다.\n",
    "# 최적 파라미터 도출 작업을 n_iter 만큼 반복하여 수행합니다!\n",
    "# init_points = 첫 시작지점의 score 를 5개 돌려서 알아보는것."
   ]
  },
  {
   "cell_type": "code",
   "execution_count": 12,
   "metadata": {},
   "outputs": [],
   "source": [
    "# BayesianOptimization 객체의 res 속성은 하이퍼 파라미터 튜닝을 하는 과정에서의 metric 값과 그때의 하이퍼 파라미터 값을 가지고 있음. "
   ]
  },
  {
   "cell_type": "code",
   "execution_count": 13,
   "metadata": {},
   "outputs": [],
   "source": [
    "#BO_rf.res "
   ]
  },
  {
   "cell_type": "markdown",
   "metadata": {},
   "source": [
    "BayesianOptimization 객체의 max 속성은 최고 높은 성능 Metric를 가질때의 하이퍼 파라미터 값을 가지고 있음."
   ]
  },
  {
   "cell_type": "code",
   "execution_count": 14,
   "metadata": {
    "scrolled": false
   },
   "outputs": [
    {
     "data": {
      "text/plain": [
       "{'target': -8.784110903964962,\n",
       " 'params': {'max_depth': 10.0,\n",
       "  'min_samples_leaf': 1.0,\n",
       "  'min_samples_split': 42.88383890095772}}"
      ]
     },
     "execution_count": 14,
     "metadata": {},
     "output_type": "execute_result"
    }
   ],
   "source": [
    "BO_rf.max\n",
    "# 이떄에 우리는 아래 값들을 반올림 해서(int(round)) 사용했음을 기억하세요!\n",
    "# 즉 max depth = 5 , min_sample_leaf = 3 , min_samples_split = 6 이 됩니다. # 이는 실행마다 달라지니까 주의하세용"
   ]
  },
  {
   "cell_type": "markdown",
   "metadata": {},
   "source": [
    "## 최종 평가!"
   ]
  },
  {
   "cell_type": "code",
   "execution_count": 15,
   "metadata": {
    "scrolled": true
   },
   "outputs": [
    {
     "name": "stdout",
     "output_type": "stream",
     "text": [
      "mse score : 9.0501\n"
     ]
    }
   ],
   "source": [
    "from sklearn.metrics import mean_squared_error\n",
    "\n",
    "max_params = BO_rf.max['params']\n",
    "max_params['min_samples_leaf'] = int(round(max_params['min_samples_leaf']))\n",
    "max_params['min_samples_split'] = int(round(max_params['min_samples_split']))\n",
    "model_rf = RandomForestRegressor(n_estimators=100, **max_params)\n",
    "model_rf.fit(X_train, y_train)\n",
    "y_pred = model_rf.predict(X_test)\n",
    "score = mean_squared_error(y_pred,y_test)\n",
    "\n",
    "print('mse score : {0:.4f}'.format(score))"
   ]
  },
  {
   "cell_type": "markdown",
   "metadata": {},
   "source": [
    "## 비교 모델"
   ]
  },
  {
   "cell_type": "markdown",
   "metadata": {},
   "source": [
    "확실히... 그냥 search 보다는 우수한 성능을 보여주고있네요."
   ]
  },
  {
   "cell_type": "code",
   "execution_count": 16,
   "metadata": {},
   "outputs": [
    {
     "data": {
      "text/plain": [
       "RandomForestRegressor()"
      ]
     },
     "execution_count": 16,
     "metadata": {},
     "output_type": "execute_result"
    }
   ],
   "source": [
    "from sklearn.ensemble import RandomForestRegressor\n",
    "model =  RandomForestRegressor(n_estimators=100)\n",
    "# scoring 은 default 이므로 model 의 자체 scoring 으로 들어간다. \n",
    "# n_estimator = 500 클수록 좋으나 내 컴퓨터가 버티질 못할듯.\n",
    "model.fit(X_train,y_train)"
   ]
  },
  {
   "cell_type": "code",
   "execution_count": 17,
   "metadata": {
    "scrolled": true
   },
   "outputs": [
    {
     "name": "stdout",
     "output_type": "stream",
     "text": [
      "MSE : 9.270738756666542\n",
      "R_squared : 0.13994842989823375\n"
     ]
    }
   ],
   "source": [
    "y_pred = model.predict(X_test)\n",
    "print (\"MSE :\", metrics.mean_squared_error(y_test, y_pred))\n",
    "print('R_squared :',model.score(X_test, y_test)) "
   ]
  },
  {
   "cell_type": "markdown",
   "metadata": {},
   "source": [
    "# Light LGB ( 분류 )"
   ]
  },
  {
   "cell_type": "code",
   "execution_count": 44,
   "metadata": {},
   "outputs": [],
   "source": [
    "from sklearn.datasets import fetch_covtype\n",
    "covtype = fetch_covtype()"
   ]
  },
  {
   "cell_type": "code",
   "execution_count": 45,
   "metadata": {},
   "outputs": [],
   "source": [
    "X = pd.DataFrame(covtype.data, \n",
    "                  columns=[\"x{:02d}\".format(i + 1) for i in range(covtype.data.shape[1])],\n",
    "                  dtype=int)\n",
    "y = covtype.target"
   ]
  },
  {
   "cell_type": "code",
   "execution_count": 46,
   "metadata": {},
   "outputs": [
    {
     "data": {
      "text/html": [
       "<div>\n",
       "<style scoped>\n",
       "    .dataframe tbody tr th:only-of-type {\n",
       "        vertical-align: middle;\n",
       "    }\n",
       "\n",
       "    .dataframe tbody tr th {\n",
       "        vertical-align: top;\n",
       "    }\n",
       "\n",
       "    .dataframe thead th {\n",
       "        text-align: right;\n",
       "    }\n",
       "</style>\n",
       "<table border=\"1\" class=\"dataframe\">\n",
       "  <thead>\n",
       "    <tr style=\"text-align: right;\">\n",
       "      <th></th>\n",
       "      <th>x01</th>\n",
       "      <th>x02</th>\n",
       "      <th>x03</th>\n",
       "      <th>x04</th>\n",
       "      <th>x05</th>\n",
       "      <th>x06</th>\n",
       "      <th>x07</th>\n",
       "      <th>x08</th>\n",
       "      <th>x09</th>\n",
       "      <th>x10</th>\n",
       "      <th>...</th>\n",
       "      <th>x45</th>\n",
       "      <th>x46</th>\n",
       "      <th>x47</th>\n",
       "      <th>x48</th>\n",
       "      <th>x49</th>\n",
       "      <th>x50</th>\n",
       "      <th>x51</th>\n",
       "      <th>x52</th>\n",
       "      <th>x53</th>\n",
       "      <th>x54</th>\n",
       "    </tr>\n",
       "  </thead>\n",
       "  <tbody>\n",
       "    <tr>\n",
       "      <th>0</th>\n",
       "      <td>2596</td>\n",
       "      <td>51</td>\n",
       "      <td>3</td>\n",
       "      <td>258</td>\n",
       "      <td>0</td>\n",
       "      <td>510</td>\n",
       "      <td>221</td>\n",
       "      <td>232</td>\n",
       "      <td>148</td>\n",
       "      <td>6279</td>\n",
       "      <td>...</td>\n",
       "      <td>0</td>\n",
       "      <td>0</td>\n",
       "      <td>0</td>\n",
       "      <td>0</td>\n",
       "      <td>0</td>\n",
       "      <td>0</td>\n",
       "      <td>0</td>\n",
       "      <td>0</td>\n",
       "      <td>0</td>\n",
       "      <td>0</td>\n",
       "    </tr>\n",
       "    <tr>\n",
       "      <th>1</th>\n",
       "      <td>2590</td>\n",
       "      <td>56</td>\n",
       "      <td>2</td>\n",
       "      <td>212</td>\n",
       "      <td>-6</td>\n",
       "      <td>390</td>\n",
       "      <td>220</td>\n",
       "      <td>235</td>\n",
       "      <td>151</td>\n",
       "      <td>6225</td>\n",
       "      <td>...</td>\n",
       "      <td>0</td>\n",
       "      <td>0</td>\n",
       "      <td>0</td>\n",
       "      <td>0</td>\n",
       "      <td>0</td>\n",
       "      <td>0</td>\n",
       "      <td>0</td>\n",
       "      <td>0</td>\n",
       "      <td>0</td>\n",
       "      <td>0</td>\n",
       "    </tr>\n",
       "    <tr>\n",
       "      <th>2</th>\n",
       "      <td>2804</td>\n",
       "      <td>139</td>\n",
       "      <td>9</td>\n",
       "      <td>268</td>\n",
       "      <td>65</td>\n",
       "      <td>3180</td>\n",
       "      <td>234</td>\n",
       "      <td>238</td>\n",
       "      <td>135</td>\n",
       "      <td>6121</td>\n",
       "      <td>...</td>\n",
       "      <td>0</td>\n",
       "      <td>0</td>\n",
       "      <td>0</td>\n",
       "      <td>0</td>\n",
       "      <td>0</td>\n",
       "      <td>0</td>\n",
       "      <td>0</td>\n",
       "      <td>0</td>\n",
       "      <td>0</td>\n",
       "      <td>0</td>\n",
       "    </tr>\n",
       "    <tr>\n",
       "      <th>3</th>\n",
       "      <td>2785</td>\n",
       "      <td>155</td>\n",
       "      <td>18</td>\n",
       "      <td>242</td>\n",
       "      <td>118</td>\n",
       "      <td>3090</td>\n",
       "      <td>238</td>\n",
       "      <td>238</td>\n",
       "      <td>122</td>\n",
       "      <td>6211</td>\n",
       "      <td>...</td>\n",
       "      <td>0</td>\n",
       "      <td>0</td>\n",
       "      <td>0</td>\n",
       "      <td>0</td>\n",
       "      <td>0</td>\n",
       "      <td>0</td>\n",
       "      <td>0</td>\n",
       "      <td>0</td>\n",
       "      <td>0</td>\n",
       "      <td>0</td>\n",
       "    </tr>\n",
       "    <tr>\n",
       "      <th>4</th>\n",
       "      <td>2595</td>\n",
       "      <td>45</td>\n",
       "      <td>2</td>\n",
       "      <td>153</td>\n",
       "      <td>-1</td>\n",
       "      <td>391</td>\n",
       "      <td>220</td>\n",
       "      <td>234</td>\n",
       "      <td>150</td>\n",
       "      <td>6172</td>\n",
       "      <td>...</td>\n",
       "      <td>0</td>\n",
       "      <td>0</td>\n",
       "      <td>0</td>\n",
       "      <td>0</td>\n",
       "      <td>0</td>\n",
       "      <td>0</td>\n",
       "      <td>0</td>\n",
       "      <td>0</td>\n",
       "      <td>0</td>\n",
       "      <td>0</td>\n",
       "    </tr>\n",
       "    <tr>\n",
       "      <th>...</th>\n",
       "      <td>...</td>\n",
       "      <td>...</td>\n",
       "      <td>...</td>\n",
       "      <td>...</td>\n",
       "      <td>...</td>\n",
       "      <td>...</td>\n",
       "      <td>...</td>\n",
       "      <td>...</td>\n",
       "      <td>...</td>\n",
       "      <td>...</td>\n",
       "      <td>...</td>\n",
       "      <td>...</td>\n",
       "      <td>...</td>\n",
       "      <td>...</td>\n",
       "      <td>...</td>\n",
       "      <td>...</td>\n",
       "      <td>...</td>\n",
       "      <td>...</td>\n",
       "      <td>...</td>\n",
       "      <td>...</td>\n",
       "      <td>...</td>\n",
       "    </tr>\n",
       "    <tr>\n",
       "      <th>581007</th>\n",
       "      <td>2396</td>\n",
       "      <td>153</td>\n",
       "      <td>20</td>\n",
       "      <td>85</td>\n",
       "      <td>17</td>\n",
       "      <td>108</td>\n",
       "      <td>240</td>\n",
       "      <td>237</td>\n",
       "      <td>118</td>\n",
       "      <td>837</td>\n",
       "      <td>...</td>\n",
       "      <td>0</td>\n",
       "      <td>0</td>\n",
       "      <td>0</td>\n",
       "      <td>0</td>\n",
       "      <td>0</td>\n",
       "      <td>0</td>\n",
       "      <td>0</td>\n",
       "      <td>0</td>\n",
       "      <td>0</td>\n",
       "      <td>0</td>\n",
       "    </tr>\n",
       "    <tr>\n",
       "      <th>581008</th>\n",
       "      <td>2391</td>\n",
       "      <td>152</td>\n",
       "      <td>19</td>\n",
       "      <td>67</td>\n",
       "      <td>12</td>\n",
       "      <td>95</td>\n",
       "      <td>240</td>\n",
       "      <td>237</td>\n",
       "      <td>119</td>\n",
       "      <td>845</td>\n",
       "      <td>...</td>\n",
       "      <td>0</td>\n",
       "      <td>0</td>\n",
       "      <td>0</td>\n",
       "      <td>0</td>\n",
       "      <td>0</td>\n",
       "      <td>0</td>\n",
       "      <td>0</td>\n",
       "      <td>0</td>\n",
       "      <td>0</td>\n",
       "      <td>0</td>\n",
       "    </tr>\n",
       "    <tr>\n",
       "      <th>581009</th>\n",
       "      <td>2386</td>\n",
       "      <td>159</td>\n",
       "      <td>17</td>\n",
       "      <td>60</td>\n",
       "      <td>7</td>\n",
       "      <td>90</td>\n",
       "      <td>236</td>\n",
       "      <td>241</td>\n",
       "      <td>130</td>\n",
       "      <td>854</td>\n",
       "      <td>...</td>\n",
       "      <td>0</td>\n",
       "      <td>0</td>\n",
       "      <td>0</td>\n",
       "      <td>0</td>\n",
       "      <td>0</td>\n",
       "      <td>0</td>\n",
       "      <td>0</td>\n",
       "      <td>0</td>\n",
       "      <td>0</td>\n",
       "      <td>0</td>\n",
       "    </tr>\n",
       "    <tr>\n",
       "      <th>581010</th>\n",
       "      <td>2384</td>\n",
       "      <td>170</td>\n",
       "      <td>15</td>\n",
       "      <td>60</td>\n",
       "      <td>5</td>\n",
       "      <td>90</td>\n",
       "      <td>230</td>\n",
       "      <td>245</td>\n",
       "      <td>143</td>\n",
       "      <td>864</td>\n",
       "      <td>...</td>\n",
       "      <td>0</td>\n",
       "      <td>0</td>\n",
       "      <td>0</td>\n",
       "      <td>0</td>\n",
       "      <td>0</td>\n",
       "      <td>0</td>\n",
       "      <td>0</td>\n",
       "      <td>0</td>\n",
       "      <td>0</td>\n",
       "      <td>0</td>\n",
       "    </tr>\n",
       "    <tr>\n",
       "      <th>581011</th>\n",
       "      <td>2383</td>\n",
       "      <td>165</td>\n",
       "      <td>13</td>\n",
       "      <td>60</td>\n",
       "      <td>4</td>\n",
       "      <td>67</td>\n",
       "      <td>231</td>\n",
       "      <td>244</td>\n",
       "      <td>141</td>\n",
       "      <td>875</td>\n",
       "      <td>...</td>\n",
       "      <td>0</td>\n",
       "      <td>0</td>\n",
       "      <td>0</td>\n",
       "      <td>0</td>\n",
       "      <td>0</td>\n",
       "      <td>0</td>\n",
       "      <td>0</td>\n",
       "      <td>0</td>\n",
       "      <td>0</td>\n",
       "      <td>0</td>\n",
       "    </tr>\n",
       "  </tbody>\n",
       "</table>\n",
       "<p>581012 rows × 54 columns</p>\n",
       "</div>"
      ],
      "text/plain": [
       "         x01  x02  x03  x04  x05   x06  x07  x08  x09   x10  ...  x45  x46  \\\n",
       "0       2596   51    3  258    0   510  221  232  148  6279  ...    0    0   \n",
       "1       2590   56    2  212   -6   390  220  235  151  6225  ...    0    0   \n",
       "2       2804  139    9  268   65  3180  234  238  135  6121  ...    0    0   \n",
       "3       2785  155   18  242  118  3090  238  238  122  6211  ...    0    0   \n",
       "4       2595   45    2  153   -1   391  220  234  150  6172  ...    0    0   \n",
       "...      ...  ...  ...  ...  ...   ...  ...  ...  ...   ...  ...  ...  ...   \n",
       "581007  2396  153   20   85   17   108  240  237  118   837  ...    0    0   \n",
       "581008  2391  152   19   67   12    95  240  237  119   845  ...    0    0   \n",
       "581009  2386  159   17   60    7    90  236  241  130   854  ...    0    0   \n",
       "581010  2384  170   15   60    5    90  230  245  143   864  ...    0    0   \n",
       "581011  2383  165   13   60    4    67  231  244  141   875  ...    0    0   \n",
       "\n",
       "        x47  x48  x49  x50  x51  x52  x53  x54  \n",
       "0         0    0    0    0    0    0    0    0  \n",
       "1         0    0    0    0    0    0    0    0  \n",
       "2         0    0    0    0    0    0    0    0  \n",
       "3         0    0    0    0    0    0    0    0  \n",
       "4         0    0    0    0    0    0    0    0  \n",
       "...     ...  ...  ...  ...  ...  ...  ...  ...  \n",
       "581007    0    0    0    0    0    0    0    0  \n",
       "581008    0    0    0    0    0    0    0    0  \n",
       "581009    0    0    0    0    0    0    0    0  \n",
       "581010    0    0    0    0    0    0    0    0  \n",
       "581011    0    0    0    0    0    0    0    0  \n",
       "\n",
       "[581012 rows x 54 columns]"
      ]
     },
     "execution_count": 46,
     "metadata": {},
     "output_type": "execute_result"
    }
   ],
   "source": [
    "X"
   ]
  },
  {
   "cell_type": "code",
   "execution_count": 51,
   "metadata": {},
   "outputs": [],
   "source": [
    "X = X.iloc[0:5000,:]\n",
    "y = y[0:5000]"
   ]
  },
  {
   "cell_type": "code",
   "execution_count": 53,
   "metadata": {},
   "outputs": [],
   "source": [
    "from sklearn.model_selection import train_test_split\n",
    "X_train, X_test, y_train, y_test = train_test_split(X, y, test_size=0.30, random_state=42)"
   ]
  },
  {
   "cell_type": "markdown",
   "metadata": {},
   "source": [
    "## 파라미터 범위 설정"
   ]
  },
  {
   "cell_type": "code",
   "execution_count": 55,
   "metadata": {},
   "outputs": [],
   "source": [
    "bayes_params = {\n",
    "    'num_leaves': (24, 45), # 범위값으로 인식하게 된다!\n",
    "    'colsample_bytree':(0.5, 1),  \n",
    "    'subsample': (0.5, 1),\n",
    "    'max_depth': (4, 12),\n",
    "    'reg_alpha': (0, 0.5),\n",
    "    'reg_lambda': (0, 0.5), \n",
    "    'min_split_gain': (0.001, 0.1),\n",
    "    'min_child_weight':(5, 50)\n",
    "}"
   ]
  },
  {
   "cell_type": "markdown",
   "metadata": {},
   "source": [
    "테스트 해볼 하이퍼 파라미터의 범위 값을 설정하였으면 BaysianOptimization에서 호출하여 모델을 최적화하는 함수를 만들어 보겠습니다.\n",
    "\n",
    "해당 함수는 BaysianOptimization에서 하이퍼 파라미터를 튜닝하기 위해 호출되면 제대로 튜닝이 되고 있는지를 판단하기 위해서 모델을 학습/평가하고 이에 따른 평가 지표를 반환하는 형식으로 만들어집니다. 이 평가 함수는 BayesianOptimization 객체에서 파라미터를 변경하면서 호출되므로 함수의 인자로 앞에서 딕셔너리로 설정된 파라미터들을 가지게 됩니다.  "
   ]
  },
  {
   "cell_type": "markdown",
   "metadata": {},
   "source": [
    "## 평가 함수 정의"
   ]
  },
  {
   "cell_type": "code",
   "execution_count": 84,
   "metadata": {},
   "outputs": [],
   "source": [
    "from lightgbm import LGBMClassifier\n",
    "from sklearn.metrics import roc_auc_score\n",
    "\n",
    "def lgb_acc_eval(num_leaves, \n",
    "                 colsample_bytree,\n",
    "                 subsample, \n",
    "                 max_depth, \n",
    "                 reg_alpha, \n",
    "                 reg_lambda, \n",
    "                 min_split_gain, \n",
    "                 min_child_weight):\n",
    "    # 하이퍼 파라미터를 튜닝하기 위해 , 이게 제대로! 학습이 되고있는지 판단하기 위해 모델을 학습/ 평가하고 이에 따른 평가 지표를 반환하는 형식이 된다.\n",
    "    params = {\n",
    "        \"n_estimator\":200,\n",
    "        \"learning_rate\":0.02,\n",
    "        'num_leaves': int(round(num_leaves)), # 이 값은 정수형을 return 받아야 하므로! round/ int 를 차례로 받는다.\n",
    "        'colsample_bytree': colsample_bytree, \n",
    "        'subsample': subsample,\n",
    "        'max_depth': int(round(max_depth)),\n",
    "        'reg_alpha': reg_alpha,\n",
    "        'reg_lambda': reg_lambda, \n",
    "        'min_split_gain': min_split_gain,\n",
    "        'min_child_weight': min_child_weight,\n",
    "        'verbosity': -1\n",
    "    }\n",
    "    print(\"params:\", params)  # 어 떤 파라미터를 사용하였는지\n",
    "    lgb_model = LGBMClassifier(**params) # 모델! \n",
    "    cv_value = cross_val_score(lgb_model, X_train, y_train, cv=5, scoring='accuracy')\n",
    "    \n",
    "    result = np.mean(cv_value) # cv_value 는 list 형태로 나오게 되니까!\n",
    "    return result # 이 result 값이 커지게 베이지안optimization 이 학습하게 됩니다.\n",
    "\n",
    "    print('accuracy :', result)  # 그 값을 도출 print 해서 잘 학습하고 있는지 (줄여지는 방향으로) 알 아 보아요~    return roc_preds"
   ]
  },
  {
   "cell_type": "markdown",
   "metadata": {},
   "source": [
    "## Optimization"
   ]
  },
  {
   "cell_type": "code",
   "execution_count": 85,
   "metadata": {},
   "outputs": [],
   "source": [
    "from bayes_opt import BayesianOptimization\n",
    "# 객체를 형성한다\n",
    "BO_lgb = BayesianOptimization(lgb_acc_eval, bayes_params, random_state=0)"
   ]
  },
  {
   "cell_type": "code",
   "execution_count": 86,
   "metadata": {},
   "outputs": [
    {
     "name": "stdout",
     "output_type": "stream",
     "text": [
      "|   iter    |  target   | colsam... | max_depth | min_ch... | min_sp... | num_le... | reg_alpha | reg_la... | subsample |\n",
      "-------------------------------------------------------------------------------------------------------------------------\n",
      "params: {'n_estimator': 200, 'learning_rate': 0.02, 'num_leaves': 33, 'colsample_bytree': 0.7744067519636624, 'subsample': 0.9458865003910399, 'max_depth': 10, 'reg_alpha': 0.32294705653332806, 'reg_lambda': 0.21879360563134626, 'min_split_gain': 0.05494343511669279, 'min_child_weight': 32.12435192322397, 'verbosity': -1}\n",
      "| \u001b[0m 1       \u001b[0m | \u001b[0m 0.7729  \u001b[0m | \u001b[0m 0.7744  \u001b[0m | \u001b[0m 9.722   \u001b[0m | \u001b[0m 32.12   \u001b[0m | \u001b[0m 0.05494 \u001b[0m | \u001b[0m 32.9    \u001b[0m | \u001b[0m 0.3229  \u001b[0m | \u001b[0m 0.2188  \u001b[0m | \u001b[0m 0.9459  \u001b[0m |\n",
      "params: {'n_estimator': 200, 'learning_rate': 0.02, 'num_leaves': 36, 'colsample_bytree': 0.9818313802505146, 'subsample': 0.5435646498507704, 'max_depth': 7, 'reg_alpha': 0.4627983191463305, 'reg_lambda': 0.03551802909894347, 'min_split_gain': 0.05336059705553755, 'min_child_weight': 40.627626713719906, 'verbosity': -1}\n",
      "| \u001b[0m 2       \u001b[0m | \u001b[0m 0.7649  \u001b[0m | \u001b[0m 0.9818  \u001b[0m | \u001b[0m 7.068   \u001b[0m | \u001b[0m 40.63   \u001b[0m | \u001b[0m 0.05336 \u001b[0m | \u001b[0m 35.93   \u001b[0m | \u001b[0m 0.4628  \u001b[0m | \u001b[0m 0.03552 \u001b[0m | \u001b[0m 0.5436  \u001b[0m |\n",
      "params: {'n_estimator': 200, 'learning_rate': 0.02, 'num_leaves': 45, 'colsample_bytree': 0.5101091987201629, 'subsample': 0.8902645881432277, 'max_depth': 11, 'reg_alpha': 0.3995792821083618, 'reg_lambda': 0.23073968112646592, 'min_split_gain': 0.08713120267643511, 'min_child_weight': 40.01705379274327, 'verbosity': -1}\n",
      "| \u001b[0m 3       \u001b[0m | \u001b[0m 0.7594  \u001b[0m | \u001b[0m 0.5101  \u001b[0m | \u001b[0m 10.66   \u001b[0m | \u001b[0m 40.02   \u001b[0m | \u001b[0m 0.08713 \u001b[0m | \u001b[0m 44.55   \u001b[0m | \u001b[0m 0.3996  \u001b[0m | \u001b[0m 0.2307  \u001b[0m | \u001b[0m 0.8903  \u001b[0m |\n",
      "params: {'n_estimator': 200, 'learning_rate': 0.02, 'num_leaves': 35, 'colsample_bytree': 0.5591372129344666, 'subsample': 0.8871168447171083, 'max_depth': 9, 'reg_alpha': 0.2073309699952618, 'reg_lambda': 0.13227780605231348, 'min_split_gain': 0.09452222278790881, 'min_child_weight': 11.450897933407088, 'verbosity': -1}\n",
      "| \u001b[95m 4       \u001b[0m | \u001b[95m 0.8066  \u001b[0m | \u001b[95m 0.5591  \u001b[0m | \u001b[95m 9.119   \u001b[0m | \u001b[95m 11.45   \u001b[0m | \u001b[95m 0.09452 \u001b[0m | \u001b[95m 34.96   \u001b[0m | \u001b[95m 0.2073  \u001b[0m | \u001b[95m 0.1323  \u001b[0m | \u001b[95m 0.8871  \u001b[0m |\n",
      "params: {'n_estimator': 200, 'learning_rate': 0.02, 'num_leaves': 37, 'colsample_bytree': 0.7280751661082743, 'subsample': 0.8409101495517417, 'max_depth': 9, 'reg_alpha': 0.30846699843737846, 'reg_lambda': 0.4718740392573121, 'min_split_gain': 0.062145914210511834, 'min_child_weight': 5.845541019635982, 'verbosity': -1}\n",
      "| \u001b[95m 5       \u001b[0m | \u001b[95m 0.8169  \u001b[0m | \u001b[95m 0.7281  \u001b[0m | \u001b[95m 8.547   \u001b[0m | \u001b[95m 5.846   \u001b[0m | \u001b[95m 0.06215 \u001b[0m | \u001b[95m 36.85   \u001b[0m | \u001b[95m 0.3085  \u001b[0m | \u001b[95m 0.4719  \u001b[0m | \u001b[95m 0.8409  \u001b[0m |\n",
      "params: {'n_estimator': 200, 'learning_rate': 0.02, 'num_leaves': 24, 'colsample_bytree': 1.0, 'subsample': 0.5, 'max_depth': 4, 'reg_alpha': 0.5, 'reg_lambda': 0.5, 'min_split_gain': 0.001, 'min_child_weight': 5.0, 'verbosity': -1}\n",
      "| \u001b[0m 6       \u001b[0m | \u001b[0m 0.7671  \u001b[0m | \u001b[0m 1.0     \u001b[0m | \u001b[0m 4.0     \u001b[0m | \u001b[0m 5.0     \u001b[0m | \u001b[0m 0.001   \u001b[0m | \u001b[0m 24.0    \u001b[0m | \u001b[0m 0.5     \u001b[0m | \u001b[0m 0.5     \u001b[0m | \u001b[0m 0.5     \u001b[0m |\n",
      "params: {'n_estimator': 200, 'learning_rate': 0.02, 'num_leaves': 45, 'colsample_bytree': 0.5, 'subsample': 1.0, 'max_depth': 12, 'reg_alpha': 0.0, 'reg_lambda': 0.0, 'min_split_gain': 0.1, 'min_child_weight': 6.153818666923531, 'verbosity': -1}\n",
      "| \u001b[95m 7       \u001b[0m | \u001b[95m 0.8274  \u001b[0m | \u001b[95m 0.5     \u001b[0m | \u001b[95m 12.0    \u001b[0m | \u001b[95m 6.154   \u001b[0m | \u001b[95m 0.1     \u001b[0m | \u001b[95m 45.0    \u001b[0m | \u001b[95m 0.0     \u001b[0m | \u001b[95m 0.0     \u001b[0m | \u001b[95m 1.0     \u001b[0m |\n",
      "params: {'n_estimator': 200, 'learning_rate': 0.02, 'num_leaves': 45, 'colsample_bytree': 1.0, 'subsample': 0.5, 'max_depth': 4, 'reg_alpha': 0.5, 'reg_lambda': 0.5, 'min_split_gain': 0.001, 'min_child_weight': 5.0, 'verbosity': -1}\n",
      "| \u001b[0m 8       \u001b[0m | \u001b[0m 0.7671  \u001b[0m | \u001b[0m 1.0     \u001b[0m | \u001b[0m 4.0     \u001b[0m | \u001b[0m 5.0     \u001b[0m | \u001b[0m 0.001   \u001b[0m | \u001b[0m 45.0    \u001b[0m | \u001b[0m 0.5     \u001b[0m | \u001b[0m 0.5     \u001b[0m | \u001b[0m 0.5     \u001b[0m |\n",
      "params: {'n_estimator': 200, 'learning_rate': 0.02, 'num_leaves': 41, 'colsample_bytree': 0.5, 'subsample': 1.0, 'max_depth': 12, 'reg_alpha': 0.0, 'reg_lambda': 0.0, 'min_split_gain': 0.1, 'min_child_weight': 9.282792883879118, 'verbosity': -1}\n",
      "| \u001b[0m 9       \u001b[0m | \u001b[0m 0.8174  \u001b[0m | \u001b[0m 0.5     \u001b[0m | \u001b[0m 12.0    \u001b[0m | \u001b[0m 9.283   \u001b[0m | \u001b[0m 0.1     \u001b[0m | \u001b[0m 40.95   \u001b[0m | \u001b[0m 0.0     \u001b[0m | \u001b[0m 0.0     \u001b[0m | \u001b[0m 1.0     \u001b[0m |\n",
      "params: {'n_estimator': 200, 'learning_rate': 0.02, 'num_leaves': 45, 'colsample_bytree': 0.5, 'subsample': 1.0, 'max_depth': 12, 'reg_alpha': 0.0, 'reg_lambda': 0.0, 'min_split_gain': 0.1, 'min_child_weight': 16.37016837765438, 'verbosity': -1}\n",
      "| \u001b[0m 10      \u001b[0m | \u001b[0m 0.8006  \u001b[0m | \u001b[0m 0.5     \u001b[0m | \u001b[0m 12.0    \u001b[0m | \u001b[0m 16.37   \u001b[0m | \u001b[0m 0.1     \u001b[0m | \u001b[0m 45.0    \u001b[0m | \u001b[0m 0.0     \u001b[0m | \u001b[0m 0.0     \u001b[0m | \u001b[0m 1.0     \u001b[0m |\n",
      "params: {'n_estimator': 200, 'learning_rate': 0.02, 'num_leaves': 31, 'colsample_bytree': 0.9963415847423831, 'subsample': 0.8576257010583855, 'max_depth': 12, 'reg_alpha': 0.009330048227644716, 'reg_lambda': 0.019604314288185376, 'min_split_gain': 0.04155948070314624, 'min_child_weight': 5.033169891354441, 'verbosity': -1}\n",
      "| \u001b[0m 11      \u001b[0m | \u001b[0m 0.8266  \u001b[0m | \u001b[0m 0.9963  \u001b[0m | \u001b[0m 11.82   \u001b[0m | \u001b[0m 5.033   \u001b[0m | \u001b[0m 0.04156 \u001b[0m | \u001b[0m 31.37   \u001b[0m | \u001b[0m 0.00933 \u001b[0m | \u001b[0m 0.0196  \u001b[0m | \u001b[0m 0.8576  \u001b[0m |\n",
      "params: {'n_estimator': 200, 'learning_rate': 0.02, 'num_leaves': 24, 'colsample_bytree': 0.5, 'subsample': 0.5, 'max_depth': 12, 'reg_alpha': 0.28278185068333334, 'reg_lambda': 0.5, 'min_split_gain': 0.001, 'min_child_weight': 50.0, 'verbosity': -1}\n",
      "| \u001b[0m 12      \u001b[0m | \u001b[0m 0.7357  \u001b[0m | \u001b[0m 0.5     \u001b[0m | \u001b[0m 12.0    \u001b[0m | \u001b[0m 50.0    \u001b[0m | \u001b[0m 0.001   \u001b[0m | \u001b[0m 24.0    \u001b[0m | \u001b[0m 0.2828  \u001b[0m | \u001b[0m 0.5     \u001b[0m | \u001b[0m 0.5     \u001b[0m |\n",
      "params: {'n_estimator': 200, 'learning_rate': 0.02, 'num_leaves': 24, 'colsample_bytree': 0.5, 'subsample': 0.5, 'max_depth': 12, 'reg_alpha': 0.0, 'reg_lambda': 0.0, 'min_split_gain': 0.001, 'min_child_weight': 18.488156702160605, 'verbosity': -1}\n",
      "| \u001b[0m 13      \u001b[0m | \u001b[0m 0.7926  \u001b[0m | \u001b[0m 0.5     \u001b[0m | \u001b[0m 12.0    \u001b[0m | \u001b[0m 18.49   \u001b[0m | \u001b[0m 0.001   \u001b[0m | \u001b[0m 24.0    \u001b[0m | \u001b[0m 0.0     \u001b[0m | \u001b[0m 0.0     \u001b[0m | \u001b[0m 0.5     \u001b[0m |\n",
      "params: {'n_estimator': 200, 'learning_rate': 0.02, 'num_leaves': 37, 'colsample_bytree': 0.8958351898111097, 'subsample': 0.8153907933202891, 'max_depth': 12, 'reg_alpha': 0.019824024962597386, 'reg_lambda': 0.27977114529274616, 'min_split_gain': 0.02168998981760603, 'min_child_weight': 5.111223910488313, 'verbosity': -1}\n",
      "| \u001b[0m 14      \u001b[0m | \u001b[0m 0.8226  \u001b[0m | \u001b[0m 0.8958  \u001b[0m | \u001b[0m 11.91   \u001b[0m | \u001b[0m 5.111   \u001b[0m | \u001b[0m 0.02169 \u001b[0m | \u001b[0m 36.83   \u001b[0m | \u001b[0m 0.01982 \u001b[0m | \u001b[0m 0.2798  \u001b[0m | \u001b[0m 0.8154  \u001b[0m |\n",
      "params: {'n_estimator': 200, 'learning_rate': 0.02, 'num_leaves': 24, 'colsample_bytree': 1.0, 'subsample': 1.0, 'max_depth': 4, 'reg_alpha': 0.0, 'reg_lambda': 0.0, 'min_split_gain': 0.1, 'min_child_weight': 26.679596508578747, 'verbosity': -1}\n",
      "| \u001b[0m 15      \u001b[0m | \u001b[0m 0.7477  \u001b[0m | \u001b[0m 1.0     \u001b[0m | \u001b[0m 4.0     \u001b[0m | \u001b[0m 26.68   \u001b[0m | \u001b[0m 0.1     \u001b[0m | \u001b[0m 24.0    \u001b[0m | \u001b[0m 0.0     \u001b[0m | \u001b[0m 0.0     \u001b[0m | \u001b[0m 1.0     \u001b[0m |\n",
      "=========================================================================================================================\n"
     ]
    }
   ],
   "source": [
    "BO_lgb.maximize(init_points=5, n_iter=10)"
   ]
  },
  {
   "cell_type": "code",
   "execution_count": 87,
   "metadata": {},
   "outputs": [],
   "source": [
    "# BayesianOptimization 객체의 res 속성은 하이퍼 파라미터 튜닝을 하는 과정에서의 metric 값과 그때의 하이퍼 파라미터 값을 가지고 있음. "
   ]
  },
  {
   "cell_type": "code",
   "execution_count": 88,
   "metadata": {},
   "outputs": [
    {
     "data": {
      "text/plain": [
       "[{'target': 0.7728571428571429,\n",
       "  'params': {'colsample_bytree': 0.7744067519636624,\n",
       "   'max_depth': 9.721514930979357,\n",
       "   'min_child_weight': 32.12435192322397,\n",
       "   'min_split_gain': 0.05494343511669279,\n",
       "   'num_leaves': 32.896750786116996,\n",
       "   'reg_alpha': 0.32294705653332806,\n",
       "   'reg_lambda': 0.21879360563134626,\n",
       "   'subsample': 0.9458865003910399}},\n",
       " {'target': 0.7648571428571429,\n",
       "  'params': {'colsample_bytree': 0.9818313802505146,\n",
       "   'max_depth': 7.067532150606222,\n",
       "   'min_child_weight': 40.627626713719906,\n",
       "   'min_split_gain': 0.05336059705553755,\n",
       "   'num_leaves': 35.92893578297258,\n",
       "   'reg_alpha': 0.4627983191463305,\n",
       "   'reg_lambda': 0.03551802909894347,\n",
       "   'subsample': 0.5435646498507704}},\n",
       " {'target': 0.7594285714285715,\n",
       "  'params': {'colsample_bytree': 0.5101091987201629,\n",
       "   'max_depth': 10.660958764383505,\n",
       "   'min_child_weight': 40.01705379274327,\n",
       "   'min_split_gain': 0.08713120267643511,\n",
       "   'num_leaves': 44.55098518688804,\n",
       "   'reg_alpha': 0.3995792821083618,\n",
       "   'reg_lambda': 0.23073968112646592,\n",
       "   'subsample': 0.8902645881432277}},\n",
       " {'target': 0.8065714285714286,\n",
       "  'params': {'colsample_bytree': 0.5591372129344666,\n",
       "   'max_depth': 9.119368170620191,\n",
       "   'min_child_weight': 11.450897933407088,\n",
       "   'min_split_gain': 0.09452222278790881,\n",
       "   'num_leaves': 34.95881475675151,\n",
       "   'reg_alpha': 0.2073309699952618,\n",
       "   'reg_lambda': 0.13227780605231348,\n",
       "   'subsample': 0.8871168447171083}},\n",
       " {'target': 0.816857142857143,\n",
       "  'params': {'colsample_bytree': 0.7280751661082743,\n",
       "   'max_depth': 8.547471590949188,\n",
       "   'min_child_weight': 5.845541019635982,\n",
       "   'min_split_gain': 0.062145914210511834,\n",
       "   'num_leaves': 36.85401017717085,\n",
       "   'reg_alpha': 0.30846699843737846,\n",
       "   'reg_lambda': 0.4718740392573121,\n",
       "   'subsample': 0.8409101495517417}},\n",
       " {'target': 0.7671428571428571,\n",
       "  'params': {'colsample_bytree': 1.0,\n",
       "   'max_depth': 4.0,\n",
       "   'min_child_weight': 5.0,\n",
       "   'min_split_gain': 0.001,\n",
       "   'num_leaves': 24.0,\n",
       "   'reg_alpha': 0.5,\n",
       "   'reg_lambda': 0.5,\n",
       "   'subsample': 0.5}},\n",
       " {'target': 0.8274285714285714,\n",
       "  'params': {'colsample_bytree': 0.5,\n",
       "   'max_depth': 12.0,\n",
       "   'min_child_weight': 6.153818666923531,\n",
       "   'min_split_gain': 0.1,\n",
       "   'num_leaves': 45.0,\n",
       "   'reg_alpha': 0.0,\n",
       "   'reg_lambda': 0.0,\n",
       "   'subsample': 1.0}},\n",
       " {'target': 0.7671428571428571,\n",
       "  'params': {'colsample_bytree': 1.0,\n",
       "   'max_depth': 4.0,\n",
       "   'min_child_weight': 5.0,\n",
       "   'min_split_gain': 0.001,\n",
       "   'num_leaves': 45.0,\n",
       "   'reg_alpha': 0.5,\n",
       "   'reg_lambda': 0.5,\n",
       "   'subsample': 0.5}},\n",
       " {'target': 0.8174285714285714,\n",
       "  'params': {'colsample_bytree': 0.5,\n",
       "   'max_depth': 12.0,\n",
       "   'min_child_weight': 9.282792883879118,\n",
       "   'min_split_gain': 0.1,\n",
       "   'num_leaves': 40.95446342173249,\n",
       "   'reg_alpha': 0.0,\n",
       "   'reg_lambda': 0.0,\n",
       "   'subsample': 1.0}},\n",
       " {'target': 0.8005714285714285,\n",
       "  'params': {'colsample_bytree': 0.5,\n",
       "   'max_depth': 12.0,\n",
       "   'min_child_weight': 16.37016837765438,\n",
       "   'min_split_gain': 0.1,\n",
       "   'num_leaves': 45.0,\n",
       "   'reg_alpha': 0.0,\n",
       "   'reg_lambda': 0.0,\n",
       "   'subsample': 1.0}},\n",
       " {'target': 0.8265714285714285,\n",
       "  'params': {'colsample_bytree': 0.9963415847423831,\n",
       "   'max_depth': 11.819684742565805,\n",
       "   'min_child_weight': 5.033169891354441,\n",
       "   'min_split_gain': 0.04155948070314624,\n",
       "   'num_leaves': 31.371377406180006,\n",
       "   'reg_alpha': 0.009330048227644716,\n",
       "   'reg_lambda': 0.019604314288185376,\n",
       "   'subsample': 0.8576257010583855}},\n",
       " {'target': 0.7357142857142858,\n",
       "  'params': {'colsample_bytree': 0.5,\n",
       "   'max_depth': 12.0,\n",
       "   'min_child_weight': 50.0,\n",
       "   'min_split_gain': 0.001,\n",
       "   'num_leaves': 24.0,\n",
       "   'reg_alpha': 0.28278185068333334,\n",
       "   'reg_lambda': 0.5,\n",
       "   'subsample': 0.5}},\n",
       " {'target': 0.7925714285714286,\n",
       "  'params': {'colsample_bytree': 0.5,\n",
       "   'max_depth': 12.0,\n",
       "   'min_child_weight': 18.488156702160605,\n",
       "   'min_split_gain': 0.001,\n",
       "   'num_leaves': 24.0,\n",
       "   'reg_alpha': 0.0,\n",
       "   'reg_lambda': 0.0,\n",
       "   'subsample': 0.5}},\n",
       " {'target': 0.8225714285714286,\n",
       "  'params': {'colsample_bytree': 0.8958351898111097,\n",
       "   'max_depth': 11.912363935718016,\n",
       "   'min_child_weight': 5.111223910488313,\n",
       "   'min_split_gain': 0.02168998981760603,\n",
       "   'num_leaves': 36.82863912155457,\n",
       "   'reg_alpha': 0.019824024962597386,\n",
       "   'reg_lambda': 0.27977114529274616,\n",
       "   'subsample': 0.8153907933202891}},\n",
       " {'target': 0.7477142857142857,\n",
       "  'params': {'colsample_bytree': 1.0,\n",
       "   'max_depth': 4.0,\n",
       "   'min_child_weight': 26.679596508578747,\n",
       "   'min_split_gain': 0.1,\n",
       "   'num_leaves': 24.0,\n",
       "   'reg_alpha': 0.0,\n",
       "   'reg_lambda': 0.0,\n",
       "   'subsample': 1.0}}]"
      ]
     },
     "execution_count": 88,
     "metadata": {},
     "output_type": "execute_result"
    }
   ],
   "source": [
    "BO_lgb.res"
   ]
  },
  {
   "cell_type": "markdown",
   "metadata": {},
   "source": [
    "BayesianOptimization 객체의 max 속성은 최고 높은 성능 Metric를 가질때의 하이퍼 파라미터 값을 가지고 있음."
   ]
  },
  {
   "cell_type": "code",
   "execution_count": 79,
   "metadata": {
    "scrolled": true
   },
   "outputs": [
    {
     "data": {
      "text/plain": [
       "{'target': 0.8274285714285714,\n",
       " 'params': {'colsample_bytree': 0.5,\n",
       "  'max_depth': 12.0,\n",
       "  'min_child_weight': 6.153818666923531,\n",
       "  'min_split_gain': 0.1,\n",
       "  'num_leaves': 45.0,\n",
       "  'reg_alpha': 0.0,\n",
       "  'reg_lambda': 0.0,\n",
       "  'subsample': 1.0}}"
      ]
     },
     "execution_count": 79,
     "metadata": {},
     "output_type": "execute_result"
    }
   ],
   "source": [
    "BO_lgb.max"
   ]
  },
  {
   "cell_type": "markdown",
   "metadata": {},
   "source": [
    "## 최종 평가"
   ]
  },
  {
   "cell_type": "code",
   "execution_count": 90,
   "metadata": {
    "scrolled": true
   },
   "outputs": [
    {
     "name": "stdout",
     "output_type": "stream",
     "text": [
      "mse score : 0.8713\n"
     ]
    }
   ],
   "source": [
    "from sklearn.metrics import accuracy_score\n",
    "\n",
    "max_params = BO_rf.max['params']\n",
    "max_params['min_samples_leaf'] = int(round(max_params['min_samples_leaf']))\n",
    "max_params['min_samples_split'] = int(round(max_params['min_samples_split']))\n",
    "max_params['max_depth'] = int(max_params['max_depth'])\n",
    "lgb_model = LGBMClassifier(n_estimators=200,learning_rate=0.2, **max_params)\n",
    "lgb_model.fit(X_train, y_train) # train 을 전체로 해서 더 높은가바..\n",
    "y_pred = lgb_model.predict(X_test)\n",
    "score = accuracy_score(y_pred,y_test)\n",
    "\n",
    "print('accuracy : {0:.4f}'.format(score))"
   ]
  }
 ],
 "metadata": {
  "kernelspec": {
   "display_name": "Python 3",
   "language": "python",
   "name": "python3"
  },
  "language_info": {
   "codemirror_mode": {
    "name": "ipython",
    "version": 3
   },
   "file_extension": ".py",
   "mimetype": "text/x-python",
   "name": "python",
   "nbconvert_exporter": "python",
   "pygments_lexer": "ipython3",
   "version": "3.7.4"
  },
  "toc": {
   "base_numbering": 1,
   "nav_menu": {},
   "number_sections": true,
   "sideBar": true,
   "skip_h1_title": false,
   "title_cell": "Table of Contents",
   "title_sidebar": "Contents",
   "toc_cell": false,
   "toc_position": {
    "height": "calc(100% - 180px)",
    "left": "10px",
    "top": "150px",
    "width": "231.337px"
   },
   "toc_section_display": true,
   "toc_window_display": true
  }
 },
 "nbformat": 4,
 "nbformat_minor": 4
}
