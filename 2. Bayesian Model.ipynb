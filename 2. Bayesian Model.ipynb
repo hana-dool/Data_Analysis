{
 "cells": [
  {
   "cell_type": "markdown",
   "id": "super-banana",
   "metadata": {},
   "source": [
    "# generating"
   ]
  },
  {
   "cell_type": "markdown",
   "id": "architectural-characterization",
   "metadata": {},
   "source": [
    "- 베이즈에서 랜덤분포를 생성하는것도 굉장히 중요합니다.\n",
    "- numpy 와 scipy 두가지가 있습니다만, 저는 scipy 를 선호합니다."
   ]
  },
  {
   "cell_type": "markdown",
   "id": "warming-persian",
   "metadata": {},
   "source": [
    "https://numpy.org/doc/1.16/reference/routines.random.html#module-numpy.random 를 보도록 하세요~"
   ]
  },
  {
   "cell_type": "code",
   "execution_count": 12,
   "id": "constitutional-salmon",
   "metadata": {},
   "outputs": [],
   "source": [
    "import scipy\n",
    "import scipy.stats"
   ]
  },
  {
   "cell_type": "markdown",
   "id": "pregnant-pioneer",
   "metadata": {},
   "source": [
    "## Binomial"
   ]
  },
  {
   "cell_type": "code",
   "execution_count": 24,
   "id": "contained-black",
   "metadata": {},
   "outputs": [
    {
     "data": {
      "text/plain": [
       "array([0, 0, 0, 0, 0, 0, 0, 0, 0, 0, 0, 0, 0, 0, 0, 0, 0, 0, 0, 0, 0, 0,\n",
       "       0, 0, 0, 0, 0, 0, 0, 0, 0, 0, 0, 0, 1, 0, 0, 0, 0, 0, 0, 0, 0, 0,\n",
       "       0, 0, 0, 0, 0, 0, 0, 0, 0, 0, 0, 0, 1, 0, 1, 0, 0, 0, 0, 0, 0, 0,\n",
       "       1, 0, 0, 0, 0, 0, 0, 0, 0, 0, 1, 0, 0, 0, 0, 0, 0, 0, 0, 0, 0, 0,\n",
       "       0, 0, 0, 0, 0, 0, 0, 0, 0, 0, 0, 0])"
      ]
     },
     "execution_count": 24,
     "metadata": {},
     "output_type": "execute_result"
    }
   ],
   "source": [
    "sample = scipy.stats.bernoulli.rvs(p = 0.1,\n",
    "                                   size=100,\n",
    "                                   random_state = 300)\n",
    "sample"
   ]
  },
  {
   "cell_type": "markdown",
   "id": "accepted-nickel",
   "metadata": {},
   "source": [
    "## Beta"
   ]
  },
  {
   "cell_type": "markdown",
   "id": "clean-winning",
   "metadata": {},
   "source": [
    "- 아래의 경우는 베타분포의 경우에 Sample 을 Generating 하는것입니다. "
   ]
  },
  {
   "cell_type": "code",
   "execution_count": 26,
   "id": "domestic-neighbor",
   "metadata": {},
   "outputs": [
    {
     "data": {
      "text/plain": [
       "array([0.86816302, 0.13358473, 0.42227041, 0.71356493, 0.24522379,\n",
       "       0.09935627, 0.68399286, 0.55722335, 0.53276295, 0.40302006])"
      ]
     },
     "execution_count": 26,
     "metadata": {},
     "output_type": "execute_result"
    }
   ],
   "source": [
    "sample = scipy.stats.beta.rvs(a=2\n",
    "                             ,b=3\n",
    "                             ,size = 10)\n",
    "sample"
   ]
  },
  {
   "cell_type": "code",
   "execution_count": 6,
   "id": "potential-compensation",
   "metadata": {
    "scrolled": true
   },
   "outputs": [
    {
     "data": {
      "text/plain": [
       "array([0.22569631, 0.14994025, 0.39785175, 0.27306364, 0.23922844,\n",
       "       0.53326515, 0.50218443, 0.21432713, 0.19613248, 0.58364038])"
      ]
     },
     "execution_count": 6,
     "metadata": {},
     "output_type": "execute_result"
    }
   ],
   "source": [
    "np.random.beta(a=2,b=3,size=10)"
   ]
  }
 ],
 "metadata": {
  "kernelspec": {
   "display_name": "Python 3",
   "language": "python",
   "name": "python3"
  },
  "language_info": {
   "codemirror_mode": {
    "name": "ipython",
    "version": 3
   },
   "file_extension": ".py",
   "mimetype": "text/x-python",
   "name": "python",
   "nbconvert_exporter": "python",
   "pygments_lexer": "ipython3",
   "version": "3.7.9"
  },
  "toc": {
   "base_numbering": 1,
   "nav_menu": {},
   "number_sections": true,
   "sideBar": true,
   "skip_h1_title": false,
   "title_cell": "Table of Contents",
   "title_sidebar": "Contents",
   "toc_cell": false,
   "toc_position": {
    "height": "calc(100% - 180px)",
    "left": "10px",
    "top": "150px",
    "width": "165px"
   },
   "toc_section_display": true,
   "toc_window_display": true
  }
 },
 "nbformat": 4,
 "nbformat_minor": 5
}
