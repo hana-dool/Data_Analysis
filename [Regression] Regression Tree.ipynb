{
 "cells": [
  {
   "cell_type": "markdown",
   "metadata": {},
   "source": [
    "Regression Tree"
   ]
  },
  {
   "cell_type": "markdown",
   "metadata": {},
   "source": [
    "예측값 $\\hat{y}$을 다음처럼 각 특징값 영역마다 고정된 값 $y_1, y_2$를 사용하고,\n",
    "\n",
    "$$ \n",
    "\\hat{y} = \n",
    "\\begin{cases} \n",
    "y_1 & \\text{ if } x \\geq x_{\\text{threshold}} \\\\ \n",
    "y_2 & \\text{ if } x < x_{\\text{threshold}}\n",
    "\\end{cases} $$\n",
    "\n",
    "기준값 및 $y_1, y_2$를 선택하는 목적함수로 오차 제곱합을 사용하면 회귀분석를 할 수 있다. 이러한 모형을 회귀 나무(regression tree)라고 한다."
   ]
  },
  {
   "cell_type": "code",
   "execution_count": 10,
   "metadata": {},
   "outputs": [],
   "source": [
    "import numpy as np\n",
    "import pandas as pd\n",
    "import seaborn as sns\n",
    "import matplotlib as mpl\n",
    "import matplotlib.pyplot as plt"
   ]
  },
  {
   "cell_type": "code",
   "execution_count": 19,
   "metadata": {},
   "outputs": [],
   "source": [
    "from sklearn.tree import DecisionTreeRegressor\n",
    "\n",
    "np.random.seed(42)\n",
    "m = 200\n",
    "X = np.random.rand(m, 1)\n",
    "y = 4 * (X - 0.5) ** 2\n",
    "y = y + np.random.randn(m, 1) / 10"
   ]
  },
  {
   "cell_type": "code",
   "execution_count": 20,
   "metadata": {},
   "outputs": [],
   "source": [
    "#DecisionTreeRegressor()\n",
    "# criterion : 불순성의 기준을 뭐로 할지 'gini'(defalut) / 'entropy'\n",
    "# 다음의 parameterm 들으 overfitting 을 해결해준다.\n",
    "# max_depth : 트리의 최대 깊이. \n",
    "#           : (defalut) full tree 가 될때까지 확장.\n",
    "#           : 이를 이용해 사전 가지치기를 하고/ overfitting 을 해결할 수 있다.\n",
    "# min_samples_split : 노드에서 가지 분리할 떄 필요한 최소 sample 갯수에 제한을 준다.\n",
    "#                   : (default) = 2 \n",
    "# min_samples_leaf : leaf 에서 가져야 할 최소 sample \n",
    "#                  : (default) = 1\n",
    "# max_features : Decision tree 를 만들때 사용할 수 있는 변수의 갯수 제한\n",
    "#              : (default) = 총 변수 갯수 사용"
   ]
  },
  {
   "cell_type": "code",
   "execution_count": 37,
   "metadata": {},
   "outputs": [
    {
     "data": {
      "image/png": "[encoded data removed]",
      "text/plain": [
       "<Figure size 432x288 with 1 Axes>"
      ]
     },
     "metadata": {
      "needs_background": "light"
     },
     "output_type": "display_data"
    }
   ],
   "source": [
    "model = DecisionTreeRegressor( max_depth=3)\n",
    "model.fit(X, y)\n",
    "\n",
    "X_test = np.arange(0.0, 1, 0.005)[:, np.newaxis]\n",
    "y_hat = model.predict(X_test)\n",
    "\n",
    "# Plot the results\n",
    "plt.scatter(X, y, s=20, edgecolor=\"black\", c=\"darkorange\", label=\"data\")\n",
    "plt.plot(X_test, y_hat, color=\"cornflowerblue\", linewidth=2, label=\"prediction\")\n",
    "plt.xlabel(\"x\")\n",
    "plt.ylabel(r\"$y$ & $\\hat{y}$\")\n",
    "plt.title(\"regression tree\")\n",
    "plt.legend();"
   ]
  },
  {
   "cell_type": "markdown",
   "metadata": {},
   "source": [
    "그냥 하면 과적합이다. 하지만 min_samples_leaf=10 ,  max_depth = 3 등의 parameter 조정을 통해 과적합을 어느정도 줄일 수 있다."
   ]
  },
  {
   "cell_type": "code",
   "execution_count": null,
   "metadata": {},
   "outputs": [],
   "source": []
  }
 ],
 "metadata": {
  "kernelspec": {
   "display_name": "Python 3",
   "language": "python",
   "name": "python3"
  },
  "language_info": {
   "codemirror_mode": {
    "name": "ipython",
    "version": 3
   },
   "file_extension": ".py",
   "mimetype": "text/x-python",
   "name": "python",
   "nbconvert_exporter": "python",
   "pygments_lexer": "ipython3",
   "version": "3.7.3"
  },
  "toc": {
   "base_numbering": 1,
   "nav_menu": {},
   "number_sections": true,
   "sideBar": true,
   "skip_h1_title": false,
   "title_cell": "Table of Contents",
   "title_sidebar": "Contents",
   "toc_cell": false,
   "toc_position": {},
   "toc_section_display": true,
   "toc_window_display": false
  },
  "varInspector": {
   "cols": {
    "lenName": 16,
    "lenType": 16,
    "lenVar": 40
   },
   "kernels_config": {
    "python": {
     "delete_cmd_postfix": "",
     "delete_cmd_prefix": "del ",
     "library": "var_list.py",
     "varRefreshCmd": "print(var_dic_list())"
    },
    "r": {
     "delete_cmd_postfix": ") ",
     "delete_cmd_prefix": "rm(",
     "library": "var_list.r",
     "varRefreshCmd": "cat(var_dic_list()) "
    }
   },
   "types_to_exclude": [
    "module",
    "function",
    "builtin_function_or_method",
    "instance",
    "_Feature"
   ],
   "window_display": false
  }
 },
 "nbformat": 4,
 "nbformat_minor": 2
}
