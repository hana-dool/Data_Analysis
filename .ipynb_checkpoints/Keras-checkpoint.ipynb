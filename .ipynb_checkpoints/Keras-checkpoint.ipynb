{
 "cells": [
  {
   "cell_type": "code",
   "execution_count": 44,
   "metadata": {},
   "outputs": [],
   "source": [
    "import tensorflow as tf\n",
    "from tensorflow import keras\n",
    "import numpy as np\n",
    "import pandas as pd\n",
    "from IPython.display import Image\n",
    "import matplotlib.pyplot as plt\n",
    "\n",
    "np.random.seed(42)\n",
    "tf.random.set_seed(42)"
   ]
  },
  {
   "cell_type": "markdown",
   "metadata": {},
   "source": [
    "from tensorflow import keras 로 먼저 import 한다."
   ]
  },
  {
   "cell_type": "markdown",
   "metadata": {},
   "source": [
    "# 모델형성"
   ]
  },
  {
   "cell_type": "markdown",
   "metadata": {},
   "source": [
    "numpy / pandas # 데이터셋 형성하기"
   ]
  },
  {
   "cell_type": "markdown",
   "metadata": {},
   "source": [
    "## keras.model.Sequential()"
   ]
  },
  {
   "cell_type": "markdown",
   "metadata": {},
   "source": [
    "instance를 생성한다. 제일 먼저 이루어져야 하는 층"
   ]
  },
  {
   "cell_type": "markdown",
   "metadata": {},
   "source": [
    "## model.add()"
   ]
  },
  {
   "cell_type": "markdown",
   "metadata": {},
   "source": [
    "모델을 층(layer)을 쌓아가면서 구성한다.<br>\n",
    "\n",
    "### keras.layers.Dense()\n",
    "\n",
    "fully connected layer 를 추가한다.\n",
    "\n",
    "- units(첫번째 인자) : <br>\n",
    "    맨 앞에 쓰이는 정수값으로서 output의 갯수를 의미 <Br>\n",
    "- input_dim : <br> \n",
    "    맨 앞의 layer 층에서 쓰인다. 입력데이터 X의 한 샘플에 대한 모양의 dim 을 적어주면 된다. <br>\n",
    "    주로 X_train.shape[1:] 를 쓴다. (X_train 의 row(데이터 수) 가 제일 앞에 나오고 그 뒤는 데이터의 형태이기 떄문)\n",
    "- activation : 활성화함수를 추가한다.<br>\n",
    "    SELU>ELU>Leakyrelu>Relu>Tanh>Sigmoid 일반적 성능 순서 <br>\n",
    "    - linear\n",
    "        - 디폴트값. 활성화 함수 없이 그냥 뉴런과 가중치의 계산 결과 그대로 출력\n",
    "    - sigmoid\n",
    "        - 주로 이진분류문제의 맨 마지막 출력층에 사용 \n",
    "    - softmax\n",
    "        - 주로 다중클래스분류의 맨 마지막 출력층에 사용되어 확률을 출력\n",
    "    - relu \n",
    "        - hidden layer 에 주로 사용되는 활성화함수\n",
    "        - 널리 사용되어 많은 library/cpu 등이 최적화되어있음 즉 속도가 제일빠르다.\n",
    "    - LeakyRelu\n",
    "        - 하이퍼파라미터 a 가 새는 정도를 결정한다.\n",
    "        - relu 보다 성능이 뛰어나다고 한다.\n",
    "    - PReLU \n",
    "        - a 를 변수취급하여, 모델이 학습할떄에 변한다.\n",
    "        - 성능이 좋지만, parameter 가 하나 늘어 과적합 우려(즉 데이터셋 클떄 시도해보자)\n",
    "    - ELU \n",
    "        - a=1 일때 모든구간에서 매끄러워 경사하강법의 속도를 올려준다.\n",
    "        - relu 보다 성능 뛰어남\n",
    "    - selu\n",
    "        - 조건 : X_input 이 표준화 / 가중치는 르쿤표준화 / 네트워크는 일렬로 쌓여야 한다.\n",
    "        - 훈련하는 동안 자기정규화가 일어나서 각 층의 출력이 평균0, 분산1을 유지하는 경향이 있다.(그라디언트 explode/vanishing 을 막아준다.)\n",
    "        - 아주 깊은 network 에서 매우 좋은 성능을 낸다.\n",
    "- kernel_initializer=\"he_normal\"<br>\n",
    "    초기에 연결 가중치를 어떻게 초기화할지의 방법<br>\n",
    "    kernel initializer 가 초기화하는 부분은 노드 전에 이어져있는 부분이다. -(이부분의 w)- node\n",
    "    - he_normal/he_uniform : HE 초기화. Relu 함수와 그 변종(LeakyRelu/PRelu/Elu 등) 을 위한 초기화방법<br> \n",
    "    - GlorotNormal/GlorotUniform(default) : 글로럿 초기화. 활성화함수가 없거나, tanh/sigmoid/softmax 를 위한 초기화방법<br>\n",
    "    - lecun_normal : 르쿤 초기화. SELU 를 위한 초기화방법<br>\n",
    "- kernel_regularizer<br>\n",
    "    규제를 준다"
   ]
  },
  {
   "cell_type": "markdown",
   "metadata": {},
   "source": [
    "### keras.layers.Flatten()\n",
    "\n",
    "input 에 대해서 1dim 의 벡터 형태의 데이터로 변환해준다.\n",
    "   \n",
    "- input_shape=[]<br>\n",
    "    input으로 받는 데이터의 모양 (ex [28,28])\n",
    "   "
   ]
  },
  {
   "cell_type": "markdown",
   "metadata": {},
   "source": [
    "### keras.layers.BatchNormalization()\n",
    "\n",
    "배치 정규화.  입력값에 대해서 정규화를 통해 스케일과 평균을 조절해 데이터의 분포를 비슷하게 맞춰준다. <br>\n",
    "주로 활성화 함수를 통과하기 전에 실행한다.<br>\n",
    "\n",
    "\n",
    "   "
   ]
  },
  {
   "cell_type": "markdown",
   "metadata": {},
   "source": [
    "### keras.layers.Dropout()"
   ]
  },
  {
   "cell_type": "markdown",
   "metadata": {},
   "source": [
    "- drop out 은 test 시에는 사용하면 안된다! pytorch 에서는 이것을 위해 따로 지정해주어야 하지만 keras 에서는 자동으로 꺼준다 ^^"
   ]
  },
  {
   "cell_type": "markdown",
   "metadata": {},
   "source": [
    "### keras.layers.AlphaDropout()\n"
   ]
  },
  {
   "cell_type": "markdown",
   "metadata": {},
   "source": [
    "## model.compile()\n",
    "\n",
    "손실함수 정의 등 학습과정 설정"
   ]
  },
  {
   "cell_type": "markdown",
   "metadata": {},
   "source": [
    "### optimizer\n",
    "\n",
    "최적화 방법\n",
    "\n",
    "- sgd      = keras.optimizers.SGD(lr=0.001, momentum=0.9)\n",
    "- momentum = keras.optimizers.SGD(lr=0.001, momentum=0.9, nesterov=True)\n",
    "- Adagrad  = keras.optimizers.Adagrad(lr=0.001)\n",
    "- RMSprop  = keras.optimizers.RMSprop(lr=0.001, rho=0.9)\n",
    "- Adam     = keras.optimizers.Adam(lr=0.001, beta_1=0.9, beta_2=0.999)\n",
    "- Adamax   = keras.optimizers.Adamax(lr=0.001, beta_1=0.9, beta_2=0.999)\n",
    "- Nadam    = keras.optimizers.Nadam(lr=0.001, beta_1=0.9, beta_2=0.999)<br>\n",
    "<BR>\n",
    "이때에 위에 parameter 외에 opimizer 에 추가할수 있는것은\n",
    "- decay : learning rate 를 학습마다 얼마나 줄어들지\n",
    "- gradient 제한 (사실 보통의 네트워크는 batch normalization 이면 충분하다. 하지만 RNN 같이 배치정규화를 적용하기 힘든경우 이런방법을 쓴다고 한다.)\n",
    "    - clipvalue = 1.0 : 그라디언트 모든 값의 상/하안은 1/-1 이다. 즉 [100,0.5] -> [1,0.5] <br>\n",
    "    - clipnorm = 1.0 : l_2 norm 이 1보다 큰 경우 값이 비율을 유지한채로 줄인다. [100,0.5] -> [0.99995 , 0.0008]"
   ]
  },
  {
   "cell_type": "markdown",
   "metadata": {},
   "source": [
    "### loss\n",
    "\n",
    "손실함수. 모델 fitting 시 이걸 기준으로 최적화\n",
    " - mse : mean squared error\n",
    " - binary_crossentropy <br>\n",
    "     : 이진분류를 할 떄에 corss entropy계산 <br>\n",
    "     : 이진분류시 출력층 : sigmoid + 손실함수 binary cross entropy 사용\n",
    " - categorical_crossentropy <br>\n",
    "     : y가 one hot incoding 이 되어있는 경우 cross entropy를 계산 (target과 output의 shape가 같아야 함) <br>\n",
    "     : softmax 출력층과 같이 사용된다.\n",
    " - sparse_categorical_crossentropy <br>\n",
    "     : y가 ont hot incoding 이 안되있는경우 ex1~10 의 값을 가지는 1dim vector corss entropy 계산 <br>\n",
    "     : softmax 출력층과 같이 사용된다."
   ]
  },
  {
   "cell_type": "markdown",
   "metadata": {},
   "source": [
    "### metrics\n",
    "\n",
    "모델의 평가 기준 \n",
    " - accuracy (Calculates how often predictions equals labels) (회귀떄에는 사용불가. 의미가없음)"
   ]
  },
  {
   "cell_type": "markdown",
   "metadata": {},
   "source": [
    "## model.fit()\n",
    "\n",
    "**첫번째 인자**\n",
    "\n",
    "X_train\n",
    "\n",
    "**두번째 인자**\n",
    "\n",
    "y_train\n",
    "\n",
    "**batch_size = 32(default)**<br>\n",
    "   \n",
    "학습할떄 몇개의 Sample 을 묶어서 update 할떄에 적용할지\n",
    " \n",
    "**epochs =5**<br>\n",
    "\n",
    "총 데이터를 몇번 반복해서 학습할지\n",
    "       \n",
    "**shuffle =True**<br>\n",
    "\n",
    "학습하면서 set 을 random 하게 섞을지\n",
    "        \n",
    "**verbose = 1(default)**<br>\n",
    "\n",
    "학습이 이루어지는 과정을 직접 볼지 안볼지 (default = 1 로 과정을 볼 수 있다.)\n",
    "\n",
    "**validation_data(X_val,y_val)**\n",
    "\n",
    "검증데이터를 사용한다.<br>\n",
    "검증데이터 사용시 각 에포크 마다 검증데이터의 정확도도 같이 출력이 되는데, 이 경우 훈련이 잘 되고있는지를 보여줄 뿐이며 실제로 모델이 검증데이터를 학습하지는 않는다. <br>\n",
    "검증데이터의 loss 가 낮아지다가 높아지기 시작하면 이는 overfitting \n",
    " \n",
    "**validation_split = 0.2**<br>\n",
    "     \n",
    "검증데이터를 사용하는것은 동일하지만 , 별도로 존재하는 검증데이터를 주는게 아니라 , X_train과 y_train에서 일정 비율을 분리하여 이를 검증 데이터로 사용한다.<br>\n",
    "역시나 훈련 자체에는 반영되지 않고 훈련 과정을 지켜보기 위한 용도로 사용. validation_data 대신 사용 가능하다."
   ]
  },
  {
   "cell_type": "markdown",
   "metadata": {},
   "source": [
    "### callback \n",
    "\n",
    "[checkpoint,earlystopping,tensorboard,lr_scheduler]\n",
    "\n",
    "**1.keras.callbacks.ModelCheckpoint()** <br>\n",
    "\n",
    "모델이 기준에 따라 제일 좋을떄에 저장하는 옵션\n",
    "\n",
    "checkpoint = keras.callbacks.ModelCheckpoint() <br>\n",
    "model.fit(callbacks=[checkpoint]) # 처럼 사용 <br>\n",
    "- filepath<br>\n",
    "    문자열. 모델 파일을 저장할 경로 <br>\n",
    "- monitor='val_loss' <br>\n",
    "    어떤것을 기준으로 모델을 저장할지 <br>\n",
    "- verbose=0, <br>\n",
    "- save_best_only=False <br>\n",
    "    save_best_only는 모델의 정확도가 최고값을 갱신했을 때만 저장하도록 하는 옵션 <br>\n",
    "- save_weights_only=False <br>\n",
    "    true 면 모델의 가중치만 저장된다. <br>\n",
    "- mode='auto'<br>\n",
    "    svae_best_only True 일 경우 <br>\n",
    "    min : 우리가 정한 기준의 최소값보다 낮을떄 저장 덧씌우기(loss)<br>\n",
    "    max : 우리가 정한 기준의 최대값보다 높을떄 모델 덧씌워서 저장(acc)<br>\n",
    "    auto : 우리가 정한 loss 에 따라 자동유추(추천!)<br> \n",
    "- period=1<br>\n",
    "    체크포인트 간격 <br>\n",
    "\n",
    "**2.keras.callbacks.EarlyStopping()** <br>\n",
    "\n",
    "모델이 기준에 따라 더 학습되지 않는다고 판단하면 멈추는 옵션\n",
    "\n",
    "earlystop = keras.callbacks.ModelEarlyStopping() <br>\n",
    "history = model.fit(callbacks=[earlystop]) # fitting 시에 EarlyStopping 이 같이 들어간다.\n",
    "- monitor='val_loss'<br>\n",
    "    어떤것을 기준으로 학습을 stop 할지 결정\n",
    "- min_delta=0 <br>\n",
    "    우리가 정한 기준을 바탕으로 모델이 향상되었다고 판단할 최소한의 변화. min delta 미만의 절대적 변화는 향상되었다고 판단하지 않는다.\n",
    "- patience=0<br>\n",
    "    개선이 없다고 바로 종료하지 않고, 인내를 가지고 기다려주는 값으로 epoch 를 몇번이나 더 허용할지 결정\n",
    "- verbose=0 <br>\n",
    "- mode='auto'<br>\n",
    "    min : 정한 기준값이 더이상 감소하지 않으면 학습이 멈춘다.(loss 와 사용)<br>\n",
    "    max : 정한 기준값이 더이상 증가하지 않으면 학습이 멈춘다.(acc 와 사용)<br>\n",
    "    auto : 우리가 정한 기준값에서 방향성이 자동으로 유추된다. <br>\n",
    "- baseline=None <br>\n",
    "    관찰하는 수량이 도달해야하는 베이스라인 값 모델이 베이스라인을 초과하는 향상을 보이지 않으면 학습이 멈춘다.\n",
    "- restore_best_weights=False <br>\n",
    "\n",
    "**3.keras.callbacks.TensorBoard()**\n",
    "\n",
    "**4.keras.callbacks.ReduceLROnPlateau()**\n",
    "\n",
    "학습률을 점점 줄여나가는 스케일링 옵션\n",
    "\n",
    "lr_scheduler = keras.callbacks.ReduceLROnPlateau(factor=0.5, patience=5)<br>\n",
    "history = model.fit(callbacks=[lr_scheduler])\n",
    "\n",
    "- factor = 0.1<br>\n",
    "    모델이 향상이 없으면 learning rate 를 얼마나 줄일지\n",
    "- patience = 10<br>\n",
    "    모델이 향상이 없을때 얼마나 더 지켜볼지"
   ]
  },
  {
   "cell_type": "markdown",
   "metadata": {},
   "source": [
    "## model.evaluate()\n",
    "\n",
    "**model.evaluate # 모델 평가하기**\n",
    "테스트 데이터를 통해 학습한 모델에 대한 정확도를 평가한다.\n",
    "\n",
    "- 첫번째 인자 = X_test\n",
    "\n",
    "- 두번쨰 인자 = y_test\n",
    "\n",
    "- batch_size :<br>\n",
    "    왜 evaluate 에 batch size 가 필요할까? 그건 계산속도를 빠르게 하기 위함이다. 묶어서 계산할뿐이라 값은 거의 차이 안난다.<br>\n",
    "    The evaluate function of Model has a batch size just in order to speed-up evaluation, as the network can process multiple samples at a time, and with a GPU this makes evaluation much faster. I think the only way to reduce the effect of this would be to set batch_size to one.\n"
   ]
  },
  {
   "cell_type": "markdown",
   "metadata": {},
   "source": [
    "## model.predict()\n",
    "\n",
    "**model.predict() # 모델 예측하기**\n",
    "\n",
    "- 첫번째 인자 : 예측하고자 하는 데이터 (X_input)\n",
    "- 가장 높은 클래스에만 관심이 있으면 model.predict_classes 를 쓴다.\n",
    "    - y_pred = model.predict_classes(X_new)<br>\n",
    "      y_pred"
   ]
  },
  {
   "cell_type": "markdown",
   "metadata": {},
   "source": [
    "# 모델 살펴보기\n",
    "\n",
    "history = model.fit(X,y) 으로 fitting 해서 model 을 형성했다고 하자."
   ]
  },
  {
   "cell_type": "markdown",
   "metadata": {},
   "source": [
    "## fit.history()\n",
    "\n",
    "**fit.history**\n",
    "\n",
    "fit = model.fit() 으로 학습시키고 나면, 이제 이 fit 에는 우리가 학습시킬때의 과정중에서 loss. accuracy(모델의 성능평가 metric 에서 지정한 기준으로) 가 어떻게 변화하였는지를 알려주는 dictionary 가 형성된다. key와 value 를 이용해서 그래프를 그려서 학습과정을 시각화할 수 있을것이다.<br>\n",
    "- pd.DataFrame(fit.history).plot()<br>\n",
    "    - 이 명령어를 사용하면 각 epoch 별 loss,accuracy 의 변화를 살펴볼 수 있다. <br>\n",
    "    - 이떄에 만일 fit에서 validation data 도 설정하였다면 이 validation set 에서의 loss/ accuracy 또한 같이 산출해준다. <br>\n",
    "    - 그래프를 보면 초기에 validation에서의 accuracy/loss가 train 에 비해 더 낮아보인다. 이는 있을 수 없는일인데(fitting 이 train 에 대해서 일어나므로) 왜 이런현상이 일어나냐면, validation 의 accuracy/loss 는 epoch 가 끝난 후 측정되고, train 의 accuracy/loss 는 훈련도중에 형성이 되기떄문에, validation 의 경우는 좀 더 완벽한 모델에 대해서 평가가 되기 떄문이다."
   ]
  },
  {
   "cell_type": "markdown",
   "metadata": {},
   "source": [
    "## keras.utils.plot_model()\n",
    "모델이 어떻게 생겼고, 어떤 flow 를 가지는지 모두 보여준다. <br>\n",
    "keras.utils.plot_model(model, show_shapes=True)"
   ]
  },
  {
   "cell_type": "markdown",
   "metadata": {},
   "source": [
    "## model.summary()\n",
    "\n",
    "**model.summary()**<br>\n",
    "우리가 정의한 모델의 구성요소/ 구조 등을 보여준다."
   ]
  },
  {
   "cell_type": "markdown",
   "metadata": {},
   "source": [
    "## model.layers()\n",
    "\n",
    "**model.layers**<br>\n",
    "우리가 쌓아올린 model 들의 layer 들을 살펴볼 수 있다. <br>\n",
    "- hidden1 = model.layers[1] <br>\n",
    "    weights, biases = hidden1.get_weights() <br>\n",
    "\n",
    "처럼 layers 의 개별 layer를 하나만 떼어놓은 뒤에 그 layer 의 weights/ biases 값이 구체적으로 어떤값을 가지는지 조사할 수도 있다."
   ]
  },
  {
   "cell_type": "markdown",
   "metadata": {},
   "source": [
    "# 모델 저장 및 불러오기\n",
    "\n",
    "model.fit() 으로 모델을 fitting 했다고 하자. 그러면<br>"
   ]
  },
  {
   "cell_type": "markdown",
   "metadata": {},
   "source": [
    "## model.save()\n",
    "model.save(\"모델이름.h5\")<br>\n",
    "모델을 쥬피터노트북과 같은 경로에 h5 확장자를 가지게 저장한다.<br>"
   ]
  },
  {
   "cell_type": "markdown",
   "metadata": {},
   "source": [
    "## keras.models.load_model()\n",
    "model = keras.models.load_model(\"모델이름.h5\")<br>\n",
    "저장한 모델을 불러온다."
   ]
  },
  {
   "cell_type": "markdown",
   "metadata": {},
   "source": [
    "# keras 모델 예시 및 팁"
   ]
  },
  {
   "cell_type": "markdown",
   "metadata": {},
   "source": [
    "- x 데이터가 적은 경우에는 hidden layer 를 작게 만들자.\n",
    "- 데이터가 잡음이 심한경우, 과적합되면 매우 안좋으므로 hidden layer 를 작게 만들자.\n",
    "- minibatch 의 사이즈는 2의 배수로 설정하자. (컴퓨터 연산의 효율성을 위해서)\n",
    "- minibatch 의 사이즈는 너무 크게(global min 에 잘 가지만 느림)/ 작게(빠르지만 방향이 안좋음) 말고 적당히 조절해야한다.\n",
    "- 많은 수의 범주를 분류할 때 중간층의 크기가 너무 작아 네트워크에 정보의 병목이 생기지 않도록 해야 합니다. 예를 들어서 <br>\n",
    "    model = keras.models.Sequential() <br>\n",
    "    model.add(keras.layers.Dense(64, activation='relu', input_shape=(10000,))) <br>\n",
    "    model.add(keras.layers.Dense(4, activation='relu')) <br>\n",
    "    model.add(keras.layers.Dense(46, activation='softmax')) <br>\n",
    "    이런식으로 model 을 짠다면 중간의 4개의 hidden nodes 층에서, 많은 정보(46개 클래스의 분할 초평면을 복원하기에 충분한 정보)를 중간층의 저차원 표현 공간으로 압축하려고 했기 때문입니다. 이 네트워크는 잘 학습하려고 필요한 정보 대부분을 4차원 표현 안에 구겨 넣으려 해도 전부는 넣지는 못했습니다.\n",
    "- 다중 분류에서 레이블을 다루는 두 가지 방법이 있습니다.\n",
    "    - 레이블을 범주형 인코딩(또는 원-핫 인코딩)으로 인코딩하고 `categorical_crossentropy` 손실 함수를 사용합니다.\n",
    "    - 레이블을 정수로 인코딩하고 `sparse_categorical_crossentropy` 손실 함수를 사용합니다.\n",
    "- X 데이터에 대해, 각 특성이 상이한 스케일을 가진 값을 신경망에 주입하면 문제가 됩니다. 네트워크가 이런 다양한 데이터에 자동으로 맞추려고 할 수 있지만 이는 확실히 학습을 더 어렵게 만듭니다. 이런 데이터를 다룰 때 대표적인 방법은 특성별로 정규화를 하는 것입니다.   \n",
    "- 회귀는 분류에서 사용했던 것과는 다른 손실 함수를 사용합니다. 평균 제곱 오차(MSE)는 회귀에서 자주 사용되는 손실 함수입니다.\n",
    "- 비슷하게 회귀에서 사용되는 평가 지표는 분류와 다릅니다. 당연히 정확도 개념은 회귀에 적용되지 않습니다. 일반적인 회귀 지표는 평균 절대 오차(MAE)입니다.<br>\n",
    "    MAE 를 사용할경우, 해석이 훨씬 쉽다. MAE=5 가 나온다면, 평균적으로 5정도 차이가 난다는것이다.\n",
    "- parameter 가 많은 네트워크는 epochs 가 진행될수록 loss  매우 빠르게 0에 가까워집니다. 즉 복잡한 네트워크일수록 더 빠르게 훈련 데이터를 모델링할 수 있습니다(결국 훈련 손실이 낮아집니다). 하지만 더욱 과대적합의 가능성이 커집니다. (복잡한 모델이라 train set 에 지나치게 fitting 될 가능성이 크기떄문)\n",
    "- 과대적합을 피하려면 - \n",
    "    * 훈련 데이터를 더 모읍니다.\n",
    "    * 네트워크의 복잡성을 감소시킵니다.\n",
    "    * 가중치 규제를 추가합니다.(L1,L2)\n",
    "    * 드롭아웃을 추가합니다(이제 BEST 인듯!)\n",
    "\n"
   ]
  },
  {
   "cell_type": "markdown",
   "metadata": {},
   "source": [
    "## 지름길이 있는 model"
   ]
  },
  {
   "cell_type": "markdown",
   "metadata": {},
   "source": [
    "- 신경망이 복잡한 패턴(깊게 쌓은 층의 신경망 이용) 과 간단한 패턴(짧은 경로를 사용한 신경망 이용) 을 모두 학습 가능\n",
    "- 그냥 층을 쌓아서 만들면 간단한 패턴의 데이터가 연속된 층을 많이 지나가면서 왜곡될 수 있다."
   ]
  },
  {
   "cell_type": "code",
   "execution_count": 7,
   "metadata": {},
   "outputs": [],
   "source": [
    "from sklearn.datasets import fetch_california_housing\n",
    "from sklearn.model_selection import train_test_split\n",
    "from sklearn.preprocessing import StandardScaler\n",
    "\n",
    "housing = fetch_california_housing()\n",
    "\n",
    "X_train, X_test, y_train, y_test = train_test_split(housing.data, housing.target, random_state=42) \n",
    "# test size 는 default 로 0.25\n",
    "\n",
    "# X data scaling\n",
    "scaler = StandardScaler() \n",
    "X_train = scaler.fit_transform(X_train)\n",
    "X_test = scaler.transform(X_test)"
   ]
  },
  {
   "cell_type": "code",
   "execution_count": 8,
   "metadata": {},
   "outputs": [
    {
     "data": {
      "image/jpeg": "[encoded data removed]",
      "text/plain": [
       "<IPython.core.display.Image object>"
      ]
     },
     "execution_count": 8,
     "metadata": {},
     "output_type": "execute_result"
    }
   ],
   "source": [
    "Image(\"C:/Users/goran/Desktop/Python/Images/keras1.jpg\") "
   ]
  },
  {
   "cell_type": "code",
   "execution_count": 39,
   "metadata": {
    "scrolled": false
   },
   "outputs": [
    {
     "name": "stdout",
     "output_type": "stream",
     "text": [
      "Train on 13932 samples, validate on 1548 samples\n",
      "Epoch 1/20\n",
      "13932/13932 [==============================] - 1s 50us/sample - loss: 1.2714 - mae: 0.7803 - val_loss: 0.5292 - val_mae: 0.5308\n",
      "Epoch 2/20\n",
      "13932/13932 [==============================] - 0s 33us/sample - loss: 0.4575 - mae: 0.4815 - val_loss: 0.4444 - val_mae: 0.4684\n",
      "Epoch 3/20\n",
      "13932/13932 [==============================] - 0s 29us/sample - loss: 0.4028 - mae: 0.4528 - val_loss: 0.4167 - val_mae: 0.4612\n",
      "Epoch 4/20\n",
      "13932/13932 [==============================] - 0s 27us/sample - loss: 0.3859 - mae: 0.4426 - val_loss: 0.4041 - val_mae: 0.4473\n",
      "Epoch 5/20\n",
      "13932/13932 [==============================] - 0s 27us/sample - loss: 0.3777 - mae: 0.4340 - val_loss: 0.3984 - val_mae: 0.4475\n",
      "Epoch 6/20\n",
      "13932/13932 [==============================] - 0s 27us/sample - loss: 0.3623 - mae: 0.4266 - val_loss: 0.3939 - val_mae: 0.4420\n",
      "Epoch 7/20\n",
      "13932/13932 [==============================] - 0s 29us/sample - loss: 0.3529 - mae: 0.4203 - val_loss: 0.3919 - val_mae: 0.4565\n",
      "Epoch 8/20\n",
      "13932/13932 [==============================] - 0s 29us/sample - loss: 0.3528 - mae: 0.4146 - val_loss: 0.3707 - val_mae: 0.4242\n",
      "Epoch 9/20\n",
      "13932/13932 [==============================] - 0s 26us/sample - loss: 0.3401 - mae: 0.4106 - val_loss: 0.3718 - val_mae: 0.4382\n",
      "Epoch 10/20\n",
      "13932/13932 [==============================] - 0s 27us/sample - loss: 0.3327 - mae: 0.4052 - val_loss: 0.3597 - val_mae: 0.4188\n",
      "Epoch 11/20\n",
      "13932/13932 [==============================] - 0s 28us/sample - loss: 0.3253 - mae: 0.3996 - val_loss: 0.3531 - val_mae: 0.4077\n",
      "Epoch 12/20\n",
      "13932/13932 [==============================] - 0s 26us/sample - loss: 0.3326 - mae: 0.3981 - val_loss: 0.3549 - val_mae: 0.4084\n",
      "Epoch 13/20\n",
      "13932/13932 [==============================] - 0s 28us/sample - loss: 0.3199 - mae: 0.3941 - val_loss: 0.3451 - val_mae: 0.4098\n",
      "Epoch 14/20\n",
      "13932/13932 [==============================] - 1s 38us/sample - loss: 0.3134 - mae: 0.3906 - val_loss: 0.3410 - val_mae: 0.4103\n",
      "Epoch 15/20\n",
      "13932/13932 [==============================] - 0s 28us/sample - loss: 0.3154 - mae: 0.3899 - val_loss: 0.3394 - val_mae: 0.4134\n",
      "Epoch 16/20\n",
      "13932/13932 [==============================] - 0s 32us/sample - loss: 0.3089 - mae: 0.3871 - val_loss: 0.3398 - val_mae: 0.4016\n",
      "Epoch 17/20\n",
      "13932/13932 [==============================] - 0s 28us/sample - loss: 0.3038 - mae: 0.3838 - val_loss: 0.3418 - val_mae: 0.3968\n",
      "Epoch 18/20\n",
      "13932/13932 [==============================] - 0s 29us/sample - loss: 0.3093 - mae: 0.3857 - val_loss: 0.3329 - val_mae: 0.4041\n",
      "Epoch 19/20\n",
      "13932/13932 [==============================] - 0s 30us/sample - loss: 0.3055 - mae: 0.3818 - val_loss: 0.3270 - val_mae: 0.3973\n",
      "Epoch 20/20\n",
      "13932/13932 [==============================] - 0s 29us/sample - loss: 0.2974 - mae: 0.3791 - val_loss: 0.3276 - val_mae: 0.3939\n",
      "5160/5160 [==============================] - 0s 27us/sample - loss: 0.3075 - mae: 0.3845\n"
     ]
    }
   ],
   "source": [
    "#------ 모델 만들기 -----#\n",
    "input_ = keras.layers.Input(shape=X_train.shape[1:])\n",
    "# input 객체를 만들어야 한다. 이 객체는 shape / dtype 을 포함해서 모델의 입력을 정의\n",
    "hidden1 = keras.layers.Dense(30,activation=\"relu\")(input_) \n",
    "# 옆의 (input_) 를 통해 위에서 정의한 input_ 를 값으로 받는다.\n",
    "# 이 층은 만들어지자 마자 입력과 함께 함수처럼 호출됩니다. 그래서 함수형 api 라고 한다.\n",
    "hidden2 = keras.layers.Dense(30, activation=\"relu\")(hidden1)\n",
    "# 두번쨰 hidden layer 를 형성합니다. \n",
    "concat = keras.layers.concatenate([input_, hidden2])\n",
    "# concatenate 층을 만들고 또 다시 함수처럼 호출하여 두번쨰 은닉층의 출력과, 처음의 입력을 연결합니다.\n",
    "output = keras.layers.Dense(1)(concat)\n",
    "# 하나의 뉴런과 활성화 함수가 없는 출력층을 만들고 Concatenate 층이 만든 결과를 활용해 호출합니다.\n",
    "model = keras.models.Model(inputs=[input_], outputs=[output]) # 마지막 모델에서는 input / output 을 모두 표시해준다.\n",
    "# 마지막으로 사용할 입력과 출력을 지정해 케라스 model 을 만듭니다.\n",
    "\n",
    "#-----모델 compile-----#\n",
    "model.compile(loss=\"mean_squared_error\", # loss 는 회귀이므로 mse\n",
    "              optimizer=keras.optimizers.Adam(), # optimizer는 adam (sgd 해보면 처참하다...)\n",
    "              metrics = ['mae']) # 평가기준은 이상치에 별 영향 덜받고, 해석이 쉬운 MAE\n",
    "\n",
    "#-----모델 checkpoint-----#\n",
    "checkpoint = keras.callbacks.ModelCheckpoint(filepath=\"keras_model.h5\", #저장할 모델 이름\n",
    "                                             monitor = 'val_loss', #monitoring 할 기준\n",
    "                                             save_best_only=True ) # \n",
    "\n",
    "#-----모델 fitting-----#\n",
    "fit = model.fit(X_train, y_train,\n",
    "               epochs=20,\n",
    "               validation_split=0.1,\n",
    "               callbacks=[checkpoint])\n",
    "\n",
    "#----- 모델 롤백-----#\n",
    "model = keras.models.load_model(filepath = \"keras_model.h5\")\n",
    "\n",
    "#----- 모델 평가-----#\n",
    "result = model.evaluate(X_test, y_test)\n",
    "\n",
    "#-----모델 predict-----#\n",
    "y_pred = model.predict(X_test)"
   ]
  },
  {
   "cell_type": "code",
   "execution_count": 40,
   "metadata": {
    "scrolled": false
   },
   "outputs": [
    {
     "data": {
      "image/png": "[encoded data removed]",
      "text/plain": [
       "<IPython.core.display.Image object>"
      ]
     },
     "execution_count": 40,
     "metadata": {},
     "output_type": "execute_result"
    }
   ],
   "source": [
    "keras.utils.plot_model(model, show_shapes=True)"
   ]
  },
  {
   "cell_type": "code",
   "execution_count": 41,
   "metadata": {},
   "outputs": [
    {
     "name": "stdout",
     "output_type": "stream",
     "text": [
      "Model: \"model_12\"\n",
      "__________________________________________________________________________________________________\n",
      "Layer (type)                    Output Shape         Param #     Connected to                     \n",
      "==================================================================================================\n",
      "input_13 (InputLayer)           [(None, 8)]          0                                            \n",
      "__________________________________________________________________________________________________\n",
      "dense_36 (Dense)                (None, 30)           270         input_13[0][0]                   \n",
      "__________________________________________________________________________________________________\n",
      "dense_37 (Dense)                (None, 30)           930         dense_36[0][0]                   \n",
      "__________________________________________________________________________________________________\n",
      "concatenate_12 (Concatenate)    (None, 38)           0           input_13[0][0]                   \n",
      "                                                                 dense_37[0][0]                   \n",
      "__________________________________________________________________________________________________\n",
      "dense_38 (Dense)                (None, 1)            39          concatenate_12[0][0]             \n",
      "==================================================================================================\n",
      "Total params: 1,239\n",
      "Trainable params: 1,239\n",
      "Non-trainable params: 0\n",
      "__________________________________________________________________________________________________\n"
     ]
    }
   ],
   "source": [
    "model.summary() # parameter 수가 1239개로 model 에 비해 적은거같기도하고,,"
   ]
  },
  {
   "cell_type": "code",
   "execution_count": 37,
   "metadata": {},
   "outputs": [
    {
     "data": {
      "image/png": "[encoded data removed]",
      "text/plain": [
       "<Figure size 432x288 with 1 Axes>"
      ]
     },
     "metadata": {
      "needs_background": "light"
     },
     "output_type": "display_data"
    }
   ],
   "source": [
    " pd.DataFrame(fit.history).plot() ; # 과적합은 안일어난듯. 계속되면서 val_loss가 줄어든다."
   ]
  },
  {
   "cell_type": "markdown",
   "metadata": {},
   "source": [
    "와이드나 딥 경로에 다른 입력 특성을 전달하면 어떻게 될까요? (특성 0에서 4까지) 5개의 특성을 와이드 경로에 보내고 (특성 2에서 7까지) 6개의 특성을 딥 경로에 전달하겠습니다. 3개의 특성(특성 2, 3, 4)은 양쪽에 모두 전달됩니다."
   ]
  },
  {
   "cell_type": "markdown",
   "metadata": {},
   "source": [
    "## 입력층이 여러개인 model"
   ]
  },
  {
   "cell_type": "markdown",
   "metadata": {},
   "source": [
    "- 일부 특성은 짧은 경로로 전달하고, 다른 특성은 깊은 경로로 전달하고싶을때에 사용한다."
   ]
  },
  {
   "cell_type": "code",
   "execution_count": 48,
   "metadata": {
    "scrolled": false
   },
   "outputs": [
    {
     "data": {
      "image/jpeg": "[encoded data removed]",
      "text/plain": [
       "<IPython.core.display.Image object>"
      ]
     },
     "execution_count": 48,
     "metadata": {},
     "output_type": "execute_result"
    }
   ],
   "source": [
    "Image(\"C:/Users/goran/Desktop/Python/Images/keras2.jpg\") "
   ]
  },
  {
   "cell_type": "markdown",
   "metadata": {},
   "source": [
    "- 먼저 X 의 특성 중 매우 간단할것 같은것들은 짧은 경로를 이용하게 하고 싶을떄에 INPUT A 에 넣고\n",
    "- X 의 특성중 매우 복잡해보이는것 같아서 깊은 경로를 이용하고싶을 떄에 INPUT B 에 넣자. (A,B 경로에 중복될 수 있다!)"
   ]
  },
  {
   "cell_type": "code",
   "execution_count": 50,
   "metadata": {},
   "outputs": [
    {
     "data": {
      "text/plain": [
       "(15480, 8)"
      ]
     },
     "execution_count": 50,
     "metadata": {},
     "output_type": "execute_result"
    }
   ],
   "source": [
    "X_train.shape"
   ]
  },
  {
   "cell_type": "code",
   "execution_count": 51,
   "metadata": {},
   "outputs": [],
   "source": [
    "X_train_A, X_train_B = X_train[:, 0:5], X_train[:, 5:]\n",
    "X_test_A, X_test_B = X_test[:, 0:5], X_test[:, 5:]\n",
    "X_new_A, X_new_B = X_test_A[:3], X_test_B[:3]"
   ]
  },
  {
   "cell_type": "code",
   "execution_count": 64,
   "metadata": {
    "scrolled": false
   },
   "outputs": [
    {
     "name": "stdout",
     "output_type": "stream",
     "text": [
      "Train on 13932 samples, validate on 1548 samples\n",
      "Epoch 1/20\n",
      "13932/13932 [==============================] - 1s 51us/sample - loss: 1.9678 - mae: 0.9584 - val_loss: 0.8532 - val_mae: 0.6661\n",
      "Epoch 2/20\n",
      "13932/13932 [==============================] - 0s 32us/sample - loss: 0.6454 - mae: 0.5834 - val_loss: 0.5605 - val_mae: 0.5385\n",
      "Epoch 3/20\n",
      "13932/13932 [==============================] - 0s 29us/sample - loss: 0.4604 - mae: 0.4914 - val_loss: 0.4588 - val_mae: 0.4945\n",
      "Epoch 4/20\n",
      "13932/13932 [==============================] - 0s 31us/sample - loss: 0.4035 - mae: 0.4580 - val_loss: 0.4304 - val_mae: 0.4856\n",
      "Epoch 5/20\n",
      "13932/13932 [==============================] - 0s 28us/sample - loss: 0.3843 - mae: 0.4443 - val_loss: 0.4091 - val_mae: 0.4536\n",
      "Epoch 6/20\n",
      "13932/13932 [==============================] - 0s 30us/sample - loss: 0.3839 - mae: 0.4393 - val_loss: 0.4024 - val_mae: 0.4589\n",
      "Epoch 7/20\n",
      "13932/13932 [==============================] - 0s 28us/sample - loss: 0.3790 - mae: 0.4345 - val_loss: 0.3906 - val_mae: 0.4438\n",
      "Epoch 8/20\n",
      "13932/13932 [==============================] - 0s 31us/sample - loss: 0.3765 - mae: 0.4309 - val_loss: 0.3849 - val_mae: 0.4405\n",
      "Epoch 9/20\n",
      "13932/13932 [==============================] - 0s 29us/sample - loss: 0.3719 - mae: 0.4277 - val_loss: 0.3786 - val_mae: 0.4390\n",
      "Epoch 10/20\n",
      "13932/13932 [==============================] - 0s 28us/sample - loss: 0.3734 - mae: 0.4253 - val_loss: 0.3763 - val_mae: 0.4317\n",
      "Epoch 11/20\n",
      "13932/13932 [==============================] - 0s 29us/sample - loss: 0.3554 - mae: 0.4219 - val_loss: 0.3720 - val_mae: 0.4311\n",
      "Epoch 12/20\n",
      "13932/13932 [==============================] - 0s 28us/sample - loss: 0.3534 - mae: 0.4187 - val_loss: 0.3697 - val_mae: 0.4267\n",
      "Epoch 13/20\n",
      "13932/13932 [==============================] - 0s 28us/sample - loss: 0.3979 - mae: 0.4224 - val_loss: 0.3776 - val_mae: 0.4222\n",
      "Epoch 14/20\n",
      "13932/13932 [==============================] - 0s 29us/sample - loss: 0.3500 - mae: 0.4165 - val_loss: 0.3698 - val_mae: 0.4285\n",
      "Epoch 15/20\n",
      "13932/13932 [==============================] - 0s 29us/sample - loss: 0.3523 - mae: 0.4169 - val_loss: 0.3660 - val_mae: 0.4218\n",
      "Epoch 16/20\n",
      "13932/13932 [==============================] - 0s 31us/sample - loss: 0.3560 - mae: 0.4163 - val_loss: 0.3660 - val_mae: 0.4267\n",
      "Epoch 17/20\n",
      "13932/13932 [==============================] - 0s 30us/sample - loss: 0.3476 - mae: 0.4140 - val_loss: 0.3669 - val_mae: 0.4213\n",
      "Epoch 18/20\n",
      "13932/13932 [==============================] - 0s 30us/sample - loss: 0.3466 - mae: 0.4127 - val_loss: 0.3648 - val_mae: 0.4244\n",
      "Epoch 19/20\n",
      "13932/13932 [==============================] - 0s 27us/sample - loss: 0.3513 - mae: 0.4138 - val_loss: 0.3807 - val_mae: 0.4339\n",
      "Epoch 20/20\n",
      "13932/13932 [==============================] - 0s 27us/sample - loss: 0.4286 - mae: 0.4160 - val_loss: 0.3666 - val_mae: 0.4337\n",
      "5160/5160 [==============================] - 0s 26us/sample - loss: 0.3471 - mae: 0.4150\n"
     ]
    }
   ],
   "source": [
    "#----- 모델 만들기-----#\n",
    "input_A = keras.layers.Input(shape=[5], name=\"wide_input\") \n",
    "# name 은 이름을 붙여주는 것이다. 모델이 복잡해지면, 가장 중요한 층에는 이름을 붙여주는것이 나중에 해석할떄에 용이하다.\n",
    "# input A 의 input 특성은 5개인 1dim vector \n",
    "input_B = keras.layers.Input(shape=[3], name=\"deep_input\")\n",
    "# imput B 의 input 특성은 3개인 1dim vector\n",
    "hidden1 = keras.layers.Dense(30, activation=\"relu\")(input_B)\n",
    "hidden2 = keras.layers.Dense(30, activation=\"relu\")(hidden1)\n",
    "concat = keras.layers.concatenate([input_A, hidden2])\n",
    "output = keras.layers.Dense(1, name=\"output\")(concat)\n",
    "model = keras.models.Model(inputs=[input_A, input_B], outputs=[output])\n",
    "\n",
    "#------모델 compile-----#\n",
    "model.compile(loss=\"mean_squared_error\", # loss 는 회귀이므로 mse\n",
    "              optimizer=keras.optimizers.Adam(), # optimizer는 adam (sgd 해보면 처참하다...)\n",
    "              metrics = ['mae']) # 평가기준은 이상치에 별 영향 덜받고, 해석이 쉬운 MAE\n",
    "\n",
    "#------ 모델 checkpoint-----#\n",
    "checkpoint = keras.callbacks.ModelCheckpoint(filepath=\"keras_model2.h5\", #저장할 모델 이름\n",
    "                                             monitor = 'val_loss', #monitoring 할 기준\n",
    "                                             save_best_only=True ) # \n",
    "\n",
    "#------ 모델 fitting ------#\n",
    "fit = model.fit((X_train_A, X_train_B), y_train,\n",
    "                   epochs=20,\n",
    "                   validation_split=0.1,\n",
    "               callbacks=[checkpoint])\n",
    "# fit 과정에서 X_train 부분이 2dim 의 tuple 로 대체되었음을 기억하자.\n",
    "\n",
    "#------ 모델 롤백 ------#\n",
    "model = keras.models.load_model(filepath = \"keras_model2.h5\")\n",
    "\n",
    "#----- 모델 평가-----#\n",
    "result = model.evaluate((X_test_A, X_test_B), y_test)\n",
    "\n",
    "#-----모델 predict-----#\n",
    "y_pred = model.predict((X_test_A, X_test_B))"
   ]
  },
  {
   "cell_type": "code",
   "execution_count": 65,
   "metadata": {
    "scrolled": true
   },
   "outputs": [
    {
     "data": {
      "image/png": "[encoded data removed]",
      "text/plain": [
       "<IPython.core.display.Image object>"
      ]
     },
     "execution_count": 65,
     "metadata": {},
     "output_type": "execute_result"
    }
   ],
   "source": [
    "keras.utils.plot_model(model, show_shapes=True)"
   ]
  },
  {
   "cell_type": "code",
   "execution_count": 66,
   "metadata": {},
   "outputs": [
    {
     "name": "stdout",
     "output_type": "stream",
     "text": [
      "Model: \"model_21\"\n",
      "__________________________________________________________________________________________________\n",
      "Layer (type)                    Output Shape         Param #     Connected to                     \n",
      "==================================================================================================\n",
      "deep_input (InputLayer)         [(None, 3)]          0                                            \n",
      "__________________________________________________________________________________________________\n",
      "dense_55 (Dense)                (None, 30)           120         deep_input[0][0]                 \n",
      "__________________________________________________________________________________________________\n",
      "wide_input (InputLayer)         [(None, 5)]          0                                            \n",
      "__________________________________________________________________________________________________\n",
      "dense_56 (Dense)                (None, 30)           930         dense_55[0][0]                   \n",
      "__________________________________________________________________________________________________\n",
      "concatenate_21 (Concatenate)    (None, 35)           0           wide_input[0][0]                 \n",
      "                                                                 dense_56[0][0]                   \n",
      "__________________________________________________________________________________________________\n",
      "output (Dense)                  (None, 1)            36          concatenate_21[0][0]             \n",
      "==================================================================================================\n",
      "Total params: 1,086\n",
      "Trainable params: 1,086\n",
      "Non-trainable params: 0\n",
      "__________________________________________________________________________________________________\n"
     ]
    }
   ],
   "source": [
    "model.summary() #"
   ]
  },
  {
   "cell_type": "code",
   "execution_count": 67,
   "metadata": {},
   "outputs": [
    {
     "data": {
      "image/png": "[encoded data removed]",
      "text/plain": [
       "<Figure size 432x288 with 1 Axes>"
      ]
     },
     "metadata": {
      "needs_background": "light"
     },
     "output_type": "display_data"
    }
   ],
   "source": [
    " pd.DataFrame(fit.history).plot() ; # 과적합은 안일어난듯. 계속되면서 val_loss가 줄어든다."
   ]
  },
  {
   "cell_type": "markdown",
   "metadata": {},
   "source": [
    "## 출력층에 여러개인 model"
   ]
  },
  {
   "cell_type": "markdown",
   "metadata": {},
   "source": [
    "- 여려 출력이 필요한 작업일떄 사용. 예를 들어 그림에 있는 주요 물체를 분류하고 위치를 알고싶을떄에 회귀작업(물체의 위치) + 분류작업(물체의 종류) 를 동시에 해야되기 떄문에 출력층이 여러개가 필요하다\n",
    "- 동일한 데이터에서 독립적인 여러작업을 수행할때에. 예를 들어서 사람 얼굴 데이터에서 행복/슬픔 분류와 안경 썻는지의 유무 분류를 동시에 하고싶다고 하자. 두 작업을 따로따로 다른 신경망을 이용해서 학습시킬 수 있지만, 보통 작업마다 하나의 출력을 가진 단일 신경망을 훈련시키는것이 보통 더 나은 결과를 낸다고 한다. \n",
    "- 규제기법으로 사용 가능하다.(과대적합을 피하기 위해) 예를 들어 신경망 구조 안에 보조출력을 아래 그림처럼 추가할 수 있다. 보조출력을 사용해 하위 네트워크가 나머지 네트워크에 의존하지 않고 그 자체로 유용한것을 학습하는지 확인할 수 있다."
   ]
  },
  {
   "cell_type": "code",
   "execution_count": 47,
   "metadata": {
    "scrolled": true
   },
   "outputs": [
    {
     "data": {
      "image/jpeg": "[encoded data removed]",
      "text/plain": [
       "<IPython.core.display.Image object>"
      ]
     },
     "execution_count": 47,
     "metadata": {},
     "output_type": "execute_result"
    }
   ],
   "source": [
    "Image(\"C:/Users/goran/Desktop/Python/Images/keras3.jpg\") "
   ]
  },
  {
   "cell_type": "markdown",
   "metadata": {},
   "source": [
    " ** 우리는 규제 기법으로 사용해본다고 하자. **\n",
    "- 이번에는 0 부터 4번 특성을 짧은 경로로 보내고 2~7번 특성을 깊은 특성으로 보낸다고 하자.\n",
    "- 보조출력 (aux) 가 y 값을 제대로 예측한다면, 이는 input B 의 특성과 HIDDEN LAYER 1,2 만으로 쓸만한 예측은 한다는 의미이다.\n",
    "- 주요출력이 보조출력보다 훨씬 예측을 잘한다면 A input 의 특성이 필요하고, 주 출력 아래의 구조가 모두 필요한 것이 된다."
   ]
  },
  {
   "cell_type": "code",
   "execution_count": 80,
   "metadata": {},
   "outputs": [],
   "source": [
    "housing = fetch_california_housing()\n",
    "\n",
    "X_train_full, X_test, y_train_full, y_test = train_test_split(housing.data, housing.target, random_state=42) \n",
    "# test size 는 default 로 0.25\n",
    "X_train, X_valid, y_train, y_valid = train_test_split(X_train_full, y_train_full, random_state=42)\n",
    "# 이 역시 valid size 는 defaualt 로 0.25\n",
    "\n",
    "# X data scaling\n",
    "scaler = StandardScaler() \n",
    "X_train = scaler.fit_transform(X_train)\n",
    "X_valid = scaler.transform(X_valid) \n",
    "X_test = scaler.transform(X_test)\n",
    "X_new = X_test[:3] \n",
    "\n",
    "X_train_A, X_train_B = X_train[:, :5], X_train[:, 2:]\n",
    "X_valid_A, X_valid_B = X_valid[:, :5], X_valid[:, 2:]\n",
    "X_test_A, X_test_B = X_test[:, :5], X_test[:, 2:]\n",
    "X_new_A, X_new_B = X_test_A[:3], X_test_B[:3]"
   ]
  },
  {
   "cell_type": "code",
   "execution_count": 81,
   "metadata": {
    "scrolled": true
   },
   "outputs": [
    {
     "name": "stdout",
     "output_type": "stream",
     "text": [
      "Train on 11610 samples, validate on 3870 samples\n",
      "Epoch 1/3\n",
      "11610/11610 [==============================] - 1s 91us/sample - loss: 1.8883 - main_output_loss: 1.6250 - aux_output_loss: 4.2522 - val_loss: 2.8143 - val_main_output_loss: 2.7901 - val_aux_output_loss: 3.0215\n",
      "Epoch 2/3\n",
      "11610/11610 [==============================] - 0s 33us/sample - loss: 0.9823 - main_output_loss: 0.8154 - aux_output_loss: 2.4865 - val_loss: 1.1709 - val_main_output_loss: 1.0813 - val_aux_output_loss: 1.9739\n",
      "Epoch 3/3\n",
      "11610/11610 [==============================] - 0s 32us/sample - loss: 0.8026 - main_output_loss: 0.6846 - aux_output_loss: 1.8636 - val_loss: 0.7997 - val_main_output_loss: 0.7003 - val_aux_output_loss: 1.6921\n",
      "5160/5160 [==============================] - 0s 17us/sample - loss: 0.7431 - main_output_loss: 0.6384 - aux_output_loss: 1.7135\n"
     ]
    }
   ],
   "source": [
    "# 모델 만들기\n",
    "input_A = keras.layers.Input(shape=[5], name=\"wide_input\")\n",
    "input_B = keras.layers.Input(shape=[6], name=\"deep_input\")\n",
    "hidden1 = keras.layers.Dense(30, activation=\"relu\")(input_B)\n",
    "hidden2 = keras.layers.Dense(30, activation=\"relu\")(hidden1)\n",
    "concat = keras.layers.concatenate([input_A, hidden2])\n",
    "output = keras.layers.Dense(1, name=\"main_output\")(concat)\n",
    "aux_output = keras.layers.Dense(1, name=\"aux_output\")(hidden2)\n",
    "model = keras.models.Model(inputs=[input_A, input_B],\n",
    "                           outputs=[output, aux_output])\n",
    "\n",
    "#모델 compile\n",
    "model.compile(loss=[\"mse\", \"mse\"],  # output 이 둘다 regression 인 loss 이므로 mse\n",
    "              loss_weights=[0.9, 0.1],  # output 이 2개이므로 각 가중치 결정. 이떄는 aux_output 보다 output 을 중시하는듯!\n",
    "              optimizer=keras.optimizers.SGD(lr=1e-3))\n",
    "\n",
    "# 모델 fitting\n",
    "history = model.fit([X_train_A, X_train_B], [y_train, y_train],\n",
    "                    epochs=3,\n",
    "                    validation_data=([X_valid_A, X_valid_B], [y_valid, y_valid]))\n",
    "#모델 loss 비교하기\n",
    "total_loss, main_loss, aux_loss = model.evaluate([X_test_A, X_test_B], \n",
    "                                                 [y_test, y_test])\n",
    "\n",
    "#predict\n",
    "y_pred_main, y_pred_aux = model.predict([X_new_A, X_new_B])"
   ]
  },
  {
   "cell_type": "code",
   "execution_count": 84,
   "metadata": {
    "scrolled": true
   },
   "outputs": [
    {
     "data": {
      "image/png": "[encoded data removed]",
      "text/plain": [
       "<IPython.core.display.Image object>"
      ]
     },
     "execution_count": 84,
     "metadata": {},
     "output_type": "execute_result"
    }
   ],
   "source": [
    "keras.utils.plot_model(model, show_shapes=True)"
   ]
  },
  {
   "cell_type": "code",
   "execution_count": 85,
   "metadata": {
    "scrolled": true
   },
   "outputs": [
    {
     "name": "stdout",
     "output_type": "stream",
     "text": [
      "Model: \"model_28\"\n",
      "__________________________________________________________________________________________________\n",
      "Layer (type)                    Output Shape         Param #     Connected to                     \n",
      "==================================================================================================\n",
      "deep_input (InputLayer)         [(None, 6)]          0                                            \n",
      "__________________________________________________________________________________________________\n",
      "dense_69 (Dense)                (None, 30)           210         deep_input[0][0]                 \n",
      "__________________________________________________________________________________________________\n",
      "wide_input (InputLayer)         [(None, 5)]          0                                            \n",
      "__________________________________________________________________________________________________\n",
      "dense_70 (Dense)                (None, 30)           930         dense_69[0][0]                   \n",
      "__________________________________________________________________________________________________\n",
      "concatenate_28 (Concatenate)    (None, 35)           0           wide_input[0][0]                 \n",
      "                                                                 dense_70[0][0]                   \n",
      "__________________________________________________________________________________________________\n",
      "main_output (Dense)             (None, 1)            36          concatenate_28[0][0]             \n",
      "__________________________________________________________________________________________________\n",
      "aux_output (Dense)              (None, 1)            31          dense_70[0][0]                   \n",
      "==================================================================================================\n",
      "Total params: 1,207\n",
      "Trainable params: 1,207\n",
      "Non-trainable params: 0\n",
      "__________________________________________________________________________________________________\n"
     ]
    }
   ],
   "source": [
    "model.summary()"
   ]
  },
  {
   "cell_type": "code",
   "execution_count": 101,
   "metadata": {},
   "outputs": [],
   "source": [
    "model = keras.models.Sequential([\n",
    "    keras.layers.Flatten(input_shape=[28, 28]),\n",
    "    # 처음층은 Flatten\n",
    "    keras.layers.Dense(300, kernel_initializer=\"he_normal\"),\n",
    "    # initial weight activation 을 LeakyRelu 를 쓰기위해 weight 를 초기화 하는 방법으로 he_normal 을 쓴다.\n",
    "    # 이 kernel initializer 가 초기화하는 부분은 노드 전에 이어져있는 부분이다. -(이부분의 w)- node --\n",
    "    keras.layers.LeakyReLU(),\n",
    "    # default 로 LeakyRelu 의 a 값은 0.3 이다.\n",
    "    keras.layers.Dense(100, kernel_initializer=\"he_normal\"),\n",
    "    keras.layers.LeakyReLU(),\n",
    "    keras.layers.Dense(10, activation=\"softmax\") \n",
    "    # softmax activation 을 쓰므로 굳이 initializier 를 쓰지는 않는다.\n",
    "])\n"
   ]
  },
  {
   "cell_type": "markdown",
   "metadata": {},
   "source": [
    "## LeakyRelu"
   ]
  },
  {
   "cell_type": "code",
   "execution_count": 102,
   "metadata": {},
   "outputs": [],
   "source": [
    "model = keras.models.Sequential([\n",
    "        keras.layers.Flatten(input_shape=[28, 28]),\n",
    "        # 처음층은 Flatten\n",
    "        keras.layers.Dense(300, kernel_initializer=\"he_normal\"),\n",
    "        # initial weight activation 을 LeakyRelu 를 쓰기위해 weight 를 초기화 하는 방법으로 he_normal 을 쓴다.\n",
    "        # 이 kernel initializer 가 초기화하는 부분은 노드 전에 이어져있는 부분이다. -(이부분의 w)- node --\n",
    "        keras.layers.LeakyReLU(),\n",
    "        # default 로 LeakyRelu 의 a 값은 0.3 이다.\n",
    "        keras.layers.Dense(100, kernel_initializer=\"he_normal\"),\n",
    "        keras.layers.LeakyReLU(),\n",
    "        keras.layers.Dense(10, activation=\"softmax\") \n",
    "        # softmax activation 을 쓰므로 굳이 initializier 를 쓰지는 않는다.\n",
    "        ])"
   ]
  },
  {
   "cell_type": "markdown",
   "metadata": {},
   "source": [
    "## PReLU"
   ]
  },
  {
   "cell_type": "code",
   "execution_count": 103,
   "metadata": {},
   "outputs": [],
   "source": [
    "model = keras.models.Sequential([\n",
    "    keras.layers.Flatten(input_shape=[28, 28]),\n",
    "    keras.layers.Dense(300, kernel_initializer=\"he_normal\"),\n",
    "    keras.layers.PReLU(),\n",
    "    keras.layers.Dense(100, kernel_initializer=\"he_normal\"),\n",
    "    keras.layers.PReLU(),\n",
    "    keras.layers.Dense(10, activation=\"softmax\")\n",
    "])"
   ]
  },
  {
   "cell_type": "markdown",
   "metadata": {},
   "source": [
    "## SELU"
   ]
  },
  {
   "cell_type": "code",
   "execution_count": 104,
   "metadata": {},
   "outputs": [],
   "source": [
    "model = keras.models.Sequential()\n",
    "model.add(keras.layers.Flatten(input_shape=[28, 28]))\n",
    "model.add(keras.layers.Dense(300, activation=\"selu\",\n",
    "                             kernel_initializer=\"lecun_normal\"))\n",
    "for layer in range(99):\n",
    "    # layer 변수는 없지만 그냥 99번 반복한다는 의미로 for 문을 쓴것.\n",
    "    model.add(keras.layers.Dense(100, activation=\"selu\",\n",
    "                                 kernel_initializer=\"lecun_normal\"))\n",
    "model.add(keras.layers.Dense(10, activation=\"softmax\"))"
   ]
  },
  {
   "cell_type": "markdown",
   "metadata": {},
   "source": [
    "## 매우 깊은 신경망"
   ]
  },
  {
   "cell_type": "markdown",
   "metadata": {},
   "source": [
    "for x in range(n): 를 쓰면 된다."
   ]
  },
  {
   "cell_type": "code",
   "execution_count": 105,
   "metadata": {},
   "outputs": [],
   "source": [
    "model = keras.models.Sequential()\n",
    "model.add(keras.layers.Flatten(input_shape=[28, 28]))\n",
    "model.add(keras.layers.Dense(300, activation=\"selu\",\n",
    "                             kernel_initializer=\"lecun_normal\"))\n",
    "for layer in range(50): # 층이 50개!\n",
    "    model.add(keras.layers.Dense(100, activation=\"selu\",\n",
    "                                 kernel_initializer=\"lecun_normal\"))\n",
    "model.add(keras.layers.Dense(10, activation=\"softmax\"))"
   ]
  },
  {
   "cell_type": "markdown",
   "metadata": {},
   "source": [
    "## 차원이 높은 X_data"
   ]
  },
  {
   "cell_type": "markdown",
   "metadata": {},
   "source": [
    "아래처럼 Flatten 층을 만들어서 1dim vector 로 변환시킨뒤에 넣어야한다. 아래경우에는 40000 * 28 * 28 의 imput_X"
   ]
  },
  {
   "cell_type": "code",
   "execution_count": 106,
   "metadata": {},
   "outputs": [],
   "source": [
    "model = keras.models.Sequential()\n",
    "model.add(keras.layers.Flatten(input_shape=[28, 28]))\n",
    "model.add(keras.layers.Dense(300, activation=\"selu\",\n",
    "                             kernel_initializer=\"lecun_normal\"))\n",
    "for layer in range(50): # 층이 50개!\n",
    "    model.add(keras.layers.Dense(100, activation=\"selu\",\n",
    "                                 kernel_initializer=\"lecun_normal\"))\n",
    "model.add(keras.layers.Dense(10, activation=\"softmax\"))"
   ]
  },
  {
   "cell_type": "markdown",
   "metadata": {},
   "source": [
    "## BatchNormalization"
   ]
  },
  {
   "cell_type": "code",
   "execution_count": 93,
   "metadata": {},
   "outputs": [],
   "source": [
    "model = keras.models.Sequential([\n",
    "    keras.layers.Flatten(input_shape=[28, 28]),\n",
    "    keras.layers.BatchNormalization(), \n",
    "    #배치 정규화.주로 활성화 함수를 통과하기 전에 실행한다. 즉 먼저 normalization 을 실행한 후에 activation 을 실행해야하므로, act 전에 batch normal 층이 들어간다.\n",
    "    keras.layers.Dense(300, activation=\"relu\"),\n",
    "    keras.layers.BatchNormalization(),\n",
    "    keras.layers.Dense(100, activation=\"relu\"),\n",
    "    keras.layers.BatchNormalization(),\n",
    "    keras.layers.Dense(10, activation=\"softmax\")\n",
    "])"
   ]
  },
  {
   "cell_type": "markdown",
   "metadata": {},
   "source": [
    "일반적으로 bn은 활성화 함수전에 BN을 적용하면 잘 동작한다고하지만...(여기에는 논란의 여지가 있습니다). <br>\n",
    "또한 `BatchNormalization` 층 이전의 층은 편향을 위한 항이 필요 없습니다. `BatchNormalization` 층이 이를 무효화하기 때문입니다.(편향이 있다고 해도 처음에 normalization 으로 평균을 0으로 만드는데에다가, 편향과 비슷한 역활을 하는 moving average/var 항이 있기떄문에 무쓸모) 따라서 필요 없는 파라미터이므로 `use_bias=False`를 지정하여 층을 만들 수 있습니다:"
   ]
  },
  {
   "cell_type": "code",
   "execution_count": 152,
   "metadata": {},
   "outputs": [],
   "source": [
    "model = keras.models.Sequential([\n",
    "    keras.layers.Flatten(input_shape=[28, 28]),\n",
    "    keras.layers.BatchNormalization(), \n",
    "    #배치 정규화.주로 활성화 함수를 통과하기 전에 실행한다. 즉 먼저 normalization 을 실행한 후에 activation 을 실행해야하므로, act 전에 batch normal 층이 들어간다.\n",
    "    keras.layers.Dense(300, activation=\"relu\"),\n",
    "    keras.layers.BatchNormalization(),\n",
    "    keras.layers.Dense(100, activation=\"relu\"),\n",
    "    keras.layers.BatchNormalization(),\n",
    "    keras.layers.Dense(10, activation=\"softmax\")\n",
    "])"
   ]
  },
  {
   "cell_type": "markdown",
   "metadata": {},
   "source": [
    "## L1과 L2 규제"
   ]
  },
  {
   "cell_type": "code",
   "execution_count": 261,
   "metadata": {},
   "outputs": [],
   "source": [
    "# l1 규제는 많은 연결을 0으로 만든다. 마치 lasso 처럼"
   ]
  },
  {
   "cell_type": "code",
   "execution_count": 263,
   "metadata": {
    "scrolled": true
   },
   "outputs": [
    {
     "name": "stdout",
     "output_type": "stream",
     "text": [
      "Train on 3000 samples, validate on 1000 samples\n",
      "Epoch 1/2\n",
      "3000/3000 [==============================] - 1s 340us/sample - loss: 6.1249 - accuracy: 0.7300 - val_loss: 3.6329 - val_accuracy: 0.8130\n",
      "Epoch 2/2\n",
      "3000/3000 [==============================] - 0s 132us/sample - loss: 2.5630 - accuracy: 0.8033 - val_loss: 1.8545 - val_accuracy: 0.7830\n"
     ]
    }
   ],
   "source": [
    "model = keras.models.Sequential([\n",
    "    keras.layers.Flatten(input_shape=[28, 28]),\n",
    "    keras.layers.Dense(300, activation=\"elu\",\n",
    "                       kernel_initializer=\"he_normal\",\n",
    "                       kernel_regularizer=keras.regularizers.l2(0.01)), \n",
    "    #가중치 w 에 대해 l2 규제가 0.01 이 곱해진 후 들어간다.\n",
    "    keras.layers.Dense(100, activation=\"elu\",\n",
    "                       kernel_initializer=\"he_normal\",\n",
    "                       kernel_regularizer=keras.regularizers.l2(0.01)),\n",
    "    keras.layers.Dense(10, activation=\"softmax\",\n",
    "                       kernel_regularizer=keras.regularizers.l2(0.01))\n",
    "])"
   ]
  },
  {
   "cell_type": "markdown",
   "metadata": {},
   "source": [
    "## 드롭아웃 규제"
   ]
  },
  {
   "cell_type": "markdown",
   "metadata": {},
   "source": [
    "- 매 훈련 스텝에서 각 뉴런은 임시적으로 드롭아웃될 확률 P 를 가진다.(즉 이번 훈련에서는 무시된다.)\n",
    "- p 를 드롭아웃 비율이라고 하고, 보통 0.1 ~ 0.5 를 지정한다.\n",
    "- 이렇게 하면 뉴런들이 서로 의존적이지 않게 되어 더 안정적인 네트워크가 되고\n",
    "- 각 훈련스텝에서 고유의 네트워크가 (2^n) 가능해져서 , 10000번의 훈련을 하면 10000개의 서로다른 신경망을 훈련하게되는거와 동일해진다. 결과적으로 만들어진 신경망은 모든 신경망의 평균의 앙상블로 볼 수 있다."
   ]
  },
  {
   "cell_type": "code",
   "execution_count": 265,
   "metadata": {},
   "outputs": [
    {
     "name": "stdout",
     "output_type": "stream",
     "text": [
      "Train on 3000 samples, validate on 1000 samples\n",
      "Epoch 1/2\n",
      "3000/3000 [==============================] - 1s 333us/sample - loss: 0.8582 - accuracy: 0.6943 - val_loss: 0.5637 - val_accuracy: 0.8090\n",
      "Epoch 2/2\n",
      "3000/3000 [==============================] - 0s 137us/sample - loss: 0.5891 - accuracy: 0.7987 - val_loss: 0.5779 - val_accuracy: 0.7950\n"
     ]
    }
   ],
   "source": [
    "model = keras.models.Sequential([\n",
    "    keras.layers.Flatten(input_shape=[28, 28]),\n",
    "    keras.layers.Dropout(rate=0.2),\n",
    "    # 드롭아웃 비율. \n",
    "    keras.layers.Dense(300, activation=\"elu\", kernel_initializer=\"he_normal\"),\n",
    "    keras.layers.Dropout(rate=0.2),\n",
    "    keras.layers.Dense(100, activation=\"elu\", kernel_initializer=\"he_normal\"),\n",
    "    keras.layers.Dropout(rate=0.2),\n",
    "    keras.layers.Dense(10, activation=\"softmax\")\n",
    "])"
   ]
  },
  {
   "cell_type": "markdown",
   "metadata": {},
   "source": [
    "## 알파 드롭아웃 (SELU) 규제"
   ]
  },
  {
   "cell_type": "markdown",
   "metadata": {},
   "source": [
    "SELU 를 위한 규제이다."
   ]
  },
  {
   "cell_type": "code",
   "execution_count": 271,
   "metadata": {
    "scrolled": true
   },
   "outputs": [
    {
     "name": "stdout",
     "output_type": "stream",
     "text": [
      "Train on 3000 samples, validate on 1000 samples\n",
      "Epoch 1/3\n",
      "3000/3000 [==============================] - 1s 224us/sample - loss: 1.7262 - accuracy: 0.3863 - val_loss: 1.0407 - val_accuracy: 0.7100\n",
      "Epoch 2/3\n",
      "3000/3000 [==============================] - 0s 97us/sample - loss: 1.1510 - accuracy: 0.5670 - val_loss: 0.9109 - val_accuracy: 0.7480\n",
      "Epoch 3/3\n",
      "3000/3000 [==============================] - 0s 100us/sample - loss: 1.0511 - accuracy: 0.6127 - val_loss: 0.9423 - val_accuracy: 0.7380\n"
     ]
    }
   ],
   "source": [
    "model = keras.models.Sequential([\n",
    "    keras.layers.Flatten(input_shape=[28, 28]),\n",
    "    keras.layers.AlphaDropout(rate=0.2),\n",
    "    keras.layers.Dense(300, activation=\"selu\", kernel_initializer=\"lecun_normal\"),\n",
    "    keras.layers.AlphaDropout(rate=0.2),\n",
    "    keras.layers.Dense(100, activation=\"selu\", kernel_initializer=\"lecun_normal\"),\n",
    "    keras.layers.AlphaDropout(rate=0.2),\n",
    "    keras.layers.Dense(10, activation=\"softmax\")\n",
    "])"
   ]
  },
  {
   "cell_type": "markdown",
   "metadata": {},
   "source": [
    "## 맥스 Norm 규제"
   ]
  },
  {
   "cell_type": "code",
   "execution_count": 99,
   "metadata": {
    "scrolled": true
   },
   "outputs": [],
   "source": [
    "from functools import partial\n",
    "\n",
    "MaxNormDense = partial(keras.layers.Dense,\n",
    "                       activation=\"selu\", kernel_initializer=\"lecun_normal\",\n",
    "                       kernel_constraint=keras.constraints.max_norm(1.))\n",
    "\n",
    "model = keras.models.Sequential([\n",
    "    keras.layers.Flatten(input_shape=[28, 28]),\n",
    "    MaxNormDense(300),\n",
    "    MaxNormDense(100),\n",
    "    keras.layers.Dense(10, activation=\"softmax\")\n",
    "])"
   ]
  },
  {
   "cell_type": "code",
   "execution_count": null,
   "metadata": {},
   "outputs": [],
   "source": []
  }
 ],
 "metadata": {
  "kernelspec": {
   "display_name": "Python 3",
   "language": "python",
   "name": "python3"
  },
  "language_info": {
   "codemirror_mode": {
    "name": "ipython",
    "version": 3
   },
   "file_extension": ".py",
   "mimetype": "text/x-python",
   "name": "python",
   "nbconvert_exporter": "python",
   "pygments_lexer": "ipython3",
   "version": "3.7.7"
  },
  "toc": {
   "base_numbering": 1,
   "nav_menu": {},
   "number_sections": true,
   "sideBar": true,
   "skip_h1_title": false,
   "title_cell": "Table of Contents",
   "title_sidebar": "Contents",
   "toc_cell": false,
   "toc_position": {
    "height": "calc(100% - 180px)",
    "left": "10px",
    "top": "150px",
    "width": "329px"
   },
   "toc_section_display": true,
   "toc_window_display": true
  },
  "varInspector": {
   "cols": {
    "lenName": 16,
    "lenType": 16,
    "lenVar": 40
   },
   "kernels_config": {
    "python": {
     "delete_cmd_postfix": "",
     "delete_cmd_prefix": "del ",
     "library": "var_list.py",
     "varRefreshCmd": "print(var_dic_list())"
    },
    "r": {
     "delete_cmd_postfix": ") ",
     "delete_cmd_prefix": "rm(",
     "library": "var_list.r",
     "varRefreshCmd": "cat(var_dic_list()) "
    }
   },
   "types_to_exclude": [
    "module",
    "function",
    "builtin_function_or_method",
    "instance",
    "_Feature"
   ],
   "window_display": false
  }
 },
 "nbformat": 4,
 "nbformat_minor": 4
}
