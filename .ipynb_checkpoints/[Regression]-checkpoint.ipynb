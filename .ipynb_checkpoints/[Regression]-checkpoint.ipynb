{
 "cells": [
  {
   "cell_type": "code",
   "execution_count": 49,
   "metadata": {
    "ExecuteTime": {
     "end_time": "2020-08-02T09:25:37.526835Z",
     "start_time": "2020-08-02T09:25:35.250127Z"
    }
   },
   "outputs": [],
   "source": [
    "import numpy as np\n",
    "import pandas as pd\n",
    "import seaborn as sns\n",
    "from sklearn.datasets import make_regression\n",
    "import matplotlib as mpl\n",
    "import matplotlib.pyplot as plt\n",
    "from sklearn import metrics # 모델평가시 이용"
   ]
  },
  {
   "cell_type": "code",
   "execution_count": 50,
   "metadata": {
    "ExecuteTime": {
     "end_time": "2020-08-02T09:25:37.605512Z",
     "start_time": "2020-08-02T09:25:37.527764Z"
    }
   },
   "outputs": [],
   "source": [
    "# dataset 형성하기\n",
    "X, y = make_regression(n_samples=2000, # sample 의 수는 2000개\n",
    "                       n_features=20, # x 변수는 20개\n",
    "                       n_informative=4, # 그중 y 변수와 관련되는 변수는 4개  \n",
    "                       noise = 3       # nosie \n",
    "                      ,effective_rank=15 #  x 변수중 서로 독립인 수 (5개는 서로 관련)\n",
    "                      ,tail_strength=0.3 # 관련된 변수의 관련성\n",
    "                      ,random_state=0) # random state 고정\n",
    "X = pd.DataFrame(X)\n",
    "X[[1,4,6,10,13]]=X[[1,4,6,10,13]]*-1"
   ]
  },
  {
   "cell_type": "code",
   "execution_count": 51,
   "metadata": {
    "ExecuteTime": {
     "end_time": "2020-08-02T09:25:37.637397Z",
     "start_time": "2020-08-02T09:25:37.607478Z"
    }
   },
   "outputs": [],
   "source": [
    "# dataset train/test set 으로 나누기\n",
    "from sklearn.model_selection import train_test_split\n",
    "X_train, X_test, y_train, y_test = train_test_split(X, y, test_size=0.20, random_state=0)"
   ]
  },
  {
   "cell_type": "code",
   "execution_count": 52,
   "metadata": {},
   "outputs": [
    {
     "data": {
      "text/plain": [
       "array([ 4.7989583 ,  2.60992309,  3.15534149, ..., -0.88908075,\n",
       "       -5.57811736,  3.9804761 ])"
      ]
     },
     "execution_count": 52,
     "metadata": {},
     "output_type": "execute_result"
    }
   ],
   "source": [
    "y"
   ]
  },
  {
   "cell_type": "markdown",
   "metadata": {},
   "source": [
    "# Multi Linear Regression"
   ]
  },
  {
   "cell_type": "markdown",
   "metadata": {},
   "source": [
    "## 모델 세우기"
   ]
  },
  {
   "cell_type": "code",
   "execution_count": 6,
   "metadata": {
    "ExecuteTime": {
     "end_time": "2020-08-02T09:25:40.053254Z",
     "start_time": "2020-08-02T09:25:39.966332Z"
    },
    "scrolled": true
   },
   "outputs": [
    {
     "data": {
      "text/plain": [
       "LinearRegression()"
      ]
     },
     "execution_count": 6,
     "metadata": {},
     "output_type": "execute_result"
    }
   ],
   "source": [
    "from sklearn.linear_model import LinearRegression\n",
    "model = LinearRegression()\n",
    "model.fit(X_train, y_train)"
   ]
  },
  {
   "cell_type": "markdown",
   "metadata": {},
   "source": [
    "## 모델 평가"
   ]
  },
  {
   "cell_type": "code",
   "execution_count": 7,
   "metadata": {
    "ExecuteTime": {
     "end_time": "2020-08-02T09:25:40.663642Z",
     "start_time": "2020-08-02T09:25:40.641508Z"
    }
   },
   "outputs": [
    {
     "name": "stdout",
     "output_type": "stream",
     "text": [
      "MSE : 8.611762902052247\n",
      "R squared : 0.20108198497901186\n"
     ]
    }
   ],
   "source": [
    "from sklearn import metrics\n",
    "y_pred = model.predict(X_test)\n",
    "print (\"MSE :\", metrics.mean_squared_error(y_test,y_pred))\n",
    "print(\"R squared :\", metrics.r2_score(y_test,y_pred))"
   ]
  },
  {
   "cell_type": "markdown",
   "metadata": {},
   "source": [
    "# Polynomial regression"
   ]
  },
  {
   "cell_type": "markdown",
   "metadata": {},
   "source": [
    "변수가 적다면, 데이터 분석시 부정확 할 수 있다. 그래서 polynomial 로 변수의 갯수를 늘려서 예측도를 높혀보자"
   ]
  },
  {
   "cell_type": "markdown",
   "metadata": {},
   "source": [
    "## 데이터 전처리"
   ]
  },
  {
   "cell_type": "markdown",
   "metadata": {},
   "source": [
    "다항회귀는, 데이터를 돌리기 전, x1 x2 -> x1^2 , x1x2, x2^2 처럼 데이터를 바꾸어야 한다.를 해주어야한다."
   ]
  },
  {
   "cell_type": "code",
   "execution_count": 8,
   "metadata": {
    "ExecuteTime": {
     "end_time": "2020-08-02T09:25:56.408589Z",
     "start_time": "2020-08-02T09:25:56.387953Z"
    }
   },
   "outputs": [],
   "source": [
    "from sklearn.preprocessing import PolynomialFeatures\n",
    "poly = PolynomialFeatures()  \n",
    "# degree : 몇 차수까진 늘릴지 결정\n",
    "#        : (default)=2\n",
    "# interaction_only : only 자기 자신의 거듭제곱만 넣을지 말지. (ex x1 x2 -> x1^2 , ^2)\n",
    "#                  : (default)=False (interaction 항 넣기) (EX x1 x2 -> x1^2 , x1x2, x2^2)\n",
    "X_train_poly = poly.fit_transform(X_train)\n",
    "X_test_poly = poly.fit_transform(X_test)"
   ]
  },
  {
   "cell_type": "markdown",
   "metadata": {},
   "source": [
    "## 모델 세우기"
   ]
  },
  {
   "cell_type": "code",
   "execution_count": 9,
   "metadata": {
    "ExecuteTime": {
     "end_time": "2020-08-02T09:25:57.344304Z",
     "start_time": "2020-08-02T09:25:57.294405Z"
    },
    "scrolled": true
   },
   "outputs": [
    {
     "data": {
      "text/plain": [
       "LinearRegression()"
      ]
     },
     "execution_count": 9,
     "metadata": {},
     "output_type": "execute_result"
    }
   ],
   "source": [
    "model = LinearRegression()\n",
    "model.fit(X_train_poly, y_train)"
   ]
  },
  {
   "cell_type": "markdown",
   "metadata": {},
   "source": [
    "## 모델 평가"
   ]
  },
  {
   "cell_type": "code",
   "execution_count": 10,
   "metadata": {
    "ExecuteTime": {
     "end_time": "2020-08-02T09:25:59.685585Z",
     "start_time": "2020-08-02T09:25:59.664616Z"
    }
   },
   "outputs": [
    {
     "name": "stdout",
     "output_type": "stream",
     "text": [
      "MSE : 10.588639961853904\n",
      "R squared : 0.01768600502455997\n"
     ]
    }
   ],
   "source": [
    "from sklearn import metrics\n",
    "y_pred = model.predict(X_test_poly)\n",
    "print (\"MSE :\", metrics.mean_squared_error(y_test,y_pred))\n",
    "print(\"R squared :\", metrics.r2_score(y_test,y_pred))"
   ]
  },
  {
   "cell_type": "markdown",
   "metadata": {},
   "source": [
    "# Ridge regression"
   ]
  },
  {
   "cell_type": "markdown",
   "metadata": {},
   "source": [
    "$w = \\text{arg}\\min_w \\left( \\sum_{i=1}^N e_i^2 + \\lambda \\sum_{j=1}^M w_j^2 \\right) $"
   ]
  },
  {
   "cell_type": "markdown",
   "metadata": {},
   "source": [
    "## 모델 세우기"
   ]
  },
  {
   "cell_type": "code",
   "execution_count": 11,
   "metadata": {
    "ExecuteTime": {
     "end_time": "2020-08-02T09:26:03.951055Z",
     "start_time": "2020-08-02T09:26:03.291571Z"
    }
   },
   "outputs": [],
   "source": [
    "from sklearn.linear_model import RidgeCV\n",
    "from sklearn.linear_model import Ridge\n",
    "\n",
    "para_range = np.logspace(-3, 3, num=50) # 10^-3 ~ 10^3 \n",
    "model = RidgeCV(alphas = para_range , cv=5)\n",
    "# cross validaaion 을 5 fold cross validation 으로 지정 , \n",
    "# para_range 의 범위만큼 ,cv 를 해서 최적의 alpha 를 구하겠다는 의미\n",
    "# RidgeCV = cv 와 ridge 를 동시에 합친 model 이다.\n",
    "model.fit(X_train, y_train) ;\n",
    "# X_train, Y_train 으로 ridgecv 를 fitting 해야 비로소 의미가 생긴다. 위는 setting 작업임.\n",
    "#ridgecv.fit 은 alpha 를 위에서 구한 최적의 값을 써서 ridge regression 을 하겠다는 의미이다."
   ]
  },
  {
   "cell_type": "markdown",
   "metadata": {},
   "source": [
    "## 모델 평가"
   ]
  },
  {
   "cell_type": "code",
   "execution_count": 12,
   "metadata": {
    "ExecuteTime": {
     "end_time": "2020-08-02T09:26:03.966012Z",
     "start_time": "2020-08-02T09:26:03.953048Z"
    },
    "scrolled": true
   },
   "outputs": [
    {
     "name": "stdout",
     "output_type": "stream",
     "text": [
      "MSE : 8.606003653527091\n",
      "R_squared : 0.20161627365510082\n"
     ]
    }
   ],
   "source": [
    "from sklearn import metrics\n",
    "\n",
    "predicted = model.predict(X_test) \n",
    "# 우리가 fitting 한 coefficient 로 X_test 를 이용해 Y_test 를 predict\n",
    "#ridgecv.alpha_ # Estimated regularization parametor (최적값)\n",
    "#ridgecv.coef_ # fitting 한 coff 값들\n",
    "\n",
    "print (\"MSE :\", metrics.mean_squared_error(y_test, predicted))\n",
    "print('R_squared :',model.score(X_test, y_test)) # C-V 로 찾은 최적의 ridge 로 계산한 R^2"
   ]
  },
  {
   "cell_type": "markdown",
   "metadata": {},
   "source": [
    "# ElasticNet Regression"
   ]
  },
  {
   "cell_type": "markdown",
   "metadata": {},
   "source": [
    "**[모델 원리]**\n",
    "- $w = \\text{arg}\\min_w \\left( \\sum_{i=1}^N e_i^2 + \\lambda_1 \\sum_{j=1}^M | w_j | + \\lambda_2 \\sum_{j=1}^M w_j^2 \\right)$ 로 w 를 정하는 regression"
   ]
  },
  {
   "cell_type": "markdown",
   "metadata": {},
   "source": [
    "**[Hyperparameter]** \n",
    "- sklearn 에서는 $0.5 \\times \\text{RSS}/N + \\text{alpha} \\times \\big( 0.5 \\times (1-\\text{L1_wt})\\sum w_i^2 + \\text{L1_wt} \\sum |w_i| \\big)$ 을 최소화 한다.(사실상 위랑 똑같다.)\n",
    "- l1_ratio : float, default=0.5\n",
    "     - For l1_ratio = 0 the penalty is an L2 penalty. For l1_ratio = 1 it is an L1 penalty. For 0 < l1_ratio < 1, the penalty is a combination of L1 and L2\n"
   ]
  },
  {
   "cell_type": "code",
   "execution_count": 13,
   "metadata": {
    "ExecuteTime": {
     "end_time": "2020-08-02T10:27:45.206307Z",
     "start_time": "2020-08-02T10:27:45.202317Z"
    }
   },
   "outputs": [],
   "source": [
    "from sklearn.linear_model import ElasticNetCV\n",
    "from sklearn.linear_model import ElasticNet"
   ]
  },
  {
   "cell_type": "markdown",
   "metadata": {},
   "source": [
    "## 모델 세우기"
   ]
  },
  {
   "cell_type": "code",
   "execution_count": 14,
   "metadata": {
    "ExecuteTime": {
     "end_time": "2020-08-02T10:27:46.170184Z",
     "start_time": "2020-08-02T10:27:45.693415Z"
    },
    "scrolled": false
   },
   "outputs": [
    {
     "name": "stdout",
     "output_type": "stream",
     "text": [
      "0.0009717603376703314\n",
      "1.0\n"
     ]
    }
   ],
   "source": [
    "ElasticCV = ElasticNetCV(l1_ratio =[.1, .5, .7, .9, .95, .99,1], cv=5, random_state=0)\n",
    "# l1 Note that a good choice of list of values for l1_ratio is often to put more values close to 1 (i.e. Lasso) and less close to 0 (i.e. Ridge), as in  [.1, .5, .7, .9, .95, .99, 1] \n",
    "\n",
    "ElasticCV.fit(X_train, y_train)\n",
    "print(ElasticCV.alpha_) # alpha 값\n",
    "print(ElasticCV.l1_ratio_) #l1 ratio 1 이면 사실상 lasso 이다... 1 이 나오면 그냥 lasso 로 하라는 의미"
   ]
  },
  {
   "cell_type": "markdown",
   "metadata": {},
   "source": [
    "## 모델 평가"
   ]
  },
  {
   "cell_type": "code",
   "execution_count": 15,
   "metadata": {
    "ExecuteTime": {
     "end_time": "2020-08-02T10:27:47.113942Z",
     "start_time": "2020-08-02T10:27:47.107397Z"
    },
    "scrolled": true
   },
   "outputs": [
    {
     "name": "stdout",
     "output_type": "stream",
     "text": [
      "MSE : 8.607510464307282\n",
      "R_squared : 0.20161627365510082\n"
     ]
    }
   ],
   "source": [
    "from sklearn import metrics\n",
    "\n",
    "predicted = ElasticCV.predict(X_test) \n",
    "# 우리가 fitting 한 coefficient 로 X_test 를 이용해 Y_test 를 predict\n",
    "#ridgecv.alpha_ # Estimated regularization parametor (최적값)\n",
    "#ridgecv.coef_ # fitting 한 coff 값들\n",
    "\n",
    "print (\"MSE :\", metrics.mean_squared_error(y_test, predicted))\n",
    "print('R_squared :',model.score(X_test, y_test)) # C-V 로 찾은 최적의 ridge 로 계산한 R^2"
   ]
  },
  {
   "cell_type": "markdown",
   "metadata": {},
   "source": [
    "## 변수 중요도"
   ]
  },
  {
   "cell_type": "code",
   "execution_count": 16,
   "metadata": {
    "ExecuteTime": {
     "end_time": "2020-08-02T10:27:52.392414Z",
     "start_time": "2020-08-02T10:27:52.193433Z"
    }
   },
   "outputs": [
    {
     "data": {
      "text/plain": [
       "Text(0.5, 1.0, 'Coefficients in the Model')"
      ]
     },
     "execution_count": 16,
     "metadata": {},
     "output_type": "execute_result"
    },
    {
     "data": {
      "image/png": "[encoded data removed]",
      "text/plain": [
       "<Figure size 432x288 with 1 Axes>"
      ]
     },
     "metadata": {
      "needs_background": "light"
     },
     "output_type": "display_data"
    }
   ],
   "source": [
    "coef = pd.Series(ElasticCV.coef_, index = X_train.columns).sort_values()\n",
    "imp_coef = pd.concat([coef.head(5), coef.tail(5)])\n",
    "imp_coef.plot(kind = \"barh\")\n",
    "plt.title(\"Coefficients in the Model\")"
   ]
  },
  {
   "cell_type": "markdown",
   "metadata": {},
   "source": [
    "# lasso regression"
   ]
  },
  {
   "cell_type": "markdown",
   "metadata": {},
   "source": [
    "$w = \\text{arg}\\min_w \\left( \\sum_{i=1}^N e_i^2 + \\lambda \\sum_{j=1}^M | w_j | \\right)$"
   ]
  },
  {
   "cell_type": "markdown",
   "metadata": {},
   "source": [
    "## 모델 세우기"
   ]
  },
  {
   "cell_type": "code",
   "execution_count": 17,
   "metadata": {},
   "outputs": [],
   "source": [
    "from sklearn.linear_model import LassoCV\n",
    "from sklearn.linear_model import Lasso\n",
    "alphas = np.logspace(-3, 3, num=50) # 10^-3 ~ 10^3 \n",
    "lassocv = LassoCV(alphas = alphas, cv=5)\n",
    "# 위 ridge 때와 동일\n",
    "lassocv.fit(X_train, y_train) ;"
   ]
  },
  {
   "cell_type": "markdown",
   "metadata": {},
   "source": [
    "## 모델 평가"
   ]
  },
  {
   "cell_type": "code",
   "execution_count": 18,
   "metadata": {},
   "outputs": [
    {
     "name": "stdout",
     "output_type": "stream",
     "text": [
      "MSE : 8.607540368924692\n",
      "R_squared : 0.20147371171638206\n"
     ]
    }
   ],
   "source": [
    "from sklearn import metrics\n",
    "predicted = lassocv.predict(X_test) \n",
    "# 우리가 fitting 한 coefficient 로 X_test 를 이용해 Y_test 를 predict\n",
    "#lassocv.alpha_ # Estimated regularization parametor (최적값)\n",
    "#lassocv.coef_ # fitting 한 coff 값들\n",
    "\n",
    "print (\"MSE :\", metrics.mean_squared_error(y_test, predicted))\n",
    "print('R_squared :',lassocv.score(X_test, y_test)) # C-V 로 찾은 최적의 ridge 로 계산한 R^2"
   ]
  },
  {
   "cell_type": "markdown",
   "metadata": {},
   "source": [
    "## 변수 중요도"
   ]
  },
  {
   "cell_type": "markdown",
   "metadata": {},
   "source": [
    "상위 6개의 관려있는 계수들을 보여준다."
   ]
  },
  {
   "cell_type": "code",
   "execution_count": 19,
   "metadata": {
    "scrolled": false
   },
   "outputs": [
    {
     "data": {
      "text/plain": [
       "Text(0.5, 1.0, 'Coefficients in the Model')"
      ]
     },
     "execution_count": 19,
     "metadata": {},
     "output_type": "execute_result"
    },
    {
     "data": {
      "image/png": "[encoded data removed]",
      "text/plain": [
       "<Figure size 432x288 with 1 Axes>"
      ]
     },
     "metadata": {
      "needs_background": "light"
     },
     "output_type": "display_data"
    }
   ],
   "source": [
    "coef = pd.Series(lassocv.coef_, index = X_train.columns).sort_values()\n",
    "imp_coef = pd.concat([coef.head(5), coef.tail(5)])\n",
    "imp_coef.plot(kind = \"barh\")\n",
    "plt.title(\"Coefficients in the Model\")"
   ]
  },
  {
   "cell_type": "markdown",
   "metadata": {},
   "source": [
    "# Kernel Regression"
   ]
  },
  {
   "cell_type": "markdown",
   "metadata": {},
   "source": [
    "독립변수 벡터  x 를 입력으로 가지는 여러개의 비선형 함수  $\\phi_j(x)$ 들을 생각해 내어 원래의 입력 변수  x 대신 $\\phi_j(x)$ 들을 입력변수로 사용한 다음과 같은 모형을 쓰면 더 좋은 예측 성능을 가질 수도 있다.\n",
    "\n",
    "$ y_i = \\sum_{j=1}^{M} w_j \\phi_j(x)  = w^T \\phi(x) $"
   ]
  },
  {
   "cell_type": "markdown",
   "metadata": {},
   "source": []
  },
  {
   "cell_type": "markdown",
   "metadata": {},
   "source": [
    "# K-Neighbors Regression"
   ]
  },
  {
   "cell_type": "markdown",
   "metadata": {},
   "source": [
    "<b> 모델 원리 </b>\n",
    "\n",
    "- KNN은 새로운 데이터가 주어졌을 때 기존 데이터 가운데 가장 가까운 k개 이웃의 정보로 새로운 데이터를 예측하는 방법론입니다\n",
    "- Classification 인 경우, test point x 에 대해 가장 가까운 train set 의 k 개 이웃중 제일 많은 class로 예측을 하게 되고\n",
    "- Regression 의 경우 test point x 에 대해 가장 가까운 train set 의 k 개의 이웃의 값들의 평균으로 예측을 하게 됩니다."
   ]
  },
  {
   "cell_type": "markdown",
   "metadata": {},
   "source": [
    "<b> 모델 개요 </b>\n",
    "\n",
    "- 데이터 포인트 사이의 거리를 재는 방법과 이웃의 수 2개가 hyper parameter 이다.\n",
    "- 거리를 재는 방법은 기본적으로 여러 환경에서 잘 동작하는 유클리디안 거리 방식을 사용하므로 여기서는 다루지 않겠다."
   ]
  },
  {
   "cell_type": "markdown",
   "metadata": {},
   "source": [
    "<b> 주의점 </b>\n",
    "- k-NN 알고리즘을 사용할 땐 '거리' 가 기준이 되기때문에 데이터 값들을 모두 표준화 하여 전처리해주어야 합니다."
   ]
  },
  {
   "cell_type": "markdown",
   "metadata": {},
   "source": [
    "<b> 장점 </b>\n",
    "- 이해하기 매우 쉬운 모델 \n",
    "- parameter을 많이 조정하지 않아도 자주 좋은 성능을 발휘합니다.\n",
    "- 더 복잡한 알고리즘을 적용해보기 전에 시도해볼 수 있는 좋은 시작점입니다.\n",
    "\n",
    "<b> 단점 </b>\n",
    "- 보통 최근접 이웃 모델은 매우 빠르게 만들 수 있지만, 훈련 세트가 매우 크면 (특성의 수나 샘플의 수가 클 경우) 예측이 느려집니다. \n",
    "- 그리고 (수백 개 이상의) 많은 특성을 가진 데이터셋에는 잘 동작하지 않으며, 특성 값 대부분이 0인 데이터셋과는 특히 잘 작동하지 않습니다.\n",
    "- k-최근접 이웃 알고리즘이 이해하긴 쉽지만, 예측이 느리고 많은 특성을 처리하는 능력이 부족해 현업에서는 잘 쓰지 않습니다."
   ]
  },
  {
   "cell_type": "markdown",
   "metadata": {},
   "source": [
    "<b> Hyperparameter </b>\n",
    "\n",
    "\n",
    "n_neighbors\n",
    "- 이웃의 수\n"
   ]
  },
  {
   "cell_type": "markdown",
   "metadata": {},
   "source": [
    "## 모델 세우기"
   ]
  },
  {
   "cell_type": "code",
   "execution_count": 20,
   "metadata": {},
   "outputs": [
    {
     "data": {
      "text/plain": [
       "GridSearchCV(cv=5, estimator=KNeighborsRegressor(),\n",
       "             param_grid={'n_neighbors': array([1, 2, 3, 4, 5, 6, 7, 8, 9])})"
      ]
     },
     "execution_count": 20,
     "metadata": {},
     "output_type": "execute_result"
    }
   ],
   "source": [
    "from sklearn.neighbors import KNeighborsRegressor\n",
    "from sklearn.model_selection import GridSearchCV\n",
    "model = KNeighborsRegressor() \n",
    "param_grid ={'n_neighbors' : np.arange(1,10)}\n",
    "model = GridSearchCV(model,param_grid,cv=5)\n",
    "model.fit(X_train,y_train)"
   ]
  },
  {
   "cell_type": "code",
   "execution_count": 21,
   "metadata": {},
   "outputs": [
    {
     "name": "stdout",
     "output_type": "stream",
     "text": [
      "{'n_neighbors': 9}\n",
      "0.07674181821732715\n"
     ]
    }
   ],
   "source": [
    "print(model.best_params_) # 우리가 추정한 best parameter\n",
    "print(model.best_score_) # 우리가 지정한 scoring 에 기반한 제일 좋은 score"
   ]
  },
  {
   "cell_type": "markdown",
   "metadata": {},
   "source": [
    "## 모델 평가"
   ]
  },
  {
   "cell_type": "code",
   "execution_count": 22,
   "metadata": {},
   "outputs": [
    {
     "name": "stdout",
     "output_type": "stream",
     "text": [
      "MSE : 10.361920123323124\n",
      "R squared : 0.03871893003945159\n"
     ]
    }
   ],
   "source": [
    "y_pred = model.predict(X_test)\n",
    "print (\"MSE :\", metrics.mean_squared_error(y_test, y_pred))\n",
    "print(\"R squared :\", metrics.r2_score(y_test, y_pred))"
   ]
  },
  {
   "cell_type": "markdown",
   "metadata": {},
   "source": [
    "#  DecisionTree Regression"
   ]
  },
  {
   "cell_type": "markdown",
   "metadata": {},
   "source": [
    "<b> [모델 원리] </b>\n",
    "\n",
    "의사결정나무의 학습 과정은 입력 변수 영역을 두 개로 구분하는 재귀적 분기(recursive partitioning)와 너무 자세하게 구분된 영역을 통합하는 가지치기(pruning) 두 가지 과정으로 나뉩니다. \n",
    "\n",
    "재귀적 분기\n",
    "- 우선 데이터를 한 변수 기준(ex주택 크기)으로 정렬합니다. 이후 가능한 모든 분기점에 대해 엔트로피/지니계수를 구해 분기 전과 비교해 정보획득을 조사합니다. \n",
    "- 그리고 다른 변수 기준 으로 정렬한 후 위같은 과정을 반복합니다.\n",
    "- 모든 경우의 수 가운데 정보획득이 가장 큰 변수와 그 지점을 택해 첫번째 분기를 하게 됩니다. \n",
    "- 이후 또 같은 작업을 반복해 두번째, 세번째… 이렇게 분기를 full tree 가 될때까지 계속 해 나갑니다.\n",
    "\n",
    "가지치기\n",
    "- 의사결정나무 모델 학습의 또다른 축은 가지치기(pruning)입니다. 모든 terminal node의 순도가 100%인 상태를 Full tree라고 하는데요. 이렇게 Full tree를 생성한 뒤 적절한 수준에서 terminal node를 결합해주어야 합니다. 왜냐하면 분기가 너무 많아서 학습데이터에 과적합(overfitting)할 염려가 생기기 때문입니다.\n",
    "- 가지치기는 데이터를 버리는 개념이 아니고 분기를 합치는(merge) 개념으로 이해해야 합니다.\n",
    "- 가지치기의 경우 비용함수(costfunction = Err(T)+α×L(T) (Err(T) : 오분류율 , L(T) : terminal node(leaf)의 수(구조의 복잡도), α : 가중치 상수 보통 0.1~0.01 )  가 최소가 되도록 가지를 치게 됩니다."
   ]
  },
  {
   "cell_type": "markdown",
   "metadata": {},
   "source": [
    "<b> [장점] </b>\n",
    "- 만들어진 모델을 쉽게 시각화할 수 있어서 비전문가도 이해하기 쉽습니다(비교적 작은 트리일 때). \n",
    "- 그리고 데이터의 스케일에 구애받지 않습니다. 데이터의 변수마다 트리에서는 개별적으로 처리되어 데이터를 분할하는 데 데이터 스케일의 영향을 받지 않으므로 결정 트리에서는 특성의 정규화나 표준화 같은 전처리 과정이 필요 없습니다. 특히 특성의 스케일이 서로 다르거나 이진 특성(범주형)과 연속적(연속형)인 특성이 혼합되어 있을 때도 잘 작동합니다.\n",
    "- 계산복잡성 대비 높은 예측 성능을 내는 것으로 정평이 나 있습니다. \n",
    "\n",
    "<b> [단점] </b>\n",
    "- 결정경계(decision boundary)가 데이터 축에 수직이어서 특정 데이터에만 잘 작동할 가능성이 높습니다.\n",
    "- data 의 변화에 매우 민감합니다. 데이터가 약간만 변화해도 tree 가 완전히 변화하기 떄문입니다.\n",
    "- 두 변수가 multicollinearity 관계에 있으면 decision tree will greedily choose the best one. 즉 한 변수는 아예 쳐내버립니다. 두 변수를 모두 이용하지 않는다는것입니다.\n",
    "- sample 범위 바깥의 값을 예측할 때에는 오히려 선형회귀보다 훨씬 안좋은 fitting 이 나옵니다.\n",
    "- 결정 트리의 주요 단점은 사전 가지치기를 사용함에도 불구하고 과대적합되는 경향이 있어 일반화 성능이 좋지 않다는 것입니다. 그래서 다음에 설명할 앙상블 방법을 단일 결정 트리의 대안으로 흔히 사용합니다.\n"
   ]
  },
  {
   "cell_type": "markdown",
   "metadata": {},
   "source": [
    "<b> [Hyperparameter] </b>\n",
    "\n",
    "criterion \n",
    "- 불순성의 기준을 뭐로 할지 'gini' / 'entropy' 가능\n",
    "- (defalut)= 'gini'\n",
    "\n",
    "max_depth \n",
    "- 트리의 최대 깊이. \n",
    "- 이를 이용해 사전 가지치기를 하고/ overfitting 을 해결할 수 있다.\n",
    "- (defalut) : full tree 가 될때까지 확장.\n",
    "\n",
    "min_samples_split \n",
    "- 노드에서 가지 분리할 떄 필요한 최소 sample 갯수에 제한을 준다.\n",
    "- (default) = 2 \n",
    "\n",
    "min_samples_leaf\n",
    "- leaf 에서 가져야 할 최소 sample \n",
    "- (default) = 1\n",
    "\n",
    "max_features\n",
    "- Decision tree 를 만들때 사용할 수 있는 변수의 갯수 제한\n",
    "- (default) = 총 변수 갯수 사용"
   ]
  },
  {
   "cell_type": "markdown",
   "metadata": {},
   "source": [
    "<b> [Hyperparameter tuning] </b>\n",
    "-  max_depth 하나만 지정해도 과대적합을 막는 데 충분합니다."
   ]
  },
  {
   "cell_type": "markdown",
   "metadata": {},
   "source": [
    "<b>[feature importance]</b>\n",
    "\n",
    "계산 원리\n",
    "\n",
    "- 노드 중요도 부터 정의해야합니다. 노드 중요도란 Information Gain을 결국 말합니다. 의사결정나무에서는 그 때 Information Gain을 최대화하는 feature를 기준으로 노드를 째게 됩니다. 어떤 노드의 노드 중요도 값이 크다는 것은 그 노드에서 특히 불순도가 크게 감소한다는 것을 의미합니다.\n",
    "- i번째 feature의 중요도 : 전체 노드의 중요도를 합한 것 대비 i번째 feature에 의해 째진 노드들의 중요도를 합한 것 입니다.\n",
    "\n",
    "의미\n",
    "\n",
    "- 이 값은 0~1 사이의 숫자로, 0은 전혀 사용되지 않았다는 뜻이고 1은 완벽하게 타깃 클래스를 예측했다는 뜻입니다. 특성 중요도의 전체 합은 1입니다.\n",
    "- Scikit-learn에서는 지니 중요도(Gini Importance)를 이용해서 각 feature의 중요도를 측정합니다\n",
    "- 그러나 어떤 특성의 feature_importance_ 값이 낮다고 해서 이 특성이 유용하지 않다는 뜻은 아닙니다. 단지 트리가 그 특성을 선택하지 않았을 뿐이며 다른 특성이 동일한 정보를 지니고 있어서일 수 있습니다.\n",
    "- 선형 모델의 계수와는 달리, 특성 중요도는 항상 양수이며 특성이 어떤 클래스를 지지하는지는 알 수 없습니다. 즉 이 변수의 영향력이 긍정적인지 부정적인지 알 수는 없습니다.\n",
    "- 하지만 feature Importance는 다소 biased하다. 특히, 랜덤 포레스트는 연속형 변수 또는 카테고리 개수가 매우 많은 변수, 즉 ‘high cardinality’ 변수들의 중요도를 더욱 부풀릴 가능성이 높다고 한다. 왜 이런 결과가 나오는지는 정확히 알 수 없으나, cardinality가 큰 변수일 수록, 노드를 쨀 게 훨씬 더 많아서 노드 중요도 값이 높게 나오는 게 아닐까 싶다."
   ]
  },
  {
   "cell_type": "markdown",
   "metadata": {},
   "source": [
    "## 모델 세우기"
   ]
  },
  {
   "cell_type": "code",
   "execution_count": 23,
   "metadata": {},
   "outputs": [
    {
     "name": "stdout",
     "output_type": "stream",
     "text": [
      "{'max_depth': 3}\n",
      "0.16422632977859336\n"
     ]
    }
   ],
   "source": [
    "# hyper parameter 추정하기\n",
    "from sklearn.tree import DecisionTreeRegressor\n",
    "from sklearn.model_selection import GridSearchCV\n",
    "\n",
    "model = DecisionTreeRegressor(min_samples_split=50) \n",
    "param_grid ={'max_depth' : np.arange(1,10)}\n",
    "grid_search = GridSearchCV(model,param_grid,cv=5)\n",
    "# scoring 은 default 이므로 model 의 자체 scoring 으로 들어간다. \n",
    "grid_search.fit(X_train,y_train)\n",
    "print(grid_search.best_params_) # 우리가 추정한 best parameter\n",
    "print(grid_search.best_score_) # 우리가 지정한 scoring 에 기반한 제일 좋은 score"
   ]
  },
  {
   "cell_type": "code",
   "execution_count": 24,
   "metadata": {},
   "outputs": [
    {
     "data": {
      "text/plain": [
       "DecisionTreeRegressor(max_depth=3, min_samples_split=50)"
      ]
     },
     "execution_count": 24,
     "metadata": {},
     "output_type": "execute_result"
    }
   ],
   "source": [
    "# 위에서 구한 최상의 parameter 로 추정하기\n",
    "model = DecisionTreeRegressor(max_depth=3,min_samples_split=50)\n",
    "model.fit(X_train, y_train)"
   ]
  },
  {
   "cell_type": "markdown",
   "metadata": {},
   "source": [
    "## 모델 평가"
   ]
  },
  {
   "cell_type": "code",
   "execution_count": 25,
   "metadata": {
    "scrolled": false
   },
   "outputs": [
    {
     "name": "stdout",
     "output_type": "stream",
     "text": [
      "MSE : 10.167059541425555\n",
      "R squared : 0.05679625416763212\n"
     ]
    }
   ],
   "source": [
    "y_pred = model.predict(X_test)\n",
    "print (\"MSE :\", metrics.mean_squared_error(y_test, y_pred))\n",
    "print(\"R squared :\", metrics.r2_score(y_test, y_pred))"
   ]
  },
  {
   "cell_type": "markdown",
   "metadata": {},
   "source": [
    "## 변수 중요도"
   ]
  },
  {
   "cell_type": "code",
   "execution_count": 26,
   "metadata": {
    "scrolled": false
   },
   "outputs": [
    {
     "data": {
      "text/plain": [
       "<AxesSubplot:>"
      ]
     },
     "execution_count": 26,
     "metadata": {},
     "output_type": "execute_result"
    },
    {
     "data": {
      "image/png": "[encoded data removed]",
      "text/plain": [
       "<Figure size 432x288 with 1 Axes>"
      ]
     },
     "metadata": {
      "needs_background": "light"
     },
     "output_type": "display_data"
    }
   ],
   "source": [
    "feat_importances = pd.Series(model.feature_importances_, index=X.columns)\n",
    "feat_importances.nlargest(10).plot(kind='barh')"
   ]
  },
  {
   "cell_type": "markdown",
   "metadata": {},
   "source": [
    "# RandomForest Regressoion"
   ]
  },
  {
   "cell_type": "markdown",
   "metadata": {},
   "source": [
    "그래디언트 부스팅 회귀 트리는 여러 개의 결정 트리를 묶어 강력한 모델을 만드는 또 다른 앙상블 방법입니다. 이름이 회귀지만 이 모델은 회귀와 분류 모두에 사용할 수 있습니다. 5 랜덤 포레스트와는 달리 그래디언트 부스팅은 이전 트리의 오차를 보완하는 방식으로 순차적으로 트리를 만듭니다. 기본적으로 그래디언트 부스팅 회귀 트리에는 무작위성이 없습니다. 대신 강력한 사전 가지치기가 사용됩니다. 그래디언트 부스팅 트리는 보통 하나에서 다섯 정도의 깊지 않은 트리를 사용하므로 메모리를 적게 사용하고 예측도 빠릅니다. 그래디언트 부스팅의 근본 아이디어는 이런 얕은 트리 같은 간단한 모델(약한 학습기weak learner라고도 합니다)을 많이 연결하는 것입니다. 각각의 트리는 데이터의 일부에 대해서만 예측을 잘 수행할 수 있어서 트리가 많이 추가될수록 성능이 좋아집니다. 6\n",
    "\n",
    "그래디언트 부스팅 트리는 머신러닝 경연 대회에서 우승을 많이 차지하였고 업계에서도 널리 사용합니다. 랜덤 포레스트보다는 매개변수 설정에 조금 더 민감하지만 잘 조정하면 더 높은 정확도를 제공해줍니다.\n",
    "\n",
    "앙상블 방식에 있는 사전 가지치기나 트리 개수 외에도 그래디언트 부스팅에서 중요한 매개변수는 이전 트리의 오차를 얼마나 강하게 보정할 것인지를 제어하는 learning_rate입니다. 학습률이 크면 트리는 보정을 강하게 하기 때문에 복잡한 모델을 만듭니다. n_estimators 값을 키우면 앙상블에 트리가 더 많이 추가되어 모델의 복잡도가 커지고 훈련 세트에서의 실수를 바로잡을 기회가 더 많아집니다."
   ]
  },
  {
   "cell_type": "markdown",
   "metadata": {},
   "source": [
    "\n",
    "랜덤 포레스트는 텍스트 데이터 같이 매우 차원이 높고 희소한 데이터에는 잘 작동하지 않습니다. 이런 데이터에는 선형 모델이 더 적합합니다. 랜덤 포레스트는 매우 큰 데이터셋에도 잘 작동하며 훈련은 여러 CPU 코어로 간단하게 병렬화할 수 있습니다. 하지만 랜덤 포레스트는 선형 모델보다 많은 메모리를 사용하며 훈련과 예측이 느립니다. 속도와 메모리 사용에 제약이 있는 애플리케이션이라면 선형 모델이 적합할 수 있습니다.\n"
   ]
  },
  {
   "cell_type": "markdown",
   "metadata": {},
   "source": []
  },
  {
   "cell_type": "markdown",
   "metadata": {},
   "source": [
    "랜덤 포레스트에서 변수 중요도는 어떻게 될까요? 랜덤 포레스트는 의사결정나무들을 병렬적으로 합한 것이므로, 랜덤 포레스트에서 변수중요도는 결국 각 트리에서의 변수중요도를 모두 평균 낸 것에 해당합니다!"
   ]
  },
  {
   "cell_type": "markdown",
   "metadata": {},
   "source": [
    "## 모델 세우기"
   ]
  },
  {
   "cell_type": "code",
   "execution_count": 27,
   "metadata": {},
   "outputs": [
    {
     "data": {
      "text/plain": [
       "RandomForestRegressor(min_samples_split=50, oob_score=True)"
      ]
     },
     "execution_count": 27,
     "metadata": {},
     "output_type": "execute_result"
    }
   ],
   "source": [
    "from sklearn.ensemble import RandomForestRegressor\n",
    "model =  RandomForestRegressor(n_estimators=100,min_samples_split=50,oob_score = True)\n",
    "# scoring 은 default 이므로 model 의 자체 scoring 으로 들어간다. \n",
    "# n_estimator = 500 클수록 좋으나 내 컴퓨터가 버티질 못할듯.\n",
    "model.fit(X_train,y_train)"
   ]
  },
  {
   "cell_type": "markdown",
   "metadata": {},
   "source": [
    "## 모델 평가"
   ]
  },
  {
   "cell_type": "code",
   "execution_count": 28,
   "metadata": {
    "scrolled": true
   },
   "outputs": [
    {
     "name": "stdout",
     "output_type": "stream",
     "text": [
      "MSE : 9.1050983784859\n",
      "R_squared : 0.15531497954068496\n"
     ]
    }
   ],
   "source": [
    "y_pred = model.predict(X_test)\n",
    "print (\"MSE :\", metrics.mean_squared_error(y_test, y_pred))\n",
    "print('R_squared :',model.score(X_test, y_test)) "
   ]
  },
  {
   "cell_type": "markdown",
   "metadata": {},
   "source": [
    "## 변수 중요도"
   ]
  },
  {
   "cell_type": "code",
   "execution_count": 29,
   "metadata": {
    "scrolled": true
   },
   "outputs": [
    {
     "data": {
      "text/plain": [
       "<AxesSubplot:>"
      ]
     },
     "execution_count": 29,
     "metadata": {},
     "output_type": "execute_result"
    },
    {
     "data": {
      "image/png": "[encoded data removed]",
      "text/plain": [
       "<Figure size 432x288 with 1 Axes>"
      ]
     },
     "metadata": {
      "needs_background": "light"
     },
     "output_type": "display_data"
    }
   ],
   "source": [
    "feat_importances = pd.Series(model.feature_importances_, index=X.columns)\n",
    "feat_importances.nlargest(10).plot(kind='barh')"
   ]
  },
  {
   "cell_type": "markdown",
   "metadata": {},
   "source": [
    "# Gradient Boosting resgressoion"
   ]
  },
  {
   "cell_type": "markdown",
   "metadata": {},
   "source": [
    "<b> 모델 원리 </b>\n",
    "\n",
    "- 부스팅은 약한 분류기를 세트로 묶어서 정확도를 예측하는 기법이다. 모래 자갈, 먼지가 섞여 있는 물질에 여러 타입의 체를 가지고 조합해서 그것을 분류하는 과정과 유사하다.\n",
    "\n",
    "- 예를 들어, 어떤 학습기 M에 대하여 Y를 예측하는 모델 Y = M(x) + error(1) 가 있다고 하자.\n",
    "- error(1) 에 대해서 설명하는 모델 G(x) 를 fitting 한다. error(1) = G(x) + error(2)\n",
    "- error(2) 에 대해서 설명하는 모델 H(x) 를 fitting 한다. error(2) = G(x) + error(3)\n",
    "- 즉 이전 모델에서 fitting 되고 남은 에러를 계속 fitting 해서 설명하는 형식으로 진행이 된다.\n",
    "- 위 모델들을 처음 model 에 적용하게 되면\n",
    "- Y = M(x) + G(x) + ............\n",
    "- 그리고 각각 분류기의 성능이 다른데, 같은비중(지금은1) 을 두면 모델의 성능이 좋지 않을것이다. 그러므로 각 모델의 성능에 비례하여 이제 각 모델 앞에 비중(weights)을 두면\n",
    "- 최종 모델 : Y = m * M(x) + g * G(x) + h * H(x) +................"
   ]
  },
  {
   "cell_type": "markdown",
   "metadata": {},
   "source": [
    "<b> 모델 개요 </b>\n",
    "- 그래디언트 부스팅의 근본 아이디어는 이런 얕은 트리 같은 간단한 모델(약한 학습기weak learner라고도 합니다)을 많이 연결하는 것입니다. <br>\n",
    "- 이름이 회귀지만 이 모델은 회귀와 분류 모두에 사용할 수 있습니다. <br>\n",
    "- 랜덤 포레스트와는 달리 그래디언트 부스팅은 이전 트리의 오차를 보완하는 방식으로 순차적으로 트리를 만듭니다.<br>\n",
    "- 각각의 트리는 데이터의 일부에 대해서만 예측을 잘 수행할 수 있어서 트리가 많이 추가될수록 성능이 좋아집니다. <br>\n",
    "- 그래디언트 부스팅 트리는 머신러닝 경연 대회에서 우승을 많이 차지하였고 업계에서도 널리 사용합니다. 랜덤 포레스트보다는 매개변수 설정에 조금 더 민감하지만 잘 조정하면 더 높은 정확도를 제공해줍니다.<br>"
   ]
  },
  {
   "cell_type": "markdown",
   "metadata": {},
   "source": [
    "<b> 장점 </b>\n",
    "- 그래디언트 부스팅 트리는 보통 하나에서 다섯 정도의 깊지 않은 트리를 사용하므로 메모리를 적게 사용하고 예측도 빠릅니다. <br>\n",
    "- 다른 트리 기반 모델처럼 특성의 스케일을 조정하지 않아도 되고 이진 특성이나 연속적인 특성에서도 잘 동작합니다.\n",
    " "
   ]
  },
  {
   "cell_type": "markdown",
   "metadata": {},
   "source": [
    "<b> 단점 </b>\n",
    "- 단점은 매개변수를 잘 조정해야 한다는 것과(매개변수 설정에 random forest 보다 민감하기때문) 훈련 시간이 길다는 것입니다.\n",
    "- 트리 기반 모델의 특성상 희소한 고차원 데이터에는 잘 작동하지 않습니다.<br>"
   ]
  },
  {
   "cell_type": "markdown",
   "metadata": {},
   "source": [
    "<b> Hyperparameter </b>\n",
    " - n_estimators : 트리의 개수를 지정 <br>\n",
    " - learning_rate : 이전 트리의 오차를 보정하는 정도를 조절 <br>\n",
    " - max_depth : 각 모델 트리의 최대 깊이 <br>"
   ]
  },
  {
   "cell_type": "markdown",
   "metadata": {},
   "source": [
    "<b> Hyperparameter 조절 </b>\n",
    "- 일반적으로 기본값을 쓰는 것이 좋은 방법입니다 <br>\n",
    "- n_estimators는 클수록 좋다. 더 많은 트리를 평균하면 과대적합을 줄여 더 안정적인 모델을 만든다. 하지만 트리가 많으면 시간이 오래걸린다 <br>\n",
    "- 일반적인 관례는 가용한 시간과 메모리 한도에서 n_estimators를 맞추고 나서 적절한 learning_rate를 찾는 것.<br>\n",
    "- 각 트리의 복잡도를 낮추는 max_depth입니다. 통상 그래디언트 부스팅 모델에서는 max_depth를 매우 작게 설정하며 트리의 깊이가 5보다 깊어지지 않게 합니다<br>"
   ]
  },
  {
   "cell_type": "markdown",
   "metadata": {},
   "source": [
    "**early stoppiny**\n",
    "- 이떄에 fitting 할때에 early stopping 을 써서, 더욱더 좋은 모델을 만들 수 있습니다.\n",
    "- early stopping 이란, 점점 더 tree 를 증가시키면서 (residual 을 학습하는것이니까요!) 학습하는 과정인데, 어느순간 과적합의 순간이 와서 val loss 가 오히려 증가할 수 있습니다.\n",
    "- 그런경우를 막기 위해 tree 를 마치 epoch 처럼 생각해 n_eastimator 를 증가시키면서 val loss 의 추이를 보고, 어느정도의 n_eastimator 를 지정해줄지 알게 된답니다!\n",
    "- fit 할떄 쓰임! bossting 모델들은 모두 가지고 있다고 생각하시면 됩니다."
   ]
  },
  {
   "cell_type": "markdown",
   "metadata": {},
   "source": [
    "## 모델 세우기"
   ]
  },
  {
   "cell_type": "code",
   "execution_count": 30,
   "metadata": {
    "scrolled": true
   },
   "outputs": [
    {
     "data": {
      "text/plain": [
       "GradientBoostingRegressor(random_state=42)"
      ]
     },
     "execution_count": 30,
     "metadata": {},
     "output_type": "execute_result"
    }
   ],
   "source": [
    "from sklearn.ensemble import GradientBoostingRegressor\n",
    "model = GradientBoostingRegressor(n_estimators=100, learning_rate=0.1, random_state=42)\n",
    "model.fit(X_train, y_train)"
   ]
  },
  {
   "cell_type": "markdown",
   "metadata": {},
   "source": [
    "## 모델 평가"
   ]
  },
  {
   "cell_type": "code",
   "execution_count": 31,
   "metadata": {
    "scrolled": true
   },
   "outputs": [
    {
     "name": "stdout",
     "output_type": "stream",
     "text": [
      "MSE : 9.239837743558098\n",
      "R_squared : 0.1428151340023206\n"
     ]
    }
   ],
   "source": [
    "y_pred = model.predict(X_test)\n",
    "print (\"MSE :\", metrics.mean_squared_error(y_test, y_pred))\n",
    "print('R_squared :',model.score(X_test, y_test)) "
   ]
  },
  {
   "cell_type": "markdown",
   "metadata": {},
   "source": [
    "## 변수 중요도"
   ]
  },
  {
   "cell_type": "code",
   "execution_count": 32,
   "metadata": {
    "scrolled": true
   },
   "outputs": [
    {
     "data": {
      "text/plain": [
       "<AxesSubplot:>"
      ]
     },
     "execution_count": 32,
     "metadata": {},
     "output_type": "execute_result"
    },
    {
     "data": {
      "image/png": "[encoded data removed]",
      "text/plain": [
       "<Figure size 432x288 with 1 Axes>"
      ]
     },
     "metadata": {
      "needs_background": "light"
     },
     "output_type": "display_data"
    }
   ],
   "source": [
    "feat_importances = pd.Series(model.feature_importances_, index=X.columns)\n",
    "feat_importances.nlargest(10).plot(kind='barh')"
   ]
  },
  {
   "cell_type": "markdown",
   "metadata": {},
   "source": [
    "# AdaBoosting Regression"
   ]
  },
  {
   "cell_type": "markdown",
   "metadata": {},
   "source": [
    "<b> 모델 원리 </b>\n",
    "- 처음에는 weight 1/N을 가지는(즉 뽑힐 확률이 똑같은) data로 classifier(h1)를 학습 시키고, testing을 수행한다\n",
    "\n",
    "- h1의 분류 결과로, 잘못 분류된 data가 있을 것이고, 이 data에 높은 weight(뽑힐 확률이 크게한다)를 준다\n",
    "\n",
    "- h2를 train 할 때는 h1가 틀린 데이터가 많이 포함된 데이터들로 학습 될 것이다\n",
    "\n",
    "- 그럼 h2는 h1가 틀린 데이터를 잘 분류하도록 학습 될 것이다\n",
    "\n",
    "- 즉 먼저 학습된 분류기가 잘못 분류한 것에 대한 정보를 다음 분류기가 학습할 때 사용하고, 단점을 보완하는 것이다\n",
    "\n",
    "- 이런식으로 계속 분류기가 학습된다 h1 -> h2 -> ...->hN\n",
    "\n",
    "- 각 모델이 data 를 얼마나 잘 분류했는지에 대해 a1,a2 ... 의 weight 를 준다.(잘 분류하면 큰 weight)\n",
    "\n",
    "- 예측 성능이 조금 낮은 약한 분류기들을 조합하여 최종적으로 하나의 강한 분류기를 생성한다\n",
    "\n",
    "- 최종 분류기 : f(x)= a1* h1(x)+a2* h2(x)+...+aN* hN(x)"
   ]
  },
  {
   "cell_type": "markdown",
   "metadata": {},
   "source": [
    "## 모델 세우기"
   ]
  },
  {
   "cell_type": "code",
   "execution_count": 33,
   "metadata": {},
   "outputs": [
    {
     "data": {
      "text/plain": [
       "AdaBoostRegressor(learning_rate=0.1, n_estimators=100, random_state=42)"
      ]
     },
     "execution_count": 33,
     "metadata": {},
     "output_type": "execute_result"
    }
   ],
   "source": [
    "from sklearn.ensemble import AdaBoostRegressor\n",
    "model =AdaBoostRegressor(n_estimators=100, learning_rate=0.1, random_state=42)\n",
    "model.fit(X_train, y_train)"
   ]
  },
  {
   "cell_type": "markdown",
   "metadata": {},
   "source": [
    "## 모델 평가"
   ]
  },
  {
   "cell_type": "code",
   "execution_count": 34,
   "metadata": {},
   "outputs": [
    {
     "name": "stdout",
     "output_type": "stream",
     "text": [
      "MSE : 9.204469959820555\n",
      "R_squared : 0.14609622289209434\n"
     ]
    }
   ],
   "source": [
    "y_pred = model.predict(X_test)\n",
    "print (\"MSE :\", metrics.mean_squared_error(y_test, y_pred))\n",
    "print('R_squared :',model.score(X_test, y_test)) "
   ]
  },
  {
   "cell_type": "markdown",
   "metadata": {},
   "source": [
    "## 변수 중요도"
   ]
  },
  {
   "cell_type": "code",
   "execution_count": 35,
   "metadata": {
    "scrolled": false
   },
   "outputs": [
    {
     "data": {
      "text/plain": [
       "<AxesSubplot:>"
      ]
     },
     "execution_count": 35,
     "metadata": {},
     "output_type": "execute_result"
    },
    {
     "data": {
      "image/png": "[encoded data removed]",
      "text/plain": [
       "<Figure size 432x288 with 1 Axes>"
      ]
     },
     "metadata": {
      "needs_background": "light"
     },
     "output_type": "display_data"
    }
   ],
   "source": [
    "feat_importances = pd.Series(model.feature_importances_, index=X.columns)\n",
    "feat_importances.nlargest(10).plot(kind='barh')"
   ]
  },
  {
   "cell_type": "markdown",
   "metadata": {},
   "source": [
    " # xgboost Regression"
   ]
  },
  {
   "cell_type": "markdown",
   "metadata": {},
   "source": [
    "## 모델 세우기"
   ]
  },
  {
   "cell_type": "markdown",
   "metadata": {},
   "source": [
    "xgboost란?\n",
    "\n",
    "1. 훌륭한 그라디언트 부스팅 라이브러리. 병렬 처리를 사용하기에 학습과 분류가 빠르다\n",
    "\n",
    "2. 유연성이 좋다. 평가 함수를 포함하여 다양한 커스텀 최적화 옵션을 제공한다\n",
    "\n",
    "3. 욕심쟁이(Greedy-algorithm)를 사용한 자동 가지치기가 가능하다. 따라서 과적합(Overfitting)이 잘 일어나지 않는다\n",
    "\n",
    "4. 다른 알고리즘과 연계 활용성이 좋다. xgboost 분류기 결론부 아래에 다른 알고리즘을 붙여서 앙상블 학습이 가능하다 ResNet 마지막 바로 이전 단을 Feature layer로 응용하는 것과 비슷하다."
   ]
  },
  {
   "cell_type": "markdown",
   "metadata": {},
   "source": [
    "xgboost는 욕심쟁이(Greedy algorithm)를 사용하여 분류기 M, G, H를 발견하고, 분산처리를 사용하여 빠른(Extreme) 속도로 적합한 비중 파라메터를 찾는 알고리즘이다. 분류기는 Regression Score를 사용하여 정확도 스코어(accuracy score)를 측정하고, 각 순서에 따라 강한 분류기부터 약한 분류기까지 랜덤 하게 생성된다. 이렇게 만들어진 분류기를 트리(tree)라고 하며, 분류기를 조합한 최종 알고리즘을 포레스트(forest)라고 한다. 여기까지가 기본적인 boosting algorithm 원리다.\n",
    "\n",
    "xgboost는 트리를 만들 때 CART(Classification And Regression Trees)라 불리는 앙상블 모델을 사용한다. 이후 트리 부스팅을 사용하여, 각 분류 기간 비중(weights)을 최적화한다. CART 모델은 일반적인 의사결정 트리(Decision Tree)와 조금 다르다. 리프 노드 하나에 대해서만 디시전 벨류를 갖는는 의사결정 트리와 달리, CART 방식은 모든 리프들이 모델의 최종 스코어에 연관되어 있다. 따라서 의사결정 트리가 분류를 제대로 했는지에 대해서만 초점을 맞추는 반면, CART는 같은 분류 결과를 갖는 모델끼리도 모델의 우위를 비교할 수 있다(스코어를 비교하면 된다). 즉, 모든 트레이닝 세트 X에 대하여 포레스트에 넣고, 결괏값으로 나오는 점수의 절대값을 더한다. 많은 데이터를 +와 -의 방향으로 보낼수록, 좋은 분류 모델이라 할 수 있다."
   ]
  },
  {
   "cell_type": "markdown",
   "metadata": {},
   "source": [
    "2-1. 일반 파라메터\n",
    "\n",
    "\n",
    "booster: 어떤 부스터 구조를 쓸지 결정한다. 이것은 gbtree, gblinear, dart가 있다.\n",
    "\n",
    "nthread: 몇 개의 쓰레드를 동시에 처리하도록 할지 결정한다. 디폴트는 “가능한 한 많이”.\n",
    "\n",
    "num_feature: feature 차원의 숫자를 정해야 하는 경우 옵션을 세팅한다. 디폴트는 “가능한 한 많이.”\n",
    "\n",
    "\n",
    "\n",
    "2-2. 부스팅 파라메터\n",
    "\n",
    "\n",
    "eta: learning rate다. 트리에 가지가 많을수록 과적합(overfitting) 하기 쉽다. 매 부스팅 스탭마다 weight를 주어 부스팅 과정에 과적합이 일어나지 않도록 한다\n",
    "\n",
    "gamma: 정보 획득(Information Gain)에서 -r로 표현한 바 있다. 이것이 커지면, 트리 깊이가 줄어들어 보수적인 모델이 된다. 디폴트 값은 0이다\n",
    "\n",
    "max_depth: 한 트리의 maximum depth. 숫자를 키울수록 모델의 복잡도가 커진다. 과적합 하기 쉽다. 디폴트는 6. \n",
    "\n",
    "lambda(L2 reg-form): L2 Regularization Form에 달리는 weights이다. 숫자가 클수록 보수적인 모델이 된다\n",
    "\n",
    "alpha(L1 reg-form): L1 Regularization Form weights다. 숫자가 클수록 보수적인 모델이 된다 \n",
    "\n",
    "\n",
    "\n",
    "2-3. 학습 과정 파라메터\n",
    "\n",
    "objective: 목적 함수다. reg:linear(linear-regression), binary:logistic(binary-logistic classification), count:poisson(count data poison regression) 등 다양하다\n",
    "\n",
    "eval_metric: 모델의 평가 함수를 조정하는 함수다. rmse(root mean square error), logloss(log-likelihood), map(mean average precision) 등, 해당 데이터의 특성에 맞게 평가 함수를 조정한다\n",
    "\n",
    "\n",
    "\n",
    "2-4. 커맨드 라인 파라메터\n",
    "num_rounds: boosting 라운드를 결정한다. 랜덤 하게 생성되는 모델이니만큼 이 수가 적당히 큰 게 좋다. epoch 옵션과 동일하다"
   ]
  },
  {
   "cell_type": "markdown",
   "metadata": {},
   "source": [
    "1. booster (부스터 모양)\n",
    "2. eval_metric (평가 함수) / objective (목적 함수)\n",
    "3. eta (러닝 레이트)\n",
    "4. L1 form (L1 레귤러라이제이션 폼이 L2보다 아웃라이어에 민감하다)\n",
    "5. L2 form"
   ]
  },
  {
   "cell_type": "markdown",
   "metadata": {},
   "source": [
    "alpha [default=0] <br>\n",
    "-L1 regularization term on weight (analogous to Lasso regression)<br>\n",
    "-Can be used in case of very high dimensionality so that the algorithm runs faster when implemented"
   ]
  },
  {
   "cell_type": "code",
   "execution_count": 38,
   "metadata": {},
   "outputs": [
    {
     "name": "stdout",
     "output_type": "stream",
     "text": [
      "Collecting xgboost\n",
      "  Using cached xgboost-1.1.1-py3-none-win_amd64.whl (54.4 MB)\n",
      "Requirement already satisfied: numpy in c:\\users\\goran\\anaconda3\\envs\\tensor\\lib\\site-packages (from xgboost) (1.18.5)\n",
      "Requirement already satisfied: scipy in c:\\users\\goran\\anaconda3\\envs\\tensor\\lib\\site-packages (from xgboost) (1.4.1)\n",
      "Installing collected packages: xgboost\n",
      "Successfully installed xgboost-1.1.1\n",
      "Note: you may need to restart the kernel to use updated packages.\n"
     ]
    }
   ],
   "source": [
    "pip install xgboost"
   ]
  },
  {
   "cell_type": "code",
   "execution_count": 39,
   "metadata": {
    "scrolled": true
   },
   "outputs": [
    {
     "data": {
      "text/plain": [
       "XGBRegressor(base_score=0.5, booster='gbtree', colsample_bylevel=1,\n",
       "             colsample_bynode=1, colsample_bytree=1, gamma=0, gpu_id=-1,\n",
       "             importance_type='gain', interaction_constraints='',\n",
       "             learning_rate=0.08, max_delta_step=0, max_depth=3,\n",
       "             min_child_weight=1, missing=nan, monotone_constraints='()',\n",
       "             n_estimators=100, n_jobs=0, num_parallel_tree=1, random_state=0,\n",
       "             reg_alpha=1, reg_lambda=1, scale_pos_weight=1, subsample=1,\n",
       "             tree_method='exact', validate_parameters=1, verbosity=None)"
      ]
     },
     "execution_count": 39,
     "metadata": {},
     "output_type": "execute_result"
    }
   ],
   "source": [
    "import xgboost as xgb\n",
    "from xgboost.sklearn import XGBRegressor\n",
    "model = XGBRegressor(n_estimators=100, learning_rate=0.08,max_depth=3,reg_alpha=1)\n",
    "model.fit(X_train, y_train)"
   ]
  },
  {
   "cell_type": "markdown",
   "metadata": {},
   "source": [
    "## 모델 평가"
   ]
  },
  {
   "cell_type": "code",
   "execution_count": 40,
   "metadata": {
    "scrolled": true
   },
   "outputs": [
    {
     "name": "stdout",
     "output_type": "stream",
     "text": [
      "MSE : 9.123864862015253\n",
      "R_squared : 0.15357400246773023\n"
     ]
    }
   ],
   "source": [
    "from sklearn import metrics\n",
    "y_pred = model.predict(X_test)\n",
    "print (\"MSE :\", metrics.mean_squared_error(y_test, y_pred))\n",
    "print('R_squared :',model.score(X_test, y_test)) "
   ]
  },
  {
   "cell_type": "markdown",
   "metadata": {},
   "source": [
    "## 변수 중요도"
   ]
  },
  {
   "cell_type": "code",
   "execution_count": 41,
   "metadata": {
    "scrolled": false
   },
   "outputs": [
    {
     "data": {
      "text/plain": [
       "<AxesSubplot:>"
      ]
     },
     "execution_count": 41,
     "metadata": {},
     "output_type": "execute_result"
    },
    {
     "data": {
      "image/png": "[encoded data removed]",
      "text/plain": [
       "<Figure size 432x288 with 1 Axes>"
      ]
     },
     "metadata": {
      "needs_background": "light"
     },
     "output_type": "display_data"
    }
   ],
   "source": [
    "feat_importances = pd.Series(model.feature_importances_, index=X.columns)\n",
    "feat_importances.nlargest(10).plot(kind='barh')"
   ]
  },
  {
   "cell_type": "markdown",
   "metadata": {},
   "source": [
    "# SVR regression"
   ]
  },
  {
   "cell_type": "markdown",
   "metadata": {},
   "source": [
    "Pros:<br>\n",
    "It works really well with a clear margin of separation<br>\n",
    "It is effective in high dimensional spaces.<br>\n",
    "It is effective in cases where the number of dimensions is greater than the number of samples.<br>\n",
    "It uses a subset of training points in the decision function (called support vectors), so it is also memory efficient.<br>\n",
    "Cons:<br>\n",
    "It doesn’t perform well when we have large data set because the required training time is higher<br>\n",
    "It also doesn’t perform very well, when the data set has more noise i.e. target classes are overlapping<br>\n",
    "SVM doesn’t directly provide probability estimates, these are calculated using an expensive five-fold cross-validation. It is included in the related SVC method of Python scikit-learn library."
   ]
  },
  {
   "cell_type": "markdown",
   "metadata": {},
   "source": [
    "parameters :\n",
    "- kernel : 커널에는 Polynomial 커널, Sigmoid 커널, 가우시안 RBF 커널 등 종류가 많은데, 그 중 가장 성능이 좋아 자주 사용되는 것이 가우시안 RBF 커널이다. 커널 기법은 주어진 데이터를 고차원 특징 공간으로 사상해주는 것이다\n",
    "- gamma : gamma는 하나의 데이터 샘플이 영향력을 행사하는 거리를 결정,결정 경계의 곡률을 조정한다고 말할 수도 있다 ,너무 낮으면 과소적합될 가능성이 크고, 너무 높으면 과대적합의 위험이 있다 <br>\n",
    "\n",
    "- C : cost(C)이다. C는 얼마나 많은 데이터 샘플이 다른 클래스에 놓이는 것을 허용하는지를 결정한다. 작을 수록 많이 허용하고, 클 수록 적게 허용한다. 다른 말로, C값을 낮게 설정하면 이상치들이 있을 가능성을 크게 잡아 일반적인 결정 경계를 찾아내고, 높게 설정하면 반대로 이상치의 존재 가능성을 작게 봐서 좀 더 세심하게 결정 경계를 찾아낸다. \"난 데이터 샘플하나도 잘못 분류할 수 없어!\"라면 C를 높여야한다. 반대로 \"몇 개는 놓쳐도 괜찮아, 이상치들이 꽤 있을 수도 있으니까\"라면 C를 낮춰야한다. 높으면 overfitting 의 문제가 있다"
   ]
  },
  {
   "cell_type": "markdown",
   "metadata": {},
   "source": [
    "## 모델 세우기"
   ]
  },
  {
   "cell_type": "code",
   "execution_count": 42,
   "metadata": {},
   "outputs": [
    {
     "data": {
      "text/plain": [
       "GridSearchCV(estimator=SVR(),\n",
       "             param_grid={'C': [0.1, 1, 10, 100, 1000],\n",
       "                         'gamma': [1, 0.1, 0.01, 0.001, 0.0001],\n",
       "                         'kernel': ['rbf', 'linear', 'poly']})"
      ]
     },
     "execution_count": 42,
     "metadata": {},
     "output_type": "execute_result"
    }
   ],
   "source": [
    "from sklearn.svm import SVR\n",
    "from sklearn.model_selection import GridSearchCV \n",
    "SVR = SVR()\n",
    "# gridsearch 로 최적의 parameter 를 고르자.\n",
    "param_grid = {'C': [0.1, 1, 10, 100, 1000],  \n",
    "              'gamma': [1, 0.1, 0.01, 0.001, 0.0001], \n",
    "              'kernel': ['rbf','linear','poly']}  \n",
    "model = GridSearchCV(SVR, param_grid) \n",
    "\n",
    "# fitting the model for grid search \n",
    "model.fit(X_train, y_train) "
   ]
  },
  {
   "cell_type": "code",
   "execution_count": 43,
   "metadata": {},
   "outputs": [
    {
     "data": {
      "text/plain": [
       "{'C': 100, 'gamma': 1, 'kernel': 'rbf'}"
      ]
     },
     "execution_count": 43,
     "metadata": {},
     "output_type": "execute_result"
    }
   ],
   "source": [
    "# 모델은 어떤 경우에 최고 좋았는가?\n",
    "model.best_params_"
   ]
  },
  {
   "cell_type": "markdown",
   "metadata": {},
   "source": [
    "## 모델 평가"
   ]
  },
  {
   "cell_type": "code",
   "execution_count": 66,
   "metadata": {},
   "outputs": [
    {
     "name": "stdout",
     "output_type": "stream",
     "text": [
      "MSE : 8.79871044038635\n",
      "R_squared : 0.2010870121689774\n"
     ]
    }
   ],
   "source": [
    "from sklearn import metrics\n",
    "y_pred = svr_rbf.predict(X_test)\n",
    "print (\"MSE :\", metrics.mean_squared_error(y_test, y_pred))\n",
    "print('R_squared :',model.score(X_test, y_test)) "
   ]
  },
  {
   "cell_type": "markdown",
   "metadata": {},
   "source": [
    "# Light gbm"
   ]
  },
  {
   "cell_type": "markdown",
   "metadata": {},
   "source": [
    "1. learning_rate\n",
    "\n",
    "일반적으로 0.01 ~ 0.1 정도로 맞추고 다른 파라미터를 튜닝한다. 나중에 성능을 더 높일 때 learning rate를 더 줄인다.\n",
    "\n",
    "2. num_iterations\n",
    "\n",
    "기본값이 100인데 1000정도는 해주는게 좋다. 너무 크게하면 과적합이 발생할 수 있다.\n",
    "\n",
    "같은 뜻으로 사용되는 옵션: num_iteration, n_iter, num_tree, num_trees, num_round, num_rounds, num_boost_round, n_estimators\n",
    "\n",
    "3. max_depth\n",
    "\n",
    "-1로 설정하면 제한없이 분기한다. feature가 많다면 크게 설정한다. 파라미터 설정 시 우선적으로 설정한다.\n",
    "\n",
    "4. boosting \n",
    "\n",
    "부스팅 방법: 기본값은 gbdt이며 정확도가 중요할때는 딥러닝의 드랍아웃과 같은 dart를 사용한다. 샘플링을 이용하는 goss도 있다.\n",
    "\n",
    "- boosting 🔗︎, default = gbdt, options: gbdt, rf, dart, goss\n",
    "- gbdt : traditional Gradient Boosting Decision Tree, aliases: gbrt\n",
    "- rf : Random Forest, aliases: random_forest\n",
    "- dart : Dropouts meet Multiple Additive Regression Trees\n",
    "- goss : Gradient-based One-Side Sampling\n",
    "\n",
    "5. bagging_fraction\n",
    "\n",
    "배깅을 하기위해서 데이터를 랜덤 샘플링하여 학습에 사용한다. 비율은 0 < fraction <= 1 이며 0이 되지 않게 해야한다.\n",
    "\n",
    "6. feature_fraction\n",
    "\n",
    "feature_fraction이 1보다 작다면 LGBM은 매 iteration(tree)마다 다른 feature를 랜덤하게 추출하여 학습하게된다. 만약, 0.8로 값을 설정하면 매 tree를 구성할 때, feature의 80%만 랜덤하게 선택한다. 과적합을 방지하기 위해 사용할 수 있으며 학습 속도가 향상된다.\n",
    "\n",
    "7. scale_pos_weight\n",
    "\n",
    "클래스 불균형의 데이터 셋에서 weight를 주는 방식으로 positive를 증가시킨다. 기본값은 1이며 불균형의 정도에 따라 조절한다.\n",
    "\n",
    "8. early_stopping_round\n",
    "\n",
    "Validation 셋에서 평가지표가 더 이상 향상되지 않으면 학습을 정지한다. 평가지표의 향상이 n round 이상 지속되면 학습을 정지한다.\n",
    "\n",
    "9. lambda_l1, lambda_l2\n",
    "\n",
    "정규화를 통해 과적합을 방지할 수 있지만, 정확도를 저하시킬수도 있기 때문에 일반적으로 default 값인 0으로 둔다.\n",
    "\n",
    "더 빠른 속도\n",
    "- bagging_fraction\n",
    "- max_bin은 작게\n",
    "- save_binary를 쓰면 데이터 로딩속도가 빨라짐\n",
    "- parallel learning 사용\n",
    "\n",
    "더 높은 정확도\n",
    "- max_bin을 크게\n",
    "- num_iterations 는 크게하고 learning_rate는 작게\n",
    "- num_leaves를 크게(과적합의 원인이 될 수 있음)\n",
    "- boosting 알고리즘 'dart' 사용\n",
    "\n",
    "과적합을 줄이기\n",
    "- max_bin을 작게\n",
    "- num_leaves를 작게\n",
    "- min_data_in_leaf와 min_sum_hessian_in_leaf 사용하기\n"
   ]
  },
  {
   "cell_type": "code",
   "execution_count": 57,
   "metadata": {},
   "outputs": [
    {
     "name": "stdout",
     "output_type": "stream",
     "text": [
      "Training until validation scores don't improve for 100 rounds\n",
      "[100]\tvalid_0's l2: 9.22719\n",
      "[200]\tvalid_0's l2: 8.99339\n",
      "[300]\tvalid_0's l2: 9.03419\n",
      "Early stopping, best iteration is:\n",
      "[221]\tvalid_0's l2: 8.98184\n"
     ]
    }
   ],
   "source": [
    "import lightgbm as lgb\n",
    "train_ds = lgb.Dataset(X_train, label = y_train)\n",
    "test_ds = lgb.Dataset(X_test, label = y_test)\n",
    "params = {'learning_rate': 0.01,\n",
    "          'max_depth': 16,\n",
    "          'boosting': 'gbdt',\n",
    "          'objective': 'regression',\n",
    "          'metric': 'mse',\n",
    "          'is_training_metric': True,\n",
    "          'num_leaves': 144,\n",
    "          'feature_fraction': 0.9,\n",
    "          'bagging_fraction': 0.7,\n",
    "          'bagging_freq': 5,\n",
    "          'seed':2020}\n",
    "\n",
    "model = lgb.train(params, train_ds, 1000, test_ds, verbose_eval=100, early_stopping_rounds=100)\n",
    "\n",
    "y_pred=model.predict(X_test)"
   ]
  },
  {
   "cell_type": "code",
   "execution_count": null,
   "metadata": {},
   "outputs": [],
   "source": []
  }
 ],
 "metadata": {
  "kernelspec": {
   "display_name": "Python 3",
   "language": "python",
   "name": "python3"
  },
  "language_info": {
   "codemirror_mode": {
    "name": "ipython",
    "version": 3
   },
   "file_extension": ".py",
   "mimetype": "text/x-python",
   "name": "python",
   "nbconvert_exporter": "python",
   "pygments_lexer": "ipython3",
   "version": "3.7.4"
  },
  "toc": {
   "base_numbering": 1,
   "nav_menu": {},
   "number_sections": true,
   "sideBar": true,
   "skip_h1_title": false,
   "title_cell": "Table of Contents",
   "title_sidebar": "Contents",
   "toc_cell": false,
   "toc_position": {
    "height": "calc(100% - 180px)",
    "left": "10px",
    "top": "150px",
    "width": "307.182px"
   },
   "toc_section_display": true,
   "toc_window_display": true
  },
  "varInspector": {
   "cols": {
    "lenName": 16,
    "lenType": 16,
    "lenVar": 40
   },
   "kernels_config": {
    "python": {
     "delete_cmd_postfix": "",
     "delete_cmd_prefix": "del ",
     "library": "var_list.py",
     "varRefreshCmd": "print(var_dic_list())"
    },
    "r": {
     "delete_cmd_postfix": ") ",
     "delete_cmd_prefix": "rm(",
     "library": "var_list.r",
     "varRefreshCmd": "cat(var_dic_list()) "
    }
   },
   "types_to_exclude": [
    "module",
    "function",
    "builtin_function_or_method",
    "instance",
    "_Feature"
   ],
   "window_display": false
  }
 },
 "nbformat": 4,
 "nbformat_minor": 2
}
