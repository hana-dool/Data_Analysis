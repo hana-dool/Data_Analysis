{
 "cells": [
  {
   "cell_type": "markdown",
   "metadata": {},
   "source": [
    "# Feature Selction 개요"
   ]
  },
  {
   "cell_type": "markdown",
   "metadata": {},
   "source": [
    "데이터의 feature selection 에는 크게 세가지 방법이 있다.\n",
    "\n",
    "첫 번째는 Filter method다. Filter method는 모델에 적용하기 전에 변수를 걸러낸다. 상관계수와 같은 통계적 지표를 사용하여 순위를 매기고, 영향력이 적은 변수는 제외하는 방식으로 작동한다. Filter method는 학습 전에 작동하므로 시간을 아낄 수 있고, 다른 방법에 비해 과적합을 예방할 수 있는 특징이 있다. 하지만, 변수 간의 관계를 고려하지 않기 때문에, 중복된 특징을 가지는 변수를 선택할 수 있다는 단점이 있다. 상관분석, 카이제곱 검정, 웰치 t 검정 등이 이 방식에 속한다.\n",
    "\n",
    "다음은 Wrapper method다. Wrapper method는 가장 이상적인 변수의 조합을 찾는 방식이다. 여러 변수가 존재할 때, 그 변수들의 조합을 다르게 하면서 학습을 진행하는 것이다. 완료된 모델 중 점수가 가장 높은 조합을 선택한다. 정확도를 기준으로 했다면, 가장 높은 정확도를 보인 변수조합을 얻을 수 있다는 장점이 있지만, 각 변수조합을 학습해야 하기 때문에 시간이 오래 걸리고, 과적합의 위험성이 증가한다는 단점이 있다. Forward selection, backward elimination, stepwise selection 등이 속한다.\n",
    "\n",
    "마지막은 Embedded method다. Embedded method는 모델의 학습 및 생성 과정에서 최적의 변수를 선택한다. Wrapper method는 모든 조합의 학습을 마친 결과를 비교하는데 비해, Embedded method는 학습 과정에서 최적화된 변수를 선택한다는 점에서 차이가 있다. 위의 두 방식의 장점을 결합하고자 하는 것으로, 보통 변수에 규제를 가하는 방식이 사용된다. 대표적으로 LASSO와 Ridge Regression이 Embedded method에 속한다."
   ]
  },
  {
   "cell_type": "code",
   "execution_count": 2,
   "metadata": {
    "ExecuteTime": {
     "end_time": "2020-08-01T09:11:52.225557Z",
     "start_time": "2020-08-01T09:11:50.131560Z"
    }
   },
   "outputs": [],
   "source": [
    "import numpy as np\n",
    "import pandas as pd\n",
    "import seaborn as sns\n",
    "from sklearn.datasets import make_regression\n",
    "from sklearn.datasets import make_classification\n",
    "import matplotlib as mpl\n",
    "import matplotlib.pyplot as plt"
   ]
  },
  {
   "cell_type": "code",
   "execution_count": 3,
   "metadata": {
    "ExecuteTime": {
     "end_time": "2020-08-01T09:11:52.287211Z",
     "start_time": "2020-08-01T09:11:52.226559Z"
    }
   },
   "outputs": [
    {
     "data": {
      "text/html": [
       "<div>\n",
       "<style scoped>\n",
       "    .dataframe tbody tr th:only-of-type {\n",
       "        vertical-align: middle;\n",
       "    }\n",
       "\n",
       "    .dataframe tbody tr th {\n",
       "        vertical-align: top;\n",
       "    }\n",
       "\n",
       "    .dataframe thead th {\n",
       "        text-align: right;\n",
       "    }\n",
       "</style>\n",
       "<table border=\"1\" class=\"dataframe\">\n",
       "  <thead>\n",
       "    <tr style=\"text-align: right;\">\n",
       "      <th></th>\n",
       "      <th>a</th>\n",
       "      <th>b</th>\n",
       "      <th>c</th>\n",
       "      <th>d</th>\n",
       "      <th>e</th>\n",
       "      <th>f</th>\n",
       "      <th>g</th>\n",
       "      <th>h</th>\n",
       "      <th>i</th>\n",
       "      <th>j</th>\n",
       "      <th>k</th>\n",
       "      <th>l</th>\n",
       "      <th>m</th>\n",
       "      <th>n</th>\n",
       "      <th>o</th>\n",
       "      <th>p</th>\n",
       "      <th>q</th>\n",
       "      <th>r</th>\n",
       "      <th>s</th>\n",
       "      <th>t</th>\n",
       "    </tr>\n",
       "  </thead>\n",
       "  <tbody>\n",
       "    <tr>\n",
       "      <th>0</th>\n",
       "      <td>0.025224</td>\n",
       "      <td>0.008405</td>\n",
       "      <td>-0.007318</td>\n",
       "      <td>-0.014080</td>\n",
       "      <td>-0.005149</td>\n",
       "      <td>0.018893</td>\n",
       "      <td>-0.026569</td>\n",
       "      <td>-0.004704</td>\n",
       "      <td>0.009057</td>\n",
       "      <td>-0.035768</td>\n",
       "      <td>0.010863</td>\n",
       "      <td>-0.006530</td>\n",
       "      <td>0.047138</td>\n",
       "      <td>0.004961</td>\n",
       "      <td>0.004522</td>\n",
       "      <td>-0.005009</td>\n",
       "      <td>-0.027447</td>\n",
       "      <td>-0.001734</td>\n",
       "      <td>0.006053</td>\n",
       "      <td>0.013745</td>\n",
       "    </tr>\n",
       "    <tr>\n",
       "      <th>1</th>\n",
       "      <td>0.018527</td>\n",
       "      <td>-0.010115</td>\n",
       "      <td>-0.013525</td>\n",
       "      <td>0.022476</td>\n",
       "      <td>0.000339</td>\n",
       "      <td>0.011206</td>\n",
       "      <td>0.029831</td>\n",
       "      <td>-0.003399</td>\n",
       "      <td>0.016128</td>\n",
       "      <td>0.008815</td>\n",
       "      <td>-0.006252</td>\n",
       "      <td>-0.010808</td>\n",
       "      <td>0.009921</td>\n",
       "      <td>-0.011789</td>\n",
       "      <td>-0.015326</td>\n",
       "      <td>-0.009772</td>\n",
       "      <td>0.022081</td>\n",
       "      <td>-0.037687</td>\n",
       "      <td>-0.018858</td>\n",
       "      <td>-0.001656</td>\n",
       "    </tr>\n",
       "    <tr>\n",
       "      <th>2</th>\n",
       "      <td>0.009434</td>\n",
       "      <td>0.004527</td>\n",
       "      <td>0.002136</td>\n",
       "      <td>0.000032</td>\n",
       "      <td>-0.019491</td>\n",
       "      <td>0.015520</td>\n",
       "      <td>-0.000625</td>\n",
       "      <td>0.064615</td>\n",
       "      <td>0.007078</td>\n",
       "      <td>0.020132</td>\n",
       "      <td>-0.011781</td>\n",
       "      <td>-0.013673</td>\n",
       "      <td>-0.014437</td>\n",
       "      <td>-0.023573</td>\n",
       "      <td>0.003888</td>\n",
       "      <td>0.009437</td>\n",
       "      <td>-0.018127</td>\n",
       "      <td>0.020044</td>\n",
       "      <td>0.008744</td>\n",
       "      <td>0.001688</td>\n",
       "    </tr>\n",
       "    <tr>\n",
       "      <th>3</th>\n",
       "      <td>0.017542</td>\n",
       "      <td>0.007550</td>\n",
       "      <td>0.016328</td>\n",
       "      <td>0.012456</td>\n",
       "      <td>0.003847</td>\n",
       "      <td>-0.000961</td>\n",
       "      <td>0.012238</td>\n",
       "      <td>-0.009797</td>\n",
       "      <td>-0.018079</td>\n",
       "      <td>-0.007888</td>\n",
       "      <td>0.001194</td>\n",
       "      <td>0.004952</td>\n",
       "      <td>-0.011066</td>\n",
       "      <td>-0.025502</td>\n",
       "      <td>-0.006265</td>\n",
       "      <td>-0.015814</td>\n",
       "      <td>-0.011684</td>\n",
       "      <td>-0.034066</td>\n",
       "      <td>-0.026690</td>\n",
       "      <td>-0.005797</td>\n",
       "    </tr>\n",
       "    <tr>\n",
       "      <th>4</th>\n",
       "      <td>-0.007018</td>\n",
       "      <td>0.000933</td>\n",
       "      <td>-0.011095</td>\n",
       "      <td>0.004866</td>\n",
       "      <td>0.023834</td>\n",
       "      <td>-0.014207</td>\n",
       "      <td>-0.022294</td>\n",
       "      <td>0.006455</td>\n",
       "      <td>-0.001231</td>\n",
       "      <td>0.021549</td>\n",
       "      <td>0.001083</td>\n",
       "      <td>0.023227</td>\n",
       "      <td>-0.032466</td>\n",
       "      <td>0.022926</td>\n",
       "      <td>-0.021975</td>\n",
       "      <td>-0.001706</td>\n",
       "      <td>-0.009895</td>\n",
       "      <td>-0.002055</td>\n",
       "      <td>-0.007035</td>\n",
       "      <td>-0.012011</td>\n",
       "    </tr>\n",
       "  </tbody>\n",
       "</table>\n",
       "</div>"
      ],
      "text/plain": [
       "          a         b         c         d         e         f         g  \\\n",
       "0  0.025224  0.008405 -0.007318 -0.014080 -0.005149  0.018893 -0.026569   \n",
       "1  0.018527 -0.010115 -0.013525  0.022476  0.000339  0.011206  0.029831   \n",
       "2  0.009434  0.004527  0.002136  0.000032 -0.019491  0.015520 -0.000625   \n",
       "3  0.017542  0.007550  0.016328  0.012456  0.003847 -0.000961  0.012238   \n",
       "4 -0.007018  0.000933 -0.011095  0.004866  0.023834 -0.014207 -0.022294   \n",
       "\n",
       "          h         i         j         k         l         m         n  \\\n",
       "0 -0.004704  0.009057 -0.035768  0.010863 -0.006530  0.047138  0.004961   \n",
       "1 -0.003399  0.016128  0.008815 -0.006252 -0.010808  0.009921 -0.011789   \n",
       "2  0.064615  0.007078  0.020132 -0.011781 -0.013673 -0.014437 -0.023573   \n",
       "3 -0.009797 -0.018079 -0.007888  0.001194  0.004952 -0.011066 -0.025502   \n",
       "4  0.006455 -0.001231  0.021549  0.001083  0.023227 -0.032466  0.022926   \n",
       "\n",
       "          o         p         q         r         s         t  \n",
       "0  0.004522 -0.005009 -0.027447 -0.001734  0.006053  0.013745  \n",
       "1 -0.015326 -0.009772  0.022081 -0.037687 -0.018858 -0.001656  \n",
       "2  0.003888  0.009437 -0.018127  0.020044  0.008744  0.001688  \n",
       "3 -0.006265 -0.015814 -0.011684 -0.034066 -0.026690 -0.005797  \n",
       "4 -0.021975 -0.001706 -0.009895 -0.002055 -0.007035 -0.012011  "
      ]
     },
     "metadata": {},
     "output_type": "display_data"
    },
    {
     "data": {
      "text/plain": [
       "array([ 4.7989583 ,  2.60992309,  3.15534149, ..., -0.88908075,\n",
       "       -5.57811736,  3.9804761 ])"
      ]
     },
     "metadata": {},
     "output_type": "display_data"
    }
   ],
   "source": [
    "# Regression dataset 형성하기\n",
    "X, y = make_regression(n_samples=2000, # sample 의 수는 2000개\n",
    "                       n_features=20, # x 변수는 20개\n",
    "                       n_informative=4, # 그중 y 변수와 관련되는 변수는 4개  \n",
    "                       noise = 3       # nosie \n",
    "                      ,effective_rank=15 #  x 변수중 서로 독립인 수 (5개는 서로 관련)\n",
    "                      ,tail_strength=0.3 # 관련된 변수의 관련성\n",
    "                      ,random_state=0) # random state 고정\n",
    "X = pd.DataFrame(X,columns=list('abcdefghijklmnopqrst'))\n",
    "X[['a','d','f','j','m']]=X[['a','d','f','j','m']]*-1\n",
    "display(X.head() , y)"
   ]
  },
  {
   "cell_type": "code",
   "execution_count": 4,
   "metadata": {
    "ExecuteTime": {
     "end_time": "2020-08-01T09:11:52.318131Z",
     "start_time": "2020-08-01T09:11:52.289173Z"
    },
    "scrolled": true
   },
   "outputs": [
    {
     "data": {
      "text/html": [
       "<div>\n",
       "<style scoped>\n",
       "    .dataframe tbody tr th:only-of-type {\n",
       "        vertical-align: middle;\n",
       "    }\n",
       "\n",
       "    .dataframe tbody tr th {\n",
       "        vertical-align: top;\n",
       "    }\n",
       "\n",
       "    .dataframe thead th {\n",
       "        text-align: right;\n",
       "    }\n",
       "</style>\n",
       "<table border=\"1\" class=\"dataframe\">\n",
       "  <thead>\n",
       "    <tr style=\"text-align: right;\">\n",
       "      <th></th>\n",
       "      <th>a</th>\n",
       "      <th>b</th>\n",
       "      <th>c</th>\n",
       "      <th>d</th>\n",
       "      <th>e</th>\n",
       "      <th>f</th>\n",
       "      <th>g</th>\n",
       "      <th>h</th>\n",
       "      <th>i</th>\n",
       "      <th>j</th>\n",
       "      <th>k</th>\n",
       "      <th>l</th>\n",
       "      <th>m</th>\n",
       "      <th>n</th>\n",
       "      <th>o</th>\n",
       "    </tr>\n",
       "  </thead>\n",
       "  <tbody>\n",
       "    <tr>\n",
       "      <th>0</th>\n",
       "      <td>-1.158215</td>\n",
       "      <td>-0.675833</td>\n",
       "      <td>0.448492</td>\n",
       "      <td>-0.842543</td>\n",
       "      <td>2.232889</td>\n",
       "      <td>0.147461</td>\n",
       "      <td>-0.213919</td>\n",
       "      <td>0.532873</td>\n",
       "      <td>-0.604045</td>\n",
       "      <td>-0.332821</td>\n",
       "      <td>-1.376090</td>\n",
       "      <td>-1.083270</td>\n",
       "      <td>-0.854913</td>\n",
       "      <td>-1.608711</td>\n",
       "      <td>0.649953</td>\n",
       "    </tr>\n",
       "    <tr>\n",
       "      <th>1</th>\n",
       "      <td>-1.666340</td>\n",
       "      <td>-0.182845</td>\n",
       "      <td>-0.846050</td>\n",
       "      <td>-0.179452</td>\n",
       "      <td>0.382073</td>\n",
       "      <td>-1.105616</td>\n",
       "      <td>1.948512</td>\n",
       "      <td>2.158387</td>\n",
       "      <td>-0.362987</td>\n",
       "      <td>0.977652</td>\n",
       "      <td>0.399624</td>\n",
       "      <td>-0.552694</td>\n",
       "      <td>-0.183022</td>\n",
       "      <td>-1.890676</td>\n",
       "      <td>-1.391946</td>\n",
       "    </tr>\n",
       "    <tr>\n",
       "      <th>2</th>\n",
       "      <td>0.788402</td>\n",
       "      <td>1.373856</td>\n",
       "      <td>-0.429065</td>\n",
       "      <td>0.891064</td>\n",
       "      <td>0.963987</td>\n",
       "      <td>0.778797</td>\n",
       "      <td>-0.854284</td>\n",
       "      <td>-1.473552</td>\n",
       "      <td>0.164241</td>\n",
       "      <td>-0.486102</td>\n",
       "      <td>-0.501906</td>\n",
       "      <td>1.652401</td>\n",
       "      <td>0.881583</td>\n",
       "      <td>-0.543788</td>\n",
       "      <td>-0.879982</td>\n",
       "    </tr>\n",
       "    <tr>\n",
       "      <th>3</th>\n",
       "      <td>-2.101311</td>\n",
       "      <td>-1.187411</td>\n",
       "      <td>0.865645</td>\n",
       "      <td>-1.304290</td>\n",
       "      <td>-0.874008</td>\n",
       "      <td>-0.389177</td>\n",
       "      <td>1.050448</td>\n",
       "      <td>1.573958</td>\n",
       "      <td>-0.112665</td>\n",
       "      <td>1.664537</td>\n",
       "      <td>-0.085852</td>\n",
       "      <td>-0.542334</td>\n",
       "      <td>0.328850</td>\n",
       "      <td>0.397289</td>\n",
       "      <td>-1.161907</td>\n",
       "    </tr>\n",
       "    <tr>\n",
       "      <th>4</th>\n",
       "      <td>0.995946</td>\n",
       "      <td>0.746935</td>\n",
       "      <td>0.181979</td>\n",
       "      <td>1.402588</td>\n",
       "      <td>-1.089835</td>\n",
       "      <td>1.477644</td>\n",
       "      <td>-1.784294</td>\n",
       "      <td>-2.598543</td>\n",
       "      <td>1.996787</td>\n",
       "      <td>-0.903922</td>\n",
       "      <td>0.902545</td>\n",
       "      <td>2.543335</td>\n",
       "      <td>0.220129</td>\n",
       "      <td>-0.797048</td>\n",
       "      <td>-1.132361</td>\n",
       "    </tr>\n",
       "  </tbody>\n",
       "</table>\n",
       "</div>"
      ],
      "text/plain": [
       "          a         b         c         d         e         f         g  \\\n",
       "0 -1.158215 -0.675833  0.448492 -0.842543  2.232889  0.147461 -0.213919   \n",
       "1 -1.666340 -0.182845 -0.846050 -0.179452  0.382073 -1.105616  1.948512   \n",
       "2  0.788402  1.373856 -0.429065  0.891064  0.963987  0.778797 -0.854284   \n",
       "3 -2.101311 -1.187411  0.865645 -1.304290 -0.874008 -0.389177  1.050448   \n",
       "4  0.995946  0.746935  0.181979  1.402588 -1.089835  1.477644 -1.784294   \n",
       "\n",
       "          h         i         j         k         l         m         n  \\\n",
       "0  0.532873 -0.604045 -0.332821 -1.376090 -1.083270 -0.854913 -1.608711   \n",
       "1  2.158387 -0.362987  0.977652  0.399624 -0.552694 -0.183022 -1.890676   \n",
       "2 -1.473552  0.164241 -0.486102 -0.501906  1.652401  0.881583 -0.543788   \n",
       "3  1.573958 -0.112665  1.664537 -0.085852 -0.542334  0.328850  0.397289   \n",
       "4 -2.598543  1.996787 -0.903922  0.902545  2.543335  0.220129 -0.797048   \n",
       "\n",
       "          o  \n",
       "0  0.649953  \n",
       "1 -1.391946  \n",
       "2 -0.879982  \n",
       "3 -1.161907  \n",
       "4 -1.132361  "
      ]
     },
     "metadata": {},
     "output_type": "display_data"
    },
    {
     "data": {
      "text/plain": [
       "array([0, 0, 1, 0, 2, 0, 2, 1, 2, 1, 0, 1, 1, 1, 1, 1, 1, 2, 2, 1, 1, 0,\n",
       "       1, 1, 2, 2, 0, 2, 1, 0, 1, 0, 2, 0, 0, 0, 0, 1, 0, 2, 0, 2, 0, 0,\n",
       "       0, 0, 0, 0, 0, 2, 1, 2, 1, 0, 2, 2, 2, 2, 0, 0, 0, 1, 2, 2, 2, 1,\n",
       "       1, 1, 2, 1, 2, 0, 1, 0, 2, 1, 0, 0, 1, 0, 2, 2, 1, 2, 2, 2, 0, 2,\n",
       "       2, 0, 2, 1, 1, 1, 0, 2, 1, 2, 1, 0, 1, 0, 2, 2, 0, 1, 0, 1, 0, 1,\n",
       "       0, 1, 0, 0, 1, 2, 0, 1, 0, 2, 0, 2, 2, 2, 0, 0, 2, 1, 1, 0, 1, 1,\n",
       "       0, 2, 1, 2, 2, 2, 0, 2, 2, 2, 2, 0, 2, 0, 1, 1, 1, 0, 2, 1, 1, 0,\n",
       "       2, 2, 1, 2, 2, 0, 2, 0, 2, 1, 0, 1, 2, 2, 0, 2, 0, 1, 1, 2, 0, 0,\n",
       "       1, 1, 0, 2, 2, 0, 2, 1, 0, 0, 0, 0, 2, 0, 2, 0, 1, 1, 2, 1, 0, 1,\n",
       "       1, 0, 0, 1, 1, 2, 1, 1, 2, 0, 0, 1, 0, 1, 1, 1, 0, 1, 2, 0, 2, 2,\n",
       "       2, 1, 1, 1, 0, 1, 2, 1, 1, 2, 1, 1, 2, 2, 2, 2, 1, 0, 2, 0, 2, 2,\n",
       "       0, 1, 0, 2, 2, 1, 0, 0, 2, 2, 2, 1, 0, 1, 0, 2, 0, 1, 2, 1, 2, 0,\n",
       "       0, 0, 2, 0, 1, 0, 0, 0, 1, 1, 1, 0, 0, 1, 0, 2, 2, 1, 1, 2, 2, 0,\n",
       "       1, 2, 0, 2, 1, 2, 2, 1, 2, 2, 0, 1, 1, 1])"
      ]
     },
     "metadata": {},
     "output_type": "display_data"
    }
   ],
   "source": [
    "# Classification dataset 형성하기\n",
    "Xc, yc = make_classification(n_samples=300,  # 표본 데이터의 수, 디폴트 100\n",
    "                             n_features=15,  # 독립 변수의 수, 디폴트 20\n",
    "                             n_informative=4,  # 독립 변수 중 종속 변수와 상관 관계가 있는 성분의 수, 디폴트 2\n",
    "                             n_redundant=2, # 독립 변수 중 다른 독립 변수의 선형 조합으로 나타나는 성분의 수, 디폴트 2\n",
    "                             n_clusters_per_class=1, # 클래스 당 클러스터의 수, 디폴트 2\n",
    "                             n_classes=3, # 종속 변수의 클래스 수, 디폴트 2\n",
    "                             random_state=0)\n",
    "Xc = pd.DataFrame(Xc,columns=list('abcdefghijklmno'))\n",
    "display(Xc.head() , yc)"
   ]
  },
  {
   "cell_type": "code",
   "execution_count": 5,
   "metadata": {
    "ExecuteTime": {
     "end_time": "2020-08-01T09:11:52.333089Z",
     "start_time": "2020-08-01T09:11:52.319093Z"
    }
   },
   "outputs": [],
   "source": [
    "# classification data 2번째 경우 형성하기\n",
    "from sklearn.datasets import load_iris\n",
    "Xdata, ydata = load_iris(return_X_y=True)\n",
    "Xi=pd.DataFrame(Xdata,columns=['x1','x2','x3','x4'])\n",
    "yi=pd.DataFrame(ydata,columns=['y'])\n",
    "data=pd.concat([Xi,yi],axis=1)"
   ]
  },
  {
   "cell_type": "code",
   "execution_count": 6,
   "metadata": {
    "ExecuteTime": {
     "end_time": "2020-08-01T09:11:52.349046Z",
     "start_time": "2020-08-01T09:11:52.334054Z"
    }
   },
   "outputs": [
    {
     "data": {
      "text/html": [
       "<div>\n",
       "<style scoped>\n",
       "    .dataframe tbody tr th:only-of-type {\n",
       "        vertical-align: middle;\n",
       "    }\n",
       "\n",
       "    .dataframe tbody tr th {\n",
       "        vertical-align: top;\n",
       "    }\n",
       "\n",
       "    .dataframe thead th {\n",
       "        text-align: right;\n",
       "    }\n",
       "</style>\n",
       "<table border=\"1\" class=\"dataframe\">\n",
       "  <thead>\n",
       "    <tr style=\"text-align: right;\">\n",
       "      <th></th>\n",
       "      <th>x1</th>\n",
       "      <th>x2</th>\n",
       "      <th>x3</th>\n",
       "      <th>x4</th>\n",
       "      <th>y</th>\n",
       "    </tr>\n",
       "  </thead>\n",
       "  <tbody>\n",
       "    <tr>\n",
       "      <th>0</th>\n",
       "      <td>5.1</td>\n",
       "      <td>3.5</td>\n",
       "      <td>1.4</td>\n",
       "      <td>0.2</td>\n",
       "      <td>0</td>\n",
       "    </tr>\n",
       "    <tr>\n",
       "      <th>1</th>\n",
       "      <td>4.9</td>\n",
       "      <td>3.0</td>\n",
       "      <td>1.4</td>\n",
       "      <td>0.2</td>\n",
       "      <td>0</td>\n",
       "    </tr>\n",
       "    <tr>\n",
       "      <th>2</th>\n",
       "      <td>4.7</td>\n",
       "      <td>3.2</td>\n",
       "      <td>1.3</td>\n",
       "      <td>0.2</td>\n",
       "      <td>0</td>\n",
       "    </tr>\n",
       "    <tr>\n",
       "      <th>3</th>\n",
       "      <td>4.6</td>\n",
       "      <td>3.1</td>\n",
       "      <td>1.5</td>\n",
       "      <td>0.2</td>\n",
       "      <td>0</td>\n",
       "    </tr>\n",
       "    <tr>\n",
       "      <th>4</th>\n",
       "      <td>5.0</td>\n",
       "      <td>3.6</td>\n",
       "      <td>1.4</td>\n",
       "      <td>0.2</td>\n",
       "      <td>0</td>\n",
       "    </tr>\n",
       "  </tbody>\n",
       "</table>\n",
       "</div>"
      ],
      "text/plain": [
       "    x1   x2   x3   x4  y\n",
       "0  5.1  3.5  1.4  0.2  0\n",
       "1  4.9  3.0  1.4  0.2  0\n",
       "2  4.7  3.2  1.3  0.2  0\n",
       "3  4.6  3.1  1.5  0.2  0\n",
       "4  5.0  3.6  1.4  0.2  0"
      ]
     },
     "execution_count": 6,
     "metadata": {},
     "output_type": "execute_result"
    }
   ],
   "source": [
    "data.head()"
   ]
  },
  {
   "cell_type": "markdown",
   "metadata": {},
   "source": [
    "왜 feature selection 과정이 필요한가 ?\n",
    "- feature가 너무 많으면 분명 예측력은 올라가겠지만 overfitting의 문제가 일어날 수 있기 때문이다.\n",
    "- 설명할 모델은 간결할수록 좋기 때문\n",
    "- computational / intepretion 의 한계 때문"
   ]
  },
  {
   "cell_type": "markdown",
   "metadata": {},
   "source": [
    "# correlation with X"
   ]
  },
  {
   "cell_type": "markdown",
   "metadata": {},
   "source": [
    " - X 의 어떤 변수끼리 큰 cor 이 존재한다면, 그 경우 두 변수는 서로 관련이 있다는 것이고, 하나는 없애도 될 것이다!\n",
    " - 기준은 데이터의 크기, 성질 등 마다 달라서 찾아보기 바란다."
   ]
  },
  {
   "cell_type": "code",
   "execution_count": 15,
   "metadata": {
    "ExecuteTime": {
     "end_time": "2020-08-01T09:15:25.459968Z",
     "start_time": "2020-08-01T09:15:24.416557Z"
    }
   },
   "outputs": [
    {
     "data": {
      "text/plain": [
       "<matplotlib.axes._subplots.AxesSubplot at 0x185778e4b08>"
      ]
     },
     "execution_count": 15,
     "metadata": {},
     "output_type": "execute_result"
    },
    {
     "data": {
      "image/png": "[encoded data removed]",
      "text/plain": [
       "<Figure size 720x720 with 2 Axes>"
      ]
     },
     "metadata": {
      "needs_background": "light"
     },
     "output_type": "display_data"
    }
   ],
   "source": [
    "plt.figure(figsize=(10,10))\n",
    "# plt.figure 는 내가 그릴 그림의 크기를 결정한다.\n",
    "sns.heatmap(data = X.corr(), annot=True, \n",
    "fmt = '.2f', linewidths=.5, cmap='RdYlBu_r',vmin=-1,vmax=1)\n",
    "#내부 속성중 annot 은 annotation. 각 셀의 값을 표시할지 결정하는 것이고, \n",
    "#fmt 는  annot=True 인 경우에, 숫자 표시를 어떻게 할지에요. \n",
    "#(.2f 는  소수 두번째자리까지 표시하라는 의미입니다.)\n",
    "#cmap 은 색상을 어떻게 할지. 이때에 - ~ + 까지 있으므로 단일 BLues 보다는 두가지색을 혼용하는게 좋다.\n",
    "#linewidths 는 각 셀을 구분짓는 하얀 선의 굵기\n",
    "#vmin=-1,vmax=1 (cmap 범위를 설정해주는게 좋다.)"
   ]
  },
  {
   "cell_type": "markdown",
   "metadata": {},
   "source": [
    "# correlation with y "
   ]
  },
  {
   "cell_type": "markdown",
   "metadata": {},
   "source": [
    "x1 와 y 가 큰 선형관계가 있다면, 그 둘의 pearson 상관관계가 높게 나올것이다.\n",
    "\n",
    "즉 이를 이용해, pearson correlation 이 높게 나온 상위 n 개의 변수를 select 하는 아이디어"
   ]
  },
  {
   "cell_type": "code",
   "execution_count": 7,
   "metadata": {
    "ExecuteTime": {
     "end_time": "2020-08-01T09:11:56.000004Z",
     "start_time": "2020-08-01T09:11:55.985857Z"
    }
   },
   "outputs": [],
   "source": [
    "def cor_selector(X, y, num_feats):\n",
    "    cor_list = []\n",
    "    feature_name = X.columns.tolist()\n",
    "    # calculate the correlation with y for each feature\n",
    "    for i in X.columns.tolist():\n",
    "        cor = np.corrcoef(X[i], y)[0, 1]\n",
    "        cor_list.append(cor)\n",
    "    # replace NaN with 0\n",
    "    cor_list = [0 if np.isnan(i) else i for i in cor_list]\n",
    "    # feature name\n",
    "    cor_feature = X.iloc[:,np.argsort(np.abs(cor_list))[-num_feats:]].columns.tolist()\n",
    "    # feature selection? 0 for not select, 1 for select\n",
    "    cor_support = [True if i in cor_feature else False for i in feature_name]\n",
    "    return cor_support, cor_feature"
   ]
  },
  {
   "cell_type": "code",
   "execution_count": 8,
   "metadata": {
    "ExecuteTime": {
     "end_time": "2020-08-01T09:11:56.265646Z",
     "start_time": "2020-08-01T09:11:56.250684Z"
    }
   },
   "outputs": [
    {
     "name": "stdout",
     "output_type": "stream",
     "text": [
      "4 selected features\n"
     ]
    }
   ],
   "source": [
    "cor_support, cor_feature = cor_selector(X, y, 4)\n",
    "print(str(len(cor_feature)), 'selected features')"
   ]
  },
  {
   "cell_type": "code",
   "execution_count": 9,
   "metadata": {
    "ExecuteTime": {
     "end_time": "2020-08-01T09:11:56.514753Z",
     "start_time": "2020-08-01T09:11:56.498789Z"
    }
   },
   "outputs": [
    {
     "data": {
      "text/plain": [
       "['g', 'j', 'i', 'p']"
      ]
     },
     "execution_count": 9,
     "metadata": {},
     "output_type": "execute_result"
    }
   ],
   "source": [
    "cor_feature"
   ]
  },
  {
   "cell_type": "markdown",
   "metadata": {},
   "source": [
    "# recursive feature elimination (RFE)"
   ]
  },
  {
   "cell_type": "markdown",
   "metadata": {},
   "source": [
    "Backward 방식중 하나로, 모든 변수를 우선 다 포함시킨 후 반복해서 학습을 진행하면서 중요도가 낮은 변수를 하나씩 제거하는 방식이다."
   ]
  },
  {
   "cell_type": "code",
   "execution_count": 65,
   "metadata": {},
   "outputs": [],
   "source": [
    "from sklearn.feature_selection import RFE\n",
    "from sklearn.svm import SVR \n",
    "\n",
    "estimator = SVR(kernel=\"linear\")\n",
    "selector = RFE(estimator, n_features_to_select=4, step=1)\n",
    "# estimator : coef 값을 제공하거나, feature importance 를 제공하는 supervised model\n",
    "# estimator 에 어떤 model 을 쓰느냐에 따라서 importance 가 달라질것이므로 주의!\n",
    "# n_features_to_select : 몇개의 feature 을 선택할지\n",
    "# step : 한번의 iteration 에서 몇개의 변수를 없앨지\n",
    "selector = selector.fit(X, y)"
   ]
  },
  {
   "cell_type": "code",
   "execution_count": 66,
   "metadata": {},
   "outputs": [
    {
     "data": {
      "text/plain": [
       "Index(['g', 'i', 'j', 'p'], dtype='object')"
      ]
     },
     "execution_count": 66,
     "metadata": {},
     "output_type": "execute_result"
    }
   ],
   "source": [
    "X.columns[selector.support_] # X 들중 어느게 선택되었는지"
   ]
  },
  {
   "cell_type": "markdown",
   "metadata": {},
   "source": [
    "# VarianceThreshold()"
   ]
  },
  {
   "cell_type": "markdown",
   "metadata": {},
   "source": [
    "원래 예측모형에서 중요한 특징데이터란 종속데이터와의 상관관계가 크고 예측에 도움이 되는 데이터를 말한다. 하지만 상관관계 계산에 앞서 특징데이터의 값 자체가 표본에 따라 그다지 변하지 않는다면 종속데이터 예측에도 도움이 되지 않을 가능성이 높다. 따라서 표본 변화에 따른 데이터 값의 변화 즉, 분산이 기준치보다 낮은 특징 데이터는 사용하지 않는 방법이 분산에 의한 선택 방법이다. 예를 들어 종속데이터와 특징데이터가 모두 0 또는 1 두가지 값만 가지는데 종속데이터는 0과 1이 균형을 이루는데 반해 특징데이터가 대부분(예를 들어 90%)의 값이 0이라면 이 특징데이터는 분류에 도움이 되지 않을 가능성이 높다.\n",
    "\n",
    "The main weakness of variance threshold is that it does not consider the relationship of input features with the output feature.\n",
    "(즉 X_input 끼리의 상관관계 , 또한 y 와의 상관관계를 고려하지 않고 하나의 데이터에 대해서만 고려하기떄문에 약점이 있다.)\n",
    "\n",
    "그리고 분산은 scale 의 영향을 받기떄문에 무조건! scaling 을 하고 나서 분석해야 한다!\n",
    "\n",
    "사실 이 분석은 분산이 0 인 경우 (즉 그냥 constant인 특성) 를 제외시키려고 쓴다. 그 외의 방법은 잘 쓰지 않음"
   ]
  },
  {
   "cell_type": "code",
   "execution_count": 17,
   "metadata": {
    "ExecuteTime": {
     "end_time": "2020-08-01T09:23:11.031247Z",
     "start_time": "2020-08-01T09:23:11.013715Z"
    }
   },
   "outputs": [],
   "source": [
    "# 스케일링이 되었다고 하자.\n",
    "from sklearn.feature_selection import VarianceThreshold\n",
    "selector = VarianceThreshold(0)\n",
    "# VAR 의 하안값. 0 를 넘어야 의미있는값으로 쳐줄것이다."
   ]
  },
  {
   "cell_type": "code",
   "execution_count": 18,
   "metadata": {
    "ExecuteTime": {
     "end_time": "2020-08-01T09:23:11.468684Z",
     "start_time": "2020-08-01T09:23:11.445733Z"
    }
   },
   "outputs": [
    {
     "data": {
      "text/plain": [
       "VarianceThreshold(threshold=0)"
      ]
     },
     "execution_count": 18,
     "metadata": {},
     "output_type": "execute_result"
    }
   ],
   "source": [
    "selector.fit(X,y) # 변환하기"
   ]
  },
  {
   "cell_type": "code",
   "execution_count": 19,
   "metadata": {
    "ExecuteTime": {
     "end_time": "2020-08-01T09:23:11.732892Z",
     "start_time": "2020-08-01T09:23:11.724953Z"
    }
   },
   "outputs": [
    {
     "data": {
      "text/plain": [
       "Index(['a', 'b', 'c', 'd', 'e', 'f', 'g', 'h', 'i', 'j', 'k', 'l', 'm', 'n',\n",
       "       'o', 'p', 'q', 'r', 's', 't'],\n",
       "      dtype='object')"
      ]
     },
     "execution_count": 19,
     "metadata": {},
     "output_type": "execute_result"
    }
   ],
   "source": [
    "X.columns[selector.get_support()] # 어떤 변수를 선택했는지."
   ]
  },
  {
   "cell_type": "markdown",
   "metadata": {},
   "source": [
    "constant 변수는 없는듯 하다 ^^"
   ]
  },
  {
   "cell_type": "markdown",
   "metadata": {},
   "source": [
    "#  Univariate feature selection"
   ]
  },
  {
   "cell_type": "markdown",
   "metadata": {},
   "source": [
    "단일 변수 선택법은 각각의 독립변수를 하나만 사용한 예측모형의 성능을 이용하여 가장 분류성능 혹은 상관관계가 높은 변수만 선택하는 방법이다."
   ]
  },
  {
   "cell_type": "markdown",
   "metadata": {},
   "source": [
    "## chi-square test[classification]"
   ]
  },
  {
   "cell_type": "markdown",
   "metadata": {},
   "source": [
    "x 와 y 의 관계를 알아보고싶다고 하자. 그런데 이 떄에 x1 변수가 y 와 chi-squre test 에 의해 독립이라고 하자. 그러면 이 때에는 x1 변수는 의미가 없어진다. (y 와 독립이므로) 그러므로 제거할 수 있다."
   ]
  },
  {
   "cell_type": "code",
   "execution_count": 27,
   "metadata": {},
   "outputs": [],
   "source": [
    "from sklearn.feature_selection import SelectKBest\n",
    "from sklearn.feature_selection import chi2\n",
    "selector = SelectKBest(chi2, k=3).fit(Xi,yi)\n",
    "# 상위 3개의 feature 를 선택하고. 그 기준은 chi2 test 를 통해서 y와 dependent 하다고 생각되어지는 상위 3개의 값이다."
   ]
  },
  {
   "cell_type": "code",
   "execution_count": 28,
   "metadata": {
    "scrolled": true
   },
   "outputs": [
    {
     "data": {
      "text/plain": [
       "array([4.47651499e-03, 1.56395980e-01, 5.53397228e-26, 2.75824965e-15])"
      ]
     },
     "execution_count": 28,
     "metadata": {},
     "output_type": "execute_result"
    }
   ],
   "source": [
    "selector.pvalues_ \n",
    "# chi2 test 는 H0 : 두 변수가 통계적으로 독립\n",
    "# P-value 를 보면 2번째 col의 값은 통계적으로 독립으로 보인다. 즉 의미가 없어보인다"
   ]
  },
  {
   "cell_type": "code",
   "execution_count": 29,
   "metadata": {},
   "outputs": [
    {
     "data": {
      "text/plain": [
       "Index(['x1', 'x3', 'x4'], dtype='object')"
      ]
     },
     "execution_count": 29,
     "metadata": {},
     "output_type": "execute_result"
    }
   ],
   "source": [
    "Xi.columns[selector.get_support()] \n",
    "# 2번째 col 이 제거된 모습을 볼 수 있다."
   ]
  },
  {
   "cell_type": "markdown",
   "metadata": {},
   "source": [
    "## f_classif [classification]"
   ]
  },
  {
   "cell_type": "markdown",
   "metadata": {},
   "source": [
    "The F-value scores examine if, when we group the numerical feature by the target vector, the means for each group are significantly different."
   ]
  },
  {
   "cell_type": "markdown",
   "metadata": {},
   "source": [
    "즉 one way anova 를 y변수의 label에 맞추어 1개의 x변수에 대해 group 을 나눈다. 그 이후 그 그룹들의 평균차이를 one way anova 비교해본다. \n",
    "\n",
    "이떄에 x1 변수가 y변수가 다름에도 평균차이는 무의미하다고 결론이 나온다면, 이는 x1 변수는 큰 information 을 가지지 않는다고 판단할 수 있을것이다.\n",
    "\n",
    "f value 가 높은순서대로(평균간 차이가 유의미한지) 선택하는것이다. "
   ]
  },
  {
   "cell_type": "code",
   "execution_count": 30,
   "metadata": {},
   "outputs": [
    {
     "data": {
      "text/html": [
       "<div>\n",
       "<style scoped>\n",
       "    .dataframe tbody tr th:only-of-type {\n",
       "        vertical-align: middle;\n",
       "    }\n",
       "\n",
       "    .dataframe tbody tr th {\n",
       "        vertical-align: top;\n",
       "    }\n",
       "\n",
       "    .dataframe thead th {\n",
       "        text-align: right;\n",
       "    }\n",
       "</style>\n",
       "<table border=\"1\" class=\"dataframe\">\n",
       "  <thead>\n",
       "    <tr style=\"text-align: right;\">\n",
       "      <th></th>\n",
       "      <th>a</th>\n",
       "      <th>b</th>\n",
       "      <th>c</th>\n",
       "      <th>d</th>\n",
       "      <th>e</th>\n",
       "      <th>f</th>\n",
       "      <th>g</th>\n",
       "      <th>h</th>\n",
       "      <th>i</th>\n",
       "      <th>j</th>\n",
       "      <th>k</th>\n",
       "      <th>l</th>\n",
       "      <th>m</th>\n",
       "      <th>n</th>\n",
       "      <th>o</th>\n",
       "    </tr>\n",
       "  </thead>\n",
       "  <tbody>\n",
       "    <tr>\n",
       "      <th>0</th>\n",
       "      <td>-1.158215</td>\n",
       "      <td>-0.675833</td>\n",
       "      <td>0.448492</td>\n",
       "      <td>-0.842543</td>\n",
       "      <td>2.232889</td>\n",
       "      <td>0.147461</td>\n",
       "      <td>-0.213919</td>\n",
       "      <td>0.532873</td>\n",
       "      <td>-0.604045</td>\n",
       "      <td>-0.332821</td>\n",
       "      <td>-1.376090</td>\n",
       "      <td>-1.083270</td>\n",
       "      <td>-0.854913</td>\n",
       "      <td>-1.608711</td>\n",
       "      <td>0.649953</td>\n",
       "    </tr>\n",
       "    <tr>\n",
       "      <th>1</th>\n",
       "      <td>-1.666340</td>\n",
       "      <td>-0.182845</td>\n",
       "      <td>-0.846050</td>\n",
       "      <td>-0.179452</td>\n",
       "      <td>0.382073</td>\n",
       "      <td>-1.105616</td>\n",
       "      <td>1.948512</td>\n",
       "      <td>2.158387</td>\n",
       "      <td>-0.362987</td>\n",
       "      <td>0.977652</td>\n",
       "      <td>0.399624</td>\n",
       "      <td>-0.552694</td>\n",
       "      <td>-0.183022</td>\n",
       "      <td>-1.890676</td>\n",
       "      <td>-1.391946</td>\n",
       "    </tr>\n",
       "    <tr>\n",
       "      <th>2</th>\n",
       "      <td>0.788402</td>\n",
       "      <td>1.373856</td>\n",
       "      <td>-0.429065</td>\n",
       "      <td>0.891064</td>\n",
       "      <td>0.963987</td>\n",
       "      <td>0.778797</td>\n",
       "      <td>-0.854284</td>\n",
       "      <td>-1.473552</td>\n",
       "      <td>0.164241</td>\n",
       "      <td>-0.486102</td>\n",
       "      <td>-0.501906</td>\n",
       "      <td>1.652401</td>\n",
       "      <td>0.881583</td>\n",
       "      <td>-0.543788</td>\n",
       "      <td>-0.879982</td>\n",
       "    </tr>\n",
       "    <tr>\n",
       "      <th>3</th>\n",
       "      <td>-2.101311</td>\n",
       "      <td>-1.187411</td>\n",
       "      <td>0.865645</td>\n",
       "      <td>-1.304290</td>\n",
       "      <td>-0.874008</td>\n",
       "      <td>-0.389177</td>\n",
       "      <td>1.050448</td>\n",
       "      <td>1.573958</td>\n",
       "      <td>-0.112665</td>\n",
       "      <td>1.664537</td>\n",
       "      <td>-0.085852</td>\n",
       "      <td>-0.542334</td>\n",
       "      <td>0.328850</td>\n",
       "      <td>0.397289</td>\n",
       "      <td>-1.161907</td>\n",
       "    </tr>\n",
       "    <tr>\n",
       "      <th>4</th>\n",
       "      <td>0.995946</td>\n",
       "      <td>0.746935</td>\n",
       "      <td>0.181979</td>\n",
       "      <td>1.402588</td>\n",
       "      <td>-1.089835</td>\n",
       "      <td>1.477644</td>\n",
       "      <td>-1.784294</td>\n",
       "      <td>-2.598543</td>\n",
       "      <td>1.996787</td>\n",
       "      <td>-0.903922</td>\n",
       "      <td>0.902545</td>\n",
       "      <td>2.543335</td>\n",
       "      <td>0.220129</td>\n",
       "      <td>-0.797048</td>\n",
       "      <td>-1.132361</td>\n",
       "    </tr>\n",
       "  </tbody>\n",
       "</table>\n",
       "</div>"
      ],
      "text/plain": [
       "          a         b         c         d         e         f         g  \\\n",
       "0 -1.158215 -0.675833  0.448492 -0.842543  2.232889  0.147461 -0.213919   \n",
       "1 -1.666340 -0.182845 -0.846050 -0.179452  0.382073 -1.105616  1.948512   \n",
       "2  0.788402  1.373856 -0.429065  0.891064  0.963987  0.778797 -0.854284   \n",
       "3 -2.101311 -1.187411  0.865645 -1.304290 -0.874008 -0.389177  1.050448   \n",
       "4  0.995946  0.746935  0.181979  1.402588 -1.089835  1.477644 -1.784294   \n",
       "\n",
       "          h         i         j         k         l         m         n  \\\n",
       "0  0.532873 -0.604045 -0.332821 -1.376090 -1.083270 -0.854913 -1.608711   \n",
       "1  2.158387 -0.362987  0.977652  0.399624 -0.552694 -0.183022 -1.890676   \n",
       "2 -1.473552  0.164241 -0.486102 -0.501906  1.652401  0.881583 -0.543788   \n",
       "3  1.573958 -0.112665  1.664537 -0.085852 -0.542334  0.328850  0.397289   \n",
       "4 -2.598543  1.996787 -0.903922  0.902545  2.543335  0.220129 -0.797048   \n",
       "\n",
       "          o  \n",
       "0  0.649953  \n",
       "1 -1.391946  \n",
       "2 -0.879982  \n",
       "3 -1.161907  \n",
       "4 -1.132361  "
      ]
     },
     "execution_count": 30,
     "metadata": {},
     "output_type": "execute_result"
    }
   ],
   "source": [
    "Xc.head()"
   ]
  },
  {
   "cell_type": "code",
   "execution_count": 31,
   "metadata": {},
   "outputs": [
    {
     "name": "stderr",
     "output_type": "stream",
     "text": [
      "C:\\Users\\goran\\anaconda3\\envs\\tensor\\lib\\site-packages\\sklearn\\utils\\validation.py:73: DataConversionWarning: A column-vector y was passed when a 1d array was expected. Please change the shape of y to (n_samples, ), for example using ravel().\n",
      "  return f(**kwargs)\n"
     ]
    }
   ],
   "source": [
    "from sklearn.feature_selection import SelectKBest\n",
    "from sklearn.feature_selection import f_classif\n",
    "selector = SelectKBest(f_classif, k=3).fit(Xi,yi)"
   ]
  },
  {
   "cell_type": "code",
   "execution_count": 32,
   "metadata": {
    "scrolled": true
   },
   "outputs": [
    {
     "data": {
      "text/plain": [
       "array([1.66966919e-31, 4.49201713e-17, 2.85677661e-91, 4.16944584e-85])"
      ]
     },
     "execution_count": 32,
     "metadata": {},
     "output_type": "execute_result"
    }
   ],
   "source": [
    "selector.pvalues_ "
   ]
  },
  {
   "cell_type": "code",
   "execution_count": 33,
   "metadata": {},
   "outputs": [
    {
     "data": {
      "text/plain": [
       "Index(['x1', 'x3', 'x4'], dtype='object')"
      ]
     },
     "execution_count": 33,
     "metadata": {},
     "output_type": "execute_result"
    }
   ],
   "source": [
    "Xi.columns[selector.get_support()]"
   ]
  },
  {
   "cell_type": "markdown",
   "metadata": {},
   "source": [
    "### note"
   ]
  },
  {
   "cell_type": "code",
   "execution_count": 34,
   "metadata": {},
   "outputs": [
    {
     "data": {
      "text/html": [
       "<div>\n",
       "<style scoped>\n",
       "    .dataframe tbody tr th:only-of-type {\n",
       "        vertical-align: middle;\n",
       "    }\n",
       "\n",
       "    .dataframe tbody tr th {\n",
       "        vertical-align: top;\n",
       "    }\n",
       "\n",
       "    .dataframe thead th {\n",
       "        text-align: right;\n",
       "    }\n",
       "</style>\n",
       "<table border=\"1\" class=\"dataframe\">\n",
       "  <thead>\n",
       "    <tr style=\"text-align: right;\">\n",
       "      <th></th>\n",
       "      <th>x1</th>\n",
       "      <th>x2</th>\n",
       "      <th>x3</th>\n",
       "      <th>x4</th>\n",
       "      <th>y</th>\n",
       "    </tr>\n",
       "  </thead>\n",
       "  <tbody>\n",
       "    <tr>\n",
       "      <th>0</th>\n",
       "      <td>5.1</td>\n",
       "      <td>3.5</td>\n",
       "      <td>1.4</td>\n",
       "      <td>0.2</td>\n",
       "      <td>0</td>\n",
       "    </tr>\n",
       "    <tr>\n",
       "      <th>1</th>\n",
       "      <td>4.9</td>\n",
       "      <td>3.0</td>\n",
       "      <td>1.4</td>\n",
       "      <td>0.2</td>\n",
       "      <td>0</td>\n",
       "    </tr>\n",
       "    <tr>\n",
       "      <th>2</th>\n",
       "      <td>4.7</td>\n",
       "      <td>3.2</td>\n",
       "      <td>1.3</td>\n",
       "      <td>0.2</td>\n",
       "      <td>0</td>\n",
       "    </tr>\n",
       "    <tr>\n",
       "      <th>3</th>\n",
       "      <td>4.6</td>\n",
       "      <td>3.1</td>\n",
       "      <td>1.5</td>\n",
       "      <td>0.2</td>\n",
       "      <td>0</td>\n",
       "    </tr>\n",
       "    <tr>\n",
       "      <th>4</th>\n",
       "      <td>5.0</td>\n",
       "      <td>3.6</td>\n",
       "      <td>1.4</td>\n",
       "      <td>0.2</td>\n",
       "      <td>0</td>\n",
       "    </tr>\n",
       "  </tbody>\n",
       "</table>\n",
       "</div>"
      ],
      "text/plain": [
       "    x1   x2   x3   x4  y\n",
       "0  5.1  3.5  1.4  0.2  0\n",
       "1  4.9  3.0  1.4  0.2  0\n",
       "2  4.7  3.2  1.3  0.2  0\n",
       "3  4.6  3.1  1.5  0.2  0\n",
       "4  5.0  3.6  1.4  0.2  0"
      ]
     },
     "execution_count": 34,
     "metadata": {},
     "output_type": "execute_result"
    }
   ],
   "source": [
    "data.head()"
   ]
  },
  {
   "cell_type": "code",
   "execution_count": 35,
   "metadata": {
    "scrolled": false
   },
   "outputs": [
    {
     "ename": "ModuleNotFoundError",
     "evalue": "No module named 'statsmodels'",
     "output_type": "error",
     "traceback": [
      "\u001b[1;31m---------------------------------------------------------------------------\u001b[0m",
      "\u001b[1;31mModuleNotFoundError\u001b[0m                       Traceback (most recent call last)",
      "\u001b[1;32m<ipython-input-35-f8111ca6c2dc>\u001b[0m in \u001b[0;36m<module>\u001b[1;34m\u001b[0m\n\u001b[1;32m----> 1\u001b[1;33m \u001b[1;32mimport\u001b[0m \u001b[0mstatsmodels\u001b[0m\u001b[1;33m.\u001b[0m\u001b[0mapi\u001b[0m \u001b[1;32mas\u001b[0m \u001b[0msm\u001b[0m\u001b[1;33m\u001b[0m\u001b[1;33m\u001b[0m\u001b[0m\n\u001b[0m\u001b[0;32m      2\u001b[0m \u001b[1;32mfrom\u001b[0m \u001b[0mstatsmodels\u001b[0m\u001b[1;33m.\u001b[0m\u001b[0mformula\u001b[0m\u001b[1;33m.\u001b[0m\u001b[0mapi\u001b[0m \u001b[1;32mimport\u001b[0m \u001b[0mols\u001b[0m\u001b[1;33m\u001b[0m\u001b[1;33m\u001b[0m\u001b[0m\n\u001b[0;32m      3\u001b[0m \u001b[0mmodel\u001b[0m \u001b[1;33m=\u001b[0m \u001b[0mols\u001b[0m\u001b[1;33m(\u001b[0m\u001b[1;34m'x1 ~ C(y)'\u001b[0m\u001b[1;33m,\u001b[0m \u001b[0mdata\u001b[0m\u001b[1;33m)\u001b[0m\u001b[1;33m.\u001b[0m\u001b[0mfit\u001b[0m\u001b[1;33m(\u001b[0m\u001b[1;33m)\u001b[0m\u001b[1;33m\u001b[0m\u001b[1;33m\u001b[0m\u001b[0m\n\u001b[0;32m      4\u001b[0m \u001b[1;31m# C(y) 는 y 의 categorical 을 토대로 x1 의 value 들을 분리하겠다는 의미이다.\u001b[0m\u001b[1;33m\u001b[0m\u001b[1;33m\u001b[0m\u001b[1;33m\u001b[0m\u001b[0m\n\u001b[0;32m      5\u001b[0m \u001b[1;31m# 여기에서는 y 가 0,1,2 였으므로 0,1,2 의 y 값을 가지는 x1 들을 그룹별로 묶은뒤, 세 그룹(y=0,1,2) 의 평균을 비교하겠다는뜻.\u001b[0m\u001b[1;33m\u001b[0m\u001b[1;33m\u001b[0m\u001b[1;33m\u001b[0m\u001b[0m\n",
      "\u001b[1;31mModuleNotFoundError\u001b[0m: No module named 'statsmodels'"
     ]
    }
   ],
   "source": [
    "import statsmodels.api as sm\n",
    "from statsmodels.formula.api import ols\n",
    "model = ols('x1 ~ C(y)', data).fit() \n",
    "# C(y) 는 y 의 categorical 을 토대로 x1 의 value 들을 분리하겠다는 의미이다.\n",
    "# 여기에서는 y 가 0,1,2 였으므로 0,1,2 의 y 값을 가지는 x1 들을 그룹별로 묶은뒤, 세 그룹(y=0,1,2) 의 평균을 비교하겠다는뜻.\n",
    "aov_table = sm.stats.anova_lm(model)\n",
    "aov_table"
   ]
  },
  {
   "cell_type": "code",
   "execution_count": 36,
   "metadata": {},
   "outputs": [
    {
     "name": "stdout",
     "output_type": "stream",
     "text": [
      "Collecting statsmodels\n",
      "  Downloading statsmodels-0.11.1-cp37-none-win_amd64.whl (8.2 MB)\n",
      "Requirement already satisfied: numpy>=1.14 in c:\\users\\goran\\anaconda3\\envs\\tensor\\lib\\site-packages (from statsmodels) (1.19.0)\n",
      "Requirement already satisfied: scipy>=1.0 in c:\\users\\goran\\anaconda3\\envs\\tensor\\lib\\site-packages (from statsmodels) (1.5.1)\n",
      "Collecting patsy>=0.5\n",
      "  Downloading patsy-0.5.1-py2.py3-none-any.whl (231 kB)\n",
      "Requirement already satisfied: pandas>=0.21 in c:\\users\\goran\\anaconda3\\envs\\tensor\\lib\\site-packages (from statsmodels) (1.0.5)\n",
      "Requirement already satisfied: six in c:\\users\\goran\\anaconda3\\envs\\tensor\\lib\\site-packages (from patsy>=0.5->statsmodels) (1.15.0)\n",
      "Requirement already satisfied: pytz>=2017.2 in c:\\users\\goran\\anaconda3\\envs\\tensor\\lib\\site-packages (from pandas>=0.21->statsmodels) (2020.1)\n",
      "Requirement already satisfied: python-dateutil>=2.6.1 in c:\\users\\goran\\anaconda3\\envs\\tensor\\lib\\site-packages (from pandas>=0.21->statsmodels) (2.8.1)\n",
      "Installing collected packages: patsy, statsmodels\n",
      "Successfully installed patsy-0.5.1 statsmodels-0.11.1\n",
      "Note: you may need to restart the kernel to use updated packages.\n"
     ]
    }
   ],
   "source": [
    "pip install statsmodels"
   ]
  },
  {
   "cell_type": "markdown",
   "metadata": {},
   "source": [
    "이때의 p-value 가 우리가 했던 위의 결과와 일치하는 것을 볼 수 있다."
   ]
  },
  {
   "cell_type": "markdown",
   "metadata": {},
   "source": [
    "## f_regression[regression]"
   ]
  },
  {
   "cell_type": "markdown",
   "metadata": {},
   "source": [
    "Linear model for testing the individual effect of each of many regressors. This is a scoring function to be used in a feature selection procedure, not a free standing feature selection procedure."
   ]
  },
  {
   "cell_type": "markdown",
   "metadata": {},
   "source": [
    "즉 linear regression 을 x,y 로 simple linear regression 을 해가면서 f-statsitsic(model 의 유의성) 가 높은 변수를 선택하는 것이다."
   ]
  },
  {
   "cell_type": "code",
   "execution_count": 366,
   "metadata": {},
   "outputs": [],
   "source": [
    "from sklearn.feature_selection import SelectKBest\n",
    "from sklearn.feature_selection import f_regression\n",
    "selector = SelectKBest(f_regression, k=4).fit(X,y)"
   ]
  },
  {
   "cell_type": "code",
   "execution_count": 367,
   "metadata": {
    "scrolled": true
   },
   "outputs": [
    {
     "data": {
      "text/plain": [
       "array([1.82119097e-05, 9.48237912e-01, 5.37710518e-05, 7.76586890e-02,\n",
       "       1.08502146e-01, 7.80350641e-04, 1.77999740e-10, 1.00427902e-01,\n",
       "       1.78573910e-46, 5.05555201e-11, 4.33840931e-03, 1.97273989e-01,\n",
       "       8.27874582e-03, 5.70334926e-01, 2.10854262e-01, 1.21516958e-59,\n",
       "       8.56352279e-01, 8.44182484e-02, 5.01769661e-01, 1.07776496e-09])"
      ]
     },
     "execution_count": 367,
     "metadata": {},
     "output_type": "execute_result"
    }
   ],
   "source": [
    "selector.pvalues_ # 각 변수를 y 하나와 simple linear regression 을 해 보아서, 나오는 p -value 값."
   ]
  },
  {
   "cell_type": "code",
   "execution_count": 368,
   "metadata": {},
   "outputs": [
    {
     "data": {
      "text/plain": [
       "Index(['g', 'i', 'j', 'p'], dtype='object')"
      ]
     },
     "execution_count": 368,
     "metadata": {},
     "output_type": "execute_result"
    }
   ],
   "source": [
    "X.columns[selector.get_support()]"
   ]
  },
  {
   "cell_type": "markdown",
   "metadata": {},
   "source": [
    "### note"
   ]
  },
  {
   "cell_type": "code",
   "execution_count": 369,
   "metadata": {},
   "outputs": [
    {
     "data": {
      "text/plain": [
       "LinearRegression(copy_X=True, fit_intercept=True, n_jobs=None, normalize=False)"
      ]
     },
     "execution_count": 369,
     "metadata": {},
     "output_type": "execute_result"
    }
   ],
   "source": [
    "from sklearn.linear_model import LinearRegression\n",
    "model = LinearRegression()\n",
    "model.fit(X[['a']], y)"
   ]
  },
  {
   "cell_type": "code",
   "execution_count": 370,
   "metadata": {},
   "outputs": [],
   "source": [
    "import statsmodels.api as sm\n",
    "model = sm.OLS(y,X[['a']])\n",
    "result = model.fit()"
   ]
  },
  {
   "cell_type": "code",
   "execution_count": 371,
   "metadata": {
    "scrolled": false
   },
   "outputs": [
    {
     "name": "stdout",
     "output_type": "stream",
     "text": [
      "                                 OLS Regression Results                                \n",
      "=======================================================================================\n",
      "Dep. Variable:                      y   R-squared (uncentered):                   0.009\n",
      "Model:                            OLS   Adj. R-squared (uncentered):              0.009\n",
      "Method:                 Least Squares   F-statistic:                              18.47\n",
      "Date:                Wed, 01 Jul 2020   Prob (F-statistic):                    1.81e-05\n",
      "Time:                        19:45:48   Log-Likelihood:                         -5242.3\n",
      "No. Observations:                2000   AIC:                                  1.049e+04\n",
      "Df Residuals:                    1999   BIC:                                  1.049e+04\n",
      "Df Model:                           1                                                  \n",
      "Covariance Type:            nonrobust                                                  \n",
      "==============================================================================\n",
      "                 coef    std err          t      P>|t|      [0.025      0.975]\n",
      "------------------------------------------------------------------------------\n",
      "a            -18.3127      4.261     -4.298      0.000     -26.669      -9.956\n",
      "==============================================================================\n",
      "Omnibus:                        0.090   Durbin-Watson:                   2.040\n",
      "Prob(Omnibus):                  0.956   Jarque-Bera (JB):                0.078\n",
      "Skew:                           0.015   Prob(JB):                        0.962\n",
      "Kurtosis:                       3.003   Cond. No.                         1.00\n",
      "==============================================================================\n",
      "\n",
      "Warnings:\n",
      "[1] Standard Errors assume that the covariance matrix of the errors is correctly specified.\n"
     ]
    }
   ],
   "source": [
    "print(result.summary())"
   ]
  },
  {
   "cell_type": "markdown",
   "metadata": {},
   "source": [
    "이 떄에 OLS(Simple linear regression) 를 이용해, X와 y 변수에 대해 모델의 유의성 검정을 했을떄의 p value 값이 일치하는것을 볼 수 있다."
   ]
  },
  {
   "cell_type": "markdown",
   "metadata": {},
   "source": [
    "# mutual_info_classif"
   ]
  },
  {
   "cell_type": "markdown",
   "metadata": {},
   "source": [
    "Mutual Information은 두 random variable들이 얼마나 mutual dependence 한 지를 measure 하는 방법을 의미한다.\n",
    "즉 간단하게 x,y가 독립이면 p(x,y)=p(x)p(y)로 주어지고, 아니면 먼가 값이 나올 것이다. \n",
    "그래서 만약 independent 하면 0의 값을 얻게 되고, 상호 의존성이 크다면, 값이 나오게 될 것이다.\n",
    "개인적으로 이 방법이 correlation을 측정하는 방법론보다 더 일반화된 방법이라서 더 선호한다.\n",
    "\n"
   ]
  },
  {
   "cell_type": "markdown",
   "metadata": {},
   "source": [
    "Correlation은 X,y의 선형 관계(Pearson's correlation) 또는 monotonic relationship(Spearman's correlation)을 측정한다.\n",
    "Mutual Information 같은 경우, 일반적이며 X를 관찰한 후 Y의 불확실성 감소를 측정한다. 이것은 결합 밀도 함수와 개별 밀도 함수의 곱 같이 KL dIvergence를 의미한다. 따라서 MI는 비 단조 관계나 더 복잡한 관계까지도 측정이 가능하다는 것이다."
   ]
  },
  {
   "cell_type": "markdown",
   "metadata": {},
   "source": [
    "이 라이브러리를 사용하려면, 데이터의 결측이 존재해서는 안 되는 것도 잊지 말자."
   ]
  },
  {
   "cell_type": "code",
   "execution_count": 372,
   "metadata": {},
   "outputs": [],
   "source": [
    "from sklearn.feature_selection import mutual_info_classif\n",
    "selector = SelectKBest(mutual_info_classif, k=3).fit(Xi,yi)"
   ]
  },
  {
   "cell_type": "code",
   "execution_count": 373,
   "metadata": {},
   "outputs": [
    {
     "data": {
      "text/plain": [
       "array([0.48028227, 0.22914279, 0.97777502, 0.98139002])"
      ]
     },
     "execution_count": 373,
     "metadata": {},
     "output_type": "execute_result"
    }
   ],
   "source": [
    "selector.scores_"
   ]
  },
  {
   "cell_type": "code",
   "execution_count": 375,
   "metadata": {},
   "outputs": [
    {
     "data": {
      "text/plain": [
       "Index(['x1', 'x3', 'x4'], dtype='object')"
      ]
     },
     "execution_count": 375,
     "metadata": {},
     "output_type": "execute_result"
    }
   ],
   "source": [
    "Xi.columns[selector.get_support()]"
   ]
  },
  {
   "cell_type": "markdown",
   "metadata": {},
   "source": [
    "# mutual_info_regression"
   ]
  },
  {
   "cell_type": "code",
   "execution_count": 379,
   "metadata": {},
   "outputs": [],
   "source": [
    "from sklearn.feature_selection import mutual_info_regression\n",
    "sel_mutual = SelectKBest(mutual_info_regression, k=4).fit(X,y)"
   ]
  },
  {
   "cell_type": "code",
   "execution_count": 380,
   "metadata": {
    "scrolled": true
   },
   "outputs": [
    {
     "data": {
      "text/plain": [
       "array([0.        , 0.01384239, 0.        , 0.00129474, 0.02934124,\n",
       "       0.04244648, 0.        , 0.        , 0.05829675, 0.01834601,\n",
       "       0.        , 0.        , 0.01848179, 0.        , 0.        ,\n",
       "       0.08219072, 0.        , 0.01046264, 0.00838187, 0.00202267])"
      ]
     },
     "execution_count": 380,
     "metadata": {},
     "output_type": "execute_result"
    }
   ],
   "source": [
    "sel_mutual.scores_"
   ]
  },
  {
   "cell_type": "code",
   "execution_count": 381,
   "metadata": {},
   "outputs": [
    {
     "data": {
      "text/plain": [
       "Index(['e', 'f', 'i', 'p'], dtype='object')"
      ]
     },
     "execution_count": 381,
     "metadata": {},
     "output_type": "execute_result"
    }
   ],
   "source": [
    "X.columns[sel_mutual.get_support()]"
   ]
  },
  {
   "cell_type": "markdown",
   "metadata": {},
   "source": [
    "# Principle Component Analysis."
   ]
  },
  {
   "cell_type": "code",
   "execution_count": 80,
   "metadata": {},
   "outputs": [],
   "source": [
    "# 먼저 정규화 부터 시켜야한다.\n",
    "from sklearn.preprocessing import StandardScaler\n",
    "scaler = StandardScaler()\n",
    "fit_Xc = scaler.fit_transform(Xc)"
   ]
  },
  {
   "cell_type": "code",
   "execution_count": 82,
   "metadata": {},
   "outputs": [
    {
     "name": "stdout",
     "output_type": "stream",
     "text": [
      "[1.66034098e-01 1.55855598e-01 8.24438492e-02 7.86266349e-02\n",
      " 7.81187104e-02 6.74600182e-02 6.59665007e-02 6.32770277e-02\n",
      " 6.01593509e-02 5.76528025e-02 5.23842734e-02 4.83241109e-02\n",
      " 2.36970255e-02 3.33169980e-33 2.01731778e-33]\n"
     ]
    }
   ],
   "source": [
    "from sklearn.decomposition import PCA\n",
    "pca = PCA() \n",
    "pca.fit(fit_Xc)\n",
    "print(pca.explained_variance_ratio_) # 설명되는 variance 의 비율"
   ]
  },
  {
   "cell_type": "code",
   "execution_count": 83,
   "metadata": {},
   "outputs": [
    {
     "data": {
      "text/plain": [
       "array([-0.35865771,  0.081161  ,  0.0425336 , -0.07538683,  0.05393312,\n",
       "       -0.39231067,  0.55634669,  0.55266087, -0.07751012, -0.01393315,\n",
       "       -0.06911959, -0.16740399, -0.00401544,  0.08334267, -0.1988654 ])"
      ]
     },
     "execution_count": 83,
     "metadata": {},
     "output_type": "execute_result"
    }
   ],
   "source": [
    "pca.components_[0] # 최대의 var 를 만드는 단위기저백터"
   ]
  },
  {
   "cell_type": "code",
   "execution_count": 84,
   "metadata": {
    "scrolled": true
   },
   "outputs": [
    {
     "data": {
      "image/png": "[encoded data removed]",
      "text/plain": [
       "<Figure size 576x396 with 1 Axes>"
      ]
     },
     "metadata": {},
     "output_type": "display_data"
    }
   ],
   "source": [
    "from sklearn.decomposition import PCA\n",
    "pca = PCA()\n",
    "pca.fit(fit_Xc)\n",
    "plt.style.use('seaborn')\n",
    "lambdas = pca.explained_variance_ratio_\n",
    "sns.lineplot(x = range(1, fit_Xc.shape[1]+1),y  = lambdas, marker = 'o')\n",
    "plt.xlabel('Principal Component')\n",
    "plt.ylabel('Explained Variance')\n",
    "plt.title('Explained Variance of PCs')\n",
    "plt.grid(True)\n",
    "plt.show()"
   ]
  },
  {
   "cell_type": "code",
   "execution_count": 86,
   "metadata": {},
   "outputs": [],
   "source": [
    "lambdas_cumsum = np.cumsum(lambdas)"
   ]
  },
  {
   "cell_type": "code",
   "execution_count": 91,
   "metadata": {},
   "outputs": [
    {
     "data": {
      "image/png": "[encoded data removed]",
      "text/plain": [
       "<Figure size 576x396 with 1 Axes>"
      ]
     },
     "metadata": {},
     "output_type": "display_data"
    }
   ],
   "source": [
    "sns.lineplot(x = range(1, fit_Xc.shape[1]+1),y  = lambdas_cumsum[0:], marker = 'o')\n",
    "plt.xlabel('Principal Component')\n",
    "plt.ylabel('Explained Variance')\n",
    "plt.title('Cumulative Sum of Explained Variance of PCs')\n",
    "plt.grid(True)\n",
    "plt.show()"
   ]
  },
  {
   "cell_type": "code",
   "execution_count": 86,
   "metadata": {},
   "outputs": [
    {
     "data": {
      "text/plain": [
       "<BarContainer object of 15 artists>"
      ]
     },
     "execution_count": 86,
     "metadata": {},
     "output_type": "execute_result"
    },
    {
     "data": {
      "image/png": "[encoded data removed]",
      "text/plain": [
       "<Figure size 432x288 with 1 Axes>"
      ]
     },
     "metadata": {
      "needs_background": "light"
     },
     "output_type": "display_data"
    }
   ],
   "source": [
    "plt.bar([x+1 for x in range(len(pca.components_[0]))], pca.components_[0]) \n",
    "# 6,7,8 번쨰의 값이 큰 영향을 끼치는듯... ?"
   ]
  },
  {
   "cell_type": "markdown",
   "metadata": {},
   "source": [
    "# Factor Analysis"
   ]
  },
  {
   "cell_type": "code",
   "execution_count": 25,
   "metadata": {},
   "outputs": [],
   "source": [
    "import seaborn as sns\n",
    "from factor_analyzer import FactorAnalyzer"
   ]
  },
  {
   "cell_type": "code",
   "execution_count": 43,
   "metadata": {
    "scrolled": true
   },
   "outputs": [
    {
     "data": {
      "text/plain": [
       "Index(['a', 'b', 'c', 'd', 'e', 'f', 'g', 'h', 'i', 'j', 'k', 'l', 'm', 'n',\n",
       "       'o', 'p', 'q', 'r', 's', 't'],\n",
       "      dtype='object')"
      ]
     },
     "execution_count": 43,
     "metadata": {},
     "output_type": "execute_result"
    }
   ],
   "source": [
    "X.columns"
   ]
  },
  {
   "cell_type": "markdown",
   "metadata": {},
   "source": [
    "다양한 모델 / lasso , random forest 등에서 나오는 feature importance 로 결정하자."
   ]
  },
  {
   "cell_type": "code",
   "execution_count": 46,
   "metadata": {},
   "outputs": [],
   "source": [
    "# 먼저 정규화 부터 시켜야한다.\n",
    "from sklearn.preprocessing import StandardScaler\n",
    "scaler = StandardScaler()\n",
    "fit_X = scaler.fit_transform(X)"
   ]
  },
  {
   "cell_type": "code",
   "execution_count": 52,
   "metadata": {},
   "outputs": [
    {
     "data": {
      "text/plain": [
       "FactorAnalyzer(method='ml', n_factors=5, rotation_kwargs={})"
      ]
     },
     "execution_count": 52,
     "metadata": {},
     "output_type": "execute_result"
    }
   ],
   "source": [
    "fa = FactorAnalyzer(n_factors=5, method=\"ml\", rotation=\"promax\")\n",
    "fa.fit(fit_X)"
   ]
  },
  {
   "cell_type": "code",
   "execution_count": 53,
   "metadata": {},
   "outputs": [],
   "source": [
    "result=pd.DataFrame(fa.loadings_, index= X.columns)"
   ]
  },
  {
   "cell_type": "code",
   "execution_count": 54,
   "metadata": {},
   "outputs": [
    {
     "data": {
      "text/plain": [
       "<matplotlib.axes._subplots.AxesSubplot at 0x22f76433608>"
      ]
     },
     "execution_count": 54,
     "metadata": {},
     "output_type": "execute_result"
    },
    {
     "data": {
      "image/png": "[encoded data removed]",
      "text/plain": [
       "<Figure size 432x720 with 2 Axes>"
      ]
     },
     "metadata": {
      "needs_background": "light"
     },
     "output_type": "display_data"
    }
   ],
   "source": [
    "plt.figure(figsize=(6,10))\n",
    "sns.heatmap(result, cmap=\"Blues\", annot=True, fmt='.2f')"
   ]
  },
  {
   "cell_type": "code",
   "execution_count": 56,
   "metadata": {},
   "outputs": [],
   "source": [
    "# 음... 그런데 크게 묶이지 않는 이유는 우리가 데이터 만들떄에 어쩔수없이 하나의 변수가 큰 역활을 하도록 생성해서 어쩔 수 없는듯 하다."
   ]
  },
  {
   "cell_type": "code",
   "execution_count": 93,
   "metadata": {},
   "outputs": [
    {
     "data": {
      "image/png": "[encoded data removed]",
      "text/plain": [
       "<Figure size 576x396 with 1 Axes>"
      ]
     },
     "metadata": {},
     "output_type": "display_data"
    }
   ],
   "source": [
    "ev, v = fa.get_eigenvalues()\n",
    "plt.plot(range(1,X.shape[1]+1),v, 'o-') # factor eigen values\n",
    "plt.title('Scree Plot')\n",
    "plt.xlabel('Factors')\n",
    "plt.ylabel('Eigenvalue')\n",
    "plt.grid(True)\n",
    "plt.style.use('seaborn')"
   ]
  },
  {
   "cell_type": "code",
   "execution_count": null,
   "metadata": {},
   "outputs": [],
   "source": []
  }
 ],
 "metadata": {
  "kernelspec": {
   "display_name": "Python 3",
   "language": "python",
   "name": "python3"
  },
  "language_info": {
   "codemirror_mode": {
    "name": "ipython",
    "version": 3
   },
   "file_extension": ".py",
   "mimetype": "text/x-python",
   "name": "python",
   "nbconvert_exporter": "python",
   "pygments_lexer": "ipython3",
   "version": "3.7.6"
  },
  "toc": {
   "base_numbering": 1,
   "nav_menu": {},
   "number_sections": true,
   "sideBar": true,
   "skip_h1_title": false,
   "title_cell": "Table of Contents",
   "title_sidebar": "Contents",
   "toc_cell": false,
   "toc_position": {
    "height": "calc(100% - 180px)",
    "left": "10px",
    "top": "150px",
    "width": "279.273px"
   },
   "toc_section_display": true,
   "toc_window_display": true
  },
  "varInspector": {
   "cols": {
    "lenName": 16,
    "lenType": 16,
    "lenVar": 40
   },
   "kernels_config": {
    "python": {
     "delete_cmd_postfix": "",
     "delete_cmd_prefix": "del ",
     "library": "var_list.py",
     "varRefreshCmd": "print(var_dic_list())"
    },
    "r": {
     "delete_cmd_postfix": ") ",
     "delete_cmd_prefix": "rm(",
     "library": "var_list.r",
     "varRefreshCmd": "cat(var_dic_list()) "
    }
   },
   "types_to_exclude": [
    "module",
    "function",
    "builtin_function_or_method",
    "instance",
    "_Feature"
   ],
   "window_display": false
  }
 },
 "nbformat": 4,
 "nbformat_minor": 4
}
