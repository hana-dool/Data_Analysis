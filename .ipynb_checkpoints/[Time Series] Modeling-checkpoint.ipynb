{
 "cells": [
  {
   "cell_type": "code",
   "execution_count": null,
   "metadata": {},
   "outputs": [],
   "source": [
    "# https://www.statsmodels.org/stable/examples/notebooks/generated/tsa_arma_0.html 이 페이지를 적극 참조하도록 하자."
   ]
  },
  {
   "cell_type": "code",
   "execution_count": 1,
   "metadata": {},
   "outputs": [],
   "source": [
    "import seaborn as sns\n",
    "import matplotlib.pyplot as plt\n",
    "import warnings \n",
    "warnings.filterwarnings('ignore')"
   ]
  },
  {
   "cell_type": "code",
   "execution_count": 2,
   "metadata": {},
   "outputs": [],
   "source": [
    "import pandas as pd\n",
    "import numpy as np"
   ]
  },
  {
   "cell_type": "markdown",
   "metadata": {},
   "source": [
    "- 다음의 데이터를 이용해서 시계열 예측을 진행하자.\n",
    "- 이 데이터는 Tensorflow 홈페이지에서 제공하는 데이터셋"
   ]
  },
  {
   "cell_type": "code",
   "execution_count": 3,
   "metadata": {
    "scrolled": true
   },
   "outputs": [
    {
     "data": {
      "text/html": [
       "<div>\n",
       "<style scoped>\n",
       "    .dataframe tbody tr th:only-of-type {\n",
       "        vertical-align: middle;\n",
       "    }\n",
       "\n",
       "    .dataframe tbody tr th {\n",
       "        vertical-align: top;\n",
       "    }\n",
       "\n",
       "    .dataframe thead th {\n",
       "        text-align: right;\n",
       "    }\n",
       "</style>\n",
       "<table border=\"1\" class=\"dataframe\">\n",
       "  <thead>\n",
       "    <tr style=\"text-align: right;\">\n",
       "      <th></th>\n",
       "      <th>Date Time</th>\n",
       "      <th>p (mbar)</th>\n",
       "      <th>T (degC)</th>\n",
       "      <th>Tpot (K)</th>\n",
       "      <th>Tdew (degC)</th>\n",
       "      <th>rh (%)</th>\n",
       "      <th>VPmax (mbar)</th>\n",
       "      <th>VPact (mbar)</th>\n",
       "      <th>VPdef (mbar)</th>\n",
       "      <th>sh (g/kg)</th>\n",
       "      <th>H2OC (mmol/mol)</th>\n",
       "      <th>rho (g/m**3)</th>\n",
       "      <th>wv (m/s)</th>\n",
       "      <th>max. wv (m/s)</th>\n",
       "      <th>wd (deg)</th>\n",
       "    </tr>\n",
       "  </thead>\n",
       "  <tbody>\n",
       "    <tr>\n",
       "      <th>0</th>\n",
       "      <td>01.01.2009 00:10:00</td>\n",
       "      <td>996.52</td>\n",
       "      <td>-8.02</td>\n",
       "      <td>265.40</td>\n",
       "      <td>-8.90</td>\n",
       "      <td>93.3</td>\n",
       "      <td>3.33</td>\n",
       "      <td>3.11</td>\n",
       "      <td>0.22</td>\n",
       "      <td>1.94</td>\n",
       "      <td>3.12</td>\n",
       "      <td>1307.75</td>\n",
       "      <td>1.03</td>\n",
       "      <td>1.75</td>\n",
       "      <td>152.3</td>\n",
       "    </tr>\n",
       "    <tr>\n",
       "      <th>1</th>\n",
       "      <td>01.01.2009 00:20:00</td>\n",
       "      <td>996.57</td>\n",
       "      <td>-8.41</td>\n",
       "      <td>265.01</td>\n",
       "      <td>-9.28</td>\n",
       "      <td>93.4</td>\n",
       "      <td>3.23</td>\n",
       "      <td>3.02</td>\n",
       "      <td>0.21</td>\n",
       "      <td>1.89</td>\n",
       "      <td>3.03</td>\n",
       "      <td>1309.80</td>\n",
       "      <td>0.72</td>\n",
       "      <td>1.50</td>\n",
       "      <td>136.1</td>\n",
       "    </tr>\n",
       "    <tr>\n",
       "      <th>2</th>\n",
       "      <td>01.01.2009 00:30:00</td>\n",
       "      <td>996.53</td>\n",
       "      <td>-8.51</td>\n",
       "      <td>264.91</td>\n",
       "      <td>-9.31</td>\n",
       "      <td>93.9</td>\n",
       "      <td>3.21</td>\n",
       "      <td>3.01</td>\n",
       "      <td>0.20</td>\n",
       "      <td>1.88</td>\n",
       "      <td>3.02</td>\n",
       "      <td>1310.24</td>\n",
       "      <td>0.19</td>\n",
       "      <td>0.63</td>\n",
       "      <td>171.6</td>\n",
       "    </tr>\n",
       "    <tr>\n",
       "      <th>3</th>\n",
       "      <td>01.01.2009 00:40:00</td>\n",
       "      <td>996.51</td>\n",
       "      <td>-8.31</td>\n",
       "      <td>265.12</td>\n",
       "      <td>-9.07</td>\n",
       "      <td>94.2</td>\n",
       "      <td>3.26</td>\n",
       "      <td>3.07</td>\n",
       "      <td>0.19</td>\n",
       "      <td>1.92</td>\n",
       "      <td>3.08</td>\n",
       "      <td>1309.19</td>\n",
       "      <td>0.34</td>\n",
       "      <td>0.50</td>\n",
       "      <td>198.0</td>\n",
       "    </tr>\n",
       "    <tr>\n",
       "      <th>4</th>\n",
       "      <td>01.01.2009 00:50:00</td>\n",
       "      <td>996.51</td>\n",
       "      <td>-8.27</td>\n",
       "      <td>265.15</td>\n",
       "      <td>-9.04</td>\n",
       "      <td>94.1</td>\n",
       "      <td>3.27</td>\n",
       "      <td>3.08</td>\n",
       "      <td>0.19</td>\n",
       "      <td>1.92</td>\n",
       "      <td>3.09</td>\n",
       "      <td>1309.00</td>\n",
       "      <td>0.32</td>\n",
       "      <td>0.63</td>\n",
       "      <td>214.3</td>\n",
       "    </tr>\n",
       "  </tbody>\n",
       "</table>\n",
       "</div>"
      ],
      "text/plain": [
       "             Date Time  p (mbar)  T (degC)  Tpot (K)  Tdew (degC)  rh (%)  \\\n",
       "0  01.01.2009 00:10:00    996.52     -8.02    265.40        -8.90    93.3   \n",
       "1  01.01.2009 00:20:00    996.57     -8.41    265.01        -9.28    93.4   \n",
       "2  01.01.2009 00:30:00    996.53     -8.51    264.91        -9.31    93.9   \n",
       "3  01.01.2009 00:40:00    996.51     -8.31    265.12        -9.07    94.2   \n",
       "4  01.01.2009 00:50:00    996.51     -8.27    265.15        -9.04    94.1   \n",
       "\n",
       "   VPmax (mbar)  VPact (mbar)  VPdef (mbar)  sh (g/kg)  H2OC (mmol/mol)  \\\n",
       "0          3.33          3.11          0.22       1.94             3.12   \n",
       "1          3.23          3.02          0.21       1.89             3.03   \n",
       "2          3.21          3.01          0.20       1.88             3.02   \n",
       "3          3.26          3.07          0.19       1.92             3.08   \n",
       "4          3.27          3.08          0.19       1.92             3.09   \n",
       "\n",
       "   rho (g/m**3)  wv (m/s)  max. wv (m/s)  wd (deg)  \n",
       "0       1307.75      1.03           1.75     152.3  \n",
       "1       1309.80      0.72           1.50     136.1  \n",
       "2       1310.24      0.19           0.63     171.6  \n",
       "3       1309.19      0.34           0.50     198.0  \n",
       "4       1309.00      0.32           0.63     214.3  "
      ]
     },
     "execution_count": 3,
     "metadata": {},
     "output_type": "execute_result"
    }
   ],
   "source": [
    "df = pd.read_csv('./Datasets/timedata.csv')\n",
    "df.head()"
   ]
  },
  {
   "cell_type": "code",
   "execution_count": 4,
   "metadata": {},
   "outputs": [],
   "source": [
    "# 데이터 형식을 맞추어 주어야 한다.\n",
    "date_time = pd.to_datetime(df.pop('Date Time'), format='%d.%m.%Y %H:%M:%S')"
   ]
  },
  {
   "cell_type": "code",
   "execution_count": 5,
   "metadata": {},
   "outputs": [
    {
     "data": {
      "text/plain": [
       "0        2009-01-01 00:10:00\n",
       "1        2009-01-01 00:20:00\n",
       "2        2009-01-01 00:30:00\n",
       "3        2009-01-01 00:40:00\n",
       "4        2009-01-01 00:50:00\n",
       "                 ...        \n",
       "420546   2016-12-31 23:20:00\n",
       "420547   2016-12-31 23:30:00\n",
       "420548   2016-12-31 23:40:00\n",
       "420549   2016-12-31 23:50:00\n",
       "420550   2017-01-01 00:00:00\n",
       "Name: Date Time, Length: 420551, dtype: datetime64[ns]"
      ]
     },
     "execution_count": 5,
     "metadata": {},
     "output_type": "execute_result"
    }
   ],
   "source": [
    "date_time"
   ]
  },
  {
   "cell_type": "code",
   "execution_count": 6,
   "metadata": {
    "scrolled": true
   },
   "outputs": [],
   "source": [
    "df = df.set_index(date_time)"
   ]
  },
  {
   "cell_type": "code",
   "execution_count": 7,
   "metadata": {},
   "outputs": [
    {
     "data": {
      "text/html": [
       "<div>\n",
       "<style scoped>\n",
       "    .dataframe tbody tr th:only-of-type {\n",
       "        vertical-align: middle;\n",
       "    }\n",
       "\n",
       "    .dataframe tbody tr th {\n",
       "        vertical-align: top;\n",
       "    }\n",
       "\n",
       "    .dataframe thead th {\n",
       "        text-align: right;\n",
       "    }\n",
       "</style>\n",
       "<table border=\"1\" class=\"dataframe\">\n",
       "  <thead>\n",
       "    <tr style=\"text-align: right;\">\n",
       "      <th></th>\n",
       "      <th>p (mbar)</th>\n",
       "      <th>T (degC)</th>\n",
       "      <th>Tpot (K)</th>\n",
       "      <th>Tdew (degC)</th>\n",
       "      <th>rh (%)</th>\n",
       "      <th>VPmax (mbar)</th>\n",
       "      <th>VPact (mbar)</th>\n",
       "      <th>VPdef (mbar)</th>\n",
       "      <th>sh (g/kg)</th>\n",
       "      <th>H2OC (mmol/mol)</th>\n",
       "      <th>rho (g/m**3)</th>\n",
       "      <th>wv (m/s)</th>\n",
       "      <th>max. wv (m/s)</th>\n",
       "      <th>wd (deg)</th>\n",
       "    </tr>\n",
       "    <tr>\n",
       "      <th>Date Time</th>\n",
       "      <th></th>\n",
       "      <th></th>\n",
       "      <th></th>\n",
       "      <th></th>\n",
       "      <th></th>\n",
       "      <th></th>\n",
       "      <th></th>\n",
       "      <th></th>\n",
       "      <th></th>\n",
       "      <th></th>\n",
       "      <th></th>\n",
       "      <th></th>\n",
       "      <th></th>\n",
       "      <th></th>\n",
       "    </tr>\n",
       "  </thead>\n",
       "  <tbody>\n",
       "    <tr>\n",
       "      <th>2009-01-01 00:10:00</th>\n",
       "      <td>996.52</td>\n",
       "      <td>-8.02</td>\n",
       "      <td>265.40</td>\n",
       "      <td>-8.90</td>\n",
       "      <td>93.30</td>\n",
       "      <td>3.33</td>\n",
       "      <td>3.11</td>\n",
       "      <td>0.22</td>\n",
       "      <td>1.94</td>\n",
       "      <td>3.12</td>\n",
       "      <td>1307.75</td>\n",
       "      <td>1.03</td>\n",
       "      <td>1.75</td>\n",
       "      <td>152.3</td>\n",
       "    </tr>\n",
       "    <tr>\n",
       "      <th>2009-01-01 00:20:00</th>\n",
       "      <td>996.57</td>\n",
       "      <td>-8.41</td>\n",
       "      <td>265.01</td>\n",
       "      <td>-9.28</td>\n",
       "      <td>93.40</td>\n",
       "      <td>3.23</td>\n",
       "      <td>3.02</td>\n",
       "      <td>0.21</td>\n",
       "      <td>1.89</td>\n",
       "      <td>3.03</td>\n",
       "      <td>1309.80</td>\n",
       "      <td>0.72</td>\n",
       "      <td>1.50</td>\n",
       "      <td>136.1</td>\n",
       "    </tr>\n",
       "    <tr>\n",
       "      <th>2009-01-01 00:30:00</th>\n",
       "      <td>996.53</td>\n",
       "      <td>-8.51</td>\n",
       "      <td>264.91</td>\n",
       "      <td>-9.31</td>\n",
       "      <td>93.90</td>\n",
       "      <td>3.21</td>\n",
       "      <td>3.01</td>\n",
       "      <td>0.20</td>\n",
       "      <td>1.88</td>\n",
       "      <td>3.02</td>\n",
       "      <td>1310.24</td>\n",
       "      <td>0.19</td>\n",
       "      <td>0.63</td>\n",
       "      <td>171.6</td>\n",
       "    </tr>\n",
       "    <tr>\n",
       "      <th>2009-01-01 00:40:00</th>\n",
       "      <td>996.51</td>\n",
       "      <td>-8.31</td>\n",
       "      <td>265.12</td>\n",
       "      <td>-9.07</td>\n",
       "      <td>94.20</td>\n",
       "      <td>3.26</td>\n",
       "      <td>3.07</td>\n",
       "      <td>0.19</td>\n",
       "      <td>1.92</td>\n",
       "      <td>3.08</td>\n",
       "      <td>1309.19</td>\n",
       "      <td>0.34</td>\n",
       "      <td>0.50</td>\n",
       "      <td>198.0</td>\n",
       "    </tr>\n",
       "    <tr>\n",
       "      <th>2009-01-01 00:50:00</th>\n",
       "      <td>996.51</td>\n",
       "      <td>-8.27</td>\n",
       "      <td>265.15</td>\n",
       "      <td>-9.04</td>\n",
       "      <td>94.10</td>\n",
       "      <td>3.27</td>\n",
       "      <td>3.08</td>\n",
       "      <td>0.19</td>\n",
       "      <td>1.92</td>\n",
       "      <td>3.09</td>\n",
       "      <td>1309.00</td>\n",
       "      <td>0.32</td>\n",
       "      <td>0.63</td>\n",
       "      <td>214.3</td>\n",
       "    </tr>\n",
       "    <tr>\n",
       "      <th>...</th>\n",
       "      <td>...</td>\n",
       "      <td>...</td>\n",
       "      <td>...</td>\n",
       "      <td>...</td>\n",
       "      <td>...</td>\n",
       "      <td>...</td>\n",
       "      <td>...</td>\n",
       "      <td>...</td>\n",
       "      <td>...</td>\n",
       "      <td>...</td>\n",
       "      <td>...</td>\n",
       "      <td>...</td>\n",
       "      <td>...</td>\n",
       "      <td>...</td>\n",
       "    </tr>\n",
       "    <tr>\n",
       "      <th>2016-12-31 23:20:00</th>\n",
       "      <td>1000.07</td>\n",
       "      <td>-4.05</td>\n",
       "      <td>269.10</td>\n",
       "      <td>-8.13</td>\n",
       "      <td>73.10</td>\n",
       "      <td>4.52</td>\n",
       "      <td>3.30</td>\n",
       "      <td>1.22</td>\n",
       "      <td>2.06</td>\n",
       "      <td>3.30</td>\n",
       "      <td>1292.98</td>\n",
       "      <td>0.67</td>\n",
       "      <td>1.52</td>\n",
       "      <td>240.0</td>\n",
       "    </tr>\n",
       "    <tr>\n",
       "      <th>2016-12-31 23:30:00</th>\n",
       "      <td>999.93</td>\n",
       "      <td>-3.35</td>\n",
       "      <td>269.81</td>\n",
       "      <td>-8.06</td>\n",
       "      <td>69.71</td>\n",
       "      <td>4.77</td>\n",
       "      <td>3.32</td>\n",
       "      <td>1.44</td>\n",
       "      <td>2.07</td>\n",
       "      <td>3.32</td>\n",
       "      <td>1289.44</td>\n",
       "      <td>1.14</td>\n",
       "      <td>1.92</td>\n",
       "      <td>234.3</td>\n",
       "    </tr>\n",
       "    <tr>\n",
       "      <th>2016-12-31 23:40:00</th>\n",
       "      <td>999.82</td>\n",
       "      <td>-3.16</td>\n",
       "      <td>270.01</td>\n",
       "      <td>-8.21</td>\n",
       "      <td>67.91</td>\n",
       "      <td>4.84</td>\n",
       "      <td>3.28</td>\n",
       "      <td>1.55</td>\n",
       "      <td>2.05</td>\n",
       "      <td>3.28</td>\n",
       "      <td>1288.39</td>\n",
       "      <td>1.08</td>\n",
       "      <td>2.00</td>\n",
       "      <td>215.2</td>\n",
       "    </tr>\n",
       "    <tr>\n",
       "      <th>2016-12-31 23:50:00</th>\n",
       "      <td>999.81</td>\n",
       "      <td>-4.23</td>\n",
       "      <td>268.94</td>\n",
       "      <td>-8.53</td>\n",
       "      <td>71.80</td>\n",
       "      <td>4.46</td>\n",
       "      <td>3.20</td>\n",
       "      <td>1.26</td>\n",
       "      <td>1.99</td>\n",
       "      <td>3.20</td>\n",
       "      <td>1293.56</td>\n",
       "      <td>1.49</td>\n",
       "      <td>2.16</td>\n",
       "      <td>225.8</td>\n",
       "    </tr>\n",
       "    <tr>\n",
       "      <th>2017-01-01 00:00:00</th>\n",
       "      <td>999.82</td>\n",
       "      <td>-4.82</td>\n",
       "      <td>268.36</td>\n",
       "      <td>-8.42</td>\n",
       "      <td>75.70</td>\n",
       "      <td>4.27</td>\n",
       "      <td>3.23</td>\n",
       "      <td>1.04</td>\n",
       "      <td>2.01</td>\n",
       "      <td>3.23</td>\n",
       "      <td>1296.38</td>\n",
       "      <td>1.23</td>\n",
       "      <td>1.96</td>\n",
       "      <td>184.9</td>\n",
       "    </tr>\n",
       "  </tbody>\n",
       "</table>\n",
       "<p>420551 rows × 14 columns</p>\n",
       "</div>"
      ],
      "text/plain": [
       "                     p (mbar)  T (degC)  Tpot (K)  Tdew (degC)  rh (%)  \\\n",
       "Date Time                                                                \n",
       "2009-01-01 00:10:00    996.52     -8.02    265.40        -8.90   93.30   \n",
       "2009-01-01 00:20:00    996.57     -8.41    265.01        -9.28   93.40   \n",
       "2009-01-01 00:30:00    996.53     -8.51    264.91        -9.31   93.90   \n",
       "2009-01-01 00:40:00    996.51     -8.31    265.12        -9.07   94.20   \n",
       "2009-01-01 00:50:00    996.51     -8.27    265.15        -9.04   94.10   \n",
       "...                       ...       ...       ...          ...     ...   \n",
       "2016-12-31 23:20:00   1000.07     -4.05    269.10        -8.13   73.10   \n",
       "2016-12-31 23:30:00    999.93     -3.35    269.81        -8.06   69.71   \n",
       "2016-12-31 23:40:00    999.82     -3.16    270.01        -8.21   67.91   \n",
       "2016-12-31 23:50:00    999.81     -4.23    268.94        -8.53   71.80   \n",
       "2017-01-01 00:00:00    999.82     -4.82    268.36        -8.42   75.70   \n",
       "\n",
       "                     VPmax (mbar)  VPact (mbar)  VPdef (mbar)  sh (g/kg)  \\\n",
       "Date Time                                                                  \n",
       "2009-01-01 00:10:00          3.33          3.11          0.22       1.94   \n",
       "2009-01-01 00:20:00          3.23          3.02          0.21       1.89   \n",
       "2009-01-01 00:30:00          3.21          3.01          0.20       1.88   \n",
       "2009-01-01 00:40:00          3.26          3.07          0.19       1.92   \n",
       "2009-01-01 00:50:00          3.27          3.08          0.19       1.92   \n",
       "...                           ...           ...           ...        ...   \n",
       "2016-12-31 23:20:00          4.52          3.30          1.22       2.06   \n",
       "2016-12-31 23:30:00          4.77          3.32          1.44       2.07   \n",
       "2016-12-31 23:40:00          4.84          3.28          1.55       2.05   \n",
       "2016-12-31 23:50:00          4.46          3.20          1.26       1.99   \n",
       "2017-01-01 00:00:00          4.27          3.23          1.04       2.01   \n",
       "\n",
       "                     H2OC (mmol/mol)  rho (g/m**3)  wv (m/s)  max. wv (m/s)  \\\n",
       "Date Time                                                                     \n",
       "2009-01-01 00:10:00             3.12       1307.75      1.03           1.75   \n",
       "2009-01-01 00:20:00             3.03       1309.80      0.72           1.50   \n",
       "2009-01-01 00:30:00             3.02       1310.24      0.19           0.63   \n",
       "2009-01-01 00:40:00             3.08       1309.19      0.34           0.50   \n",
       "2009-01-01 00:50:00             3.09       1309.00      0.32           0.63   \n",
       "...                              ...           ...       ...            ...   \n",
       "2016-12-31 23:20:00             3.30       1292.98      0.67           1.52   \n",
       "2016-12-31 23:30:00             3.32       1289.44      1.14           1.92   \n",
       "2016-12-31 23:40:00             3.28       1288.39      1.08           2.00   \n",
       "2016-12-31 23:50:00             3.20       1293.56      1.49           2.16   \n",
       "2017-01-01 00:00:00             3.23       1296.38      1.23           1.96   \n",
       "\n",
       "                     wd (deg)  \n",
       "Date Time                      \n",
       "2009-01-01 00:10:00     152.3  \n",
       "2009-01-01 00:20:00     136.1  \n",
       "2009-01-01 00:30:00     171.6  \n",
       "2009-01-01 00:40:00     198.0  \n",
       "2009-01-01 00:50:00     214.3  \n",
       "...                       ...  \n",
       "2016-12-31 23:20:00     240.0  \n",
       "2016-12-31 23:30:00     234.3  \n",
       "2016-12-31 23:40:00     215.2  \n",
       "2016-12-31 23:50:00     225.8  \n",
       "2017-01-01 00:00:00     184.9  \n",
       "\n",
       "[420551 rows x 14 columns]"
      ]
     },
     "execution_count": 7,
     "metadata": {},
     "output_type": "execute_result"
    }
   ],
   "source": [
    "df"
   ]
  },
  {
   "cell_type": "code",
   "execution_count": 8,
   "metadata": {},
   "outputs": [],
   "source": [
    "train_df = df[:40000] \n",
    "test_df = df[40000:41000]"
   ]
  },
  {
   "cell_type": "markdown",
   "metadata": {},
   "source": [
    "# Autoregression (AR)"
   ]
  },
  {
   "cell_type": "markdown",
   "metadata": {},
   "source": [
    "- https://www.statsmodels.org/stable/generated/statsmodels.tsa.ar_model.AutoReg.html"
   ]
  },
  {
   "cell_type": "markdown",
   "metadata": {},
   "source": [
    "- Autoregression 에서 Auto 란 자기 자신을 의미한다. 즉 Auto regression 이란 '자기 회귀' 를 의미한다. \n",
    "- $ y_{t} = c + \\phi_{1}y_{t-1} + \\phi_{2}y_{t-2} + \\dots + \\phi_{p}y_{t-p} + \\varepsilon_{t}, $\n",
    "    - 위에서 $\\varepsilon_{t}$ 는 백색잡음을 나타낸다. \n",
    "    - $y_{t}$ 는 t 시점에서의 관측치를 나타낸다.\n",
    "- 즉 이전 시점의 관측값들을 회귀로서 이용하는것이다.\n",
    "- 하지만 이때 '회귀' 를 이용하기 때문에 계절성에 취약하고, 이전 관측값만을 모델에서 이용하기때문에 예측값의 변동을 정확하게 잡아내지 못한다는 단점이 있다.\n",
    "- 단변량이기 때문에 오는 어쩔 수 없는 부정확함이 있다."
   ]
  },
  {
   "cell_type": "markdown",
   "metadata": {},
   "source": [
    "- statmodel 에서는 아래와 같은 식으로 나온다\n",
    "\n",
    "![image](./Pictures/Auto_Regression.PNG)"
   ]
  },
  {
   "cell_type": "markdown",
   "metadata": {},
   "source": [
    "- statmodel 의 시계열 생성 순서는\n",
    "1. 모델 정의\n",
    "2. fitting \n",
    "3. predict 로 구성된다"
   ]
  },
  {
   "cell_type": "code",
   "execution_count": 9,
   "metadata": {},
   "outputs": [],
   "source": [
    "# AR example\n",
    "from statsmodels.tsa.ar_model import AutoReg\n",
    "from random import random"
   ]
  },
  {
   "cell_type": "code",
   "execution_count": 26,
   "metadata": {},
   "outputs": [],
   "source": [
    "# 모델 생성. 우선 외생변수가 없고, lags(모델의 차수) 를 10으로 주자.\n",
    "model = AutoReg(train_df['rh (%)'],lags=10)"
   ]
  },
  {
   "cell_type": "code",
   "execution_count": 27,
   "metadata": {},
   "outputs": [],
   "source": [
    "# fitting 작업. \n",
    "model_fit = model.fit()"
   ]
  },
  {
   "cell_type": "code",
   "execution_count": 28,
   "metadata": {},
   "outputs": [
    {
     "data": {
      "text/html": [
       "<div>\n",
       "<style scoped>\n",
       "    .dataframe tbody tr th:only-of-type {\n",
       "        vertical-align: middle;\n",
       "    }\n",
       "\n",
       "    .dataframe tbody tr th {\n",
       "        vertical-align: top;\n",
       "    }\n",
       "\n",
       "    .dataframe thead th {\n",
       "        text-align: right;\n",
       "    }\n",
       "</style>\n",
       "<table border=\"1\" class=\"dataframe\">\n",
       "  <thead>\n",
       "    <tr style=\"text-align: right;\">\n",
       "      <th></th>\n",
       "      <th>p (mbar)</th>\n",
       "      <th>T (degC)</th>\n",
       "      <th>Tpot (K)</th>\n",
       "      <th>Tdew (degC)</th>\n",
       "      <th>rh (%)</th>\n",
       "      <th>VPmax (mbar)</th>\n",
       "      <th>VPact (mbar)</th>\n",
       "      <th>VPdef (mbar)</th>\n",
       "      <th>sh (g/kg)</th>\n",
       "      <th>H2OC (mmol/mol)</th>\n",
       "      <th>rho (g/m**3)</th>\n",
       "      <th>wv (m/s)</th>\n",
       "      <th>max. wv (m/s)</th>\n",
       "      <th>wd (deg)</th>\n",
       "    </tr>\n",
       "    <tr>\n",
       "      <th>Date Time</th>\n",
       "      <th></th>\n",
       "      <th></th>\n",
       "      <th></th>\n",
       "      <th></th>\n",
       "      <th></th>\n",
       "      <th></th>\n",
       "      <th></th>\n",
       "      <th></th>\n",
       "      <th></th>\n",
       "      <th></th>\n",
       "      <th></th>\n",
       "      <th></th>\n",
       "      <th></th>\n",
       "      <th></th>\n",
       "    </tr>\n",
       "  </thead>\n",
       "  <tbody>\n",
       "    <tr>\n",
       "      <th>2009-01-01 02:00:00</th>\n",
       "      <td>996.62</td>\n",
       "      <td>-8.88</td>\n",
       "      <td>264.54</td>\n",
       "      <td>-9.77</td>\n",
       "      <td>93.2</td>\n",
       "      <td>3.12</td>\n",
       "      <td>2.90</td>\n",
       "      <td>0.21</td>\n",
       "      <td>1.81</td>\n",
       "      <td>2.91</td>\n",
       "      <td>1312.25</td>\n",
       "      <td>0.25</td>\n",
       "      <td>0.63</td>\n",
       "      <td>190.3</td>\n",
       "    </tr>\n",
       "    <tr>\n",
       "      <th>2009-01-01 02:10:00</th>\n",
       "      <td>996.63</td>\n",
       "      <td>-8.85</td>\n",
       "      <td>264.57</td>\n",
       "      <td>-9.70</td>\n",
       "      <td>93.5</td>\n",
       "      <td>3.12</td>\n",
       "      <td>2.92</td>\n",
       "      <td>0.20</td>\n",
       "      <td>1.82</td>\n",
       "      <td>2.93</td>\n",
       "      <td>1312.11</td>\n",
       "      <td>0.16</td>\n",
       "      <td>0.50</td>\n",
       "      <td>158.3</td>\n",
       "    </tr>\n",
       "  </tbody>\n",
       "</table>\n",
       "</div>"
      ],
      "text/plain": [
       "                     p (mbar)  T (degC)  Tpot (K)  Tdew (degC)  rh (%)  \\\n",
       "Date Time                                                                \n",
       "2009-01-01 02:00:00    996.62     -8.88    264.54        -9.77    93.2   \n",
       "2009-01-01 02:10:00    996.63     -8.85    264.57        -9.70    93.5   \n",
       "\n",
       "                     VPmax (mbar)  VPact (mbar)  VPdef (mbar)  sh (g/kg)  \\\n",
       "Date Time                                                                  \n",
       "2009-01-01 02:00:00          3.12          2.90          0.21       1.81   \n",
       "2009-01-01 02:10:00          3.12          2.92          0.20       1.82   \n",
       "\n",
       "                     H2OC (mmol/mol)  rho (g/m**3)  wv (m/s)  max. wv (m/s)  \\\n",
       "Date Time                                                                     \n",
       "2009-01-01 02:00:00             2.91       1312.25      0.25           0.63   \n",
       "2009-01-01 02:10:00             2.93       1312.11      0.16           0.50   \n",
       "\n",
       "                     wd (deg)  \n",
       "Date Time                      \n",
       "2009-01-01 02:00:00     190.3  \n",
       "2009-01-01 02:10:00     158.3  "
      ]
     },
     "execution_count": 28,
     "metadata": {},
     "output_type": "execute_result"
    }
   ],
   "source": [
    "# 11~12 번째 인덱스\n",
    "train_df.iloc[11:13,:]"
   ]
  },
  {
   "cell_type": "code",
   "execution_count": 29,
   "metadata": {
    "scrolled": true
   },
   "outputs": [
    {
     "data": {
      "text/plain": [
       "2009-01-01 02:00:00    93.036358\n",
       "2009-01-01 02:10:00    93.049346\n",
       "Freq: 10T, dtype: float64"
      ]
     },
     "execution_count": 29,
     "metadata": {},
     "output_type": "execute_result"
    }
   ],
   "source": [
    "# 아래와 같이 진행하면, predict 하는 기준은 index 가 된다.\n",
    "# 아래 predict 구간은 11번째 index ~ 12 번째 인덱스(포함)\n",
    "model_fit.predict(start = 11,end = 12)"
   ]
  },
  {
   "cell_type": "markdown",
   "metadata": {},
   "source": [
    "## ARX"
   ]
  },
  {
   "cell_type": "markdown",
   "metadata": {},
   "source": [
    "-  이 모델은 외생변수가 있는 AR 모델로 아래와 같이 작동한다."
   ]
  },
  {
   "cell_type": "code",
   "execution_count": 30,
   "metadata": {},
   "outputs": [],
   "source": [
    "# fit model\n",
    "model = AutoReg(train_df['rh (%)'],\n",
    "                lags=10, # lag 는 얼마나 많은 차수를 넣을지 결정하는것이다.\n",
    "                exog=train_df.drop(columns =['rh (%)']) # 외생변수를 고려한다. AR 에서의 모델 설명과 같이 선형으로 들어가며 이를 넣으면 다변량 시계열이 된다.\n",
    "               ) \n",
    "model_fit = model.fit()"
   ]
  },
  {
   "cell_type": "code",
   "execution_count": 31,
   "metadata": {},
   "outputs": [
    {
     "data": {
      "text/plain": [
       "<AxesSubplot:xlabel='Date Time'>"
      ]
     },
     "execution_count": 31,
     "metadata": {},
     "output_type": "execute_result"
    },
    {
     "data": {
      "image/png": "[encoded data removed]",
      "text/plain": [
       "<Figure size 432x288 with 1 Axes>"
      ]
     },
     "metadata": {
      "needs_background": "light"
     },
     "output_type": "display_data"
    }
   ],
   "source": [
    "test_df['rh (%)'].plot()"
   ]
  },
  {
   "cell_type": "code",
   "execution_count": 32,
   "metadata": {},
   "outputs": [
    {
     "data": {
      "text/html": [
       "<div>\n",
       "<style scoped>\n",
       "    .dataframe tbody tr th:only-of-type {\n",
       "        vertical-align: middle;\n",
       "    }\n",
       "\n",
       "    .dataframe tbody tr th {\n",
       "        vertical-align: top;\n",
       "    }\n",
       "\n",
       "    .dataframe thead th {\n",
       "        text-align: right;\n",
       "    }\n",
       "</style>\n",
       "<table border=\"1\" class=\"dataframe\">\n",
       "  <thead>\n",
       "    <tr style=\"text-align: right;\">\n",
       "      <th></th>\n",
       "      <th>p (mbar)</th>\n",
       "      <th>T (degC)</th>\n",
       "      <th>Tpot (K)</th>\n",
       "      <th>Tdew (degC)</th>\n",
       "      <th>rh (%)</th>\n",
       "      <th>VPmax (mbar)</th>\n",
       "      <th>VPact (mbar)</th>\n",
       "      <th>VPdef (mbar)</th>\n",
       "      <th>sh (g/kg)</th>\n",
       "      <th>H2OC (mmol/mol)</th>\n",
       "      <th>rho (g/m**3)</th>\n",
       "      <th>wv (m/s)</th>\n",
       "      <th>max. wv (m/s)</th>\n",
       "      <th>wd (deg)</th>\n",
       "    </tr>\n",
       "    <tr>\n",
       "      <th>Date Time</th>\n",
       "      <th></th>\n",
       "      <th></th>\n",
       "      <th></th>\n",
       "      <th></th>\n",
       "      <th></th>\n",
       "      <th></th>\n",
       "      <th></th>\n",
       "      <th></th>\n",
       "      <th></th>\n",
       "      <th></th>\n",
       "      <th></th>\n",
       "      <th></th>\n",
       "      <th></th>\n",
       "      <th></th>\n",
       "    </tr>\n",
       "  </thead>\n",
       "  <tbody>\n",
       "    <tr>\n",
       "      <th>2009-01-01 00:10:00</th>\n",
       "      <td>996.52</td>\n",
       "      <td>-8.02</td>\n",
       "      <td>265.40</td>\n",
       "      <td>-8.90</td>\n",
       "      <td>93.3</td>\n",
       "      <td>3.33</td>\n",
       "      <td>3.11</td>\n",
       "      <td>0.22</td>\n",
       "      <td>1.94</td>\n",
       "      <td>3.12</td>\n",
       "      <td>1307.75</td>\n",
       "      <td>1.03</td>\n",
       "      <td>1.75</td>\n",
       "      <td>152.3</td>\n",
       "    </tr>\n",
       "    <tr>\n",
       "      <th>2009-01-01 00:20:00</th>\n",
       "      <td>996.57</td>\n",
       "      <td>-8.41</td>\n",
       "      <td>265.01</td>\n",
       "      <td>-9.28</td>\n",
       "      <td>93.4</td>\n",
       "      <td>3.23</td>\n",
       "      <td>3.02</td>\n",
       "      <td>0.21</td>\n",
       "      <td>1.89</td>\n",
       "      <td>3.03</td>\n",
       "      <td>1309.80</td>\n",
       "      <td>0.72</td>\n",
       "      <td>1.50</td>\n",
       "      <td>136.1</td>\n",
       "    </tr>\n",
       "    <tr>\n",
       "      <th>2009-01-01 00:30:00</th>\n",
       "      <td>996.53</td>\n",
       "      <td>-8.51</td>\n",
       "      <td>264.91</td>\n",
       "      <td>-9.31</td>\n",
       "      <td>93.9</td>\n",
       "      <td>3.21</td>\n",
       "      <td>3.01</td>\n",
       "      <td>0.20</td>\n",
       "      <td>1.88</td>\n",
       "      <td>3.02</td>\n",
       "      <td>1310.24</td>\n",
       "      <td>0.19</td>\n",
       "      <td>0.63</td>\n",
       "      <td>171.6</td>\n",
       "    </tr>\n",
       "    <tr>\n",
       "      <th>2009-01-01 00:40:00</th>\n",
       "      <td>996.51</td>\n",
       "      <td>-8.31</td>\n",
       "      <td>265.12</td>\n",
       "      <td>-9.07</td>\n",
       "      <td>94.2</td>\n",
       "      <td>3.26</td>\n",
       "      <td>3.07</td>\n",
       "      <td>0.19</td>\n",
       "      <td>1.92</td>\n",
       "      <td>3.08</td>\n",
       "      <td>1309.19</td>\n",
       "      <td>0.34</td>\n",
       "      <td>0.50</td>\n",
       "      <td>198.0</td>\n",
       "    </tr>\n",
       "    <tr>\n",
       "      <th>2009-01-01 00:50:00</th>\n",
       "      <td>996.51</td>\n",
       "      <td>-8.27</td>\n",
       "      <td>265.15</td>\n",
       "      <td>-9.04</td>\n",
       "      <td>94.1</td>\n",
       "      <td>3.27</td>\n",
       "      <td>3.08</td>\n",
       "      <td>0.19</td>\n",
       "      <td>1.92</td>\n",
       "      <td>3.09</td>\n",
       "      <td>1309.00</td>\n",
       "      <td>0.32</td>\n",
       "      <td>0.63</td>\n",
       "      <td>214.3</td>\n",
       "    </tr>\n",
       "    <tr>\n",
       "      <th>...</th>\n",
       "      <td>...</td>\n",
       "      <td>...</td>\n",
       "      <td>...</td>\n",
       "      <td>...</td>\n",
       "      <td>...</td>\n",
       "      <td>...</td>\n",
       "      <td>...</td>\n",
       "      <td>...</td>\n",
       "      <td>...</td>\n",
       "      <td>...</td>\n",
       "      <td>...</td>\n",
       "      <td>...</td>\n",
       "      <td>...</td>\n",
       "      <td>...</td>\n",
       "    </tr>\n",
       "    <tr>\n",
       "      <th>2009-10-05 18:00:00</th>\n",
       "      <td>988.25</td>\n",
       "      <td>10.61</td>\n",
       "      <td>284.73</td>\n",
       "      <td>9.38</td>\n",
       "      <td>92.1</td>\n",
       "      <td>12.81</td>\n",
       "      <td>11.79</td>\n",
       "      <td>1.01</td>\n",
       "      <td>7.46</td>\n",
       "      <td>11.93</td>\n",
       "      <td>1207.72</td>\n",
       "      <td>1.13</td>\n",
       "      <td>2.25</td>\n",
       "      <td>136.5</td>\n",
       "    </tr>\n",
       "    <tr>\n",
       "      <th>2009-10-05 18:10:00</th>\n",
       "      <td>988.25</td>\n",
       "      <td>10.52</td>\n",
       "      <td>284.64</td>\n",
       "      <td>9.21</td>\n",
       "      <td>91.6</td>\n",
       "      <td>12.73</td>\n",
       "      <td>11.66</td>\n",
       "      <td>1.07</td>\n",
       "      <td>7.37</td>\n",
       "      <td>11.80</td>\n",
       "      <td>1208.16</td>\n",
       "      <td>1.70</td>\n",
       "      <td>3.00</td>\n",
       "      <td>134.4</td>\n",
       "    </tr>\n",
       "    <tr>\n",
       "      <th>2009-10-05 18:20:00</th>\n",
       "      <td>988.25</td>\n",
       "      <td>10.48</td>\n",
       "      <td>284.60</td>\n",
       "      <td>9.16</td>\n",
       "      <td>91.5</td>\n",
       "      <td>12.70</td>\n",
       "      <td>11.62</td>\n",
       "      <td>1.08</td>\n",
       "      <td>7.34</td>\n",
       "      <td>11.75</td>\n",
       "      <td>1208.35</td>\n",
       "      <td>1.68</td>\n",
       "      <td>3.25</td>\n",
       "      <td>125.8</td>\n",
       "    </tr>\n",
       "    <tr>\n",
       "      <th>2009-10-05 18:30:00</th>\n",
       "      <td>988.29</td>\n",
       "      <td>10.37</td>\n",
       "      <td>284.49</td>\n",
       "      <td>9.19</td>\n",
       "      <td>92.4</td>\n",
       "      <td>12.60</td>\n",
       "      <td>11.64</td>\n",
       "      <td>0.96</td>\n",
       "      <td>7.36</td>\n",
       "      <td>11.78</td>\n",
       "      <td>1208.86</td>\n",
       "      <td>0.78</td>\n",
       "      <td>1.63</td>\n",
       "      <td>125.0</td>\n",
       "    </tr>\n",
       "    <tr>\n",
       "      <th>2009-10-05 18:40:00</th>\n",
       "      <td>988.36</td>\n",
       "      <td>10.38</td>\n",
       "      <td>284.49</td>\n",
       "      <td>9.24</td>\n",
       "      <td>92.6</td>\n",
       "      <td>12.61</td>\n",
       "      <td>11.68</td>\n",
       "      <td>0.93</td>\n",
       "      <td>7.38</td>\n",
       "      <td>11.82</td>\n",
       "      <td>1208.89</td>\n",
       "      <td>0.47</td>\n",
       "      <td>1.00</td>\n",
       "      <td>136.1</td>\n",
       "    </tr>\n",
       "  </tbody>\n",
       "</table>\n",
       "<p>40000 rows × 14 columns</p>\n",
       "</div>"
      ],
      "text/plain": [
       "                     p (mbar)  T (degC)  Tpot (K)  Tdew (degC)  rh (%)  \\\n",
       "Date Time                                                                \n",
       "2009-01-01 00:10:00    996.52     -8.02    265.40        -8.90    93.3   \n",
       "2009-01-01 00:20:00    996.57     -8.41    265.01        -9.28    93.4   \n",
       "2009-01-01 00:30:00    996.53     -8.51    264.91        -9.31    93.9   \n",
       "2009-01-01 00:40:00    996.51     -8.31    265.12        -9.07    94.2   \n",
       "2009-01-01 00:50:00    996.51     -8.27    265.15        -9.04    94.1   \n",
       "...                       ...       ...       ...          ...     ...   \n",
       "2009-10-05 18:00:00    988.25     10.61    284.73         9.38    92.1   \n",
       "2009-10-05 18:10:00    988.25     10.52    284.64         9.21    91.6   \n",
       "2009-10-05 18:20:00    988.25     10.48    284.60         9.16    91.5   \n",
       "2009-10-05 18:30:00    988.29     10.37    284.49         9.19    92.4   \n",
       "2009-10-05 18:40:00    988.36     10.38    284.49         9.24    92.6   \n",
       "\n",
       "                     VPmax (mbar)  VPact (mbar)  VPdef (mbar)  sh (g/kg)  \\\n",
       "Date Time                                                                  \n",
       "2009-01-01 00:10:00          3.33          3.11          0.22       1.94   \n",
       "2009-01-01 00:20:00          3.23          3.02          0.21       1.89   \n",
       "2009-01-01 00:30:00          3.21          3.01          0.20       1.88   \n",
       "2009-01-01 00:40:00          3.26          3.07          0.19       1.92   \n",
       "2009-01-01 00:50:00          3.27          3.08          0.19       1.92   \n",
       "...                           ...           ...           ...        ...   \n",
       "2009-10-05 18:00:00         12.81         11.79          1.01       7.46   \n",
       "2009-10-05 18:10:00         12.73         11.66          1.07       7.37   \n",
       "2009-10-05 18:20:00         12.70         11.62          1.08       7.34   \n",
       "2009-10-05 18:30:00         12.60         11.64          0.96       7.36   \n",
       "2009-10-05 18:40:00         12.61         11.68          0.93       7.38   \n",
       "\n",
       "                     H2OC (mmol/mol)  rho (g/m**3)  wv (m/s)  max. wv (m/s)  \\\n",
       "Date Time                                                                     \n",
       "2009-01-01 00:10:00             3.12       1307.75      1.03           1.75   \n",
       "2009-01-01 00:20:00             3.03       1309.80      0.72           1.50   \n",
       "2009-01-01 00:30:00             3.02       1310.24      0.19           0.63   \n",
       "2009-01-01 00:40:00             3.08       1309.19      0.34           0.50   \n",
       "2009-01-01 00:50:00             3.09       1309.00      0.32           0.63   \n",
       "...                              ...           ...       ...            ...   \n",
       "2009-10-05 18:00:00            11.93       1207.72      1.13           2.25   \n",
       "2009-10-05 18:10:00            11.80       1208.16      1.70           3.00   \n",
       "2009-10-05 18:20:00            11.75       1208.35      1.68           3.25   \n",
       "2009-10-05 18:30:00            11.78       1208.86      0.78           1.63   \n",
       "2009-10-05 18:40:00            11.82       1208.89      0.47           1.00   \n",
       "\n",
       "                     wd (deg)  \n",
       "Date Time                      \n",
       "2009-01-01 00:10:00     152.3  \n",
       "2009-01-01 00:20:00     136.1  \n",
       "2009-01-01 00:30:00     171.6  \n",
       "2009-01-01 00:40:00     198.0  \n",
       "2009-01-01 00:50:00     214.3  \n",
       "...                       ...  \n",
       "2009-10-05 18:00:00     136.5  \n",
       "2009-10-05 18:10:00     134.4  \n",
       "2009-10-05 18:20:00     125.8  \n",
       "2009-10-05 18:30:00     125.0  \n",
       "2009-10-05 18:40:00     136.1  \n",
       "\n",
       "[40000 rows x 14 columns]"
      ]
     },
     "execution_count": 32,
     "metadata": {},
     "output_type": "execute_result"
    }
   ],
   "source": [
    "train_df"
   ]
  },
  {
   "cell_type": "code",
   "execution_count": 33,
   "metadata": {},
   "outputs": [
    {
     "data": {
      "text/plain": [
       "40000"
      ]
     },
     "execution_count": 33,
     "metadata": {},
     "output_type": "execute_result"
    }
   ],
   "source": [
    "len(train_df)"
   ]
  },
  {
   "cell_type": "code",
   "execution_count": 34,
   "metadata": {},
   "outputs": [
    {
     "data": {
      "text/html": [
       "<div>\n",
       "<style scoped>\n",
       "    .dataframe tbody tr th:only-of-type {\n",
       "        vertical-align: middle;\n",
       "    }\n",
       "\n",
       "    .dataframe tbody tr th {\n",
       "        vertical-align: top;\n",
       "    }\n",
       "\n",
       "    .dataframe thead th {\n",
       "        text-align: right;\n",
       "    }\n",
       "</style>\n",
       "<table border=\"1\" class=\"dataframe\">\n",
       "  <thead>\n",
       "    <tr style=\"text-align: right;\">\n",
       "      <th></th>\n",
       "      <th>p (mbar)</th>\n",
       "      <th>T (degC)</th>\n",
       "      <th>Tpot (K)</th>\n",
       "      <th>Tdew (degC)</th>\n",
       "      <th>rh (%)</th>\n",
       "      <th>VPmax (mbar)</th>\n",
       "      <th>VPact (mbar)</th>\n",
       "      <th>VPdef (mbar)</th>\n",
       "      <th>sh (g/kg)</th>\n",
       "      <th>H2OC (mmol/mol)</th>\n",
       "      <th>rho (g/m**3)</th>\n",
       "      <th>wv (m/s)</th>\n",
       "      <th>max. wv (m/s)</th>\n",
       "      <th>wd (deg)</th>\n",
       "    </tr>\n",
       "    <tr>\n",
       "      <th>Date Time</th>\n",
       "      <th></th>\n",
       "      <th></th>\n",
       "      <th></th>\n",
       "      <th></th>\n",
       "      <th></th>\n",
       "      <th></th>\n",
       "      <th></th>\n",
       "      <th></th>\n",
       "      <th></th>\n",
       "      <th></th>\n",
       "      <th></th>\n",
       "      <th></th>\n",
       "      <th></th>\n",
       "      <th></th>\n",
       "    </tr>\n",
       "  </thead>\n",
       "  <tbody>\n",
       "    <tr>\n",
       "      <th>2009-10-05 18:50:00</th>\n",
       "      <td>988.42</td>\n",
       "      <td>10.33</td>\n",
       "      <td>284.44</td>\n",
       "      <td>9.17</td>\n",
       "      <td>92.5</td>\n",
       "      <td>12.57</td>\n",
       "      <td>11.63</td>\n",
       "      <td>0.94</td>\n",
       "      <td>7.35</td>\n",
       "      <td>11.76</td>\n",
       "      <td>1209.20</td>\n",
       "      <td>0.61</td>\n",
       "      <td>1.25</td>\n",
       "      <td>42.71</td>\n",
       "    </tr>\n",
       "    <tr>\n",
       "      <th>2009-10-05 19:00:00</th>\n",
       "      <td>988.51</td>\n",
       "      <td>10.07</td>\n",
       "      <td>284.17</td>\n",
       "      <td>9.02</td>\n",
       "      <td>93.2</td>\n",
       "      <td>12.35</td>\n",
       "      <td>11.51</td>\n",
       "      <td>0.84</td>\n",
       "      <td>7.28</td>\n",
       "      <td>11.65</td>\n",
       "      <td>1210.47</td>\n",
       "      <td>0.61</td>\n",
       "      <td>1.13</td>\n",
       "      <td>356.10</td>\n",
       "    </tr>\n",
       "    <tr>\n",
       "      <th>2009-10-05 19:10:00</th>\n",
       "      <td>988.51</td>\n",
       "      <td>9.92</td>\n",
       "      <td>284.02</td>\n",
       "      <td>9.00</td>\n",
       "      <td>94.0</td>\n",
       "      <td>12.23</td>\n",
       "      <td>11.49</td>\n",
       "      <td>0.73</td>\n",
       "      <td>7.26</td>\n",
       "      <td>11.63</td>\n",
       "      <td>1211.12</td>\n",
       "      <td>1.02</td>\n",
       "      <td>1.63</td>\n",
       "      <td>1.64</td>\n",
       "    </tr>\n",
       "    <tr>\n",
       "      <th>2009-10-05 19:20:00</th>\n",
       "      <td>988.50</td>\n",
       "      <td>9.87</td>\n",
       "      <td>283.97</td>\n",
       "      <td>9.05</td>\n",
       "      <td>94.6</td>\n",
       "      <td>12.19</td>\n",
       "      <td>11.53</td>\n",
       "      <td>0.66</td>\n",
       "      <td>7.29</td>\n",
       "      <td>11.66</td>\n",
       "      <td>1211.31</td>\n",
       "      <td>0.89</td>\n",
       "      <td>1.50</td>\n",
       "      <td>30.70</td>\n",
       "    </tr>\n",
       "    <tr>\n",
       "      <th>2009-10-05 19:30:00</th>\n",
       "      <td>988.48</td>\n",
       "      <td>9.70</td>\n",
       "      <td>283.80</td>\n",
       "      <td>8.94</td>\n",
       "      <td>95.0</td>\n",
       "      <td>12.05</td>\n",
       "      <td>11.45</td>\n",
       "      <td>0.60</td>\n",
       "      <td>7.23</td>\n",
       "      <td>11.58</td>\n",
       "      <td>1212.05</td>\n",
       "      <td>1.35</td>\n",
       "      <td>1.88</td>\n",
       "      <td>32.56</td>\n",
       "    </tr>\n",
       "    <tr>\n",
       "      <th>...</th>\n",
       "      <td>...</td>\n",
       "      <td>...</td>\n",
       "      <td>...</td>\n",
       "      <td>...</td>\n",
       "      <td>...</td>\n",
       "      <td>...</td>\n",
       "      <td>...</td>\n",
       "      <td>...</td>\n",
       "      <td>...</td>\n",
       "      <td>...</td>\n",
       "      <td>...</td>\n",
       "      <td>...</td>\n",
       "      <td>...</td>\n",
       "      <td>...</td>\n",
       "    </tr>\n",
       "    <tr>\n",
       "      <th>2009-10-12 17:00:00</th>\n",
       "      <td>991.27</td>\n",
       "      <td>6.25</td>\n",
       "      <td>280.11</td>\n",
       "      <td>3.29</td>\n",
       "      <td>81.3</td>\n",
       "      <td>9.52</td>\n",
       "      <td>7.74</td>\n",
       "      <td>1.78</td>\n",
       "      <td>4.87</td>\n",
       "      <td>7.81</td>\n",
       "      <td>1232.25</td>\n",
       "      <td>1.57</td>\n",
       "      <td>3.28</td>\n",
       "      <td>151.90</td>\n",
       "    </tr>\n",
       "    <tr>\n",
       "      <th>2009-10-12 17:10:00</th>\n",
       "      <td>991.44</td>\n",
       "      <td>5.83</td>\n",
       "      <td>279.68</td>\n",
       "      <td>3.44</td>\n",
       "      <td>84.6</td>\n",
       "      <td>9.25</td>\n",
       "      <td>7.82</td>\n",
       "      <td>1.42</td>\n",
       "      <td>4.92</td>\n",
       "      <td>7.89</td>\n",
       "      <td>1234.27</td>\n",
       "      <td>1.67</td>\n",
       "      <td>3.46</td>\n",
       "      <td>215.00</td>\n",
       "    </tr>\n",
       "    <tr>\n",
       "      <th>2009-10-12 17:20:00</th>\n",
       "      <td>991.66</td>\n",
       "      <td>5.67</td>\n",
       "      <td>279.50</td>\n",
       "      <td>3.44</td>\n",
       "      <td>85.5</td>\n",
       "      <td>9.15</td>\n",
       "      <td>7.82</td>\n",
       "      <td>1.33</td>\n",
       "      <td>4.92</td>\n",
       "      <td>7.89</td>\n",
       "      <td>1235.24</td>\n",
       "      <td>1.86</td>\n",
       "      <td>3.76</td>\n",
       "      <td>264.00</td>\n",
       "    </tr>\n",
       "    <tr>\n",
       "      <th>2009-10-12 17:30:00</th>\n",
       "      <td>991.82</td>\n",
       "      <td>5.64</td>\n",
       "      <td>279.45</td>\n",
       "      <td>2.97</td>\n",
       "      <td>82.9</td>\n",
       "      <td>9.12</td>\n",
       "      <td>7.56</td>\n",
       "      <td>1.56</td>\n",
       "      <td>4.76</td>\n",
       "      <td>7.63</td>\n",
       "      <td>1235.73</td>\n",
       "      <td>1.97</td>\n",
       "      <td>4.12</td>\n",
       "      <td>274.60</td>\n",
       "    </tr>\n",
       "    <tr>\n",
       "      <th>2009-10-12 17:40:00</th>\n",
       "      <td>992.02</td>\n",
       "      <td>5.54</td>\n",
       "      <td>279.34</td>\n",
       "      <td>2.80</td>\n",
       "      <td>82.5</td>\n",
       "      <td>9.06</td>\n",
       "      <td>7.48</td>\n",
       "      <td>1.59</td>\n",
       "      <td>4.70</td>\n",
       "      <td>7.54</td>\n",
       "      <td>1236.46</td>\n",
       "      <td>2.10</td>\n",
       "      <td>3.80</td>\n",
       "      <td>255.20</td>\n",
       "    </tr>\n",
       "  </tbody>\n",
       "</table>\n",
       "<p>1000 rows × 14 columns</p>\n",
       "</div>"
      ],
      "text/plain": [
       "                     p (mbar)  T (degC)  Tpot (K)  Tdew (degC)  rh (%)  \\\n",
       "Date Time                                                                \n",
       "2009-10-05 18:50:00    988.42     10.33    284.44         9.17    92.5   \n",
       "2009-10-05 19:00:00    988.51     10.07    284.17         9.02    93.2   \n",
       "2009-10-05 19:10:00    988.51      9.92    284.02         9.00    94.0   \n",
       "2009-10-05 19:20:00    988.50      9.87    283.97         9.05    94.6   \n",
       "2009-10-05 19:30:00    988.48      9.70    283.80         8.94    95.0   \n",
       "...                       ...       ...       ...          ...     ...   \n",
       "2009-10-12 17:00:00    991.27      6.25    280.11         3.29    81.3   \n",
       "2009-10-12 17:10:00    991.44      5.83    279.68         3.44    84.6   \n",
       "2009-10-12 17:20:00    991.66      5.67    279.50         3.44    85.5   \n",
       "2009-10-12 17:30:00    991.82      5.64    279.45         2.97    82.9   \n",
       "2009-10-12 17:40:00    992.02      5.54    279.34         2.80    82.5   \n",
       "\n",
       "                     VPmax (mbar)  VPact (mbar)  VPdef (mbar)  sh (g/kg)  \\\n",
       "Date Time                                                                  \n",
       "2009-10-05 18:50:00         12.57         11.63          0.94       7.35   \n",
       "2009-10-05 19:00:00         12.35         11.51          0.84       7.28   \n",
       "2009-10-05 19:10:00         12.23         11.49          0.73       7.26   \n",
       "2009-10-05 19:20:00         12.19         11.53          0.66       7.29   \n",
       "2009-10-05 19:30:00         12.05         11.45          0.60       7.23   \n",
       "...                           ...           ...           ...        ...   \n",
       "2009-10-12 17:00:00          9.52          7.74          1.78       4.87   \n",
       "2009-10-12 17:10:00          9.25          7.82          1.42       4.92   \n",
       "2009-10-12 17:20:00          9.15          7.82          1.33       4.92   \n",
       "2009-10-12 17:30:00          9.12          7.56          1.56       4.76   \n",
       "2009-10-12 17:40:00          9.06          7.48          1.59       4.70   \n",
       "\n",
       "                     H2OC (mmol/mol)  rho (g/m**3)  wv (m/s)  max. wv (m/s)  \\\n",
       "Date Time                                                                     \n",
       "2009-10-05 18:50:00            11.76       1209.20      0.61           1.25   \n",
       "2009-10-05 19:00:00            11.65       1210.47      0.61           1.13   \n",
       "2009-10-05 19:10:00            11.63       1211.12      1.02           1.63   \n",
       "2009-10-05 19:20:00            11.66       1211.31      0.89           1.50   \n",
       "2009-10-05 19:30:00            11.58       1212.05      1.35           1.88   \n",
       "...                              ...           ...       ...            ...   \n",
       "2009-10-12 17:00:00             7.81       1232.25      1.57           3.28   \n",
       "2009-10-12 17:10:00             7.89       1234.27      1.67           3.46   \n",
       "2009-10-12 17:20:00             7.89       1235.24      1.86           3.76   \n",
       "2009-10-12 17:30:00             7.63       1235.73      1.97           4.12   \n",
       "2009-10-12 17:40:00             7.54       1236.46      2.10           3.80   \n",
       "\n",
       "                     wd (deg)  \n",
       "Date Time                      \n",
       "2009-10-05 18:50:00     42.71  \n",
       "2009-10-05 19:00:00    356.10  \n",
       "2009-10-05 19:10:00      1.64  \n",
       "2009-10-05 19:20:00     30.70  \n",
       "2009-10-05 19:30:00     32.56  \n",
       "...                       ...  \n",
       "2009-10-12 17:00:00    151.90  \n",
       "2009-10-12 17:10:00    215.00  \n",
       "2009-10-12 17:20:00    264.00  \n",
       "2009-10-12 17:30:00    274.60  \n",
       "2009-10-12 17:40:00    255.20  \n",
       "\n",
       "[1000 rows x 14 columns]"
      ]
     },
     "execution_count": 34,
     "metadata": {},
     "output_type": "execute_result"
    }
   ],
   "source": [
    "test_df"
   ]
  },
  {
   "cell_type": "code",
   "execution_count": 35,
   "metadata": {
    "scrolled": true
   },
   "outputs": [],
   "source": [
    "y_pred=(pd.DataFrame(model_fit.predict(len(train_df), # 시작 지점은 train_df 이후의 첫 지점부터\n",
    "                               len(train_df)+len(test_df)-1, # 마지막 index 는 \n",
    "                               exog_oos = test_df.drop(columns =['rh (%)']))))"
   ]
  },
  {
   "cell_type": "code",
   "execution_count": 38,
   "metadata": {},
   "outputs": [
    {
     "data": {
      "text/plain": [
       "[<matplotlib.lines.Line2D at 0x25c8a1cb848>]"
      ]
     },
     "execution_count": 38,
     "metadata": {},
     "output_type": "execute_result"
    },
    {
     "data": {
      "image/png": "[encoded data removed]",
      "text/plain": [
       "<Figure size 432x288 with 1 Axes>"
      ]
     },
     "metadata": {
      "needs_background": "light"
     },
     "output_type": "display_data"
    }
   ],
   "source": [
    "plt.plot(y_pred)\n",
    "plt.plot(test_df['rh (%)'])"
   ]
  },
  {
   "cell_type": "markdown",
   "metadata": {},
   "source": [
    "- 어느정도 prediction 이 원래 prediction 의 추이와 비슷하다."
   ]
  },
  {
   "cell_type": "markdown",
   "metadata": {},
   "source": [
    "# Moving Average (MA)\n"
   ]
  },
  {
   "cell_type": "markdown",
   "metadata": {},
   "source": [
    "- 이동 평균 모델은 과거 예측값의 오차들을 이용한다.\n",
    "- $ y_{t} = c + \\varepsilon_t + \\theta_{1}\\varepsilon_{t-1} + \\theta_{2}\\varepsilon_{t-2} + \\dots + \\theta_{q}\\varepsilon_{t-q} $\n",
    "    - 이 떄에 $\\varepsilon_{t}$ 는 백색잡음을 나타낸다.\n",
    "    - $y_{t}$ 는 t 시점에서의 관측치를 나타낸다.\n",
    "- 즉 이전의 '에러(모델이 예측하지 못한 값들)' 의 가중합들이, 그 다음 예측치의 값 이라는 의미이다.\n",
    "- 사실 AR,MA 는 별 의미가 없는것이 ARMIMA 에서 모두 포함되기 때문이다. 여기서는 간단히 예측하자."
   ]
  },
  {
   "cell_type": "code",
   "execution_count": 39,
   "metadata": {},
   "outputs": [],
   "source": [
    "# MA example\n",
    "from statsmodels.tsa.arima.model import ARIMA\n",
    "from random import random\n",
    "# contrived dataset"
   ]
  },
  {
   "cell_type": "code",
   "execution_count": 46,
   "metadata": {
    "scrolled": true
   },
   "outputs": [
    {
     "name": "stdout",
     "output_type": "stream",
     "text": [
      "2009-10-05 18:50:00    91.771171\n",
      "2009-10-05 19:00:00    89.996137\n",
      "2009-10-05 19:10:00    87.665994\n",
      "2009-10-05 19:20:00    84.828505\n",
      "Freq: 10T, Name: predicted_mean, dtype: float64\n"
     ]
    }
   ],
   "source": [
    "model = ARIMA(train_df['rh (%)'], order=(0, 0, 8))\n",
    "model_fit = model.fit()\n",
    "# make prediction\n",
    "y_pred = model_fit.predict(len(train_df), len(train_df)+3)\n",
    "print(y_pred)"
   ]
  },
  {
   "cell_type": "markdown",
   "metadata": {},
   "source": [
    "# ARIMA"
   ]
  },
  {
   "cell_type": "markdown",
   "metadata": {},
   "source": [
    "- ARIMA 란 차분과 MR, MA 모델을 합한것이다.\n",
    "- 차분을 하는 이유는, 대부분의 시계열 모델들은 정상성을 가정하고 모델을 만들기 때문이다.\n",
    "- 그에 따라 차분을 진행하여(혹은 Log,exp 등의 변환을 하기도 한다) 시계열을 정상화 시키고 MA 등의 모델을 구하려는 편이다. \n",
    "- 즉 여기에서는 $y'$ 를 차분을 진행한 시계열이라고 하겠다. "
   ]
  },
  {
   "cell_type": "markdown",
   "metadata": {},
   "source": [
    "$ y'_{t} = c + \\phi_{1}y'_{t-1} + \\cdots + \\phi_{p}y'_{t-p} + \\theta_{1}\\varepsilon_{t-1} + \\cdots + \\theta_{q}\\varepsilon_{t-q} + \\varepsilon_{t} $   \n",
    "- AR(p), I(차분)(d), MA(q) 모델이 합쳐지면 ARIMA(p, d, q) 가 된다. \n",
    "- 여전히 계절성에 대해서는 고려를 하지 않았기 때문에 계절성에는 취약한 모델이다"
   ]
  },
  {
   "cell_type": "code",
   "execution_count": 9,
   "metadata": {},
   "outputs": [
    {
     "name": "stdout",
     "output_type": "stream",
     "text": [
      "[0.42642067]\n"
     ]
    }
   ],
   "source": [
    "# ARMA example\n",
    "from statsmodels.tsa.arima.model import ARIMA\n",
    "from random import random\n",
    "# contrived dataset\n",
    "data = [random() for x in range(1, 100)]\n",
    "# fit model\n",
    "model = ARIMA(data, order=(2, 0, 1))\n",
    "model_fit = model.fit()\n",
    "# make prediction\n",
    "yhat = model_fit.predict(len(data), len(data))\n",
    "print(yhat)"
   ]
  },
  {
   "cell_type": "markdown",
   "metadata": {},
   "source": [
    "# SARIMA\n"
   ]
  },
  {
   "cell_type": "markdown",
   "metadata": {},
   "source": [
    "- Seasonal Autoregressive Integrated Moving-Average\n",
    "\n",
    "- $(1 - \\phi_{1}B)~(1 - \\Phi_{1}B^{4}) (1 - B) (1 - B^{4})y_{t} = (1 + \\theta_{1}B)~ (1 + \\Theta_{1}B^{4})\\varepsilon_{t} $\n",
    "\n",
    "- 위의 모델은 $ARIMA(1,1,1)(1,1,1)_4$ 모델로서, 계절성이 있는 경우 계절성 ARMA 를 양옆에 곱해줌으로서 계절성도 고려하게 된다."
   ]
  },
  {
   "cell_type": "code",
   "execution_count": 10,
   "metadata": {
    "scrolled": true
   },
   "outputs": [
    {
     "name": "stdout",
     "output_type": "stream",
     "text": [
      "[100.97955432]\n"
     ]
    }
   ],
   "source": [
    "# SARIMA example\n",
    "from statsmodels.tsa.statespace.sarimax import SARIMAX\n",
    "from random import random\n",
    "# contrived dataset\n",
    "data = [x + random() for x in range(1, 100)]\n",
    "# fit model\n",
    "model = SARIMAX(data, order=(1, 1, 1), seasonal_order=(0, 0, 0, 0))\n",
    "model_fit = model.fit(disp=False)\n",
    "# make prediction\n",
    "yhat = model_fit.predict(len(data), len(data))\n",
    "print(yhat)"
   ]
  },
  {
   "cell_type": "markdown",
   "metadata": {},
   "source": [
    "# SARIMAX"
   ]
  },
  {
   "cell_type": "markdown",
   "metadata": {},
   "source": [
    "- Exogenous(외생변수) 가 있는 경우에 사용 가능하다.\n",
    "- 위에서 다룬 모델들은 대부분 단변량 시계열인데에 비해, 이 SRIMAX 는 아래와 같이 외생변수 X 를 포함하게 된다. \n",
    "\n",
    "$ y'_{t} = c + \\phi_{1}y'_{t-1} + \\cdots + \\phi_{p}y'_{t-p} + \\theta_{1}\\varepsilon_{t-1} + \\cdots + \\theta_{q}\\varepsilon_{t-q} + \\varepsilon_{t} + X\\beta $ \n",
    "\n",
    "- 이 때에 외생변수 X 는 원래 시계열 $y_t$ 와 그 길이가 일치해야한다.\n",
    "- ARIMAX 등의 경우도 위와 같다.\n"
   ]
  },
  {
   "cell_type": "code",
   "execution_count": 11,
   "metadata": {},
   "outputs": [
    {
     "name": "stdout",
     "output_type": "stream",
     "text": [
      "[100.60496094]\n"
     ]
    }
   ],
   "source": [
    "# SARIMAX example\n",
    "from statsmodels.tsa.statespace.sarimax import SARIMAX\n",
    "from random import random\n",
    "# contrived dataset\n",
    "data1 = [x + random() for x in range(1, 100)]\n",
    "data2 = [x + random() for x in range(101, 200)]\n",
    "# fit model\n",
    "model = SARIMAX(data1, # 원 시계열 \n",
    "                exog=data2, # 왜생변수\n",
    "                order=(1, 1, 1), # ARIMA\n",
    "                seasonal_order=(0, 0, 0, 0) # 계절 ARIMA\n",
    "               )\n",
    "model_fit = model.fit(disp=False #disp 는 convergence massage 를 표시할지 안할지이다. \n",
    "                     )\n",
    "# make prediction\n",
    "exog2 = [200 + random()]\n",
    "yhat = model_fit.predict(len(data1), # 예측할 처음 index\n",
    "                         len(data1), # 예측할 마지막 index\n",
    "                         exog=[exog2] # 외생변수를 표기해 주어야, 이 변수는 예측에서 빼게 된다.\n",
    "                        ) \n",
    "print(yhat)"
   ]
  },
  {
   "cell_type": "markdown",
   "metadata": {},
   "source": [
    "# VAR\n",
    "- Vector Autoregression\n"
   ]
  },
  {
   "cell_type": "markdown",
   "metadata": {},
   "source": [
    "- 사용\n",
    "    - 내생변수들이 외생변수에 영향을끼치는 복잡한 관계를 잘 모델링 하고 싶음\n",
    "    - 서로 연관되어 있는 시계열 변수들을 예측하기 위해 사용되거나\n",
    "    - 충격이 모형내 변수에 미치는 영향을 분석하는데에 많이 사용된다.\n",
    "    \n",
    "- VAR 모형\n",
    "    - 모든 변수들을 서로 시차변수로 보고 서로 영향을 준다고 생각한다.\n",
    "    - 즉 굳이 어떤 변수는 영향을 받고(외생) 영향을 주고(내생) 를 구분하지 않고 그냥 모두 모델링 해 버린다.\n",
    "![image](./Pictures/VAR.PNG)\n",
    "\n",
    "- 특징\n",
    "    - AR 모형의 다변수 버전으로 볼 수 있다. \n",
    "    - VAR 모형의 기본 가정은 Let the data speak for themselves 이다. 즉 모형에 별다른 제약을 부여하지 않는다.\n",
    "    - 모형이 단순해서 어떤 변수가 내생/외생 변수인지 고민하지 않아도 된다.\n",
    "    - 각 방정식에 대해 통상적으로 OLS 방법이 가능하다. \n",
    "    - 하지만 모형 설정시에 Prior(사전정보) 를 넣을 껀덕지가 없어서 사전 지식을 활용하기가 애매하다.\n",
    "    - 개별 모수들의 추정치에 대해 해석이 어렵다.(서로 영향을 끼치는 관계가 매우 얽혀있으므로)\n",
    "    - 추정해야 할 모수들이 너무 많다. \n",
    "    - m개의 변수를 가지는 var 모형의 경우 m 개의 변수들 모두 정상 시계열이여야 한다. 이는 비정상 시계열인 경우 차분 등을 통해 변환을 해야 한다는 것이다. 하지만 다변량 시계열의 경우 모두 차분을 같이 진행해야 하기 때문에 모두 정상화 하기가 어렵다."
   ]
  },
  {
   "cell_type": "code",
   "execution_count": 12,
   "metadata": {},
   "outputs": [
    {
     "name": "stdout",
     "output_type": "stream",
     "text": [
      "[[100.73563436 101.34825942]]\n"
     ]
    }
   ],
   "source": [
    "# VAR example\n",
    "from statsmodels.tsa.vector_ar.var_model import VAR\n",
    "from random import random\n",
    "# contrived dataset with dependency\n",
    "data = list()\n",
    "for i in range(100):\n",
    "    v1 = i + random()\n",
    "    v2 = v1 + random()\n",
    "    row = [v1, v2]\n",
    "    data.append(row)\n",
    "# fit model\n",
    "model = VAR(data)\n",
    "model_fit = model.fit()\n",
    "# make prediction\n",
    "yhat = model_fit.forecast(model_fit.y, steps=1)\n",
    "print(yhat)"
   ]
  },
  {
   "cell_type": "markdown",
   "metadata": {},
   "source": [
    "# VARMA\n",
    "- Vector Autoregression Moving-Average\n"
   ]
  },
  {
   "cell_type": "markdown",
   "metadata": {},
   "source": [
    "- 이 경우 ARMA 의 Vactor 버전이라고 생각하면 쉽다."
   ]
  },
  {
   "cell_type": "code",
   "execution_count": 13,
   "metadata": {},
   "outputs": [
    {
     "name": "stdout",
     "output_type": "stream",
     "text": [
      "[[0.46259388 0.9833181 ]]\n"
     ]
    }
   ],
   "source": [
    "# VARMA example\n",
    "from statsmodels.tsa.statespace.varmax import VARMAX\n",
    "from random import random\n",
    "# contrived dataset with dependency\n",
    "data = list()\n",
    "for i in range(100):\n",
    "    v1 = random()\n",
    "    v2 = v1 + random()\n",
    "    row = [v1, v2]\n",
    "    data.append(row)\n",
    "# fit model\n",
    "model = VARMAX(data, order=(1, 1))\n",
    "model_fit = model.fit(disp=False)\n",
    "# make prediction\n",
    "yhat = model_fit.forecast()\n",
    "print(yhat)"
   ]
  },
  {
   "cell_type": "markdown",
   "metadata": {},
   "source": [
    "# VARMAX\n",
    "- Vector Autoregression Moving-Average with Exogenous Regressors "
   ]
  },
  {
   "cell_type": "markdown",
   "metadata": {},
   "source": [
    "- 위의 VARMA 에 외생변수를 넣은것이다.\n",
    "\n",
    "- 이 때에 외생변수는 다른 변수와 Ind 하다고 생각되어지는 것을 넣으면 딘다."
   ]
  },
  {
   "cell_type": "markdown",
   "metadata": {},
   "source": [
    "![IMAGE](./Pictures/VARMAX.PNG)"
   ]
  },
  {
   "cell_type": "code",
   "execution_count": 14,
   "metadata": {},
   "outputs": [
    {
     "name": "stdout",
     "output_type": "stream",
     "text": [
      "[[0.62511704 1.08165289]]\n"
     ]
    }
   ],
   "source": [
    "# VARMAX example\n",
    "from statsmodels.tsa.statespace.varmax import VARMAX\n",
    "from random import random\n",
    "# contrived dataset with dependency\n",
    "data = list()\n",
    "for i in range(100):\n",
    "    v1 = random()\n",
    "    v2 = v1 + random()\n",
    "    row = [v1, v2]\n",
    "    data.append(row)\n",
    "data_exog = [x + random() for x in range(100)]\n",
    "# fit model\n",
    "model = VARMAX(data, exog=data_exog, order=(1, 1))\n",
    "model_fit = model.fit(disp=False)\n",
    "# make prediction\n",
    "data_exog2 = [[100]]\n",
    "yhat = model_fit.forecast(exog=data_exog2)\n",
    "print(yhat)"
   ]
  },
  {
   "cell_type": "markdown",
   "metadata": {},
   "source": [
    "# ARCH"
   ]
  },
  {
   "cell_type": "markdown",
   "metadata": {},
   "source": [
    "- 내일 코스피 지수는 '오늘 코스피 지수 +- 무작위 오차'식으로 예측할 수 있다. 그러나 지수의 변동성(표준편차, 분산)은 오늘 낮으면 내일도 낮고 오늘 높으면 내일도 높은 식의 관계가 존재한다.(volatility clustering) 바꿔 말해서 박스피는 계속 박스피로 남고, 천천히 올라가는 장이면 계속 천천히 오르거나 내리고, 급락/급등장에서는 또 급락/급등이 이어질 확률이 높다는 것이다. 따라서 지수 자체를 예측하는것은 힘들지만 그 변동성을 예측하기위해 나온 모형이 ARCH, GARCH 모형이다\n",
    "\n",
    "![IMAGE](./Pictures/ARCH.PNG)"
   ]
  },
  {
   "cell_type": "markdown",
   "metadata": {},
   "source": [
    "-  위와 같이 시계열 $Y_t$ 의 예측에, 일반적으로 분산이 일정한 백색잡음이 아니아, 이전 에러가 누적되어서 분산이 추정되는 형태를 띠고있다.\n",
    "- 즉 점점 에러가 커진다면 그에 따라서 분산도 커지는 형태를 띠는것이다."
   ]
  },
  {
   "cell_type": "code",
   "execution_count": 15,
   "metadata": {},
   "outputs": [],
   "source": [
    "import random"
   ]
  },
  {
   "cell_type": "code",
   "execution_count": 16,
   "metadata": {},
   "outputs": [],
   "source": [
    "data = [random.gauss(0, i*0.01) for i in range(1,100+1)]"
   ]
  },
  {
   "cell_type": "code",
   "execution_count": 17,
   "metadata": {
    "scrolled": true
   },
   "outputs": [
    {
     "data": {
      "image/png": "[encoded data removed]",
      "text/plain": [
       "<Figure size 432x288 with 1 Axes>"
      ]
     },
     "metadata": {
      "needs_background": "light"
     },
     "output_type": "display_data"
    }
   ],
   "source": [
    "# create a simple white noise with increasing variance\n",
    "from random import gauss\n",
    "from random import seed\n",
    "from matplotlib import pyplot\n",
    "# seed pseudorandom number generator\n",
    "seed(1)\n",
    "# create dataset\n",
    "data = [gauss(0, i*0.01) for i in range(0,100)]\n",
    "# plot\n",
    "pyplot.plot(data)\n",
    "pyplot.show()"
   ]
  },
  {
   "cell_type": "code",
   "execution_count": 18,
   "metadata": {
    "scrolled": true
   },
   "outputs": [
    {
     "data": {
      "image/png": "[encoded data removed]",
      "text/plain": [
       "<Figure size 432x288 with 1 Axes>"
      ]
     },
     "metadata": {
      "needs_background": "light"
     },
     "output_type": "display_data"
    }
   ],
   "source": [
    "# check correlations of squared observations\n",
    "from random import gauss\n",
    "from random import seed\n",
    "from matplotlib import pyplot\n",
    "import numpy as np\n",
    "from statsmodels.graphics.tsaplots import plot_acf\n",
    "# seed pseudorandom number generator\n",
    "seed(1)\n",
    "# create dataset\n",
    "data = [gauss(0, i*0.01) for i in range(0,100)]\n",
    "# square the dataset\n",
    "squared_data = np.array([x**2 for x in data])\n",
    "# create acf plot\n",
    "plot_acf(squared_data,lags=40)\n",
    "# 에러의 제곱이 어느정도 상관관계를 나타내고 있다.\n",
    "# 그러므로 ARCH 로 그 관계를 잡아내는게 좋아보인다\n",
    "pyplot.show()"
   ]
  },
  {
   "cell_type": "code",
   "execution_count": 19,
   "metadata": {},
   "outputs": [
    {
     "name": "stdout",
     "output_type": "stream",
     "text": [
      "Iteration:      1,   Func. Count:     18,   Neg. LLF: 88230.5022386919\n",
      "Iteration:      2,   Func. Count:     36,   Neg. LLF: 145.16343062922158\n",
      "Iteration:      3,   Func. Count:     54,   Neg. LLF: 128.1580370626462\n",
      "Iteration:      4,   Func. Count:     72,   Neg. LLF: 109.21755150713977\n",
      "Iteration:      5,   Func. Count:     90,   Neg. LLF: 36.505742305639636\n",
      "Iteration:      6,   Func. Count:    108,   Neg. LLF: 39.657385490391924\n",
      "Iteration:      7,   Func. Count:    126,   Neg. LLF: 28.719725927033075\n",
      "Iteration:      8,   Func. Count:    143,   Neg. LLF: 28.020270372022498\n",
      "Iteration:      9,   Func. Count:    161,   Neg. LLF: 34.94721660620315\n",
      "Iteration:     10,   Func. Count:    180,   Neg. LLF: 30.036228247245106\n",
      "Iteration:     11,   Func. Count:    198,   Neg. LLF: 26.916795778948643\n",
      "Iteration:     12,   Func. Count:    216,   Neg. LLF: 35.2329891094671\n",
      "Iteration:     13,   Func. Count:    235,   Neg. LLF: 25.557781342763224\n",
      "Iteration:     14,   Func. Count:    253,   Neg. LLF: 25.49687891972917\n",
      "Iteration:     15,   Func. Count:    271,   Neg. LLF: 25.486203599625494\n",
      "Iteration:     16,   Func. Count:    289,   Neg. LLF: 25.486111292597755\n",
      "Iteration:     17,   Func. Count:    307,   Neg. LLF: 25.48214954406786\n",
      "Iteration:     18,   Func. Count:    324,   Neg. LLF: 25.480673723552396\n",
      "Iteration:     19,   Func. Count:    341,   Neg. LLF: 25.478363018255724\n",
      "Iteration:     20,   Func. Count:    358,   Neg. LLF: 25.47763917869243\n",
      "Iteration:     21,   Func. Count:    375,   Neg. LLF: 25.47751081815898\n",
      "Iteration:     22,   Func. Count:    392,   Neg. LLF: 25.477507747392423\n",
      "Iteration:     23,   Func. Count:    408,   Neg. LLF: 25.47750771371601\n",
      "Optimization terminated successfully    (Exit mode 0)\n",
      "            Current function value: 25.477507747392423\n",
      "            Iterations: 23\n",
      "            Function evaluations: 408\n",
      "            Gradient evaluations: 23\n"
     ]
    },
    {
     "data": {
      "image/png": "[encoded data removed]",
      "text/plain": [
       "<Figure size 432x288 with 1 Axes>"
      ]
     },
     "metadata": {
      "needs_background": "light"
     },
     "output_type": "display_data"
    }
   ],
   "source": [
    "# example of ARCH model\n",
    "from random import gauss\n",
    "from random import seed\n",
    "from matplotlib import pyplot\n",
    "from arch import arch_model\n",
    "# seed pseudorandom number generator\n",
    "seed(1)\n",
    "# create dataset\n",
    "data = [gauss(0, i*0.01) for i in range(0,100)]\n",
    "# split into train/test\n",
    "n_test = 10\n",
    "train, test = data[:-n_test], data[-n_test:]\n",
    "# define model\n",
    "model = arch_model(train, mean='Zero', vol='ARCH', p=15)\n",
    "# fit model\n",
    "model_fit = model.fit()\n",
    "# forecast the test set\n",
    "yhat = model_fit.forecast(horizon=n_test)\n",
    "# plot the actual variance\n",
    "var = [i*0.01 for i in range(0,100)]\n",
    "pyplot.plot(var[-n_test:])\n",
    "# plot forecast variance\n",
    "pyplot.plot(yhat.variance.values[-1, :])\n",
    "pyplot.show()"
   ]
  },
  {
   "cell_type": "markdown",
   "metadata": {},
   "source": [
    "# GARCH"
   ]
  },
  {
   "cell_type": "markdown",
   "metadata": {},
   "source": [
    "![IMAGE](./Pictures/GARCH.PNG)"
   ]
  },
  {
   "cell_type": "markdown",
   "metadata": {},
   "source": [
    "- 위와 같이 그 분산이 이전 분산들과도 연관되어있다. \n",
    "- ARCH 의 문제점은 ARCH 의 차수를 결정하는 문제와\n",
    "- 실제로 필요한 차수 Q 의 값이 너무 클 수 있다는 문제 \n",
    "- 그리고 모델에서의 제약으로 추정 모수가 모두 non negative 여야 하는데 이런 제약조건과 문제를 해결하기 위해 자연스레 나온것이 GARCH 이며 거의 GARCH(1,1) 모형을 쓴다고 한다."
   ]
  },
  {
   "cell_type": "code",
   "execution_count": 23,
   "metadata": {},
   "outputs": [],
   "source": [
    "# define model\n",
    "model = arch_model(train, mean='Zero', vol='GARCH', p=15, q=15)"
   ]
  },
  {
   "cell_type": "code",
   "execution_count": 24,
   "metadata": {},
   "outputs": [
    {
     "name": "stdout",
     "output_type": "stream",
     "text": [
      "Iteration:      1,   Func. Count:     33,   Neg. LLF: 134.2317665883839\n",
      "Iteration:      2,   Func. Count:     70,   Neg. LLF: 95218.99536961706\n",
      "Iteration:      3,   Func. Count:    103,   Neg. LLF: 544.0666800125144\n",
      "Iteration:      4,   Func. Count:    136,   Neg. LLF: 359.8214533896114\n",
      "Iteration:      5,   Func. Count:    169,   Neg. LLF: 120.68464234035743\n",
      "Iteration:      6,   Func. Count:    202,   Neg. LLF: 57.67987707496318\n",
      "Iteration:      7,   Func. Count:    235,   Neg. LLF: 37.23386150760782\n",
      "Iteration:      8,   Func. Count:    268,   Neg. LLF: 44.284822402737774\n",
      "Iteration:      9,   Func. Count:    301,   Neg. LLF: 30.955486567364034\n",
      "Iteration:     10,   Func. Count:    334,   Neg. LLF: 26.957562041761186\n",
      "Iteration:     11,   Func. Count:    366,   Neg. LLF: 31.35843339906071\n",
      "Iteration:     12,   Func. Count:    400,   Neg. LLF: 30.014600649363558\n",
      "Iteration:     13,   Func. Count:    433,   Neg. LLF: 28.46149312768924\n",
      "Iteration:     14,   Func. Count:    466,   Neg. LLF: 27.69989027031613\n",
      "Iteration:     15,   Func. Count:    499,   Neg. LLF: 26.904432413344225\n",
      "Iteration:     16,   Func. Count:    532,   Neg. LLF: 25.516080289875774\n",
      "Iteration:     17,   Func. Count:    564,   Neg. LLF: 25.51091128515439\n",
      "Iteration:     18,   Func. Count:    597,   Neg. LLF: 25.783699075265094\n",
      "Iteration:     19,   Func. Count:    630,   Neg. LLF: 25.492115623407066\n",
      "Iteration:     20,   Func. Count:    662,   Neg. LLF: 25.485422726387913\n",
      "Iteration:     21,   Func. Count:    694,   Neg. LLF: 25.479684219263245\n",
      "Iteration:     22,   Func. Count:    726,   Neg. LLF: 25.477822173984134\n",
      "Iteration:     23,   Func. Count:    758,   Neg. LLF: 25.477525737012506\n",
      "Iteration:     24,   Func. Count:    790,   Neg. LLF: 25.477511629030527\n",
      "Iteration:     25,   Func. Count:    822,   Neg. LLF: 25.4775078504283\n",
      "Iteration:     26,   Func. Count:    853,   Neg. LLF: 25.47750781341174\n",
      "Optimization terminated successfully    (Exit mode 0)\n",
      "            Current function value: 25.4775078504283\n",
      "            Iterations: 26\n",
      "            Function evaluations: 853\n",
      "            Gradient evaluations: 26\n"
     ]
    },
    {
     "data": {
      "image/png": "[encoded data removed]",
      "text/plain": [
       "<Figure size 432x288 with 1 Axes>"
      ]
     },
     "metadata": {
      "needs_background": "light"
     },
     "output_type": "display_data"
    }
   ],
   "source": [
    "# example of ARCH model\n",
    "from random import gauss\n",
    "from random import seed\n",
    "from matplotlib import pyplot\n",
    "from arch import arch_model\n",
    "# seed pseudorandom number generator\n",
    "seed(1)\n",
    "# create dataset\n",
    "data = [gauss(0, i*0.01) for i in range(0,100)]\n",
    "# split into train/test\n",
    "n_test = 10\n",
    "train, test = data[:-n_test], data[-n_test:]\n",
    "# define model\n",
    "model = arch_model(train, mean='Zero', vol='GARCH', p=15, q=15)\n",
    "# fit model\n",
    "model_fit = model.fit()\n",
    "# forecast the test set\n",
    "yhat = model_fit.forecast(horizon=n_test)\n",
    "# plot the actual variance\n",
    "var = [i*0.01 for i in range(0,100)]\n",
    "pyplot.plot(var[-n_test:])\n",
    "# plot forecast variance\n",
    "pyplot.plot(yhat.variance.values[-1, :])\n",
    "pyplot.show()"
   ]
  },
  {
   "cell_type": "markdown",
   "metadata": {},
   "source": [
    "# SES\n",
    "- Simple Exponential Smoothing"
   ]
  },
  {
   "cell_type": "code",
   "execution_count": 22,
   "metadata": {},
   "outputs": [
    {
     "name": "stdout",
     "output_type": "stream",
     "text": [
      "[99.66183441]\n"
     ]
    }
   ],
   "source": [
    "# SES example\n",
    "from statsmodels.tsa.holtwinters import SimpleExpSmoothing\n",
    "from random import random\n",
    "# contrived dataset\n",
    "data = [x + random() for x in range(1, 100)]\n",
    "# fit model\n",
    "model = SimpleExpSmoothing(data)\n",
    "model_fit = model.fit()\n",
    "# make prediction\n",
    "yhat = model_fit.predict(len(data), len(data))\n",
    "print(yhat)"
   ]
  },
  {
   "cell_type": "markdown",
   "metadata": {},
   "source": [
    "# HWES\n",
    "- Simple Exponential Smoothing"
   ]
  },
  {
   "cell_type": "code",
   "execution_count": 21,
   "metadata": {
    "scrolled": true
   },
   "outputs": [
    {
     "name": "stdout",
     "output_type": "stream",
     "text": [
      "[99.29607266]\n"
     ]
    }
   ],
   "source": [
    "# HWES example\n",
    "from statsmodels.tsa.holtwinters import ExponentialSmoothing\n",
    "from random import random\n",
    "# contrived dataset\n",
    "data = [x + random() for x in range(1, 100)]\n",
    "# fit model\n",
    "model = ExponentialSmoothing(data)\n",
    "model_fit = model.fit()\n",
    "# make prediction\n",
    "yhat = model_fit.predict(len(data), len(data))\n",
    "print(yhat)"
   ]
  },
  {
   "cell_type": "markdown",
   "metadata": {},
   "source": [
    "# LSTM"
   ]
  },
  {
   "cell_type": "markdown",
   "metadata": {},
   "source": [
    "# GRU"
   ]
  },
  {
   "cell_type": "markdown",
   "metadata": {},
   "source": [
    "\n",
    "# Reference"
   ]
  },
  {
   "cell_type": "markdown",
   "metadata": {},
   "source": [
    "- https://machinelearningmastery.com/time-series-forecasting-methods-in-python-cheat-sheet/\n",
    "- https://machinelearningmastery.com/develop-arch-and-garch-models-for-time-series-forecasting-in-python/\n",
    "- Forecasting: Principles and Practice - Rob J Hyndman and George Athanasopoulos\n",
    "- http://econ22.hosting.paran.com/metric2/applied_timeseries_III.pdf\n"
   ]
  },
  {
   "cell_type": "code",
   "execution_count": null,
   "metadata": {},
   "outputs": [],
   "source": []
  }
 ],
 "metadata": {
  "kernelspec": {
   "display_name": "Python 3",
   "language": "python",
   "name": "python3"
  },
  "language_info": {
   "codemirror_mode": {
    "name": "ipython",
    "version": 3
   },
   "file_extension": ".py",
   "mimetype": "text/x-python",
   "name": "python",
   "nbconvert_exporter": "python",
   "pygments_lexer": "ipython3",
   "version": "3.7.4"
  },
  "toc": {
   "base_numbering": 1,
   "nav_menu": {},
   "number_sections": true,
   "sideBar": true,
   "skip_h1_title": false,
   "title_cell": "Table of Contents",
   "title_sidebar": "Contents",
   "toc_cell": false,
   "toc_position": {
    "height": "calc(100% - 180px)",
    "left": "10px",
    "top": "150px",
    "width": "284.913px"
   },
   "toc_section_display": true,
   "toc_window_display": true
  }
 },
 "nbformat": 4,
 "nbformat_minor": 4
}
