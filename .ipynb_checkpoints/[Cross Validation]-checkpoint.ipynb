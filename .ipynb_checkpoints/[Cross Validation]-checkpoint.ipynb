{
 "cells": [
  {
   "cell_type": "code",
   "execution_count": 1,
   "metadata": {},
   "outputs": [],
   "source": [
    "from IPython.display import Image"
   ]
  },
  {
   "cell_type": "code",
   "execution_count": 2,
   "metadata": {},
   "outputs": [],
   "source": [
    "from sklearn.datasets import load_boston\n",
    "import pandas as pd\n",
    "boston = load_boston() \n",
    "X = pd.DataFrame(boston.data, columns=boston.feature_names)\n",
    "y = pd.DataFrame(boston.target, columns=[\"MEDV\"])\n",
    "df = pd.concat([X, y], axis=1)"
   ]
  },
  {
   "cell_type": "code",
   "execution_count": 3,
   "metadata": {
    "scrolled": true
   },
   "outputs": [
    {
     "data": {
      "text/html": [
       "<div>\n",
       "<style scoped>\n",
       "    .dataframe tbody tr th:only-of-type {\n",
       "        vertical-align: middle;\n",
       "    }\n",
       "\n",
       "    .dataframe tbody tr th {\n",
       "        vertical-align: top;\n",
       "    }\n",
       "\n",
       "    .dataframe thead th {\n",
       "        text-align: right;\n",
       "    }\n",
       "</style>\n",
       "<table border=\"1\" class=\"dataframe\">\n",
       "  <thead>\n",
       "    <tr style=\"text-align: right;\">\n",
       "      <th></th>\n",
       "      <th>CRIM</th>\n",
       "      <th>ZN</th>\n",
       "      <th>INDUS</th>\n",
       "      <th>CHAS</th>\n",
       "      <th>NOX</th>\n",
       "      <th>RM</th>\n",
       "      <th>AGE</th>\n",
       "      <th>DIS</th>\n",
       "      <th>RAD</th>\n",
       "      <th>TAX</th>\n",
       "      <th>PTRATIO</th>\n",
       "      <th>B</th>\n",
       "      <th>LSTAT</th>\n",
       "      <th>MEDV</th>\n",
       "    </tr>\n",
       "  </thead>\n",
       "  <tbody>\n",
       "    <tr>\n",
       "      <th>0</th>\n",
       "      <td>0.00632</td>\n",
       "      <td>18.0</td>\n",
       "      <td>2.31</td>\n",
       "      <td>0.0</td>\n",
       "      <td>0.538</td>\n",
       "      <td>6.575</td>\n",
       "      <td>65.2</td>\n",
       "      <td>4.0900</td>\n",
       "      <td>1.0</td>\n",
       "      <td>296.0</td>\n",
       "      <td>15.3</td>\n",
       "      <td>396.90</td>\n",
       "      <td>4.98</td>\n",
       "      <td>24.0</td>\n",
       "    </tr>\n",
       "    <tr>\n",
       "      <th>1</th>\n",
       "      <td>0.02731</td>\n",
       "      <td>0.0</td>\n",
       "      <td>7.07</td>\n",
       "      <td>0.0</td>\n",
       "      <td>0.469</td>\n",
       "      <td>6.421</td>\n",
       "      <td>78.9</td>\n",
       "      <td>4.9671</td>\n",
       "      <td>2.0</td>\n",
       "      <td>242.0</td>\n",
       "      <td>17.8</td>\n",
       "      <td>396.90</td>\n",
       "      <td>9.14</td>\n",
       "      <td>21.6</td>\n",
       "    </tr>\n",
       "    <tr>\n",
       "      <th>2</th>\n",
       "      <td>0.02729</td>\n",
       "      <td>0.0</td>\n",
       "      <td>7.07</td>\n",
       "      <td>0.0</td>\n",
       "      <td>0.469</td>\n",
       "      <td>7.185</td>\n",
       "      <td>61.1</td>\n",
       "      <td>4.9671</td>\n",
       "      <td>2.0</td>\n",
       "      <td>242.0</td>\n",
       "      <td>17.8</td>\n",
       "      <td>392.83</td>\n",
       "      <td>4.03</td>\n",
       "      <td>34.7</td>\n",
       "    </tr>\n",
       "    <tr>\n",
       "      <th>3</th>\n",
       "      <td>0.03237</td>\n",
       "      <td>0.0</td>\n",
       "      <td>2.18</td>\n",
       "      <td>0.0</td>\n",
       "      <td>0.458</td>\n",
       "      <td>6.998</td>\n",
       "      <td>45.8</td>\n",
       "      <td>6.0622</td>\n",
       "      <td>3.0</td>\n",
       "      <td>222.0</td>\n",
       "      <td>18.7</td>\n",
       "      <td>394.63</td>\n",
       "      <td>2.94</td>\n",
       "      <td>33.4</td>\n",
       "    </tr>\n",
       "    <tr>\n",
       "      <th>4</th>\n",
       "      <td>0.06905</td>\n",
       "      <td>0.0</td>\n",
       "      <td>2.18</td>\n",
       "      <td>0.0</td>\n",
       "      <td>0.458</td>\n",
       "      <td>7.147</td>\n",
       "      <td>54.2</td>\n",
       "      <td>6.0622</td>\n",
       "      <td>3.0</td>\n",
       "      <td>222.0</td>\n",
       "      <td>18.7</td>\n",
       "      <td>396.90</td>\n",
       "      <td>5.33</td>\n",
       "      <td>36.2</td>\n",
       "    </tr>\n",
       "    <tr>\n",
       "      <th>...</th>\n",
       "      <td>...</td>\n",
       "      <td>...</td>\n",
       "      <td>...</td>\n",
       "      <td>...</td>\n",
       "      <td>...</td>\n",
       "      <td>...</td>\n",
       "      <td>...</td>\n",
       "      <td>...</td>\n",
       "      <td>...</td>\n",
       "      <td>...</td>\n",
       "      <td>...</td>\n",
       "      <td>...</td>\n",
       "      <td>...</td>\n",
       "      <td>...</td>\n",
       "    </tr>\n",
       "    <tr>\n",
       "      <th>501</th>\n",
       "      <td>0.06263</td>\n",
       "      <td>0.0</td>\n",
       "      <td>11.93</td>\n",
       "      <td>0.0</td>\n",
       "      <td>0.573</td>\n",
       "      <td>6.593</td>\n",
       "      <td>69.1</td>\n",
       "      <td>2.4786</td>\n",
       "      <td>1.0</td>\n",
       "      <td>273.0</td>\n",
       "      <td>21.0</td>\n",
       "      <td>391.99</td>\n",
       "      <td>9.67</td>\n",
       "      <td>22.4</td>\n",
       "    </tr>\n",
       "    <tr>\n",
       "      <th>502</th>\n",
       "      <td>0.04527</td>\n",
       "      <td>0.0</td>\n",
       "      <td>11.93</td>\n",
       "      <td>0.0</td>\n",
       "      <td>0.573</td>\n",
       "      <td>6.120</td>\n",
       "      <td>76.7</td>\n",
       "      <td>2.2875</td>\n",
       "      <td>1.0</td>\n",
       "      <td>273.0</td>\n",
       "      <td>21.0</td>\n",
       "      <td>396.90</td>\n",
       "      <td>9.08</td>\n",
       "      <td>20.6</td>\n",
       "    </tr>\n",
       "    <tr>\n",
       "      <th>503</th>\n",
       "      <td>0.06076</td>\n",
       "      <td>0.0</td>\n",
       "      <td>11.93</td>\n",
       "      <td>0.0</td>\n",
       "      <td>0.573</td>\n",
       "      <td>6.976</td>\n",
       "      <td>91.0</td>\n",
       "      <td>2.1675</td>\n",
       "      <td>1.0</td>\n",
       "      <td>273.0</td>\n",
       "      <td>21.0</td>\n",
       "      <td>396.90</td>\n",
       "      <td>5.64</td>\n",
       "      <td>23.9</td>\n",
       "    </tr>\n",
       "    <tr>\n",
       "      <th>504</th>\n",
       "      <td>0.10959</td>\n",
       "      <td>0.0</td>\n",
       "      <td>11.93</td>\n",
       "      <td>0.0</td>\n",
       "      <td>0.573</td>\n",
       "      <td>6.794</td>\n",
       "      <td>89.3</td>\n",
       "      <td>2.3889</td>\n",
       "      <td>1.0</td>\n",
       "      <td>273.0</td>\n",
       "      <td>21.0</td>\n",
       "      <td>393.45</td>\n",
       "      <td>6.48</td>\n",
       "      <td>22.0</td>\n",
       "    </tr>\n",
       "    <tr>\n",
       "      <th>505</th>\n",
       "      <td>0.04741</td>\n",
       "      <td>0.0</td>\n",
       "      <td>11.93</td>\n",
       "      <td>0.0</td>\n",
       "      <td>0.573</td>\n",
       "      <td>6.030</td>\n",
       "      <td>80.8</td>\n",
       "      <td>2.5050</td>\n",
       "      <td>1.0</td>\n",
       "      <td>273.0</td>\n",
       "      <td>21.0</td>\n",
       "      <td>396.90</td>\n",
       "      <td>7.88</td>\n",
       "      <td>11.9</td>\n",
       "    </tr>\n",
       "  </tbody>\n",
       "</table>\n",
       "<p>506 rows × 14 columns</p>\n",
       "</div>"
      ],
      "text/plain": [
       "        CRIM    ZN  INDUS  CHAS    NOX     RM   AGE     DIS  RAD    TAX  \\\n",
       "0    0.00632  18.0   2.31   0.0  0.538  6.575  65.2  4.0900  1.0  296.0   \n",
       "1    0.02731   0.0   7.07   0.0  0.469  6.421  78.9  4.9671  2.0  242.0   \n",
       "2    0.02729   0.0   7.07   0.0  0.469  7.185  61.1  4.9671  2.0  242.0   \n",
       "3    0.03237   0.0   2.18   0.0  0.458  6.998  45.8  6.0622  3.0  222.0   \n",
       "4    0.06905   0.0   2.18   0.0  0.458  7.147  54.2  6.0622  3.0  222.0   \n",
       "..       ...   ...    ...   ...    ...    ...   ...     ...  ...    ...   \n",
       "501  0.06263   0.0  11.93   0.0  0.573  6.593  69.1  2.4786  1.0  273.0   \n",
       "502  0.04527   0.0  11.93   0.0  0.573  6.120  76.7  2.2875  1.0  273.0   \n",
       "503  0.06076   0.0  11.93   0.0  0.573  6.976  91.0  2.1675  1.0  273.0   \n",
       "504  0.10959   0.0  11.93   0.0  0.573  6.794  89.3  2.3889  1.0  273.0   \n",
       "505  0.04741   0.0  11.93   0.0  0.573  6.030  80.8  2.5050  1.0  273.0   \n",
       "\n",
       "     PTRATIO       B  LSTAT  MEDV  \n",
       "0       15.3  396.90   4.98  24.0  \n",
       "1       17.8  396.90   9.14  21.6  \n",
       "2       17.8  392.83   4.03  34.7  \n",
       "3       18.7  394.63   2.94  33.4  \n",
       "4       18.7  396.90   5.33  36.2  \n",
       "..       ...     ...    ...   ...  \n",
       "501     21.0  391.99   9.67  22.4  \n",
       "502     21.0  396.90   9.08  20.6  \n",
       "503     21.0  396.90   5.64  23.9  \n",
       "504     21.0  393.45   6.48  22.0  \n",
       "505     21.0  396.90   7.88  11.9  \n",
       "\n",
       "[506 rows x 14 columns]"
      ]
     },
     "execution_count": 3,
     "metadata": {},
     "output_type": "execute_result"
    }
   ],
   "source": [
    "df\n",
    "# 데이터는 보스턴 집값예측으로, MEDV 를 예측해야한다. 곁측치가 하나도 없는 데이터임."
   ]
  },
  {
   "cell_type": "markdown",
   "metadata": {},
   "source": [
    "# Train_test_Split"
   ]
  },
  {
   "cell_type": "markdown",
   "metadata": {},
   "source": [
    "- Train_test_split 을 할 때에도 y 의 클래스에 따라서 그 클래스의 비율을 유지하게 할 수 있다."
   ]
  },
  {
   "cell_type": "code",
   "execution_count": 37,
   "metadata": {},
   "outputs": [],
   "source": [
    "from sklearn.datasets import load_iris\n",
    "iris = load_iris()\n",
    "X = pd.DataFrame(iris.data, columns=iris.feature_names)\n",
    "y = pd.Series(iris.target, dtype=\"category\")"
   ]
  },
  {
   "cell_type": "code",
   "execution_count": 38,
   "metadata": {},
   "outputs": [],
   "source": [
    "from sklearn.model_selection import train_test_split\n",
    "X_train, X_val, y_train, y_val = train_test_split(X, y, test_size=0.20, random_state=0,stratify=y)"
   ]
  },
  {
   "cell_type": "code",
   "execution_count": 39,
   "metadata": {},
   "outputs": [
    {
     "data": {
      "text/plain": [
       "2    40\n",
       "1    40\n",
       "0    40\n",
       "dtype: int64"
      ]
     },
     "execution_count": 39,
     "metadata": {},
     "output_type": "execute_result"
    }
   ],
   "source": [
    "y_train.value_counts()"
   ]
  },
  {
   "cell_type": "code",
   "execution_count": 40,
   "metadata": {},
   "outputs": [
    {
     "data": {
      "text/plain": [
       "2    10\n",
       "1    10\n",
       "0    10\n",
       "dtype: int64"
      ]
     },
     "execution_count": 40,
     "metadata": {},
     "output_type": "execute_result"
    }
   ],
   "source": [
    "y_val.value_counts()"
   ]
  },
  {
   "cell_type": "markdown",
   "metadata": {},
   "source": [
    "# K-folds"
   ]
  },
  {
   "cell_type": "markdown",
   "metadata": {},
   "source": [
    "## Shuffle = False"
   ]
  },
  {
   "cell_type": "code",
   "execution_count": 4,
   "metadata": {},
   "outputs": [
    {
     "data": {
      "image/png": "[encoded data removed]",
      "text/plain": [
       "<IPython.core.display.Image object>"
      ]
     },
     "execution_count": 4,
     "metadata": {},
     "output_type": "execute_result"
    }
   ],
   "source": [
    "Image('Pictures/Cross Validation1.png')\n",
    "# 아래 처럼 K-fold 는 Testing 과 Training 을 나눌 뿐, class 의 비율 등에 관심을 가지지 않는다."
   ]
  },
  {
   "cell_type": "code",
   "execution_count": 9,
   "metadata": {
    "scrolled": false
   },
   "outputs": [
    {
     "name": "stdout",
     "output_type": "stream",
     "text": [
      "(8, 4) (8,)\n",
      "\n",
      "KFold**************\n",
      "train index: [2 3 4 5 6 7] validate index: [0 1]\n",
      "train data\n",
      "[[21 22 23 24]\n",
      " [31 32 33 34]\n",
      " [41 42 43 44]\n",
      " [51 52 53 54]\n",
      " [61 62 63 64]\n",
      " [71 72 73 74]] [0 0 0 0 0 0]\n",
      "validate data\n",
      "[[ 1  2  3  4]\n",
      " [11 12 13 14]] [0 0]\n",
      "train index: [0 1 4 5 6 7] validate index: [2 3]\n",
      "train data\n",
      "[[ 1  2  3  4]\n",
      " [11 12 13 14]\n",
      " [41 42 43 44]\n",
      " [51 52 53 54]\n",
      " [61 62 63 64]\n",
      " [71 72 73 74]] [0 0 0 0 0 0]\n",
      "validate data\n",
      "[[21 22 23 24]\n",
      " [31 32 33 34]] [0 0]\n",
      "train index: [0 1 2 3 6 7] validate index: [4 5]\n",
      "train data\n",
      "[[ 1  2  3  4]\n",
      " [11 12 13 14]\n",
      " [21 22 23 24]\n",
      " [31 32 33 34]\n",
      " [61 62 63 64]\n",
      " [71 72 73 74]] [0 0 0 0 0 0]\n",
      "validate data\n",
      "[[41 42 43 44]\n",
      " [51 52 53 54]] [0 0]\n",
      "train index: [0 1 2 3 4 5] validate index: [6 7]\n",
      "train data\n",
      "[[ 1  2  3  4]\n",
      " [11 12 13 14]\n",
      " [21 22 23 24]\n",
      " [31 32 33 34]\n",
      " [41 42 43 44]\n",
      " [51 52 53 54]] [0 0 0 0 0 0]\n",
      "validate data\n",
      "[[61 62 63 64]\n",
      " [71 72 73 74]] [0 0]\n"
     ]
    }
   ],
   "source": [
    "import numpy as np\n",
    "from sklearn.model_selection import StratifiedKFold\n",
    "from sklearn.model_selection import KFold\n",
    "\n",
    "X=np.array([\n",
    "    [ 1, 2, 3, 4],\n",
    "    [11,12,13,14],\n",
    "    [21,22,23,24],\n",
    "    [31,32,33,34],\n",
    "    [41,42,43,44],\n",
    "    [51,52,53,54],\n",
    "    [61,62,63,64],\n",
    "    [71,72,73,74]\n",
    "])\n",
    "\n",
    "y=np.array([0,0,0,0,0,0,0,0])\n",
    "\n",
    "kfold = KFold(n_splits=4,shuffle=False) \n",
    "# suffle 을 false 로 두고 돌리게 되면, 아래와 같이 validation 이 그냥 순차적으로 짤리게 된다.\n",
    "print(X.shape, y.shape)\n",
    "\n",
    "print(\"\\nKFold**************\")\n",
    "for train_index, validate_index in kfold.split(X):\n",
    "    # kfold 는 2개의 index 를 내뱉는데, 그건 train index 와 test index 이다. \n",
    "    # 그 두개의 인덱스를 아래와 같이 train, validation 으로 구분하여서 받게 되면 우리가 원하는 X_train/test 가 되는것이다.\n",
    "    print(\"train index:\", train_index, \"validate index:\", validate_index)\n",
    "    # train_dindex 와 validation index 를 list 형태로 받게된다.\n",
    "    X_train, X_validate = X[train_index], X[validate_index]\n",
    "    y_train, y_validate = y[train_index], y[validate_index]\n",
    "    print(\"train data\")\n",
    "    print(X_train, y_train)\n",
    "    print(\"validate data\")\n",
    "    print(X_validate, y_validate)\n",
    "    # 이제 이 부분에서 fitting 과, 평가를 진행하고, 그 에러를 n_splits 만큼 나누게 된다면 cv 를 진행한것이 된다."
   ]
  },
  {
   "cell_type": "markdown",
   "metadata": {},
   "source": [
    "## Shuffle = True"
   ]
  },
  {
   "cell_type": "markdown",
   "metadata": {},
   "source": [
    "- Shuffle 을 True 로 놓게 된다면, 우리가 사전에 정의한 random state 에 따라서, index 들을 랜덤하게 나누게 된다.\n",
    "- 이때 Cross validation 에 들어갓던 index 들은 그 이후 set에서 나오지 않는다.\n",
    "    - 즉 validation index 가 겹치지 않는다는것"
   ]
  },
  {
   "cell_type": "code",
   "execution_count": 10,
   "metadata": {
    "scrolled": true
   },
   "outputs": [
    {
     "name": "stdout",
     "output_type": "stream",
     "text": [
      "(8, 4) (8,)\n",
      "\n",
      "KFold**************\n",
      "train index: [0 1 3 4 5 7] validate index: [2 6]\n",
      "train data\n",
      "[[ 1  2  3  4]\n",
      " [11 12 13 14]\n",
      " [31 32 33 34]\n",
      " [41 42 43 44]\n",
      " [51 52 53 54]\n",
      " [71 72 73 74]] [0 0 0 0 0 0]\n",
      "validate data\n",
      "[[21 22 23 24]\n",
      " [61 62 63 64]] [0 0]\n",
      "train index: [0 2 3 4 5 6] validate index: [1 7]\n",
      "train data\n",
      "[[ 1  2  3  4]\n",
      " [21 22 23 24]\n",
      " [31 32 33 34]\n",
      " [41 42 43 44]\n",
      " [51 52 53 54]\n",
      " [61 62 63 64]] [0 0 0 0 0 0]\n",
      "validate data\n",
      "[[11 12 13 14]\n",
      " [71 72 73 74]] [0 0]\n",
      "train index: [1 2 4 5 6 7] validate index: [0 3]\n",
      "train data\n",
      "[[11 12 13 14]\n",
      " [21 22 23 24]\n",
      " [41 42 43 44]\n",
      " [51 52 53 54]\n",
      " [61 62 63 64]\n",
      " [71 72 73 74]] [0 0 0 0 0 0]\n",
      "validate data\n",
      "[[ 1  2  3  4]\n",
      " [31 32 33 34]] [0 0]\n",
      "train index: [0 1 2 3 6 7] validate index: [4 5]\n",
      "train data\n",
      "[[ 1  2  3  4]\n",
      " [11 12 13 14]\n",
      " [21 22 23 24]\n",
      " [31 32 33 34]\n",
      " [61 62 63 64]\n",
      " [71 72 73 74]] [0 0 0 0 0 0]\n",
      "validate data\n",
      "[[41 42 43 44]\n",
      " [51 52 53 54]] [0 0]\n"
     ]
    }
   ],
   "source": [
    "kfold = KFold(n_splits=4,random_state=0,shuffle=True) \n",
    "# suffle 을 false 로 두고 돌리게 되면, 아래와 같이 validation 이 그냥 순차적으로 짤리게 된다.\n",
    "print(X.shape, y.shape)\n",
    "\n",
    "print(\"\\nKFold**************\")\n",
    "for train_index, validate_index in kfold.split(X):\n",
    "    print(\"train index:\", train_index, \"validate index:\", validate_index)\n",
    "    X_train, X_validate = X[train_index], X[validate_index]\n",
    "    y_train, y_validate = y[train_index], y[validate_index]\n",
    "    print(\"train data\")\n",
    "    print(X_train, y_train)\n",
    "    print(\"validate data\")\n",
    "    print(X_validate, y_validate)"
   ]
  },
  {
   "cell_type": "markdown",
   "metadata": {},
   "source": [
    "# Shuffle & Split"
   ]
  },
  {
   "cell_type": "markdown",
   "metadata": {},
   "source": [
    "- 각 index 들을 shuffle 한 이후에 랜덤하게 뽑는다는 의미이다\n",
    "- 전에 쓴 인덱스 들도, 다시 사용하는게 가능하다. \n",
    "- 그에 따라서 인덱스 겹침 현상이 나타나고, 중복된 데이터를 사용하는 현상이 나타날 수 있다."
   ]
  },
  {
   "cell_type": "code",
   "execution_count": 11,
   "metadata": {
    "scrolled": false
   },
   "outputs": [
    {
     "data": {
      "image/png": "[encoded data removed]",
      "text/plain": [
       "<IPython.core.display.Image object>"
      ]
     },
     "execution_count": 11,
     "metadata": {},
     "output_type": "execute_result"
    }
   ],
   "source": [
    "Image('Pictures/Cross Validation2.png')\n",
    "# 아래 처럼 Shuffle/split 은 인덱스가 '겹칠' 수 있다."
   ]
  },
  {
   "cell_type": "code",
   "execution_count": 13,
   "metadata": {},
   "outputs": [],
   "source": [
    "from sklearn.model_selection import ShuffleSplit"
   ]
  },
  {
   "cell_type": "code",
   "execution_count": 14,
   "metadata": {
    "scrolled": false
   },
   "outputs": [
    {
     "name": "stdout",
     "output_type": "stream",
     "text": [
      "(8, 4) (8,)\n",
      "\n",
      "KFold**************\n",
      "train index: [1 7 3 0 5 4] validate index: [6 2]\n",
      "train data\n",
      "[[11 12 13 14]\n",
      " [71 72 73 74]\n",
      " [31 32 33 34]\n",
      " [ 1  2  3  4]\n",
      " [51 52 53 54]\n",
      " [41 42 43 44]] [0 0 0 0 0 0]\n",
      "validate data\n",
      "[[61 62 63 64]\n",
      " [21 22 23 24]] [0 0]\n",
      "train index: [3 7 0 4 2 5] validate index: [1 6]\n",
      "train data\n",
      "[[31 32 33 34]\n",
      " [71 72 73 74]\n",
      " [ 1  2  3  4]\n",
      " [41 42 43 44]\n",
      " [21 22 23 24]\n",
      " [51 52 53 54]] [0 0 0 0 0 0]\n",
      "validate data\n",
      "[[11 12 13 14]\n",
      " [61 62 63 64]] [0 0]\n",
      "train index: [3 4 7 0 6 1] validate index: [5 2]\n",
      "train data\n",
      "[[31 32 33 34]\n",
      " [41 42 43 44]\n",
      " [71 72 73 74]\n",
      " [ 1  2  3  4]\n",
      " [61 62 63 64]\n",
      " [11 12 13 14]] [0 0 0 0 0 0]\n",
      "validate data\n",
      "[[51 52 53 54]\n",
      " [21 22 23 24]] [0 0]\n",
      "train index: [6 7 3 4 1 0] validate index: [2 5]\n",
      "train data\n",
      "[[61 62 63 64]\n",
      " [71 72 73 74]\n",
      " [31 32 33 34]\n",
      " [41 42 43 44]\n",
      " [11 12 13 14]\n",
      " [ 1  2  3  4]] [0 0 0 0 0 0]\n",
      "validate data\n",
      "[[21 22 23 24]\n",
      " [51 52 53 54]] [0 0]\n"
     ]
    }
   ],
   "source": [
    "shuffle = ShuffleSplit(n_splits=4,random_state=0,test_size=0.25) \n",
    "print(X.shape, y.shape)\n",
    "\n",
    "print(\"\\nKFold**************\")\n",
    "for train_index, validate_index in shuffle.split(X):\n",
    "    print(\"train index:\", train_index, \"validate index:\", validate_index)\n",
    "    X_train, X_validate = X[train_index], X[validate_index]\n",
    "    y_train, y_validate = y[train_index], y[validate_index]\n",
    "    print(\"train data\")\n",
    "    print(X_train, y_train)\n",
    "    print(\"validate data\")\n",
    "    print(X_validate, y_validate)"
   ]
  },
  {
   "cell_type": "markdown",
   "metadata": {},
   "source": [
    "# StratifiedKFold"
   ]
  },
  {
   "cell_type": "markdown",
   "metadata": {},
   "source": [
    "- 우리의 target 이 categorical 일 때에만 사용한다. regression 일 때에는 kfold 를 써야함."
   ]
  },
  {
   "cell_type": "code",
   "execution_count": 15,
   "metadata": {},
   "outputs": [
    {
     "data": {
      "image/png": "[encoded data removed]",
      "text/plain": [
       "<IPython.core.display.Image object>"
      ]
     },
     "execution_count": 15,
     "metadata": {},
     "output_type": "execute_result"
    }
   ],
   "source": [
    "Image('Pictures/Cross Validation3.png')"
   ]
  },
  {
   "cell_type": "markdown",
   "metadata": {},
   "source": [
    "- 나눌때 최대한 class, group 등에 대한 분포를 유지한 채로 Testing 과 training 을 나누려고 한다."
   ]
  },
  {
   "cell_type": "code",
   "execution_count": 16,
   "metadata": {
    "scrolled": true
   },
   "outputs": [
    {
     "name": "stdout",
     "output_type": "stream",
     "text": [
      "(8, 4) (8,)\n",
      "\n",
      "StratifiedKFold**************\n",
      "train index: [0 1 3 4 6 7] validate index: [2 5]\n",
      "train data\n",
      "[[ 1  2  3  4]\n",
      " [11 12 13 14]\n",
      " [31 32 33 34]\n",
      " [41 42 43 44]\n",
      " [61 62 63 64]\n",
      " [71 72 73 74]] [0 0 0 0 0 0]\n",
      "validate data\n",
      "[[21 22 23 24]\n",
      " [51 52 53 54]] [0 0]\n",
      "train index: [0 2 3 5 6 7] validate index: [1 4]\n",
      "train data\n",
      "[[ 1  2  3  4]\n",
      " [21 22 23 24]\n",
      " [31 32 33 34]\n",
      " [51 52 53 54]\n",
      " [61 62 63 64]\n",
      " [71 72 73 74]] [0 0 0 0 0 0]\n",
      "validate data\n",
      "[[11 12 13 14]\n",
      " [41 42 43 44]] [0 0]\n",
      "train index: [0 1 2 3 4 5] validate index: [6 7]\n",
      "train data\n",
      "[[ 1  2  3  4]\n",
      " [11 12 13 14]\n",
      " [21 22 23 24]\n",
      " [31 32 33 34]\n",
      " [41 42 43 44]\n",
      " [51 52 53 54]] [0 0 0 0 0 0]\n",
      "validate data\n",
      "[[61 62 63 64]\n",
      " [71 72 73 74]] [0 0]\n",
      "train index: [1 2 4 5 6 7] validate index: [0 3]\n",
      "train data\n",
      "[[11 12 13 14]\n",
      " [21 22 23 24]\n",
      " [41 42 43 44]\n",
      " [51 52 53 54]\n",
      " [61 62 63 64]\n",
      " [71 72 73 74]] [0 0 0 0 0 0]\n",
      "validate data\n",
      "[[ 1  2  3  4]\n",
      " [31 32 33 34]] [0 0]\n"
     ]
    }
   ],
   "source": [
    "stratifiedkfold = StratifiedKFold(n_splits=4,random_state=0,shuffle=True)\n",
    "print(X.shape, y.shape)\n",
    "\n",
    "print(\"\\nStratifiedKFold**************\")\n",
    "for train_index, validate_index in stratifiedkfold.split(X,y):\n",
    "    print(\"train index:\", train_index, \"validate index:\", validate_index)\n",
    "    X_train, X_validate = X[train_index], X[validate_index]\n",
    "    y_train, y_validate = y[train_index], y[validate_index]\n",
    "    print(\"train data\")\n",
    "    print(X_train, y_train)\n",
    "    print(\"validate data\")\n",
    "    print(X_validate, y_validate)"
   ]
  },
  {
   "cell_type": "code",
   "execution_count": 17,
   "metadata": {},
   "outputs": [],
   "source": [
    "# 아래와 같이 y 의 클래스가 3개 인 0 값이 있고, 이 값은 4보다 작아서 에러가 난다.\n",
    "# 어쩃든 split 이, class 의 수 보다 많은 상황인데 이런 상황은 매우 드물어서(실제데이터는 거의 몇만개인데 당연히 각 정답 클래스는 적어도 10개 이상일것. 그리고 split 의 수도 대게 5개만 쓰므로) \n",
    "# 그냥 알아두기만 하자. "
   ]
  },
  {
   "cell_type": "code",
   "execution_count": 18,
   "metadata": {
    "scrolled": false
   },
   "outputs": [
    {
     "name": "stdout",
     "output_type": "stream",
     "text": [
      "\n",
      "StratifiedKFold**************\n"
     ]
    },
    {
     "ename": "ValueError",
     "evalue": "n_splits=4 cannot be greater than the number of members in each class.",
     "output_type": "error",
     "traceback": [
      "\u001b[1;31m---------------------------------------------------------------------------\u001b[0m",
      "\u001b[1;31mValueError\u001b[0m                                Traceback (most recent call last)",
      "\u001b[1;32m<ipython-input-18-73b24ad0cdca>\u001b[0m in \u001b[0;36m<module>\u001b[1;34m\u001b[0m\n\u001b[0;32m      1\u001b[0m \u001b[0my\u001b[0m\u001b[1;33m=\u001b[0m\u001b[0mnp\u001b[0m\u001b[1;33m.\u001b[0m\u001b[0marray\u001b[0m\u001b[1;33m(\u001b[0m\u001b[1;33m[\u001b[0m\u001b[1;36m1\u001b[0m\u001b[1;33m,\u001b[0m\u001b[1;36m2\u001b[0m\u001b[1;33m,\u001b[0m\u001b[1;36m3\u001b[0m\u001b[1;33m,\u001b[0m\u001b[1;36m4\u001b[0m\u001b[1;33m,\u001b[0m\u001b[1;36m5\u001b[0m\u001b[1;33m,\u001b[0m\u001b[1;36m0\u001b[0m\u001b[1;33m,\u001b[0m\u001b[1;36m0\u001b[0m\u001b[1;33m,\u001b[0m\u001b[1;36m0\u001b[0m\u001b[1;33m]\u001b[0m\u001b[1;33m)\u001b[0m\u001b[1;33m\u001b[0m\u001b[1;33m\u001b[0m\u001b[0m\n\u001b[0;32m      2\u001b[0m \u001b[0mprint\u001b[0m\u001b[1;33m(\u001b[0m\u001b[1;34m\"\\nStratifiedKFold**************\"\u001b[0m\u001b[1;33m)\u001b[0m\u001b[1;33m\u001b[0m\u001b[1;33m\u001b[0m\u001b[0m\n\u001b[1;32m----> 3\u001b[1;33m \u001b[1;32mfor\u001b[0m \u001b[0mtrain_index\u001b[0m\u001b[1;33m,\u001b[0m \u001b[0mvalidate_index\u001b[0m \u001b[1;32min\u001b[0m \u001b[0mstratifiedkfold\u001b[0m\u001b[1;33m.\u001b[0m\u001b[0msplit\u001b[0m\u001b[1;33m(\u001b[0m\u001b[0mX\u001b[0m\u001b[1;33m,\u001b[0m\u001b[0my\u001b[0m\u001b[1;33m)\u001b[0m\u001b[1;33m:\u001b[0m\u001b[1;33m\u001b[0m\u001b[1;33m\u001b[0m\u001b[0m\n\u001b[0m\u001b[0;32m      4\u001b[0m     \u001b[0mprint\u001b[0m\u001b[1;33m(\u001b[0m\u001b[1;34m\"train index:\"\u001b[0m\u001b[1;33m,\u001b[0m \u001b[0mtrain_index\u001b[0m\u001b[1;33m,\u001b[0m \u001b[1;34m\"validate index:\"\u001b[0m\u001b[1;33m,\u001b[0m \u001b[0mvalidate_index\u001b[0m\u001b[1;33m)\u001b[0m\u001b[1;33m\u001b[0m\u001b[1;33m\u001b[0m\u001b[0m\n\u001b[0;32m      5\u001b[0m     \u001b[0mX_train\u001b[0m\u001b[1;33m,\u001b[0m \u001b[0mX_validate\u001b[0m \u001b[1;33m=\u001b[0m \u001b[0mX\u001b[0m\u001b[1;33m[\u001b[0m\u001b[0mtrain_index\u001b[0m\u001b[1;33m]\u001b[0m\u001b[1;33m,\u001b[0m \u001b[0mX\u001b[0m\u001b[1;33m[\u001b[0m\u001b[0mvalidate_index\u001b[0m\u001b[1;33m]\u001b[0m\u001b[1;33m\u001b[0m\u001b[1;33m\u001b[0m\u001b[0m\n",
      "\u001b[1;32m~\\Anaconda3\\envs\\tensor\\lib\\site-packages\\sklearn\\model_selection\\_split.py\u001b[0m in \u001b[0;36msplit\u001b[1;34m(self, X, y, groups)\u001b[0m\n\u001b[0;32m    330\u001b[0m                 .format(self.n_splits, n_samples))\n\u001b[0;32m    331\u001b[0m \u001b[1;33m\u001b[0m\u001b[0m\n\u001b[1;32m--> 332\u001b[1;33m         \u001b[1;32mfor\u001b[0m \u001b[0mtrain\u001b[0m\u001b[1;33m,\u001b[0m \u001b[0mtest\u001b[0m \u001b[1;32min\u001b[0m \u001b[0msuper\u001b[0m\u001b[1;33m(\u001b[0m\u001b[1;33m)\u001b[0m\u001b[1;33m.\u001b[0m\u001b[0msplit\u001b[0m\u001b[1;33m(\u001b[0m\u001b[0mX\u001b[0m\u001b[1;33m,\u001b[0m \u001b[0my\u001b[0m\u001b[1;33m,\u001b[0m \u001b[0mgroups\u001b[0m\u001b[1;33m)\u001b[0m\u001b[1;33m:\u001b[0m\u001b[1;33m\u001b[0m\u001b[1;33m\u001b[0m\u001b[0m\n\u001b[0m\u001b[0;32m    333\u001b[0m             \u001b[1;32myield\u001b[0m \u001b[0mtrain\u001b[0m\u001b[1;33m,\u001b[0m \u001b[0mtest\u001b[0m\u001b[1;33m\u001b[0m\u001b[1;33m\u001b[0m\u001b[0m\n\u001b[0;32m    334\u001b[0m \u001b[1;33m\u001b[0m\u001b[0m\n",
      "\u001b[1;32m~\\Anaconda3\\envs\\tensor\\lib\\site-packages\\sklearn\\model_selection\\_split.py\u001b[0m in \u001b[0;36msplit\u001b[1;34m(self, X, y, groups)\u001b[0m\n\u001b[0;32m     78\u001b[0m         \u001b[0mX\u001b[0m\u001b[1;33m,\u001b[0m \u001b[0my\u001b[0m\u001b[1;33m,\u001b[0m \u001b[0mgroups\u001b[0m \u001b[1;33m=\u001b[0m \u001b[0mindexable\u001b[0m\u001b[1;33m(\u001b[0m\u001b[0mX\u001b[0m\u001b[1;33m,\u001b[0m \u001b[0my\u001b[0m\u001b[1;33m,\u001b[0m \u001b[0mgroups\u001b[0m\u001b[1;33m)\u001b[0m\u001b[1;33m\u001b[0m\u001b[1;33m\u001b[0m\u001b[0m\n\u001b[0;32m     79\u001b[0m         \u001b[0mindices\u001b[0m \u001b[1;33m=\u001b[0m \u001b[0mnp\u001b[0m\u001b[1;33m.\u001b[0m\u001b[0marange\u001b[0m\u001b[1;33m(\u001b[0m\u001b[0m_num_samples\u001b[0m\u001b[1;33m(\u001b[0m\u001b[0mX\u001b[0m\u001b[1;33m)\u001b[0m\u001b[1;33m)\u001b[0m\u001b[1;33m\u001b[0m\u001b[1;33m\u001b[0m\u001b[0m\n\u001b[1;32m---> 80\u001b[1;33m         \u001b[1;32mfor\u001b[0m \u001b[0mtest_index\u001b[0m \u001b[1;32min\u001b[0m \u001b[0mself\u001b[0m\u001b[1;33m.\u001b[0m\u001b[0m_iter_test_masks\u001b[0m\u001b[1;33m(\u001b[0m\u001b[0mX\u001b[0m\u001b[1;33m,\u001b[0m \u001b[0my\u001b[0m\u001b[1;33m,\u001b[0m \u001b[0mgroups\u001b[0m\u001b[1;33m)\u001b[0m\u001b[1;33m:\u001b[0m\u001b[1;33m\u001b[0m\u001b[1;33m\u001b[0m\u001b[0m\n\u001b[0m\u001b[0;32m     81\u001b[0m             \u001b[0mtrain_index\u001b[0m \u001b[1;33m=\u001b[0m \u001b[0mindices\u001b[0m\u001b[1;33m[\u001b[0m\u001b[0mnp\u001b[0m\u001b[1;33m.\u001b[0m\u001b[0mlogical_not\u001b[0m\u001b[1;33m(\u001b[0m\u001b[0mtest_index\u001b[0m\u001b[1;33m)\u001b[0m\u001b[1;33m]\u001b[0m\u001b[1;33m\u001b[0m\u001b[1;33m\u001b[0m\u001b[0m\n\u001b[0;32m     82\u001b[0m             \u001b[0mtest_index\u001b[0m \u001b[1;33m=\u001b[0m \u001b[0mindices\u001b[0m\u001b[1;33m[\u001b[0m\u001b[0mtest_index\u001b[0m\u001b[1;33m]\u001b[0m\u001b[1;33m\u001b[0m\u001b[1;33m\u001b[0m\u001b[0m\n",
      "\u001b[1;32m~\\Anaconda3\\envs\\tensor\\lib\\site-packages\\sklearn\\model_selection\\_split.py\u001b[0m in \u001b[0;36m_iter_test_masks\u001b[1;34m(self, X, y, groups)\u001b[0m\n\u001b[0;32m    691\u001b[0m \u001b[1;33m\u001b[0m\u001b[0m\n\u001b[0;32m    692\u001b[0m     \u001b[1;32mdef\u001b[0m \u001b[0m_iter_test_masks\u001b[0m\u001b[1;33m(\u001b[0m\u001b[0mself\u001b[0m\u001b[1;33m,\u001b[0m \u001b[0mX\u001b[0m\u001b[1;33m,\u001b[0m \u001b[0my\u001b[0m\u001b[1;33m=\u001b[0m\u001b[1;32mNone\u001b[0m\u001b[1;33m,\u001b[0m \u001b[0mgroups\u001b[0m\u001b[1;33m=\u001b[0m\u001b[1;32mNone\u001b[0m\u001b[1;33m)\u001b[0m\u001b[1;33m:\u001b[0m\u001b[1;33m\u001b[0m\u001b[1;33m\u001b[0m\u001b[0m\n\u001b[1;32m--> 693\u001b[1;33m         \u001b[0mtest_folds\u001b[0m \u001b[1;33m=\u001b[0m \u001b[0mself\u001b[0m\u001b[1;33m.\u001b[0m\u001b[0m_make_test_folds\u001b[0m\u001b[1;33m(\u001b[0m\u001b[0mX\u001b[0m\u001b[1;33m,\u001b[0m \u001b[0my\u001b[0m\u001b[1;33m)\u001b[0m\u001b[1;33m\u001b[0m\u001b[1;33m\u001b[0m\u001b[0m\n\u001b[0m\u001b[0;32m    694\u001b[0m         \u001b[1;32mfor\u001b[0m \u001b[0mi\u001b[0m \u001b[1;32min\u001b[0m \u001b[0mrange\u001b[0m\u001b[1;33m(\u001b[0m\u001b[0mself\u001b[0m\u001b[1;33m.\u001b[0m\u001b[0mn_splits\u001b[0m\u001b[1;33m)\u001b[0m\u001b[1;33m:\u001b[0m\u001b[1;33m\u001b[0m\u001b[1;33m\u001b[0m\u001b[0m\n\u001b[0;32m    695\u001b[0m             \u001b[1;32myield\u001b[0m \u001b[0mtest_folds\u001b[0m \u001b[1;33m==\u001b[0m \u001b[0mi\u001b[0m\u001b[1;33m\u001b[0m\u001b[1;33m\u001b[0m\u001b[0m\n",
      "\u001b[1;32m~\\Anaconda3\\envs\\tensor\\lib\\site-packages\\sklearn\\model_selection\\_split.py\u001b[0m in \u001b[0;36m_make_test_folds\u001b[1;34m(self, X, y)\u001b[0m\n\u001b[0;32m    662\u001b[0m             raise ValueError(\"n_splits=%d cannot be greater than the\"\n\u001b[0;32m    663\u001b[0m                              \u001b[1;34m\" number of members in each class.\"\u001b[0m\u001b[1;33m\u001b[0m\u001b[1;33m\u001b[0m\u001b[0m\n\u001b[1;32m--> 664\u001b[1;33m                              % (self.n_splits))\n\u001b[0m\u001b[0;32m    665\u001b[0m         \u001b[1;32mif\u001b[0m \u001b[0mself\u001b[0m\u001b[1;33m.\u001b[0m\u001b[0mn_splits\u001b[0m \u001b[1;33m>\u001b[0m \u001b[0mmin_groups\u001b[0m\u001b[1;33m:\u001b[0m\u001b[1;33m\u001b[0m\u001b[1;33m\u001b[0m\u001b[0m\n\u001b[0;32m    666\u001b[0m             warnings.warn((\"The least populated class in y has only %d\"\n",
      "\u001b[1;31mValueError\u001b[0m: n_splits=4 cannot be greater than the number of members in each class."
     ]
    }
   ],
   "source": [
    "y=np.array([1,2,3,4,5,0,0,0])\n",
    "print(\"\\nStratifiedKFold**************\")\n",
    "for train_index, validate_index in stratifiedkfold.split(X,y):\n",
    "    print(\"train index:\", train_index, \"validate index:\", validate_index)\n",
    "    X_train, X_validate = X[train_index], X[validate_index]\n",
    "    y_train, y_validate = y[train_index], y[validate_index]\n",
    "    print(\"train data\")\n",
    "    print(X_train, y_train)\n",
    "    print(\"validate data\")\n",
    "    print(X_validate, y_validate)"
   ]
  },
  {
   "cell_type": "markdown",
   "metadata": {},
   "source": [
    "# 실제 적용"
   ]
  },
  {
   "cell_type": "markdown",
   "metadata": {},
   "source": [
    "## 모듈 import"
   ]
  },
  {
   "cell_type": "code",
   "execution_count": 20,
   "metadata": {},
   "outputs": [],
   "source": [
    "import numpy as np \n",
    "import pandas as pd \n",
    "import os\n",
    "\n",
    "from scipy import stats\n",
    "from sklearn.model_selection import KFold\n",
    "\n",
    "import lightgbm as lgb\n",
    "import xgboost as xgb\n",
    "from catboost import CatBoostRegressor\n",
    "\n",
    "from sklearn import linear_model\n",
    "\n",
    "import datetime"
   ]
  },
  {
   "cell_type": "code",
   "execution_count": 87,
   "metadata": {
    "scrolled": true
   },
   "outputs": [],
   "source": [
    "train = df[:400] \n",
    "test = df[400:]"
   ]
  },
  {
   "cell_type": "code",
   "execution_count": 96,
   "metadata": {},
   "outputs": [],
   "source": [
    "# 훈련용 데이터 준비\n",
    "x_train = train.iloc[:,:-1]\n",
    "y_train = train.iloc[:,-1]\n",
    "x_test = test.iloc[:,:-1]\n",
    "y_test = train.iloc[:,-1]\n",
    "\n",
    "# K Fold 및 기본 데이터 준비\n",
    "# fold 는 기본적으로 shffle 을 주고, random state 를 지정하여 재현성을 갖춘다.\n",
    "folds = KFold(n_splits = 5, shuffle = True, random_state = 42)\n",
    "oof_preds = np.zeros(train.shape[0])"
   ]
  },
  {
   "cell_type": "markdown",
   "metadata": {},
   "source": [
    "## Catboost"
   ]
  },
  {
   "cell_type": "code",
   "execution_count": 115,
   "metadata": {
    "scrolled": true
   },
   "outputs": [
    {
     "name": "stdout",
     "output_type": "stream",
     "text": [
      "using catboost\n",
      "0:\tlearn: 8.7481851\ttest: 8.9221292\tbest: 8.9221292 (0)\ttotal: 910us\tremaining: 910ms\n",
      "50:\tlearn: 3.7734010\ttest: 4.1347607\tbest: 4.1347607 (50)\ttotal: 39.8ms\tremaining: 741ms\n",
      "100:\tlearn: 2.9793828\ttest: 3.6454644\tbest: 3.6454644 (100)\ttotal: 84.6ms\tremaining: 753ms\n",
      "150:\tlearn: 2.5197815\ttest: 3.4023703\tbest: 3.4003207 (147)\ttotal: 127ms\tremaining: 714ms\n",
      "200:\tlearn: 2.2588207\ttest: 3.2989899\tbest: 3.2989899 (200)\ttotal: 161ms\tremaining: 640ms\n"
     ]
    },
    {
     "name": "stderr",
     "output_type": "stream",
     "text": [
      "Warning: Overfitting detector is active, thus evaluation metric is calculated on every iteration. 'metric_period' is ignored for evaluation metric.\n"
     ]
    },
    {
     "name": "stdout",
     "output_type": "stream",
     "text": [
      "250:\tlearn: 2.0157408\ttest: 3.1665729\tbest: 3.1665729 (250)\ttotal: 197ms\tremaining: 588ms\n",
      "300:\tlearn: 1.8558110\ttest: 3.1213532\tbest: 3.1213532 (300)\ttotal: 230ms\tremaining: 534ms\n",
      "350:\tlearn: 1.6958002\ttest: 3.0692314\tbest: 3.0692314 (350)\ttotal: 262ms\tremaining: 484ms\n",
      "400:\tlearn: 1.5801724\ttest: 3.0257697\tbest: 3.0257697 (400)\ttotal: 291ms\tremaining: 434ms\n",
      "450:\tlearn: 1.4631518\ttest: 2.9859782\tbest: 2.9823302 (449)\ttotal: 340ms\tremaining: 414ms\n",
      "500:\tlearn: 1.3574936\ttest: 2.9627959\tbest: 2.9616919 (491)\ttotal: 377ms\tremaining: 375ms\n",
      "550:\tlearn: 1.2508529\ttest: 2.9375951\tbest: 2.9359679 (536)\ttotal: 411ms\tremaining: 335ms\n",
      "600:\tlearn: 1.1754507\ttest: 2.9128618\tbest: 2.9126261 (594)\ttotal: 443ms\tremaining: 294ms\n",
      "650:\tlearn: 1.0990012\ttest: 2.8928874\tbest: 2.8924895 (640)\ttotal: 470ms\tremaining: 252ms\n",
      "700:\tlearn: 1.0283521\ttest: 2.8944013\tbest: 2.8895111 (694)\ttotal: 498ms\tremaining: 212ms\n",
      "Stopped by overfitting detector  (45 iterations wait)\n",
      "\n",
      "bestTest = 2.889511143\n",
      "bestIteration = 694\n",
      "\n",
      "Shrink model to first 695 iterations.\n",
      "0:\tlearn: 9.1695713\ttest: 7.4438122\tbest: 7.4438122 (0)\ttotal: 1.05ms\tremaining: 1.05s\n",
      "50:\tlearn: 3.8002984\ttest: 2.9639072\tbest: 2.9639072 (50)\ttotal: 61.3ms\tremaining: 1.14s\n",
      "100:\tlearn: 2.8913981\ttest: 2.4731558\tbest: 2.4731558 (100)\ttotal: 119ms\tremaining: 1.05s\n"
     ]
    },
    {
     "name": "stderr",
     "output_type": "stream",
     "text": [
      "Warning: Overfitting detector is active, thus evaluation metric is calculated on every iteration. 'metric_period' is ignored for evaluation metric.\n"
     ]
    },
    {
     "name": "stdout",
     "output_type": "stream",
     "text": [
      "150:\tlearn: 2.4889419\ttest: 2.3963149\tbest: 2.3953779 (149)\ttotal: 164ms\tremaining: 921ms\n",
      "200:\tlearn: 2.2069515\ttest: 2.3661546\tbest: 2.3661546 (200)\ttotal: 203ms\tremaining: 808ms\n",
      "250:\tlearn: 1.9844287\ttest: 2.3660407\tbest: 2.3577055 (209)\ttotal: 241ms\tremaining: 720ms\n",
      "Stopped by overfitting detector  (45 iterations wait)\n",
      "\n",
      "bestTest = 2.357705486\n",
      "bestIteration = 209\n",
      "\n",
      "Shrink model to first 210 iterations.\n",
      "0:\tlearn: 8.3325603\ttest: 10.7555236\tbest: 10.7555236 (0)\ttotal: 1.03ms\tremaining: 1.03s\n"
     ]
    },
    {
     "name": "stderr",
     "output_type": "stream",
     "text": [
      "Warning: Overfitting detector is active, thus evaluation metric is calculated on every iteration. 'metric_period' is ignored for evaluation metric.\n"
     ]
    },
    {
     "name": "stdout",
     "output_type": "stream",
     "text": [
      "50:\tlearn: 3.5368804\ttest: 5.7596228\tbest: 5.7596228 (50)\ttotal: 42.5ms\tremaining: 792ms\n",
      "100:\tlearn: 2.8836748\ttest: 4.8663794\tbest: 4.8663794 (100)\ttotal: 82.4ms\tremaining: 733ms\n",
      "150:\tlearn: 2.5575759\ttest: 4.5108647\tbest: 4.5108647 (150)\ttotal: 116ms\tremaining: 655ms\n",
      "200:\tlearn: 2.3523450\ttest: 4.2708384\tbest: 4.2708384 (200)\ttotal: 148ms\tremaining: 588ms\n",
      "250:\tlearn: 2.1666255\ttest: 4.0798828\tbest: 4.0793723 (249)\ttotal: 178ms\tremaining: 532ms\n",
      "300:\tlearn: 2.0178001\ttest: 3.9126016\tbest: 3.9126016 (300)\ttotal: 208ms\tremaining: 483ms\n",
      "350:\tlearn: 1.8835914\ttest: 3.8062795\tbest: 3.8059715 (348)\ttotal: 251ms\tremaining: 463ms\n",
      "400:\tlearn: 1.7346747\ttest: 3.6873217\tbest: 3.6873217 (400)\ttotal: 289ms\tremaining: 432ms\n",
      "450:\tlearn: 1.6266242\ttest: 3.6087158\tbest: 3.6080978 (442)\ttotal: 326ms\tremaining: 396ms\n",
      "500:\tlearn: 1.5146206\ttest: 3.5549229\tbest: 3.5549229 (500)\ttotal: 361ms\tremaining: 360ms\n",
      "550:\tlearn: 1.4211539\ttest: 3.4972875\tbest: 3.4962423 (546)\ttotal: 405ms\tremaining: 330ms\n",
      "600:\tlearn: 1.3389132\ttest: 3.4914227\tbest: 3.4908906 (599)\ttotal: 446ms\tremaining: 296ms\n",
      "650:\tlearn: 1.2658726\ttest: 3.4588546\tbest: 3.4537510 (645)\ttotal: 487ms\tremaining: 261ms\n",
      "700:\tlearn: 1.2011911\ttest: 3.4239338\tbest: 3.4239338 (700)\ttotal: 521ms\tremaining: 222ms\n",
      "750:\tlearn: 1.1159362\ttest: 3.3899159\tbest: 3.3898008 (749)\ttotal: 559ms\tremaining: 185ms\n",
      "800:\tlearn: 1.0653309\ttest: 3.3685794\tbest: 3.3675898 (799)\ttotal: 592ms\tremaining: 147ms\n",
      "850:\tlearn: 1.0119596\ttest: 3.3595976\tbest: 3.3585846 (846)\ttotal: 622ms\tremaining: 109ms\n",
      "900:\tlearn: 0.9671512\ttest: 3.3456476\tbest: 3.3444188 (894)\ttotal: 655ms\tremaining: 71.9ms\n",
      "950:\tlearn: 0.9128697\ttest: 3.3360569\tbest: 3.3360120 (949)\ttotal: 686ms\tremaining: 35.4ms\n",
      "999:\tlearn: 0.8691637\ttest: 3.3300977\tbest: 3.3276932 (971)\ttotal: 719ms\tremaining: 0us\n",
      "\n",
      "bestTest = 3.327693214\n",
      "bestIteration = 971\n",
      "\n",
      "Shrink model to first 972 iterations.\n",
      "0:\tlearn: 8.9289054\ttest: 8.7447242\tbest: 8.7447242 (0)\ttotal: 802us\tremaining: 802ms\n",
      "50:\tlearn: 3.6881487\ttest: 3.7779288\tbest: 3.7779288 (50)\ttotal: 54.3ms\tremaining: 1.01s\n"
     ]
    },
    {
     "name": "stderr",
     "output_type": "stream",
     "text": [
      "Warning: Overfitting detector is active, thus evaluation metric is calculated on every iteration. 'metric_period' is ignored for evaluation metric.\n"
     ]
    },
    {
     "name": "stdout",
     "output_type": "stream",
     "text": [
      "100:\tlearn: 2.8813985\ttest: 3.3080310\tbest: 3.3080310 (100)\ttotal: 101ms\tremaining: 901ms\n",
      "150:\tlearn: 2.4695336\ttest: 3.1047825\tbest: 3.1043826 (148)\ttotal: 140ms\tremaining: 786ms\n",
      "200:\tlearn: 2.2002082\ttest: 2.9830632\tbest: 2.9813499 (195)\ttotal: 177ms\tremaining: 705ms\n",
      "250:\tlearn: 2.0407793\ttest: 2.9125235\tbest: 2.9125235 (250)\ttotal: 213ms\tremaining: 635ms\n",
      "300:\tlearn: 1.8638464\ttest: 2.8678022\tbest: 2.8678022 (300)\ttotal: 246ms\tremaining: 571ms\n",
      "350:\tlearn: 1.7260296\ttest: 2.8362070\tbest: 2.8339919 (348)\ttotal: 278ms\tremaining: 515ms\n",
      "400:\tlearn: 1.6050382\ttest: 2.8004107\tbest: 2.8004107 (400)\ttotal: 310ms\tremaining: 463ms\n",
      "450:\tlearn: 1.4831110\ttest: 2.7744596\tbest: 2.7744596 (450)\ttotal: 344ms\tremaining: 419ms\n",
      "500:\tlearn: 1.3737358\ttest: 2.7456228\tbest: 2.7430432 (487)\ttotal: 377ms\tremaining: 376ms\n",
      "550:\tlearn: 1.2897281\ttest: 2.7383693\tbest: 2.7383693 (550)\ttotal: 420ms\tremaining: 343ms\n",
      "600:\tlearn: 1.2051570\ttest: 2.7306854\tbest: 2.7289024 (597)\ttotal: 467ms\tremaining: 310ms\n",
      "650:\tlearn: 1.1289894\ttest: 2.7082949\tbest: 2.7080420 (646)\ttotal: 501ms\tremaining: 269ms\n",
      "700:\tlearn: 1.0614712\ttest: 2.6883317\tbest: 2.6873377 (698)\ttotal: 533ms\tremaining: 227ms\n",
      "750:\tlearn: 0.9958717\ttest: 2.6903400\tbest: 2.6849456 (707)\ttotal: 561ms\tremaining: 186ms\n",
      "Stopped by overfitting detector  (45 iterations wait)\n",
      "\n",
      "bestTest = 2.684945616\n",
      "bestIteration = 707\n",
      "\n",
      "Shrink model to first 708 iterations.\n"
     ]
    },
    {
     "name": "stderr",
     "output_type": "stream",
     "text": [
      "Warning: Overfitting detector is active, thus evaluation metric is calculated on every iteration. 'metric_period' is ignored for evaluation metric.\n"
     ]
    },
    {
     "name": "stdout",
     "output_type": "stream",
     "text": [
      "0:\tlearn: 8.9070420\ttest: 8.1675698\tbest: 8.1675698 (0)\ttotal: 963us\tremaining: 963ms\n",
      "50:\tlearn: 3.5358336\ttest: 4.6007362\tbest: 4.6007362 (50)\ttotal: 42.2ms\tremaining: 785ms\n",
      "100:\tlearn: 2.7709197\ttest: 4.0747964\tbest: 4.0747964 (100)\ttotal: 77.8ms\tremaining: 692ms\n",
      "150:\tlearn: 2.4078809\ttest: 3.7952318\tbest: 3.7952318 (150)\ttotal: 115ms\tremaining: 649ms\n",
      "200:\tlearn: 2.1612886\ttest: 3.6262946\tbest: 3.6262946 (200)\ttotal: 153ms\tremaining: 610ms\n",
      "250:\tlearn: 2.0211365\ttest: 3.5384374\tbest: 3.5384374 (250)\ttotal: 190ms\tremaining: 566ms\n",
      "300:\tlearn: 1.8717534\ttest: 3.4533008\tbest: 3.4533008 (300)\ttotal: 223ms\tremaining: 518ms\n",
      "350:\tlearn: 1.7274366\ttest: 3.3967091\tbest: 3.3967091 (350)\ttotal: 260ms\tremaining: 481ms\n",
      "400:\tlearn: 1.5948810\ttest: 3.3646079\tbest: 3.3629357 (398)\ttotal: 305ms\tremaining: 456ms\n",
      "450:\tlearn: 1.4800258\ttest: 3.3499805\tbest: 3.3472695 (449)\ttotal: 354ms\tremaining: 431ms\n",
      "Stopped by overfitting detector  (45 iterations wait)\n",
      "\n",
      "bestTest = 3.347269462\n",
      "bestIteration = 449\n",
      "\n",
      "Shrink model to first 450 iterations.\n"
     ]
    }
   ],
   "source": [
    "# catboost 이용\n",
    "print(\"using catboost\")\n",
    "sub_preds_catboost = np.zeros(test.shape[0])\n",
    "# sub pred 는 여기서 제출용의 pred 값이다. test set 은 \n",
    "oof_preds_catboost = np.zeros(train.shape[0])\n",
    "# oof_pred 란, CV 를 시행시 Train set 에서 설정한 fold 로 나누어주는 과정을 거치는데, 그 과정 내에서(fold 가 5라면) \n",
    "# 4/5 는 training ,나미저 1/5 는 예측하는 과정을 5번 반복하여, 결국에는 full train set 에 대해 예측을 하게 된다.\n",
    "# 그 예측값을 oof predict(Out-of-fold predictions) 이라고 한다.\n",
    "# 그 예측값을 담아내기 위해 oof_pre_catboost 라는 행렬을 만들었고, 그 길이는 train 의 row(데이터 수) 만큼으로 생성\n",
    "for n_fold, (trn_idx, val_idx) in enumerate(folds.split(train)) :\n",
    "    # enumerate 를 통해서 몇번째 fold 인지(n_fold) 를 구분할 수 있게 해준다. \n",
    "    # 물론 그냥 없이 할 수 있지만, 구분하기 쉬워지고, n_fold 를 통해 각 CV 의 성능을 알아볼 수 도 있다.\n",
    "    trn_x, trn_y = x_train.iloc[trn_idx], y_train.iloc[trn_idx]\n",
    "    val_x, val_y = x_train.iloc[val_idx], y_train.iloc[val_idx]\n",
    "    cb_model = CatBoostRegressor(iterations=1000,\n",
    "                                 learning_rate=0.1,\n",
    "                                 depth=4, # 최대 depth 크기\n",
    "                                 l2_leaf_reg=20,\n",
    "                                 bootstrap_type='Bernoulli', \n",
    "                                 subsample=0.6,\n",
    "                                 eval_metric='RMSE',\n",
    "                                 metric_period=50,\n",
    "                                 od_type='Iter',\n",
    "                                 od_wait=45,\n",
    "                                 random_seed=17,\n",
    "                                 allow_writing_files=False)\n",
    "    cb_model.fit(trn_x, trn_y,\n",
    "             eval_set=(val_x, val_y), # validation 을 통해서 iteration 의 크기를 정해주어야 한다.\n",
    "             cat_features=[],\n",
    "             use_best_model=True, # 최고 모델만 사용\n",
    "             verbose=True)\n",
    "    oof_preds_catboost[val_idx] = cb_model.predict(val_x) # validation 에 대한 prediction \n",
    "    sub_preds_catboost += cb_model.predict(x_test) / folds.n_splits \n",
    "    # 각 n fold 에 대해서 test 에 대한 예측값을 모두 더해준 후, prediction 값을 folds 만큼 더해준다. (즉 n.splits 수만큼의 모델 예측 평균)\n",
    "    # 왜 위의 코드가 필요한가? : tree boosting 모델은 iteration 조절을 위해 eval set 이 필요하다. -> 이는 결국 train set/ eval set 을 나누면 train set에 오버피팅이 있을 수 있다. \n",
    "    # 즉 이런 overfitting 을 최대한 줄이고자 각 k-fold 로 나눈 샘플에 대해 5번 fitting 을 진행해서 overfitting 문제를 줄여나간거."
   ]
  },
  {
   "cell_type": "code",
   "execution_count": 116,
   "metadata": {},
   "outputs": [],
   "source": [
    "sub_cat = pd.DataFrame()\n",
    "sub_cat['target'] = sub_preds_catboost"
   ]
  },
  {
   "cell_type": "markdown",
   "metadata": {},
   "source": [
    "## LGB"
   ]
  },
  {
   "cell_type": "code",
   "execution_count": 118,
   "metadata": {
    "scrolled": true
   },
   "outputs": [
    {
     "name": "stdout",
     "output_type": "stream",
     "text": [
      "lightgbm\n",
      "Training until validation scores don't improve for 100 rounds\n",
      "[100]\tvalid_0's rmse: 5.30029\n",
      "[200]\tvalid_0's rmse: 3.93259\n",
      "[300]\tvalid_0's rmse: 3.49406\n",
      "[400]\tvalid_0's rmse: 3.28461\n",
      "[500]\tvalid_0's rmse: 3.1838\n",
      "[600]\tvalid_0's rmse: 3.12985\n",
      "[700]\tvalid_0's rmse: 3.0864\n",
      "[800]\tvalid_0's rmse: 3.07404\n",
      "[900]\tvalid_0's rmse: 3.04777\n",
      "Early stopping, best iteration is:\n",
      "[890]\tvalid_0's rmse: 3.03923\n",
      "Training until validation scores don't improve for 100 rounds\n",
      "[100]\tvalid_0's rmse: 4.1006\n",
      "[200]\tvalid_0's rmse: 3.06672\n",
      "[300]\tvalid_0's rmse: 2.848\n",
      "[400]\tvalid_0's rmse: 2.79706\n",
      "[500]\tvalid_0's rmse: 2.80402\n",
      "[600]\tvalid_0's rmse: 2.83697\n",
      "Early stopping, best iteration is:\n",
      "[525]\tvalid_0's rmse: 2.79459\n",
      "Training until validation scores don't improve for 100 rounds\n",
      "[100]\tvalid_0's rmse: 6.97652\n",
      "[200]\tvalid_0's rmse: 5.5429\n",
      "[300]\tvalid_0's rmse: 5.06212\n",
      "[400]\tvalid_0's rmse: 4.7873\n",
      "[500]\tvalid_0's rmse: 4.63831\n",
      "[600]\tvalid_0's rmse: 4.50833\n",
      "[700]\tvalid_0's rmse: 4.38831\n",
      "[800]\tvalid_0's rmse: 4.29175\n",
      "[900]\tvalid_0's rmse: 4.18985\n",
      "[1000]\tvalid_0's rmse: 4.10066\n",
      "Did not meet early stopping. Best iteration is:\n",
      "[1000]\tvalid_0's rmse: 4.10066\n",
      "Training until validation scores don't improve for 100 rounds\n",
      "[100]\tvalid_0's rmse: 4.96973\n",
      "[200]\tvalid_0's rmse: 3.76371\n",
      "[300]\tvalid_0's rmse: 3.42746\n",
      "[400]\tvalid_0's rmse: 3.20806\n",
      "[500]\tvalid_0's rmse: 3.08116\n",
      "[600]\tvalid_0's rmse: 2.9708\n",
      "[700]\tvalid_0's rmse: 2.89695\n",
      "[800]\tvalid_0's rmse: 2.87374\n",
      "[900]\tvalid_0's rmse: 2.85564\n",
      "[1000]\tvalid_0's rmse: 2.82817\n",
      "Did not meet early stopping. Best iteration is:\n",
      "[985]\tvalid_0's rmse: 2.82674\n",
      "Training until validation scores don't improve for 100 rounds\n",
      "[100]\tvalid_0's rmse: 5.3724\n",
      "[200]\tvalid_0's rmse: 4.77395\n",
      "[300]\tvalid_0's rmse: 4.68649\n",
      "Early stopping, best iteration is:\n",
      "[280]\tvalid_0's rmse: 4.67951\n"
     ]
    }
   ],
   "source": [
    "# lgm 이용\n",
    "print(\"lightgbm\")\n",
    "sub_preds_lgm = np.zeros(test.shape[0])\n",
    "oof_preds_lgm = np.zeros(train.shape[0])\n",
    "\n",
    "for n_fold, (trn_idx, val_idx) in enumerate(folds.split(train)) :\n",
    "    trn_x, trn_y = x_train.iloc[trn_idx], y_train.iloc[trn_idx]\n",
    "    val_x, val_y = x_train.iloc[val_idx], y_train.iloc[val_idx]\n",
    "    params = {'learning_rate': 0.01, \n",
    "              'max_depth': 16, \n",
    "              'boosting': 'gbdt', \n",
    "              'objective': 'regression', \n",
    "              'metric': 'rmse', \n",
    "              'is_training_metric': True, \n",
    "              'num_leaves': 144, \n",
    "              'feature_fraction': 0.9, \n",
    "              'bagging_fraction': 0.7, \n",
    "              'bagging_freq': 5, \n",
    "              'seed':2018}\n",
    "\n",
    "    train_T = lgb.Dataset(trn_x, label=trn_y)\n",
    "    val_T = lgb.Dataset(val_x, label=val_y)\n",
    "    \n",
    "    model1 = lgb.train(params, train_T, 1000, val_T, verbose_eval=100, early_stopping_rounds=100)\n",
    "    \n",
    "    sub_preds_lgm += model1.predict(x_test) / folds.n_splits\n",
    "    oof_preds_lgm[val_idx] = model1.predict(val_x)"
   ]
  },
  {
   "cell_type": "code",
   "execution_count": 119,
   "metadata": {},
   "outputs": [],
   "source": [
    "sub_lgm = pd.DataFrame()\n",
    "sub_lgm['target'] = sub_preds_lgm"
   ]
  },
  {
   "cell_type": "markdown",
   "metadata": {},
   "source": [
    "## XGB"
   ]
  },
  {
   "cell_type": "code",
   "execution_count": 126,
   "metadata": {
    "scrolled": true
   },
   "outputs": [
    {
     "name": "stdout",
     "output_type": "stream",
     "text": [
      "xgboost\n",
      "[0]\ttrain-rmse:25.62675\tvalid-rmse:24.53400\n",
      "Multiple eval metrics have been passed: 'valid-rmse' will be used for early stopping.\n",
      "\n",
      "Will train until valid-rmse hasn't improved in 100 rounds.\n",
      "[100]\ttrain-rmse:16.22575\tvalid-rmse:15.60561\n",
      "[200]\ttrain-rmse:10.49486\tvalid-rmse:10.22092\n",
      "[300]\ttrain-rmse:6.94559\tvalid-rmse:6.99128\n",
      "[400]\ttrain-rmse:4.75465\tvalid-rmse:5.13987\n",
      "[500]\ttrain-rmse:3.35168\tvalid-rmse:4.10011\n",
      "[600]\ttrain-rmse:2.45148\tvalid-rmse:3.53547\n",
      "[700]\ttrain-rmse:1.83963\tvalid-rmse:3.22714\n",
      "[800]\ttrain-rmse:1.42730\tvalid-rmse:3.06250\n",
      "[900]\ttrain-rmse:1.12498\tvalid-rmse:2.96053\n",
      "[1000]\ttrain-rmse:0.90400\tvalid-rmse:2.88850\n",
      "[1100]\ttrain-rmse:0.73336\tvalid-rmse:2.84934\n",
      "[1200]\ttrain-rmse:0.60342\tvalid-rmse:2.82798\n",
      "[1300]\ttrain-rmse:0.50013\tvalid-rmse:2.81322\n",
      "[1400]\ttrain-rmse:0.42023\tvalid-rmse:2.79523\n",
      "[1500]\ttrain-rmse:0.35600\tvalid-rmse:2.78646\n",
      "[1600]\ttrain-rmse:0.30397\tvalid-rmse:2.77828\n",
      "[1700]\ttrain-rmse:0.25972\tvalid-rmse:2.77068\n",
      "[1800]\ttrain-rmse:0.22169\tvalid-rmse:2.76810\n",
      "[1900]\ttrain-rmse:0.19014\tvalid-rmse:2.76449\n",
      "[2000]\ttrain-rmse:0.16489\tvalid-rmse:2.76162\n",
      "[2099]\ttrain-rmse:0.14300\tvalid-rmse:2.75928\n",
      "[0]\ttrain-rmse:25.73044\tvalid-rmse:24.09388\n",
      "Multiple eval metrics have been passed: 'valid-rmse' will be used for early stopping.\n",
      "\n",
      "Will train until valid-rmse hasn't improved in 100 rounds.\n",
      "[100]\ttrain-rmse:16.30563\tvalid-rmse:14.82432\n",
      "[200]\ttrain-rmse:10.55180\tvalid-rmse:9.30342\n",
      "[300]\ttrain-rmse:6.97857\tvalid-rmse:6.06658\n",
      "[400]\ttrain-rmse:4.75140\tvalid-rmse:4.20346\n",
      "[500]\ttrain-rmse:3.34268\tvalid-rmse:3.25401\n",
      "[600]\ttrain-rmse:2.42155\tvalid-rmse:2.81552\n",
      "[700]\ttrain-rmse:1.81246\tvalid-rmse:2.61754\n",
      "[800]\ttrain-rmse:1.39175\tvalid-rmse:2.54774\n",
      "[900]\ttrain-rmse:1.09962\tvalid-rmse:2.52030\n",
      "[1000]\ttrain-rmse:0.88391\tvalid-rmse:2.51588\n",
      "Stopping. Best iteration:\n",
      "[944]\ttrain-rmse:0.99703\tvalid-rmse:2.51395\n",
      "\n",
      "[0]\ttrain-rmse:24.83912\tvalid-rmse:27.60362\n",
      "Multiple eval metrics have been passed: 'valid-rmse' will be used for early stopping.\n",
      "\n",
      "Will train until valid-rmse hasn't improved in 100 rounds.\n",
      "[100]\ttrain-rmse:15.70369\tvalid-rmse:18.24327\n",
      "[200]\ttrain-rmse:10.14569\tvalid-rmse:12.54910\n",
      "[300]\ttrain-rmse:6.72500\tvalid-rmse:9.03855\n",
      "[400]\ttrain-rmse:4.61702\tvalid-rmse:7.02440\n",
      "[500]\ttrain-rmse:3.29307\tvalid-rmse:5.85339\n",
      "[600]\ttrain-rmse:2.43321\tvalid-rmse:5.17254\n",
      "[700]\ttrain-rmse:1.85251\tvalid-rmse:4.74665\n",
      "[800]\ttrain-rmse:1.45970\tvalid-rmse:4.49141\n",
      "[900]\ttrain-rmse:1.17299\tvalid-rmse:4.30898\n",
      "[1000]\ttrain-rmse:0.95726\tvalid-rmse:4.19955\n",
      "[1100]\ttrain-rmse:0.79041\tvalid-rmse:4.11231\n",
      "[1200]\ttrain-rmse:0.66021\tvalid-rmse:4.05346\n",
      "[1300]\ttrain-rmse:0.55796\tvalid-rmse:4.01343\n",
      "[1400]\ttrain-rmse:0.47439\tvalid-rmse:3.98353\n",
      "[1500]\ttrain-rmse:0.40804\tvalid-rmse:3.95695\n",
      "[1600]\ttrain-rmse:0.35042\tvalid-rmse:3.94408\n",
      "[1700]\ttrain-rmse:0.30353\tvalid-rmse:3.93545\n",
      "[1800]\ttrain-rmse:0.26353\tvalid-rmse:3.93109\n",
      "[1900]\ttrain-rmse:0.22809\tvalid-rmse:3.92702\n",
      "[2000]\ttrain-rmse:0.19989\tvalid-rmse:3.92378\n",
      "[2099]\ttrain-rmse:0.17508\tvalid-rmse:3.92168\n",
      "[0]\ttrain-rmse:25.39416\tvalid-rmse:25.48697\n",
      "Multiple eval metrics have been passed: 'valid-rmse' will be used for early stopping.\n",
      "\n",
      "Will train until valid-rmse hasn't improved in 100 rounds.\n",
      "[100]\ttrain-rmse:16.08266\tvalid-rmse:16.14712\n",
      "[200]\ttrain-rmse:10.39804\tvalid-rmse:10.54864\n",
      "[300]\ttrain-rmse:6.88486\tvalid-rmse:7.18839\n",
      "[400]\ttrain-rmse:4.71532\tvalid-rmse:5.23868\n",
      "[500]\ttrain-rmse:3.33819\tvalid-rmse:4.11931\n",
      "[600]\ttrain-rmse:2.43830\tvalid-rmse:3.52447\n",
      "[700]\ttrain-rmse:1.83294\tvalid-rmse:3.21339\n",
      "[800]\ttrain-rmse:1.41877\tvalid-rmse:3.04061\n",
      "[900]\ttrain-rmse:1.11373\tvalid-rmse:2.94858\n",
      "[1000]\ttrain-rmse:0.89452\tvalid-rmse:2.89919\n",
      "[1100]\ttrain-rmse:0.72602\tvalid-rmse:2.86768\n",
      "[1200]\ttrain-rmse:0.59636\tvalid-rmse:2.84029\n",
      "[1300]\ttrain-rmse:0.49593\tvalid-rmse:2.82752\n",
      "[1400]\ttrain-rmse:0.41442\tvalid-rmse:2.81341\n",
      "[1500]\ttrain-rmse:0.35053\tvalid-rmse:2.80845\n",
      "[1600]\ttrain-rmse:0.29859\tvalid-rmse:2.80143\n",
      "[1700]\ttrain-rmse:0.25677\tvalid-rmse:2.79618\n",
      "[1800]\ttrain-rmse:0.21928\tvalid-rmse:2.79093\n",
      "[1900]\ttrain-rmse:0.18936\tvalid-rmse:2.78805\n",
      "[2000]\ttrain-rmse:0.16418\tvalid-rmse:2.78499\n",
      "[2099]\ttrain-rmse:0.14352\tvalid-rmse:2.78350\n",
      "[0]\ttrain-rmse:25.46659\tvalid-rmse:25.20721\n",
      "Multiple eval metrics have been passed: 'valid-rmse' will be used for early stopping.\n",
      "\n",
      "Will train until valid-rmse hasn't improved in 100 rounds.\n",
      "[100]\ttrain-rmse:16.10955\tvalid-rmse:16.04827\n",
      "[200]\ttrain-rmse:10.39030\tvalid-rmse:10.59922\n",
      "[300]\ttrain-rmse:6.85480\tvalid-rmse:7.46183\n",
      "[400]\ttrain-rmse:4.68279\tvalid-rmse:5.76897\n",
      "[500]\ttrain-rmse:3.32199\tvalid-rmse:4.84776\n",
      "[600]\ttrain-rmse:2.43509\tvalid-rmse:4.36220\n",
      "[700]\ttrain-rmse:1.83821\tvalid-rmse:4.10991\n",
      "[800]\ttrain-rmse:1.42652\tvalid-rmse:3.96847\n",
      "[900]\ttrain-rmse:1.13297\tvalid-rmse:3.87270\n",
      "[1000]\ttrain-rmse:0.91544\tvalid-rmse:3.80600\n",
      "[1100]\ttrain-rmse:0.74714\tvalid-rmse:3.76573\n",
      "[1200]\ttrain-rmse:0.61665\tvalid-rmse:3.73296\n",
      "[1300]\ttrain-rmse:0.51681\tvalid-rmse:3.71296\n",
      "[1400]\ttrain-rmse:0.43558\tvalid-rmse:3.69046\n",
      "[1500]\ttrain-rmse:0.37172\tvalid-rmse:3.67454\n",
      "[1600]\ttrain-rmse:0.31723\tvalid-rmse:3.65835\n",
      "[1700]\ttrain-rmse:0.27255\tvalid-rmse:3.64834\n",
      "[1800]\ttrain-rmse:0.23588\tvalid-rmse:3.63691\n",
      "[1900]\ttrain-rmse:0.20368\tvalid-rmse:3.63013\n",
      "[2000]\ttrain-rmse:0.17745\tvalid-rmse:3.62444\n",
      "[2099]\ttrain-rmse:0.15391\tvalid-rmse:3.61974\n"
     ]
    }
   ],
   "source": [
    "# xgboost\n",
    "print(\"xgboost\")\n",
    "\n",
    "sub_preds_xgb = np.zeros(test.shape[0])\n",
    "oof_preds_xgb = np.zeros(train.shape[0])\n",
    "\n",
    "for n_fold, (trn_idx, val_idx) in enumerate(folds.split(train)) :\n",
    "    trn_x, trn_y = x_train.iloc[trn_idx], y_train.iloc[trn_idx]\n",
    "    val_x, val_y = x_train.iloc[val_idx], y_train.iloc[val_idx]\n",
    "    \n",
    "    params = {'objective': 'reg:squarederror', \n",
    "          'eval_metric': 'rmse',\n",
    "          'eta': 0.005,\n",
    "          'max_depth': 15, \n",
    "          'subsample': 0.6, \n",
    "          'colsample_bytree': 0.6,\n",
    "          'alpha':0.001,\n",
    "          'random_state': 42,\n",
    "          'verbosity': 0}\n",
    "\n",
    "    tr_data = xgb.DMatrix(trn_x, trn_y)\n",
    "    va_data = xgb.DMatrix(val_x, val_y)\n",
    "    \n",
    "    watchlist = [(tr_data, 'train'), (va_data, 'valid')]\n",
    "    \n",
    "    model_xgb = xgb.train(params, tr_data, 2100, watchlist, maximize=False, early_stopping_rounds = 100, verbose_eval=100)\n",
    "\n",
    "    test_data = xgb.DMatrix(x_test)\n",
    "    \n",
    "    sub_preds_xgb += model_xgb.predict(test_data) / folds.n_splits\n",
    "    oof_preds_xgb[val_idx] = model_xgb.predict(va_data)\n",
    "    "
   ]
  },
  {
   "cell_type": "code",
   "execution_count": 128,
   "metadata": {},
   "outputs": [],
   "source": [
    "sub_xgb = pd.DataFrame()\n",
    "sub_xgb['target'] = sub_preds_xgb"
   ]
  },
  {
   "cell_type": "markdown",
   "metadata": {},
   "source": [
    "## Stacking"
   ]
  },
  {
   "cell_type": "markdown",
   "metadata": {},
   "source": [
    "- 3개의 예측치와 실제 예측치의 Linear regression 을 통해서 대~충 어느 정도의 계수를 가질때에 3개의 조합이 잘 맞느냐를 근사\n",
    "- 이때 상수항은 없이! 하는것이 중요. Stacking 이 어쩃든 Weighted mean 이므로"
   ]
  },
  {
   "cell_type": "code",
   "execution_count": 129,
   "metadata": {},
   "outputs": [],
   "source": [
    "# stacking 준비\n",
    "regr = linear_model.LinearRegression(fit_intercept = False)"
   ]
  },
  {
   "cell_type": "code",
   "execution_count": 138,
   "metadata": {},
   "outputs": [],
   "source": [
    "model_oof_preds= pd.DataFrame({'xgb':oof_preds_xgb,\n",
    "                               'cat':oof_preds_catboost,\n",
    "                               'lgm':oof_preds_lgm,\n",
    "                               'True':y_train})"
   ]
  },
  {
   "cell_type": "code",
   "execution_count": 150,
   "metadata": {},
   "outputs": [],
   "source": [
    "import statsmodels.api as sm"
   ]
  },
  {
   "cell_type": "code",
   "execution_count": 153,
   "metadata": {},
   "outputs": [
    {
     "data": {
      "text/html": [
       "<div>\n",
       "<style scoped>\n",
       "    .dataframe tbody tr th:only-of-type {\n",
       "        vertical-align: middle;\n",
       "    }\n",
       "\n",
       "    .dataframe tbody tr th {\n",
       "        vertical-align: top;\n",
       "    }\n",
       "\n",
       "    .dataframe thead th {\n",
       "        text-align: right;\n",
       "    }\n",
       "</style>\n",
       "<table border=\"1\" class=\"dataframe\">\n",
       "  <thead>\n",
       "    <tr style=\"text-align: right;\">\n",
       "      <th></th>\n",
       "      <th>xgb</th>\n",
       "      <th>lgm</th>\n",
       "      <th>cat</th>\n",
       "    </tr>\n",
       "  </thead>\n",
       "  <tbody>\n",
       "    <tr>\n",
       "      <th>0</th>\n",
       "      <td>27.974936</td>\n",
       "      <td>28.205668</td>\n",
       "      <td>27.350091</td>\n",
       "    </tr>\n",
       "    <tr>\n",
       "      <th>1</th>\n",
       "      <td>22.383852</td>\n",
       "      <td>23.537171</td>\n",
       "      <td>21.817443</td>\n",
       "    </tr>\n",
       "    <tr>\n",
       "      <th>2</th>\n",
       "      <td>35.255375</td>\n",
       "      <td>37.273155</td>\n",
       "      <td>35.381179</td>\n",
       "    </tr>\n",
       "    <tr>\n",
       "      <th>3</th>\n",
       "      <td>36.886532</td>\n",
       "      <td>37.085431</td>\n",
       "      <td>37.562660</td>\n",
       "    </tr>\n",
       "    <tr>\n",
       "      <th>4</th>\n",
       "      <td>32.591351</td>\n",
       "      <td>31.141111</td>\n",
       "      <td>31.048349</td>\n",
       "    </tr>\n",
       "    <tr>\n",
       "      <th>...</th>\n",
       "      <td>...</td>\n",
       "      <td>...</td>\n",
       "      <td>...</td>\n",
       "    </tr>\n",
       "    <tr>\n",
       "      <th>395</th>\n",
       "      <td>14.262298</td>\n",
       "      <td>13.846922</td>\n",
       "      <td>13.931386</td>\n",
       "    </tr>\n",
       "    <tr>\n",
       "      <th>396</th>\n",
       "      <td>15.652726</td>\n",
       "      <td>11.578124</td>\n",
       "      <td>13.153065</td>\n",
       "    </tr>\n",
       "    <tr>\n",
       "      <th>397</th>\n",
       "      <td>11.767326</td>\n",
       "      <td>14.073699</td>\n",
       "      <td>13.123727</td>\n",
       "    </tr>\n",
       "    <tr>\n",
       "      <th>398</th>\n",
       "      <td>9.033167</td>\n",
       "      <td>11.563389</td>\n",
       "      <td>8.826127</td>\n",
       "    </tr>\n",
       "    <tr>\n",
       "      <th>399</th>\n",
       "      <td>12.996615</td>\n",
       "      <td>12.985072</td>\n",
       "      <td>13.764395</td>\n",
       "    </tr>\n",
       "  </tbody>\n",
       "</table>\n",
       "<p>400 rows × 3 columns</p>\n",
       "</div>"
      ],
      "text/plain": [
       "           xgb        lgm        cat\n",
       "0    27.974936  28.205668  27.350091\n",
       "1    22.383852  23.537171  21.817443\n",
       "2    35.255375  37.273155  35.381179\n",
       "3    36.886532  37.085431  37.562660\n",
       "4    32.591351  31.141111  31.048349\n",
       "..         ...        ...        ...\n",
       "395  14.262298  13.846922  13.931386\n",
       "396  15.652726  11.578124  13.153065\n",
       "397  11.767326  14.073699  13.123727\n",
       "398   9.033167  11.563389   8.826127\n",
       "399  12.996615  12.985072  13.764395\n",
       "\n",
       "[400 rows x 3 columns]"
      ]
     },
     "execution_count": 153,
     "metadata": {},
     "output_type": "execute_result"
    }
   ],
   "source": [
    "model_oof_preds[['xgb','lgm','cat']]"
   ]
  },
  {
   "cell_type": "code",
   "execution_count": 157,
   "metadata": {},
   "outputs": [],
   "source": [
    "stackedmodel = sm.OLS(model_oof_preds[['True']],model_oof_preds[['xgb','lgm','cat']])"
   ]
  },
  {
   "cell_type": "code",
   "execution_count": 158,
   "metadata": {},
   "outputs": [],
   "source": [
    "result = stackedmodel.fit()"
   ]
  },
  {
   "cell_type": "code",
   "execution_count": 159,
   "metadata": {
    "scrolled": false
   },
   "outputs": [
    {
     "name": "stdout",
     "output_type": "stream",
     "text": [
      "                                 OLS Regression Results                                \n",
      "=======================================================================================\n",
      "Dep. Variable:                   True   R-squared (uncentered):                   0.987\n",
      "Model:                            OLS   Adj. R-squared (uncentered):              0.987\n",
      "Method:                 Least Squares   F-statistic:                          1.030e+04\n",
      "Date:                Thu, 14 Jan 2021   Prob (F-statistic):                        0.00\n",
      "Time:                        19:18:50   Log-Likelihood:                         -997.36\n",
      "No. Observations:                 400   AIC:                                      2001.\n",
      "Df Residuals:                     397   BIC:                                      2013.\n",
      "Df Model:                           3                                                  \n",
      "Covariance Type:            nonrobust                                                  \n",
      "==============================================================================\n",
      "                 coef    std err          t      P>|t|      [0.025      0.975]\n",
      "------------------------------------------------------------------------------\n",
      "xgb            0.1232      0.137      0.902      0.368      -0.145       0.392\n",
      "lgm           -0.1616      0.088     -1.827      0.068      -0.336       0.012\n",
      "cat            1.0456      0.132      7.939      0.000       0.787       1.305\n",
      "==============================================================================\n",
      "Omnibus:                       81.221   Durbin-Watson:                   1.635\n",
      "Prob(Omnibus):                  0.000   Jarque-Bera (JB):              529.577\n",
      "Skew:                           0.666   Prob(JB):                    1.01e-115\n",
      "Kurtosis:                       8.477   Cond. No.                         54.0\n",
      "==============================================================================\n",
      "\n",
      "Notes:\n",
      "[1] R² is computed without centering (uncentered) since the model does not contain a constant.\n",
      "[2] Standard Errors assume that the covariance matrix of the errors is correctly specified.\n"
     ]
    }
   ],
   "source": [
    "print(result.summary())"
   ]
  },
  {
   "cell_type": "markdown",
   "metadata": {},
   "source": [
    "## Result"
   ]
  },
  {
   "cell_type": "code",
   "execution_count": 162,
   "metadata": {},
   "outputs": [],
   "source": [
    "model_oof_submit=pd.DataFrame({'xgb':sub_preds_xgb,\n",
    "                               'cat':sub_preds_catboost,\n",
    "                               'lgm':sub_preds_lgm})"
   ]
  },
  {
   "cell_type": "code",
   "execution_count": 166,
   "metadata": {},
   "outputs": [],
   "source": [
    "submission = pd.DataFrame()\n",
    "submission['Target'] = model_oof_submit['xgb'] * 0.35 + model_oof_submit['cat'] * 0.35 + model_oof_submit['lgm'] * 0.3 "
   ]
  },
  {
   "cell_type": "code",
   "execution_count": 167,
   "metadata": {},
   "outputs": [
    {
     "data": {
      "text/plain": [
       "0       9.881123\n",
       "1      10.830914\n",
       "2      12.523371\n",
       "3       9.803104\n",
       "4      10.061973\n",
       "         ...    \n",
       "101    23.915007\n",
       "102    22.574911\n",
       "103    28.360037\n",
       "104    27.444030\n",
       "105    22.643343\n",
       "Name: Target, Length: 106, dtype: float64"
      ]
     },
     "execution_count": 167,
     "metadata": {},
     "output_type": "execute_result"
    }
   ],
   "source": [
    "submission['Target']"
   ]
  }
 ],
 "metadata": {
  "kernelspec": {
   "display_name": "Python 3",
   "language": "python",
   "name": "python3"
  },
  "language_info": {
   "codemirror_mode": {
    "name": "ipython",
    "version": 3
   },
   "file_extension": ".py",
   "mimetype": "text/x-python",
   "name": "python",
   "nbconvert_exporter": "python",
   "pygments_lexer": "ipython3",
   "version": "3.7.4"
  },
  "toc": {
   "base_numbering": 1,
   "nav_menu": {},
   "number_sections": true,
   "sideBar": true,
   "skip_h1_title": false,
   "title_cell": "Table of Contents",
   "title_sidebar": "Contents",
   "toc_cell": false,
   "toc_position": {
    "height": "calc(100% - 180px)",
    "left": "10px",
    "top": "150px",
    "width": "199.896px"
   },
   "toc_section_display": true,
   "toc_window_display": true
  }
 },
 "nbformat": 4,
 "nbformat_minor": 4
}
